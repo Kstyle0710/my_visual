{
 "cells": [
  {
   "cell_type": "code",
   "execution_count": 1,
   "metadata": {},
   "outputs": [],
   "source": [
    "import pandas as pd\n",
    "import plotly.express as px\n",
    "import plotly.io as pio\n",
    "import numpy as np\n",
    "import plotly.graph_objects as go"
   ]
  },
  {
   "cell_type": "code",
   "execution_count": 17,
   "metadata": {},
   "outputs": [
    {
     "data": {
      "text/plain": [
       "array(['Eastern Mediterranean', 'Europe', 'Africa', 'Western Pacific',\n",
       "       'Americas', 'South-East Asia'], dtype=object)"
      ]
     },
     "execution_count": 17,
     "metadata": {},
     "output_type": "execute_result"
    }
   ],
   "source": [
    "df = pd.read_csv(\"./source/suicide-rate-1990-2017.csv\")\n",
    "df['region'].unique()"
   ]
  },
  {
   "cell_type": "code",
   "execution_count": 4,
   "metadata": {},
   "outputs": [],
   "source": [
    "dict_keys = [\n",
    "    'one', 'two', 'three', 'four', 'five', 'six', 'seven', 'eight', 'nine', 'ten',\n",
    "    'eleven', 'twelve', 'thirteen', 'fourteen', 'fiveteen', 'sixteen','seventeen', 'eightteen',\n",
    "    'nineteen', 'twenty', 'twentyone', 'twentytwo', 'twentythree', 'twentyfour', 'twentyfive',\n",
    "    'twentysix', 'twentyseven', 'twentyeight'\n",
    "]"
   ]
  },
  {
   "cell_type": "code",
   "execution_count": 7,
   "metadata": {},
   "outputs": [],
   "source": [
    "years = [\n",
    "    1990, 1991, 1992, 1993, 1994, 1995, 1996, 1997, 1998, 1999, 2000, 2001, 2002, \n",
    "    2003, 2004, 2005, 2006, 2007, 2008, 2009, 2010, 2011, 2012, 2013, 2014, 2015, 2016, 2017]\n"
   ]
  },
  {
   "cell_type": "code",
   "execution_count": 8,
   "metadata": {},
   "outputs": [],
   "source": [
    "n_frame={}"
   ]
  },
  {
   "cell_type": "code",
   "execution_count": 24,
   "metadata": {},
   "outputs": [
    {
     "data": {
      "text/plain": [
       "{'one':         country code  year  suicide rate (deaths per 100,000) color_code  \\\n",
       " 3220   Mongolia  MNG  1990                          15.459003    #FFCC99   \n",
       " 2632       Laos  LAO  1990                          18.039614    #C0C0C0   \n",
       " 2212      India  IND  1990                          20.203734    #333399   \n",
       " 1008      China  CHN  1990                          20.923540    #FF6600   \n",
       " 4536  Sri Lanka  LKA  1990                          40.832619    #993366   \n",
       " \n",
       "                region  \n",
       " 3220  South-East Asia  \n",
       " 2632  South-East Asia  \n",
       " 2212  South-East Asia  \n",
       " 1008  South-East Asia  \n",
       " 4536  South-East Asia  ,\n",
       " 'two':         country code  year  suicide rate (deaths per 100,000) color_code  \\\n",
       " 3221   Mongolia  MNG  1991                          16.213404    #FFCC99   \n",
       " 2633       Laos  LAO  1991                          17.930868    #C0C0C0   \n",
       " 2213      India  IND  1991                          20.277608    #333399   \n",
       " 1009      China  CHN  1991                          21.166531    #FF6600   \n",
       " 4537  Sri Lanka  LKA  1991                          37.920366    #993366   \n",
       " \n",
       "                region  \n",
       " 3221  South-East Asia  \n",
       " 2633  South-East Asia  \n",
       " 2213  South-East Asia  \n",
       " 1009  South-East Asia  \n",
       " 4537  South-East Asia  ,\n",
       " 'three':         country code  year  suicide rate (deaths per 100,000) color_code  \\\n",
       " 2634       Laos  LAO  1992                          17.725849    #C0C0C0   \n",
       " 3222   Mongolia  MNG  1992                          18.116217    #FFCC99   \n",
       " 2214      India  IND  1992                          20.355076    #333399   \n",
       " 1010      China  CHN  1992                          21.344643    #FF6600   \n",
       " 4538  Sri Lanka  LKA  1992                          37.670941    #993366   \n",
       " \n",
       "                region  \n",
       " 2634  South-East Asia  \n",
       " 3222  South-East Asia  \n",
       " 2214  South-East Asia  \n",
       " 1010  South-East Asia  \n",
       " 4538  South-East Asia  ,\n",
       " 'four':         country code  year  suicide rate (deaths per 100,000) color_code  \\\n",
       " 2635       Laos  LAO  1993                          17.503995    #C0C0C0   \n",
       " 3223   Mongolia  MNG  1993                          19.432464    #FFCC99   \n",
       " 2215      India  IND  1993                          19.789285    #333399   \n",
       " 1011      China  CHN  1993                          21.176004    #FF6600   \n",
       " 4539  Sri Lanka  LKA  1993                          36.824773    #993366   \n",
       " \n",
       "                region  \n",
       " 2635  South-East Asia  \n",
       " 3223  South-East Asia  \n",
       " 2215  South-East Asia  \n",
       " 1011  South-East Asia  \n",
       " 4539  South-East Asia  ,\n",
       " 'five':         country code  year  suicide rate (deaths per 100,000) color_code  \\\n",
       " 2636       Laos  LAO  1994                          17.257037    #C0C0C0   \n",
       " 2216      India  IND  1994                          19.443394    #333399   \n",
       " 3224   Mongolia  MNG  1994                          20.255593    #FFCC99   \n",
       " 1012      China  CHN  1994                          20.818820    #FF6600   \n",
       " 4540  Sri Lanka  LKA  1994                          38.635064    #993366   \n",
       " \n",
       "                region  \n",
       " 2636  South-East Asia  \n",
       " 2216  South-East Asia  \n",
       " 3224  South-East Asia  \n",
       " 1012  South-East Asia  \n",
       " 4540  South-East Asia  ,\n",
       " 'six':         country code  year  suicide rate (deaths per 100,000) color_code  \\\n",
       " 4821   Thailand  THA  1995                          17.379611    #800080   \n",
       " 2217      India  IND  1995                          19.144617    #333399   \n",
       " 1013      China  CHN  1995                          20.353538    #FF6600   \n",
       " 3225   Mongolia  MNG  1995                          21.668178    #FFCC99   \n",
       " 4541  Sri Lanka  LKA  1995                          41.367178    #993366   \n",
       " \n",
       "                region  \n",
       " 4821  South-East Asia  \n",
       " 2217  South-East Asia  \n",
       " 1013  South-East Asia  \n",
       " 3225  South-East Asia  \n",
       " 4541  South-East Asia  ,\n",
       " 'seven':         country code  year  suicide rate (deaths per 100,000) color_code  \\\n",
       " 4822   Thailand  THA  1996                          18.388000    #800080   \n",
       " 2218      India  IND  1996                          18.852332    #333399   \n",
       " 1014      China  CHN  1996                          19.354724    #FF6600   \n",
       " 3226   Mongolia  MNG  1996                          22.101029    #FFCC99   \n",
       " 4542  Sri Lanka  LKA  1996                          42.405037    #993366   \n",
       " \n",
       "                region  \n",
       " 4822  South-East Asia  \n",
       " 2218  South-East Asia  \n",
       " 1014  South-East Asia  \n",
       " 3226  South-East Asia  \n",
       " 4542  South-East Asia  ,\n",
       " 'eight':         country code  year  suicide rate (deaths per 100,000) color_code  \\\n",
       " 4823   Thailand  THA  1997                          16.947914    #800080   \n",
       " 1015      China  CHN  1997                          18.252928    #FF6600   \n",
       " 2219      India  IND  1997                          19.448770    #333399   \n",
       " 3227   Mongolia  MNG  1997                          22.057981    #FFCC99   \n",
       " 4543  Sri Lanka  LKA  1997                          44.776660    #993366   \n",
       " \n",
       "                region  \n",
       " 4823  South-East Asia  \n",
       " 1015  South-East Asia  \n",
       " 2219  South-East Asia  \n",
       " 3227  South-East Asia  \n",
       " 4543  South-East Asia  ,\n",
       " 'nine':           country code  year  suicide rate (deaths per 100,000) color_code  \\\n",
       " 4460  South Korea  KOR  1998                          17.002108    #339966   \n",
       " 1016        China  CHN  1998                          17.132530    #FF6600   \n",
       " 2220        India  IND  1998                          19.532165    #333399   \n",
       " 3228     Mongolia  MNG  1998                          21.352724    #FFCC99   \n",
       " 4544    Sri Lanka  LKA  1998                          41.643116    #993366   \n",
       " \n",
       "                region  \n",
       " 4460  South-East Asia  \n",
       " 1016  South-East Asia  \n",
       " 2220  South-East Asia  \n",
       " 3228  South-East Asia  \n",
       " 4544  South-East Asia  ,\n",
       " 'ten':           country code  year  suicide rate (deaths per 100,000) color_code  \\\n",
       " 4825     Thailand  THA  1999                          17.350665    #800080   \n",
       " 4461  South Korea  KOR  1999                          17.724701    #339966   \n",
       " 2221        India  IND  1999                          19.803300    #333399   \n",
       " 3229     Mongolia  MNG  1999                          20.785516    #FFCC99   \n",
       " 4545    Sri Lanka  LKA  1999                          40.559055    #993366   \n",
       " \n",
       "                region  \n",
       " 4825  South-East Asia  \n",
       " 4461  South-East Asia  \n",
       " 2221  South-East Asia  \n",
       " 3229  South-East Asia  \n",
       " 4545  South-East Asia  ,\n",
       " 'eleven':           country code  year  suicide rate (deaths per 100,000) color_code  \\\n",
       " 4826     Thailand  THA  2000                          16.782791    #800080   \n",
       " 4462  South Korea  KOR  2000                          18.450649    #339966   \n",
       " 2222        India  IND  2000                          19.724828    #333399   \n",
       " 3230     Mongolia  MNG  2000                          20.742084    #FFCC99   \n",
       " 4546    Sri Lanka  LKA  2000                          39.534893    #993366   \n",
       " \n",
       "                region  \n",
       " 4826  South-East Asia  \n",
       " 4462  South-East Asia  \n",
       " 2222  South-East Asia  \n",
       " 3230  South-East Asia  \n",
       " 4546  South-East Asia  ,\n",
       " 'twelve':           country code  year  suicide rate (deaths per 100,000) color_code  \\\n",
       " 4827     Thailand  THA  2001                          15.493983    #800080   \n",
       " 2223        India  IND  2001                          19.207065    #333399   \n",
       " 4463  South Korea  KOR  2001                          19.559670    #339966   \n",
       " 3231     Mongolia  MNG  2001                          20.496447    #FFCC99   \n",
       " 4547    Sri Lanka  LKA  2001                          35.674190    #993366   \n",
       " \n",
       "                region  \n",
       " 4827  South-East Asia  \n",
       " 2223  South-East Asia  \n",
       " 4463  South-East Asia  \n",
       " 3231  South-East Asia  \n",
       " 4547  South-East Asia  ,\n",
       " 'thirteen':           country code  year  suicide rate (deaths per 100,000) color_code  \\\n",
       " 4744       Taiwan  TWN  2002                          15.385172    #008000   \n",
       " 2224        India  IND  2002                          18.541181    #333399   \n",
       " 3232     Mongolia  MNG  2002                          20.337972    #FFCC99   \n",
       " 4464  South Korea  KOR  2002                          21.129581    #339966   \n",
       " 4548    Sri Lanka  LKA  2002                          32.862004    #993366   \n",
       " \n",
       "                region  \n",
       " 4744  South-East Asia  \n",
       " 2224  South-East Asia  \n",
       " 3232  South-East Asia  \n",
       " 4464  South-East Asia  \n",
       " 4548  South-East Asia  ,\n",
       " 'fourteen':           country code  year  suicide rate (deaths per 100,000) color_code  \\\n",
       " 4745       Taiwan  TWN  2003                          16.118597    #008000   \n",
       " 2225        India  IND  2003                          17.768625    #333399   \n",
       " 3233     Mongolia  MNG  2003                          20.108914    #FFCC99   \n",
       " 4465  South Korea  KOR  2003                          23.024090    #339966   \n",
       " 4549    Sri Lanka  LKA  2003                          31.831203    #993366   \n",
       " \n",
       "                region  \n",
       " 4745  South-East Asia  \n",
       " 2225  South-East Asia  \n",
       " 3233  South-East Asia  \n",
       " 4465  South-East Asia  \n",
       " 4549  South-East Asia  ,\n",
       " 'fiveteen':           country code  year  suicide rate (deaths per 100,000) color_code  \\\n",
       " 4746       Taiwan  TWN  2004                          17.068263    #008000   \n",
       " 2226        India  IND  2004                          17.199846    #333399   \n",
       " 3234     Mongolia  MNG  2004                          20.278269    #FFCC99   \n",
       " 4466  South Korea  KOR  2004                          24.043381    #339966   \n",
       " 4550    Sri Lanka  LKA  2004                          30.002914    #993366   \n",
       " \n",
       "                region  \n",
       " 4746  South-East Asia  \n",
       " 2226  South-East Asia  \n",
       " 3234  South-East Asia  \n",
       " 4466  South-East Asia  \n",
       " 4550  South-East Asia  ,\n",
       " 'sixteen':           country code  year  suicide rate (deaths per 100,000) color_code  \\\n",
       " 2227        India  IND  2005                          17.411896    #333399   \n",
       " 4747       Taiwan  TWN  2005                          18.233026    #008000   \n",
       " 3235     Mongolia  MNG  2005                          20.287426    #FFCC99   \n",
       " 4467  South Korea  KOR  2005                          24.733475    #339966   \n",
       " 4551    Sri Lanka  LKA  2005                          28.887995    #993366   \n",
       " \n",
       "                region  \n",
       " 2227  South-East Asia  \n",
       " 4747  South-East Asia  \n",
       " 3235  South-East Asia  \n",
       " 4467  South-East Asia  \n",
       " 4551  South-East Asia  ,\n",
       " 'seventeen':           country code  year  suicide rate (deaths per 100,000) color_code  \\\n",
       " 2228        India  IND  2006                          17.195283    #333399   \n",
       " 4748       Taiwan  TWN  2006                          18.014710    #008000   \n",
       " 3236     Mongolia  MNG  2006                          19.805283    #FFCC99   \n",
       " 4468  South Korea  KOR  2006                          24.712021    #339966   \n",
       " 4552    Sri Lanka  LKA  2006                          26.642071    #993366   \n",
       " \n",
       "                region  \n",
       " 2228  South-East Asia  \n",
       " 4748  South-East Asia  \n",
       " 3236  South-East Asia  \n",
       " 4468  South-East Asia  \n",
       " 4552  South-East Asia  ,\n",
       " 'eightteen':           country code  year  suicide rate (deaths per 100,000) color_code  \\\n",
       " 2229        India  IND  2007                          16.919349    #333399   \n",
       " 4749       Taiwan  TWN  2007                          17.280113    #008000   \n",
       " 3237     Mongolia  MNG  2007                          19.043905    #FFCC99   \n",
       " 4553    Sri Lanka  LKA  2007                          25.485805    #993366   \n",
       " 4469  South Korea  KOR  2007                          25.619902    #339966   \n",
       " \n",
       "                region  \n",
       " 2229  South-East Asia  \n",
       " 4749  South-East Asia  \n",
       " 3237  South-East Asia  \n",
       " 4553  South-East Asia  \n",
       " 4469  South-East Asia  ,\n",
       " 'nineteen':           country code  year  suicide rate (deaths per 100,000) color_code  \\\n",
       " 4750       Taiwan  TWN  2008                          16.613638    #008000   \n",
       " 2230        India  IND  2008                          16.952423    #333399   \n",
       " 3238     Mongolia  MNG  2008                          17.983680    #FFCC99   \n",
       " 4554    Sri Lanka  LKA  2008                          24.567955    #993366   \n",
       " 4470  South Korea  KOR  2008                          26.558023    #339966   \n",
       " \n",
       "                region  \n",
       " 4750  South-East Asia  \n",
       " 2230  South-East Asia  \n",
       " 3238  South-East Asia  \n",
       " 4554  South-East Asia  \n",
       " 4470  South-East Asia  ,\n",
       " 'twenty':           country code  year  suicide rate (deaths per 100,000) color_code  \\\n",
       " 4751       Taiwan  TWN  2009                          15.770751    #008000   \n",
       " 2231        India  IND  2009                          17.118304    #333399   \n",
       " 3239     Mongolia  MNG  2009                          17.561044    #FFCC99   \n",
       " 4555    Sri Lanka  LKA  2009                          22.176382    #993366   \n",
       " 4471  South Korea  KOR  2009                          27.640890    #339966   \n",
       " \n",
       "                region  \n",
       " 4751  South-East Asia  \n",
       " 2231  South-East Asia  \n",
       " 3239  South-East Asia  \n",
       " 4555  South-East Asia  \n",
       " 4471  South-East Asia  ,\n",
       " 'twentyone':           country code  year  suicide rate (deaths per 100,000) color_code  \\\n",
       " 4752       Taiwan  TWN  2010                          15.101929    #008000   \n",
       " 2232        India  IND  2010                          17.290078    #333399   \n",
       " 3240     Mongolia  MNG  2010                          17.474770    #FFCC99   \n",
       " 4556    Sri Lanka  LKA  2010                          21.031269    #993366   \n",
       " 4472  South Korea  KOR  2010                          27.807566    #339966   \n",
       " \n",
       "                region  \n",
       " 4752  South-East Asia  \n",
       " 2232  South-East Asia  \n",
       " 3240  South-East Asia  \n",
       " 4556  South-East Asia  \n",
       " 4472  South-East Asia  ,\n",
       " 'twentytwo':           country code  year  suicide rate (deaths per 100,000) color_code  \\\n",
       " 4753       Taiwan  TWN  2011                          15.092014    #008000   \n",
       " 3241     Mongolia  MNG  2011                          17.134954    #FFCC99   \n",
       " 2233        India  IND  2011                          17.459073    #333399   \n",
       " 4557    Sri Lanka  LKA  2011                          21.314211    #993366   \n",
       " 4473  South Korea  KOR  2011                          27.240353    #339966   \n",
       " \n",
       "                region  \n",
       " 4753  South-East Asia  \n",
       " 3241  South-East Asia  \n",
       " 2233  South-East Asia  \n",
       " 4557  South-East Asia  \n",
       " 4473  South-East Asia  ,\n",
       " 'twentythree':           country code  year  suicide rate (deaths per 100,000) color_code  \\\n",
       " 4754       Taiwan  TWN  2012                          14.523847    #008000   \n",
       " 3242     Mongolia  MNG  2012                          16.862635    #FFCC99   \n",
       " 2234        India  IND  2012                          17.041460    #333399   \n",
       " 4558    Sri Lanka  LKA  2012                          21.006822    #993366   \n",
       " 4474  South Korea  KOR  2012                          26.036458    #339966   \n",
       " \n",
       "                region  \n",
       " 4754  South-East Asia  \n",
       " 3242  South-East Asia  \n",
       " 2234  South-East Asia  \n",
       " 4558  South-East Asia  \n",
       " 4474  South-East Asia  ,\n",
       " 'twentyfour':           country code  year  suicide rate (deaths per 100,000) color_code  \\\n",
       " 4755       Taiwan  TWN  2013                          13.689623    #008000   \n",
       " 3243     Mongolia  MNG  2013                          16.362032    #FFCC99   \n",
       " 2235        India  IND  2013                          16.561426    #333399   \n",
       " 4559    Sri Lanka  LKA  2013                          20.116143    #993366   \n",
       " 4475  South Korea  KOR  2013                          24.838925    #339966   \n",
       " \n",
       "                region  \n",
       " 4755  South-East Asia  \n",
       " 3243  South-East Asia  \n",
       " 2235  South-East Asia  \n",
       " 4559  South-East Asia  \n",
       " 4475  South-East Asia  ,\n",
       " 'twentyfive':           country code  year  suicide rate (deaths per 100,000) color_code  \\\n",
       " 4756       Taiwan  TWN  2014                          13.615883    #008000   \n",
       " 3244     Mongolia  MNG  2014                          15.891980    #FFCC99   \n",
       " 2236        India  IND  2014                          16.287277    #333399   \n",
       " 4560    Sri Lanka  LKA  2014                          20.154737    #993366   \n",
       " 4476  South Korea  KOR  2014                          23.518979    #339966   \n",
       " \n",
       "                region  \n",
       " 4756  South-East Asia  \n",
       " 3244  South-East Asia  \n",
       " 2236  South-East Asia  \n",
       " 4560  South-East Asia  \n",
       " 4476  South-East Asia  ,\n",
       " 'twentysix':           country code  year  suicide rate (deaths per 100,000) color_code  \\\n",
       " 4757       Taiwan  TWN  2015                          13.180563    #008000   \n",
       " 2237        India  IND  2015                          15.705221    #333399   \n",
       " 3245     Mongolia  MNG  2015                          15.801537    #FFCC99   \n",
       " 4561    Sri Lanka  LKA  2015                          20.027883    #993366   \n",
       " 4477  South Korea  KOR  2015                          22.389016    #339966   \n",
       " \n",
       "                region  \n",
       " 4757  South-East Asia  \n",
       " 2237  South-East Asia  \n",
       " 3245  South-East Asia  \n",
       " 4561  South-East Asia  \n",
       " 4477  South-East Asia  ,\n",
       " 'twentyseven':           country code  year  suicide rate (deaths per 100,000) color_code  \\\n",
       " 4758       Taiwan  TWN  2016                          13.398088    #008000   \n",
       " 3246     Mongolia  MNG  2016                          15.510454    #FFCC99   \n",
       " 2238        India  IND  2016                          15.738276    #333399   \n",
       " 4562    Sri Lanka  LKA  2016                          19.950527    #993366   \n",
       " 4478  South Korea  KOR  2016                          21.229137    #339966   \n",
       " \n",
       "                region  \n",
       " 4758  South-East Asia  \n",
       " 3246  South-East Asia  \n",
       " 2238  South-East Asia  \n",
       " 4562  South-East Asia  \n",
       " 4478  South-East Asia  ,\n",
       " 'twentyeight':           country code  year  suicide rate (deaths per 100,000) color_code  \\\n",
       " 4759       Taiwan  TWN  2017                          13.524313    #008000   \n",
       " 3247     Mongolia  MNG  2017                          15.358143    #FFCC99   \n",
       " 2239        India  IND  2017                          15.597844    #333399   \n",
       " 4563    Sri Lanka  LKA  2017                          19.800419    #993366   \n",
       " 4479  South Korea  KOR  2017                          20.805660    #339966   \n",
       " \n",
       "                region  \n",
       " 4759  South-East Asia  \n",
       " 3247  South-East Asia  \n",
       " 2239  South-East Asia  \n",
       " 4563  South-East Asia  \n",
       " 4479  South-East Asia  }"
      ]
     },
     "execution_count": 24,
     "metadata": {},
     "output_type": "execute_result"
    }
   ],
   "source": [
    "for y, d in zip(years, dict_keys):\n",
    "    dataframe = df[(df['year']==y)&(df['region']=='South-East Asia')]\n",
    "    dataframe = dataframe.nlargest(n=5, columns=['suicide rate (deaths per 100,000)'])\n",
    "    dataframe = dataframe.sort_values(by=['year', 'suicide rate (deaths per 100,000)'])\n",
    "    \n",
    "    n_frame[d] = dataframe\n",
    "n_frame"
   ]
  },
  {
   "cell_type": "code",
   "execution_count": 25,
   "metadata": {},
   "outputs": [],
   "source": [
    "fig = go.Figure(\n",
    "    data=[\n",
    "        go.Bar(\n",
    "        x=n_frame['one']['suicide rate (deaths per 100,000)'], y=n_frame['one']['country'],orientation='h',\n",
    "        text=n_frame['one']['suicide rate (deaths per 100,000)'], texttemplate='%{text:.3s}',\n",
    "        textfont={'size':18}, textposition='inside', insidetextanchor='middle',\n",
    "        width=0.9, marker={'color':n_frame['one']['color_code']})\n",
    "    ],\n",
    "    layout=go.Layout(\n",
    "        xaxis=dict(range=[0, 60], autorange=False, title=dict(text='suicide rate (deaths per 100,000)',font=dict(size=18))),\n",
    "        yaxis=dict(range=[-0.5, 5.5], autorange=False,tickfont=dict(size=14)),\n",
    "        title=dict(text='Suicide Rates per Country: 1990',font=dict(size=28),x=0.5,xanchor='center'),\n",
    "        # Add button\n",
    "        updatemenus=[dict(\n",
    "            type=\"buttons\",\n",
    "            buttons=[dict(label=\"Play\",\n",
    "                          method=\"animate\",\n",
    "                          # https ://github.com/plotly/plotly.js/blob/master/src/plots/animation_attributes.js\n",
    "                          args=[None,\n",
    "                          {\"frame\": {\"duration\": 1000, \"redraw\": True},\n",
    "                          \"transition\": {\"duration\":250,\n",
    "                          \"easing\": \"linear\"}}]\n",
    "            )]\n",
    "        )]\n",
    "    ),\n",
    "    frames=[\n",
    "            go.Frame(\n",
    "                data=[\n",
    "                        go.Bar(x=value['suicide rate (deaths per 100,000)'], y=value['country'],\n",
    "                        orientation='h',text=value['suicide rate (deaths per 100,000)'],\n",
    "                        marker={'color':value['color_code']})\n",
    "                    ],\n",
    "                layout=go.Layout(\n",
    "                        xaxis=dict(range=[0, 60], autorange=False),\n",
    "                        yaxis=dict(range=[-0.5, 5.5], autorange=False,tickfont=dict(size=14)),\n",
    "                        title=dict(text='Suicide Rates per Country: '+str(value['year'].values[0]),\n",
    "                        font=dict(size=28))\n",
    "                    )\n",
    "            )\n",
    "        for key, value in n_frame.items()\n",
    "    ]\n",
    ")"
   ]
  },
  {
   "cell_type": "code",
   "execution_count": 26,
   "metadata": {},
   "outputs": [
    {
     "data": {
      "application/vnd.plotly.v1+json": {
       "config": {
        "plotlyServerURL": "https://plotly.com"
       },
       "data": [
        {
         "insidetextanchor": "middle",
         "marker": {
          "color": [
           "#FFCC99",
           "#C0C0C0",
           "#333399",
           "#FF6600",
           "#993366"
          ]
         },
         "orientation": "h",
         "text": [
          15.45900286,
          18.0396141,
          20.20373436,
          20.92354023,
          40.83261926
         ],
         "textfont": {
          "size": 18
         },
         "textposition": "inside",
         "texttemplate": "%{text:.3s}",
         "type": "bar",
         "width": 0.9,
         "x": [
          15.45900286,
          18.0396141,
          20.20373436,
          20.92354023,
          40.83261926
         ],
         "y": [
          "Mongolia",
          "Laos",
          "India",
          "China",
          "Sri Lanka"
         ]
        }
       ],
       "frames": [
        {
         "data": [
          {
           "marker": {
            "color": [
             "#FFCC99",
             "#C0C0C0",
             "#333399",
             "#FF6600",
             "#993366"
            ]
           },
           "orientation": "h",
           "text": [
            15.45900286,
            18.0396141,
            20.20373436,
            20.92354023,
            40.83261926
           ],
           "type": "bar",
           "x": [
            15.45900286,
            18.0396141,
            20.20373436,
            20.92354023,
            40.83261926
           ],
           "y": [
            "Mongolia",
            "Laos",
            "India",
            "China",
            "Sri Lanka"
           ]
          }
         ],
         "layout": {
          "title": {
           "font": {
            "size": 28
           },
           "text": "Suicide Rates per Country: 1990"
          },
          "xaxis": {
           "autorange": false,
           "range": [
            0,
            60
           ]
          },
          "yaxis": {
           "autorange": false,
           "range": [
            -0.5,
            5.5
           ],
           "tickfont": {
            "size": 14
           }
          }
         }
        },
        {
         "data": [
          {
           "marker": {
            "color": [
             "#FFCC99",
             "#C0C0C0",
             "#333399",
             "#FF6600",
             "#993366"
            ]
           },
           "orientation": "h",
           "text": [
            16.21340363,
            17.93086757,
            20.2776083,
            21.16653107,
            37.92036571
           ],
           "type": "bar",
           "x": [
            16.21340363,
            17.93086757,
            20.2776083,
            21.16653107,
            37.92036571
           ],
           "y": [
            "Mongolia",
            "Laos",
            "India",
            "China",
            "Sri Lanka"
           ]
          }
         ],
         "layout": {
          "title": {
           "font": {
            "size": 28
           },
           "text": "Suicide Rates per Country: 1991"
          },
          "xaxis": {
           "autorange": false,
           "range": [
            0,
            60
           ]
          },
          "yaxis": {
           "autorange": false,
           "range": [
            -0.5,
            5.5
           ],
           "tickfont": {
            "size": 14
           }
          }
         }
        },
        {
         "data": [
          {
           "marker": {
            "color": [
             "#C0C0C0",
             "#FFCC99",
             "#333399",
             "#FF6600",
             "#993366"
            ]
           },
           "orientation": "h",
           "text": [
            17.725849,
            18.11621741,
            20.35507563,
            21.34464345,
            37.67094135
           ],
           "type": "bar",
           "x": [
            17.725849,
            18.11621741,
            20.35507563,
            21.34464345,
            37.67094135
           ],
           "y": [
            "Laos",
            "Mongolia",
            "India",
            "China",
            "Sri Lanka"
           ]
          }
         ],
         "layout": {
          "title": {
           "font": {
            "size": 28
           },
           "text": "Suicide Rates per Country: 1992"
          },
          "xaxis": {
           "autorange": false,
           "range": [
            0,
            60
           ]
          },
          "yaxis": {
           "autorange": false,
           "range": [
            -0.5,
            5.5
           ],
           "tickfont": {
            "size": 14
           }
          }
         }
        },
        {
         "data": [
          {
           "marker": {
            "color": [
             "#C0C0C0",
             "#FFCC99",
             "#333399",
             "#FF6600",
             "#993366"
            ]
           },
           "orientation": "h",
           "text": [
            17.50399467,
            19.43246438,
            19.7892849,
            21.176004199999998,
            36.82477302
           ],
           "type": "bar",
           "x": [
            17.50399467,
            19.43246438,
            19.7892849,
            21.176004199999998,
            36.82477302
           ],
           "y": [
            "Laos",
            "Mongolia",
            "India",
            "China",
            "Sri Lanka"
           ]
          }
         ],
         "layout": {
          "title": {
           "font": {
            "size": 28
           },
           "text": "Suicide Rates per Country: 1993"
          },
          "xaxis": {
           "autorange": false,
           "range": [
            0,
            60
           ]
          },
          "yaxis": {
           "autorange": false,
           "range": [
            -0.5,
            5.5
           ],
           "tickfont": {
            "size": 14
           }
          }
         }
        },
        {
         "data": [
          {
           "marker": {
            "color": [
             "#C0C0C0",
             "#333399",
             "#FFCC99",
             "#FF6600",
             "#993366"
            ]
           },
           "orientation": "h",
           "text": [
            17.25703695,
            19.44339413,
            20.25559342,
            20.81882025,
            38.63506358
           ],
           "type": "bar",
           "x": [
            17.25703695,
            19.44339413,
            20.25559342,
            20.81882025,
            38.63506358
           ],
           "y": [
            "Laos",
            "India",
            "Mongolia",
            "China",
            "Sri Lanka"
           ]
          }
         ],
         "layout": {
          "title": {
           "font": {
            "size": 28
           },
           "text": "Suicide Rates per Country: 1994"
          },
          "xaxis": {
           "autorange": false,
           "range": [
            0,
            60
           ]
          },
          "yaxis": {
           "autorange": false,
           "range": [
            -0.5,
            5.5
           ],
           "tickfont": {
            "size": 14
           }
          }
         }
        },
        {
         "data": [
          {
           "marker": {
            "color": [
             "#800080",
             "#333399",
             "#FF6600",
             "#FFCC99",
             "#993366"
            ]
           },
           "orientation": "h",
           "text": [
            17.37961065,
            19.14461705,
            20.35353836,
            21.66817829,
            41.36717825
           ],
           "type": "bar",
           "x": [
            17.37961065,
            19.14461705,
            20.35353836,
            21.66817829,
            41.36717825
           ],
           "y": [
            "Thailand",
            "India",
            "China",
            "Mongolia",
            "Sri Lanka"
           ]
          }
         ],
         "layout": {
          "title": {
           "font": {
            "size": 28
           },
           "text": "Suicide Rates per Country: 1995"
          },
          "xaxis": {
           "autorange": false,
           "range": [
            0,
            60
           ]
          },
          "yaxis": {
           "autorange": false,
           "range": [
            -0.5,
            5.5
           ],
           "tickfont": {
            "size": 14
           }
          }
         }
        },
        {
         "data": [
          {
           "marker": {
            "color": [
             "#800080",
             "#333399",
             "#FF6600",
             "#FFCC99",
             "#993366"
            ]
           },
           "orientation": "h",
           "text": [
            18.38800041,
            18.85233219,
            19.3547242,
            22.10102855,
            42.40503675
           ],
           "type": "bar",
           "x": [
            18.38800041,
            18.85233219,
            19.3547242,
            22.10102855,
            42.40503675
           ],
           "y": [
            "Thailand",
            "India",
            "China",
            "Mongolia",
            "Sri Lanka"
           ]
          }
         ],
         "layout": {
          "title": {
           "font": {
            "size": 28
           },
           "text": "Suicide Rates per Country: 1996"
          },
          "xaxis": {
           "autorange": false,
           "range": [
            0,
            60
           ]
          },
          "yaxis": {
           "autorange": false,
           "range": [
            -0.5,
            5.5
           ],
           "tickfont": {
            "size": 14
           }
          }
         }
        },
        {
         "data": [
          {
           "marker": {
            "color": [
             "#800080",
             "#FF6600",
             "#333399",
             "#FFCC99",
             "#993366"
            ]
           },
           "orientation": "h",
           "text": [
            16.94791379,
            18.25292802,
            19.44876965,
            22.05798142,
            44.77666001
           ],
           "type": "bar",
           "x": [
            16.94791379,
            18.25292802,
            19.44876965,
            22.05798142,
            44.77666001
           ],
           "y": [
            "Thailand",
            "China",
            "India",
            "Mongolia",
            "Sri Lanka"
           ]
          }
         ],
         "layout": {
          "title": {
           "font": {
            "size": 28
           },
           "text": "Suicide Rates per Country: 1997"
          },
          "xaxis": {
           "autorange": false,
           "range": [
            0,
            60
           ]
          },
          "yaxis": {
           "autorange": false,
           "range": [
            -0.5,
            5.5
           ],
           "tickfont": {
            "size": 14
           }
          }
         }
        },
        {
         "data": [
          {
           "marker": {
            "color": [
             "#339966",
             "#FF6600",
             "#333399",
             "#FFCC99",
             "#993366"
            ]
           },
           "orientation": "h",
           "text": [
            17.00210811,
            17.13252987,
            19.53216478,
            21.3527236,
            41.64311631
           ],
           "type": "bar",
           "x": [
            17.00210811,
            17.13252987,
            19.53216478,
            21.3527236,
            41.64311631
           ],
           "y": [
            "South Korea",
            "China",
            "India",
            "Mongolia",
            "Sri Lanka"
           ]
          }
         ],
         "layout": {
          "title": {
           "font": {
            "size": 28
           },
           "text": "Suicide Rates per Country: 1998"
          },
          "xaxis": {
           "autorange": false,
           "range": [
            0,
            60
           ]
          },
          "yaxis": {
           "autorange": false,
           "range": [
            -0.5,
            5.5
           ],
           "tickfont": {
            "size": 14
           }
          }
         }
        },
        {
         "data": [
          {
           "marker": {
            "color": [
             "#800080",
             "#339966",
             "#333399",
             "#FFCC99",
             "#993366"
            ]
           },
           "orientation": "h",
           "text": [
            17.35066527,
            17.72470137,
            19.80329975,
            20.78551562,
            40.55905456
           ],
           "type": "bar",
           "x": [
            17.35066527,
            17.72470137,
            19.80329975,
            20.78551562,
            40.55905456
           ],
           "y": [
            "Thailand",
            "South Korea",
            "India",
            "Mongolia",
            "Sri Lanka"
           ]
          }
         ],
         "layout": {
          "title": {
           "font": {
            "size": 28
           },
           "text": "Suicide Rates per Country: 1999"
          },
          "xaxis": {
           "autorange": false,
           "range": [
            0,
            60
           ]
          },
          "yaxis": {
           "autorange": false,
           "range": [
            -0.5,
            5.5
           ],
           "tickfont": {
            "size": 14
           }
          }
         }
        },
        {
         "data": [
          {
           "marker": {
            "color": [
             "#800080",
             "#339966",
             "#333399",
             "#FFCC99",
             "#993366"
            ]
           },
           "orientation": "h",
           "text": [
            16.78279118,
            18.45064942,
            19.724828,
            20.74208426,
            39.5348929
           ],
           "type": "bar",
           "x": [
            16.78279118,
            18.45064942,
            19.724828,
            20.74208426,
            39.5348929
           ],
           "y": [
            "Thailand",
            "South Korea",
            "India",
            "Mongolia",
            "Sri Lanka"
           ]
          }
         ],
         "layout": {
          "title": {
           "font": {
            "size": 28
           },
           "text": "Suicide Rates per Country: 2000"
          },
          "xaxis": {
           "autorange": false,
           "range": [
            0,
            60
           ]
          },
          "yaxis": {
           "autorange": false,
           "range": [
            -0.5,
            5.5
           ],
           "tickfont": {
            "size": 14
           }
          }
         }
        },
        {
         "data": [
          {
           "marker": {
            "color": [
             "#800080",
             "#333399",
             "#339966",
             "#FFCC99",
             "#993366"
            ]
           },
           "orientation": "h",
           "text": [
            15.49398285,
            19.2070647,
            19.55967029,
            20.49644692,
            35.674189500000004
           ],
           "type": "bar",
           "x": [
            15.49398285,
            19.2070647,
            19.55967029,
            20.49644692,
            35.674189500000004
           ],
           "y": [
            "Thailand",
            "India",
            "South Korea",
            "Mongolia",
            "Sri Lanka"
           ]
          }
         ],
         "layout": {
          "title": {
           "font": {
            "size": 28
           },
           "text": "Suicide Rates per Country: 2001"
          },
          "xaxis": {
           "autorange": false,
           "range": [
            0,
            60
           ]
          },
          "yaxis": {
           "autorange": false,
           "range": [
            -0.5,
            5.5
           ],
           "tickfont": {
            "size": 14
           }
          }
         }
        },
        {
         "data": [
          {
           "marker": {
            "color": [
             "#008000",
             "#333399",
             "#FFCC99",
             "#339966",
             "#993366"
            ]
           },
           "orientation": "h",
           "text": [
            15.38517228,
            18.54118074,
            20.33797195,
            21.12958128,
            32.86200448
           ],
           "type": "bar",
           "x": [
            15.38517228,
            18.54118074,
            20.33797195,
            21.12958128,
            32.86200448
           ],
           "y": [
            "Taiwan",
            "India",
            "Mongolia",
            "South Korea",
            "Sri Lanka"
           ]
          }
         ],
         "layout": {
          "title": {
           "font": {
            "size": 28
           },
           "text": "Suicide Rates per Country: 2002"
          },
          "xaxis": {
           "autorange": false,
           "range": [
            0,
            60
           ]
          },
          "yaxis": {
           "autorange": false,
           "range": [
            -0.5,
            5.5
           ],
           "tickfont": {
            "size": 14
           }
          }
         }
        },
        {
         "data": [
          {
           "marker": {
            "color": [
             "#008000",
             "#333399",
             "#FFCC99",
             "#339966",
             "#993366"
            ]
           },
           "orientation": "h",
           "text": [
            16.11859721,
            17.76862469,
            20.10891443,
            23.02409031,
            31.83120257
           ],
           "type": "bar",
           "x": [
            16.11859721,
            17.76862469,
            20.10891443,
            23.02409031,
            31.83120257
           ],
           "y": [
            "Taiwan",
            "India",
            "Mongolia",
            "South Korea",
            "Sri Lanka"
           ]
          }
         ],
         "layout": {
          "title": {
           "font": {
            "size": 28
           },
           "text": "Suicide Rates per Country: 2003"
          },
          "xaxis": {
           "autorange": false,
           "range": [
            0,
            60
           ]
          },
          "yaxis": {
           "autorange": false,
           "range": [
            -0.5,
            5.5
           ],
           "tickfont": {
            "size": 14
           }
          }
         }
        },
        {
         "data": [
          {
           "marker": {
            "color": [
             "#008000",
             "#333399",
             "#FFCC99",
             "#339966",
             "#993366"
            ]
           },
           "orientation": "h",
           "text": [
            17.068263199999997,
            17.19984556,
            20.27826865,
            24.04338133,
            30.00291395
           ],
           "type": "bar",
           "x": [
            17.068263199999997,
            17.19984556,
            20.27826865,
            24.04338133,
            30.00291395
           ],
           "y": [
            "Taiwan",
            "India",
            "Mongolia",
            "South Korea",
            "Sri Lanka"
           ]
          }
         ],
         "layout": {
          "title": {
           "font": {
            "size": 28
           },
           "text": "Suicide Rates per Country: 2004"
          },
          "xaxis": {
           "autorange": false,
           "range": [
            0,
            60
           ]
          },
          "yaxis": {
           "autorange": false,
           "range": [
            -0.5,
            5.5
           ],
           "tickfont": {
            "size": 14
           }
          }
         }
        },
        {
         "data": [
          {
           "marker": {
            "color": [
             "#333399",
             "#008000",
             "#FFCC99",
             "#339966",
             "#993366"
            ]
           },
           "orientation": "h",
           "text": [
            17.41189593,
            18.233026199999998,
            20.28742619,
            24.73347523,
            28.88799469
           ],
           "type": "bar",
           "x": [
            17.41189593,
            18.233026199999998,
            20.28742619,
            24.73347523,
            28.88799469
           ],
           "y": [
            "India",
            "Taiwan",
            "Mongolia",
            "South Korea",
            "Sri Lanka"
           ]
          }
         ],
         "layout": {
          "title": {
           "font": {
            "size": 28
           },
           "text": "Suicide Rates per Country: 2005"
          },
          "xaxis": {
           "autorange": false,
           "range": [
            0,
            60
           ]
          },
          "yaxis": {
           "autorange": false,
           "range": [
            -0.5,
            5.5
           ],
           "tickfont": {
            "size": 14
           }
          }
         }
        },
        {
         "data": [
          {
           "marker": {
            "color": [
             "#333399",
             "#008000",
             "#FFCC99",
             "#339966",
             "#993366"
            ]
           },
           "orientation": "h",
           "text": [
            17.19528285,
            18.01470992,
            19.80528272,
            24.71202091,
            26.64207134
           ],
           "type": "bar",
           "x": [
            17.19528285,
            18.01470992,
            19.80528272,
            24.71202091,
            26.64207134
           ],
           "y": [
            "India",
            "Taiwan",
            "Mongolia",
            "South Korea",
            "Sri Lanka"
           ]
          }
         ],
         "layout": {
          "title": {
           "font": {
            "size": 28
           },
           "text": "Suicide Rates per Country: 2006"
          },
          "xaxis": {
           "autorange": false,
           "range": [
            0,
            60
           ]
          },
          "yaxis": {
           "autorange": false,
           "range": [
            -0.5,
            5.5
           ],
           "tickfont": {
            "size": 14
           }
          }
         }
        },
        {
         "data": [
          {
           "marker": {
            "color": [
             "#333399",
             "#008000",
             "#FFCC99",
             "#993366",
             "#339966"
            ]
           },
           "orientation": "h",
           "text": [
            16.91934868,
            17.28011316,
            19.0439052,
            25.48580481,
            25.61990207
           ],
           "type": "bar",
           "x": [
            16.91934868,
            17.28011316,
            19.0439052,
            25.48580481,
            25.61990207
           ],
           "y": [
            "India",
            "Taiwan",
            "Mongolia",
            "Sri Lanka",
            "South Korea"
           ]
          }
         ],
         "layout": {
          "title": {
           "font": {
            "size": 28
           },
           "text": "Suicide Rates per Country: 2007"
          },
          "xaxis": {
           "autorange": false,
           "range": [
            0,
            60
           ]
          },
          "yaxis": {
           "autorange": false,
           "range": [
            -0.5,
            5.5
           ],
           "tickfont": {
            "size": 14
           }
          }
         }
        },
        {
         "data": [
          {
           "marker": {
            "color": [
             "#008000",
             "#333399",
             "#FFCC99",
             "#993366",
             "#339966"
            ]
           },
           "orientation": "h",
           "text": [
            16.61363789,
            16.95242305,
            17.98368008,
            24.56795495,
            26.55802323
           ],
           "type": "bar",
           "x": [
            16.61363789,
            16.95242305,
            17.98368008,
            24.56795495,
            26.55802323
           ],
           "y": [
            "Taiwan",
            "India",
            "Mongolia",
            "Sri Lanka",
            "South Korea"
           ]
          }
         ],
         "layout": {
          "title": {
           "font": {
            "size": 28
           },
           "text": "Suicide Rates per Country: 2008"
          },
          "xaxis": {
           "autorange": false,
           "range": [
            0,
            60
           ]
          },
          "yaxis": {
           "autorange": false,
           "range": [
            -0.5,
            5.5
           ],
           "tickfont": {
            "size": 14
           }
          }
         }
        },
        {
         "data": [
          {
           "marker": {
            "color": [
             "#008000",
             "#333399",
             "#FFCC99",
             "#993366",
             "#339966"
            ]
           },
           "orientation": "h",
           "text": [
            15.77075073,
            17.11830359,
            17.56104435,
            22.17638176,
            27.64088972
           ],
           "type": "bar",
           "x": [
            15.77075073,
            17.11830359,
            17.56104435,
            22.17638176,
            27.64088972
           ],
           "y": [
            "Taiwan",
            "India",
            "Mongolia",
            "Sri Lanka",
            "South Korea"
           ]
          }
         ],
         "layout": {
          "title": {
           "font": {
            "size": 28
           },
           "text": "Suicide Rates per Country: 2009"
          },
          "xaxis": {
           "autorange": false,
           "range": [
            0,
            60
           ]
          },
          "yaxis": {
           "autorange": false,
           "range": [
            -0.5,
            5.5
           ],
           "tickfont": {
            "size": 14
           }
          }
         }
        },
        {
         "data": [
          {
           "marker": {
            "color": [
             "#008000",
             "#333399",
             "#FFCC99",
             "#993366",
             "#339966"
            ]
           },
           "orientation": "h",
           "text": [
            15.10192924,
            17.29007824,
            17.47477038,
            21.03126878,
            27.8075663
           ],
           "type": "bar",
           "x": [
            15.10192924,
            17.29007824,
            17.47477038,
            21.03126878,
            27.8075663
           ],
           "y": [
            "Taiwan",
            "India",
            "Mongolia",
            "Sri Lanka",
            "South Korea"
           ]
          }
         ],
         "layout": {
          "title": {
           "font": {
            "size": 28
           },
           "text": "Suicide Rates per Country: 2010"
          },
          "xaxis": {
           "autorange": false,
           "range": [
            0,
            60
           ]
          },
          "yaxis": {
           "autorange": false,
           "range": [
            -0.5,
            5.5
           ],
           "tickfont": {
            "size": 14
           }
          }
         }
        },
        {
         "data": [
          {
           "marker": {
            "color": [
             "#008000",
             "#FFCC99",
             "#333399",
             "#993366",
             "#339966"
            ]
           },
           "orientation": "h",
           "text": [
            15.09201417,
            17.13495399,
            17.45907339,
            21.31421116,
            27.24035292
           ],
           "type": "bar",
           "x": [
            15.09201417,
            17.13495399,
            17.45907339,
            21.31421116,
            27.24035292
           ],
           "y": [
            "Taiwan",
            "Mongolia",
            "India",
            "Sri Lanka",
            "South Korea"
           ]
          }
         ],
         "layout": {
          "title": {
           "font": {
            "size": 28
           },
           "text": "Suicide Rates per Country: 2011"
          },
          "xaxis": {
           "autorange": false,
           "range": [
            0,
            60
           ]
          },
          "yaxis": {
           "autorange": false,
           "range": [
            -0.5,
            5.5
           ],
           "tickfont": {
            "size": 14
           }
          }
         }
        },
        {
         "data": [
          {
           "marker": {
            "color": [
             "#008000",
             "#FFCC99",
             "#333399",
             "#993366",
             "#339966"
            ]
           },
           "orientation": "h",
           "text": [
            14.52384705,
            16.86263528,
            17.041459600000003,
            21.0068221,
            26.03645798
           ],
           "type": "bar",
           "x": [
            14.52384705,
            16.86263528,
            17.041459600000003,
            21.0068221,
            26.03645798
           ],
           "y": [
            "Taiwan",
            "Mongolia",
            "India",
            "Sri Lanka",
            "South Korea"
           ]
          }
         ],
         "layout": {
          "title": {
           "font": {
            "size": 28
           },
           "text": "Suicide Rates per Country: 2012"
          },
          "xaxis": {
           "autorange": false,
           "range": [
            0,
            60
           ]
          },
          "yaxis": {
           "autorange": false,
           "range": [
            -0.5,
            5.5
           ],
           "tickfont": {
            "size": 14
           }
          }
         }
        },
        {
         "data": [
          {
           "marker": {
            "color": [
             "#008000",
             "#FFCC99",
             "#333399",
             "#993366",
             "#339966"
            ]
           },
           "orientation": "h",
           "text": [
            13.68962324,
            16.36203236,
            16.56142617,
            20.11614307,
            24.83892538
           ],
           "type": "bar",
           "x": [
            13.68962324,
            16.36203236,
            16.56142617,
            20.11614307,
            24.83892538
           ],
           "y": [
            "Taiwan",
            "Mongolia",
            "India",
            "Sri Lanka",
            "South Korea"
           ]
          }
         ],
         "layout": {
          "title": {
           "font": {
            "size": 28
           },
           "text": "Suicide Rates per Country: 2013"
          },
          "xaxis": {
           "autorange": false,
           "range": [
            0,
            60
           ]
          },
          "yaxis": {
           "autorange": false,
           "range": [
            -0.5,
            5.5
           ],
           "tickfont": {
            "size": 14
           }
          }
         }
        },
        {
         "data": [
          {
           "marker": {
            "color": [
             "#008000",
             "#FFCC99",
             "#333399",
             "#993366",
             "#339966"
            ]
           },
           "orientation": "h",
           "text": [
            13.61588313,
            15.89197967,
            16.28727736,
            20.15473714,
            23.51897906
           ],
           "type": "bar",
           "x": [
            13.61588313,
            15.89197967,
            16.28727736,
            20.15473714,
            23.51897906
           ],
           "y": [
            "Taiwan",
            "Mongolia",
            "India",
            "Sri Lanka",
            "South Korea"
           ]
          }
         ],
         "layout": {
          "title": {
           "font": {
            "size": 28
           },
           "text": "Suicide Rates per Country: 2014"
          },
          "xaxis": {
           "autorange": false,
           "range": [
            0,
            60
           ]
          },
          "yaxis": {
           "autorange": false,
           "range": [
            -0.5,
            5.5
           ],
           "tickfont": {
            "size": 14
           }
          }
         }
        },
        {
         "data": [
          {
           "marker": {
            "color": [
             "#008000",
             "#333399",
             "#FFCC99",
             "#993366",
             "#339966"
            ]
           },
           "orientation": "h",
           "text": [
            13.18056348,
            15.70522051,
            15.80153732,
            20.02788347,
            22.38901605
           ],
           "type": "bar",
           "x": [
            13.18056348,
            15.70522051,
            15.80153732,
            20.02788347,
            22.38901605
           ],
           "y": [
            "Taiwan",
            "India",
            "Mongolia",
            "Sri Lanka",
            "South Korea"
           ]
          }
         ],
         "layout": {
          "title": {
           "font": {
            "size": 28
           },
           "text": "Suicide Rates per Country: 2015"
          },
          "xaxis": {
           "autorange": false,
           "range": [
            0,
            60
           ]
          },
          "yaxis": {
           "autorange": false,
           "range": [
            -0.5,
            5.5
           ],
           "tickfont": {
            "size": 14
           }
          }
         }
        },
        {
         "data": [
          {
           "marker": {
            "color": [
             "#008000",
             "#FFCC99",
             "#333399",
             "#993366",
             "#339966"
            ]
           },
           "orientation": "h",
           "text": [
            13.39808814,
            15.510453699999998,
            15.73827567,
            19.95052735,
            21.22913702
           ],
           "type": "bar",
           "x": [
            13.39808814,
            15.510453699999998,
            15.73827567,
            19.95052735,
            21.22913702
           ],
           "y": [
            "Taiwan",
            "Mongolia",
            "India",
            "Sri Lanka",
            "South Korea"
           ]
          }
         ],
         "layout": {
          "title": {
           "font": {
            "size": 28
           },
           "text": "Suicide Rates per Country: 2016"
          },
          "xaxis": {
           "autorange": false,
           "range": [
            0,
            60
           ]
          },
          "yaxis": {
           "autorange": false,
           "range": [
            -0.5,
            5.5
           ],
           "tickfont": {
            "size": 14
           }
          }
         }
        },
        {
         "data": [
          {
           "marker": {
            "color": [
             "#008000",
             "#FFCC99",
             "#333399",
             "#993366",
             "#339966"
            ]
           },
           "orientation": "h",
           "text": [
            13.52431332,
            15.35814334,
            15.59784439,
            19.80041876,
            20.80566027
           ],
           "type": "bar",
           "x": [
            13.52431332,
            15.35814334,
            15.59784439,
            19.80041876,
            20.80566027
           ],
           "y": [
            "Taiwan",
            "Mongolia",
            "India",
            "Sri Lanka",
            "South Korea"
           ]
          }
         ],
         "layout": {
          "title": {
           "font": {
            "size": 28
           },
           "text": "Suicide Rates per Country: 2017"
          },
          "xaxis": {
           "autorange": false,
           "range": [
            0,
            60
           ]
          },
          "yaxis": {
           "autorange": false,
           "range": [
            -0.5,
            5.5
           ],
           "tickfont": {
            "size": 14
           }
          }
         }
        }
       ],
       "layout": {
        "template": {
         "data": {
          "bar": [
           {
            "error_x": {
             "color": "#2a3f5f"
            },
            "error_y": {
             "color": "#2a3f5f"
            },
            "marker": {
             "line": {
              "color": "#E5ECF6",
              "width": 0.5
             }
            },
            "type": "bar"
           }
          ],
          "barpolar": [
           {
            "marker": {
             "line": {
              "color": "#E5ECF6",
              "width": 0.5
             }
            },
            "type": "barpolar"
           }
          ],
          "carpet": [
           {
            "aaxis": {
             "endlinecolor": "#2a3f5f",
             "gridcolor": "white",
             "linecolor": "white",
             "minorgridcolor": "white",
             "startlinecolor": "#2a3f5f"
            },
            "baxis": {
             "endlinecolor": "#2a3f5f",
             "gridcolor": "white",
             "linecolor": "white",
             "minorgridcolor": "white",
             "startlinecolor": "#2a3f5f"
            },
            "type": "carpet"
           }
          ],
          "choropleth": [
           {
            "colorbar": {
             "outlinewidth": 0,
             "ticks": ""
            },
            "type": "choropleth"
           }
          ],
          "contour": [
           {
            "colorbar": {
             "outlinewidth": 0,
             "ticks": ""
            },
            "colorscale": [
             [
              0,
              "#0d0887"
             ],
             [
              0.1111111111111111,
              "#46039f"
             ],
             [
              0.2222222222222222,
              "#7201a8"
             ],
             [
              0.3333333333333333,
              "#9c179e"
             ],
             [
              0.4444444444444444,
              "#bd3786"
             ],
             [
              0.5555555555555556,
              "#d8576b"
             ],
             [
              0.6666666666666666,
              "#ed7953"
             ],
             [
              0.7777777777777778,
              "#fb9f3a"
             ],
             [
              0.8888888888888888,
              "#fdca26"
             ],
             [
              1,
              "#f0f921"
             ]
            ],
            "type": "contour"
           }
          ],
          "contourcarpet": [
           {
            "colorbar": {
             "outlinewidth": 0,
             "ticks": ""
            },
            "type": "contourcarpet"
           }
          ],
          "heatmap": [
           {
            "colorbar": {
             "outlinewidth": 0,
             "ticks": ""
            },
            "colorscale": [
             [
              0,
              "#0d0887"
             ],
             [
              0.1111111111111111,
              "#46039f"
             ],
             [
              0.2222222222222222,
              "#7201a8"
             ],
             [
              0.3333333333333333,
              "#9c179e"
             ],
             [
              0.4444444444444444,
              "#bd3786"
             ],
             [
              0.5555555555555556,
              "#d8576b"
             ],
             [
              0.6666666666666666,
              "#ed7953"
             ],
             [
              0.7777777777777778,
              "#fb9f3a"
             ],
             [
              0.8888888888888888,
              "#fdca26"
             ],
             [
              1,
              "#f0f921"
             ]
            ],
            "type": "heatmap"
           }
          ],
          "heatmapgl": [
           {
            "colorbar": {
             "outlinewidth": 0,
             "ticks": ""
            },
            "colorscale": [
             [
              0,
              "#0d0887"
             ],
             [
              0.1111111111111111,
              "#46039f"
             ],
             [
              0.2222222222222222,
              "#7201a8"
             ],
             [
              0.3333333333333333,
              "#9c179e"
             ],
             [
              0.4444444444444444,
              "#bd3786"
             ],
             [
              0.5555555555555556,
              "#d8576b"
             ],
             [
              0.6666666666666666,
              "#ed7953"
             ],
             [
              0.7777777777777778,
              "#fb9f3a"
             ],
             [
              0.8888888888888888,
              "#fdca26"
             ],
             [
              1,
              "#f0f921"
             ]
            ],
            "type": "heatmapgl"
           }
          ],
          "histogram": [
           {
            "marker": {
             "colorbar": {
              "outlinewidth": 0,
              "ticks": ""
             }
            },
            "type": "histogram"
           }
          ],
          "histogram2d": [
           {
            "colorbar": {
             "outlinewidth": 0,
             "ticks": ""
            },
            "colorscale": [
             [
              0,
              "#0d0887"
             ],
             [
              0.1111111111111111,
              "#46039f"
             ],
             [
              0.2222222222222222,
              "#7201a8"
             ],
             [
              0.3333333333333333,
              "#9c179e"
             ],
             [
              0.4444444444444444,
              "#bd3786"
             ],
             [
              0.5555555555555556,
              "#d8576b"
             ],
             [
              0.6666666666666666,
              "#ed7953"
             ],
             [
              0.7777777777777778,
              "#fb9f3a"
             ],
             [
              0.8888888888888888,
              "#fdca26"
             ],
             [
              1,
              "#f0f921"
             ]
            ],
            "type": "histogram2d"
           }
          ],
          "histogram2dcontour": [
           {
            "colorbar": {
             "outlinewidth": 0,
             "ticks": ""
            },
            "colorscale": [
             [
              0,
              "#0d0887"
             ],
             [
              0.1111111111111111,
              "#46039f"
             ],
             [
              0.2222222222222222,
              "#7201a8"
             ],
             [
              0.3333333333333333,
              "#9c179e"
             ],
             [
              0.4444444444444444,
              "#bd3786"
             ],
             [
              0.5555555555555556,
              "#d8576b"
             ],
             [
              0.6666666666666666,
              "#ed7953"
             ],
             [
              0.7777777777777778,
              "#fb9f3a"
             ],
             [
              0.8888888888888888,
              "#fdca26"
             ],
             [
              1,
              "#f0f921"
             ]
            ],
            "type": "histogram2dcontour"
           }
          ],
          "mesh3d": [
           {
            "colorbar": {
             "outlinewidth": 0,
             "ticks": ""
            },
            "type": "mesh3d"
           }
          ],
          "parcoords": [
           {
            "line": {
             "colorbar": {
              "outlinewidth": 0,
              "ticks": ""
             }
            },
            "type": "parcoords"
           }
          ],
          "pie": [
           {
            "automargin": true,
            "type": "pie"
           }
          ],
          "scatter": [
           {
            "marker": {
             "colorbar": {
              "outlinewidth": 0,
              "ticks": ""
             }
            },
            "type": "scatter"
           }
          ],
          "scatter3d": [
           {
            "line": {
             "colorbar": {
              "outlinewidth": 0,
              "ticks": ""
             }
            },
            "marker": {
             "colorbar": {
              "outlinewidth": 0,
              "ticks": ""
             }
            },
            "type": "scatter3d"
           }
          ],
          "scattercarpet": [
           {
            "marker": {
             "colorbar": {
              "outlinewidth": 0,
              "ticks": ""
             }
            },
            "type": "scattercarpet"
           }
          ],
          "scattergeo": [
           {
            "marker": {
             "colorbar": {
              "outlinewidth": 0,
              "ticks": ""
             }
            },
            "type": "scattergeo"
           }
          ],
          "scattergl": [
           {
            "marker": {
             "colorbar": {
              "outlinewidth": 0,
              "ticks": ""
             }
            },
            "type": "scattergl"
           }
          ],
          "scattermapbox": [
           {
            "marker": {
             "colorbar": {
              "outlinewidth": 0,
              "ticks": ""
             }
            },
            "type": "scattermapbox"
           }
          ],
          "scatterpolar": [
           {
            "marker": {
             "colorbar": {
              "outlinewidth": 0,
              "ticks": ""
             }
            },
            "type": "scatterpolar"
           }
          ],
          "scatterpolargl": [
           {
            "marker": {
             "colorbar": {
              "outlinewidth": 0,
              "ticks": ""
             }
            },
            "type": "scatterpolargl"
           }
          ],
          "scatterternary": [
           {
            "marker": {
             "colorbar": {
              "outlinewidth": 0,
              "ticks": ""
             }
            },
            "type": "scatterternary"
           }
          ],
          "surface": [
           {
            "colorbar": {
             "outlinewidth": 0,
             "ticks": ""
            },
            "colorscale": [
             [
              0,
              "#0d0887"
             ],
             [
              0.1111111111111111,
              "#46039f"
             ],
             [
              0.2222222222222222,
              "#7201a8"
             ],
             [
              0.3333333333333333,
              "#9c179e"
             ],
             [
              0.4444444444444444,
              "#bd3786"
             ],
             [
              0.5555555555555556,
              "#d8576b"
             ],
             [
              0.6666666666666666,
              "#ed7953"
             ],
             [
              0.7777777777777778,
              "#fb9f3a"
             ],
             [
              0.8888888888888888,
              "#fdca26"
             ],
             [
              1,
              "#f0f921"
             ]
            ],
            "type": "surface"
           }
          ],
          "table": [
           {
            "cells": {
             "fill": {
              "color": "#EBF0F8"
             },
             "line": {
              "color": "white"
             }
            },
            "header": {
             "fill": {
              "color": "#C8D4E3"
             },
             "line": {
              "color": "white"
             }
            },
            "type": "table"
           }
          ]
         },
         "layout": {
          "annotationdefaults": {
           "arrowcolor": "#2a3f5f",
           "arrowhead": 0,
           "arrowwidth": 1
          },
          "autotypenumbers": "strict",
          "coloraxis": {
           "colorbar": {
            "outlinewidth": 0,
            "ticks": ""
           }
          },
          "colorscale": {
           "diverging": [
            [
             0,
             "#8e0152"
            ],
            [
             0.1,
             "#c51b7d"
            ],
            [
             0.2,
             "#de77ae"
            ],
            [
             0.3,
             "#f1b6da"
            ],
            [
             0.4,
             "#fde0ef"
            ],
            [
             0.5,
             "#f7f7f7"
            ],
            [
             0.6,
             "#e6f5d0"
            ],
            [
             0.7,
             "#b8e186"
            ],
            [
             0.8,
             "#7fbc41"
            ],
            [
             0.9,
             "#4d9221"
            ],
            [
             1,
             "#276419"
            ]
           ],
           "sequential": [
            [
             0,
             "#0d0887"
            ],
            [
             0.1111111111111111,
             "#46039f"
            ],
            [
             0.2222222222222222,
             "#7201a8"
            ],
            [
             0.3333333333333333,
             "#9c179e"
            ],
            [
             0.4444444444444444,
             "#bd3786"
            ],
            [
             0.5555555555555556,
             "#d8576b"
            ],
            [
             0.6666666666666666,
             "#ed7953"
            ],
            [
             0.7777777777777778,
             "#fb9f3a"
            ],
            [
             0.8888888888888888,
             "#fdca26"
            ],
            [
             1,
             "#f0f921"
            ]
           ],
           "sequentialminus": [
            [
             0,
             "#0d0887"
            ],
            [
             0.1111111111111111,
             "#46039f"
            ],
            [
             0.2222222222222222,
             "#7201a8"
            ],
            [
             0.3333333333333333,
             "#9c179e"
            ],
            [
             0.4444444444444444,
             "#bd3786"
            ],
            [
             0.5555555555555556,
             "#d8576b"
            ],
            [
             0.6666666666666666,
             "#ed7953"
            ],
            [
             0.7777777777777778,
             "#fb9f3a"
            ],
            [
             0.8888888888888888,
             "#fdca26"
            ],
            [
             1,
             "#f0f921"
            ]
           ]
          },
          "colorway": [
           "#636efa",
           "#EF553B",
           "#00cc96",
           "#ab63fa",
           "#FFA15A",
           "#19d3f3",
           "#FF6692",
           "#B6E880",
           "#FF97FF",
           "#FECB52"
          ],
          "font": {
           "color": "#2a3f5f"
          },
          "geo": {
           "bgcolor": "white",
           "lakecolor": "white",
           "landcolor": "#E5ECF6",
           "showlakes": true,
           "showland": true,
           "subunitcolor": "white"
          },
          "hoverlabel": {
           "align": "left"
          },
          "hovermode": "closest",
          "mapbox": {
           "style": "light"
          },
          "paper_bgcolor": "white",
          "plot_bgcolor": "#E5ECF6",
          "polar": {
           "angularaxis": {
            "gridcolor": "white",
            "linecolor": "white",
            "ticks": ""
           },
           "bgcolor": "#E5ECF6",
           "radialaxis": {
            "gridcolor": "white",
            "linecolor": "white",
            "ticks": ""
           }
          },
          "scene": {
           "xaxis": {
            "backgroundcolor": "#E5ECF6",
            "gridcolor": "white",
            "gridwidth": 2,
            "linecolor": "white",
            "showbackground": true,
            "ticks": "",
            "zerolinecolor": "white"
           },
           "yaxis": {
            "backgroundcolor": "#E5ECF6",
            "gridcolor": "white",
            "gridwidth": 2,
            "linecolor": "white",
            "showbackground": true,
            "ticks": "",
            "zerolinecolor": "white"
           },
           "zaxis": {
            "backgroundcolor": "#E5ECF6",
            "gridcolor": "white",
            "gridwidth": 2,
            "linecolor": "white",
            "showbackground": true,
            "ticks": "",
            "zerolinecolor": "white"
           }
          },
          "shapedefaults": {
           "line": {
            "color": "#2a3f5f"
           }
          },
          "ternary": {
           "aaxis": {
            "gridcolor": "white",
            "linecolor": "white",
            "ticks": ""
           },
           "baxis": {
            "gridcolor": "white",
            "linecolor": "white",
            "ticks": ""
           },
           "bgcolor": "#E5ECF6",
           "caxis": {
            "gridcolor": "white",
            "linecolor": "white",
            "ticks": ""
           }
          },
          "title": {
           "x": 0.05
          },
          "xaxis": {
           "automargin": true,
           "gridcolor": "white",
           "linecolor": "white",
           "ticks": "",
           "title": {
            "standoff": 15
           },
           "zerolinecolor": "white",
           "zerolinewidth": 2
          },
          "yaxis": {
           "automargin": true,
           "gridcolor": "white",
           "linecolor": "white",
           "ticks": "",
           "title": {
            "standoff": 15
           },
           "zerolinecolor": "white",
           "zerolinewidth": 2
          }
         }
        },
        "title": {
         "font": {
          "size": 28
         },
         "text": "Suicide Rates per Country: 1990",
         "x": 0.5,
         "xanchor": "center"
        },
        "updatemenus": [
         {
          "buttons": [
           {
            "args": [
             null,
             {
              "frame": {
               "duration": 1000,
               "redraw": true
              },
              "transition": {
               "duration": 250,
               "easing": "linear"
              }
             }
            ],
            "label": "Play",
            "method": "animate"
           }
          ],
          "type": "buttons"
         }
        ],
        "xaxis": {
         "autorange": false,
         "range": [
          0,
          60
         ],
         "title": {
          "font": {
           "size": 18
          },
          "text": "suicide rate (deaths per 100,000)"
         }
        },
        "yaxis": {
         "autorange": false,
         "range": [
          -0.5,
          5.5
         ],
         "tickfont": {
          "size": 14
         }
        }
       }
      },
      "text/html": [
       "<div>                            <div id=\"c3896c07-2355-4a82-b75a-3fb0142d51cd\" class=\"plotly-graph-div\" style=\"height:525px; width:100%;\"></div>            <script type=\"text/javascript\">                require([\"plotly\"], function(Plotly) {                    window.PLOTLYENV=window.PLOTLYENV || {};                                    if (document.getElementById(\"c3896c07-2355-4a82-b75a-3fb0142d51cd\")) {                    Plotly.newPlot(                        \"c3896c07-2355-4a82-b75a-3fb0142d51cd\",                        [{\"insidetextanchor\": \"middle\", \"marker\": {\"color\": [\"#FFCC99\", \"#C0C0C0\", \"#333399\", \"#FF6600\", \"#993366\"]}, \"orientation\": \"h\", \"text\": [15.45900286, 18.0396141, 20.20373436, 20.92354023, 40.83261926], \"textfont\": {\"size\": 18}, \"textposition\": \"inside\", \"texttemplate\": \"%{text:.3s}\", \"type\": \"bar\", \"width\": 0.9, \"x\": [15.45900286, 18.0396141, 20.20373436, 20.92354023, 40.83261926], \"y\": [\"Mongolia\", \"Laos\", \"India\", \"China\", \"Sri Lanka\"]}],                        {\"template\": {\"data\": {\"bar\": [{\"error_x\": {\"color\": \"#2a3f5f\"}, \"error_y\": {\"color\": \"#2a3f5f\"}, \"marker\": {\"line\": {\"color\": \"#E5ECF6\", \"width\": 0.5}}, \"type\": \"bar\"}], \"barpolar\": [{\"marker\": {\"line\": {\"color\": \"#E5ECF6\", \"width\": 0.5}}, \"type\": \"barpolar\"}], \"carpet\": [{\"aaxis\": {\"endlinecolor\": \"#2a3f5f\", \"gridcolor\": \"white\", \"linecolor\": \"white\", \"minorgridcolor\": \"white\", \"startlinecolor\": \"#2a3f5f\"}, \"baxis\": {\"endlinecolor\": \"#2a3f5f\", \"gridcolor\": \"white\", \"linecolor\": \"white\", \"minorgridcolor\": \"white\", \"startlinecolor\": \"#2a3f5f\"}, \"type\": \"carpet\"}], \"choropleth\": [{\"colorbar\": {\"outlinewidth\": 0, \"ticks\": \"\"}, \"type\": \"choropleth\"}], \"contour\": [{\"colorbar\": {\"outlinewidth\": 0, \"ticks\": \"\"}, \"colorscale\": [[0.0, \"#0d0887\"], [0.1111111111111111, \"#46039f\"], [0.2222222222222222, \"#7201a8\"], [0.3333333333333333, \"#9c179e\"], [0.4444444444444444, \"#bd3786\"], [0.5555555555555556, \"#d8576b\"], [0.6666666666666666, \"#ed7953\"], [0.7777777777777778, \"#fb9f3a\"], [0.8888888888888888, \"#fdca26\"], [1.0, \"#f0f921\"]], \"type\": \"contour\"}], \"contourcarpet\": [{\"colorbar\": {\"outlinewidth\": 0, \"ticks\": \"\"}, \"type\": \"contourcarpet\"}], \"heatmap\": [{\"colorbar\": {\"outlinewidth\": 0, \"ticks\": \"\"}, \"colorscale\": [[0.0, \"#0d0887\"], [0.1111111111111111, \"#46039f\"], [0.2222222222222222, \"#7201a8\"], [0.3333333333333333, \"#9c179e\"], [0.4444444444444444, \"#bd3786\"], [0.5555555555555556, \"#d8576b\"], [0.6666666666666666, \"#ed7953\"], [0.7777777777777778, \"#fb9f3a\"], [0.8888888888888888, \"#fdca26\"], [1.0, \"#f0f921\"]], \"type\": \"heatmap\"}], \"heatmapgl\": [{\"colorbar\": {\"outlinewidth\": 0, \"ticks\": \"\"}, \"colorscale\": [[0.0, \"#0d0887\"], [0.1111111111111111, \"#46039f\"], [0.2222222222222222, \"#7201a8\"], [0.3333333333333333, \"#9c179e\"], [0.4444444444444444, \"#bd3786\"], [0.5555555555555556, \"#d8576b\"], [0.6666666666666666, \"#ed7953\"], [0.7777777777777778, \"#fb9f3a\"], [0.8888888888888888, \"#fdca26\"], [1.0, \"#f0f921\"]], \"type\": \"heatmapgl\"}], \"histogram\": [{\"marker\": {\"colorbar\": {\"outlinewidth\": 0, \"ticks\": \"\"}}, \"type\": \"histogram\"}], \"histogram2d\": [{\"colorbar\": {\"outlinewidth\": 0, \"ticks\": \"\"}, \"colorscale\": [[0.0, \"#0d0887\"], [0.1111111111111111, \"#46039f\"], [0.2222222222222222, \"#7201a8\"], [0.3333333333333333, \"#9c179e\"], [0.4444444444444444, \"#bd3786\"], [0.5555555555555556, \"#d8576b\"], [0.6666666666666666, \"#ed7953\"], [0.7777777777777778, \"#fb9f3a\"], [0.8888888888888888, \"#fdca26\"], [1.0, \"#f0f921\"]], \"type\": \"histogram2d\"}], \"histogram2dcontour\": [{\"colorbar\": {\"outlinewidth\": 0, \"ticks\": \"\"}, \"colorscale\": [[0.0, \"#0d0887\"], [0.1111111111111111, \"#46039f\"], [0.2222222222222222, \"#7201a8\"], [0.3333333333333333, \"#9c179e\"], [0.4444444444444444, \"#bd3786\"], [0.5555555555555556, \"#d8576b\"], [0.6666666666666666, \"#ed7953\"], [0.7777777777777778, \"#fb9f3a\"], [0.8888888888888888, \"#fdca26\"], [1.0, \"#f0f921\"]], \"type\": \"histogram2dcontour\"}], \"mesh3d\": [{\"colorbar\": {\"outlinewidth\": 0, \"ticks\": \"\"}, \"type\": \"mesh3d\"}], \"parcoords\": [{\"line\": {\"colorbar\": {\"outlinewidth\": 0, \"ticks\": \"\"}}, \"type\": \"parcoords\"}], \"pie\": [{\"automargin\": true, \"type\": \"pie\"}], \"scatter\": [{\"marker\": {\"colorbar\": {\"outlinewidth\": 0, \"ticks\": \"\"}}, \"type\": \"scatter\"}], \"scatter3d\": [{\"line\": {\"colorbar\": {\"outlinewidth\": 0, \"ticks\": \"\"}}, \"marker\": {\"colorbar\": {\"outlinewidth\": 0, \"ticks\": \"\"}}, \"type\": \"scatter3d\"}], \"scattercarpet\": [{\"marker\": {\"colorbar\": {\"outlinewidth\": 0, \"ticks\": \"\"}}, \"type\": \"scattercarpet\"}], \"scattergeo\": [{\"marker\": {\"colorbar\": {\"outlinewidth\": 0, \"ticks\": \"\"}}, \"type\": \"scattergeo\"}], \"scattergl\": [{\"marker\": {\"colorbar\": {\"outlinewidth\": 0, \"ticks\": \"\"}}, \"type\": \"scattergl\"}], \"scattermapbox\": [{\"marker\": {\"colorbar\": {\"outlinewidth\": 0, \"ticks\": \"\"}}, \"type\": \"scattermapbox\"}], \"scatterpolar\": [{\"marker\": {\"colorbar\": {\"outlinewidth\": 0, \"ticks\": \"\"}}, \"type\": \"scatterpolar\"}], \"scatterpolargl\": [{\"marker\": {\"colorbar\": {\"outlinewidth\": 0, \"ticks\": \"\"}}, \"type\": \"scatterpolargl\"}], \"scatterternary\": [{\"marker\": {\"colorbar\": {\"outlinewidth\": 0, \"ticks\": \"\"}}, \"type\": \"scatterternary\"}], \"surface\": [{\"colorbar\": {\"outlinewidth\": 0, \"ticks\": \"\"}, \"colorscale\": [[0.0, \"#0d0887\"], [0.1111111111111111, \"#46039f\"], [0.2222222222222222, \"#7201a8\"], [0.3333333333333333, \"#9c179e\"], [0.4444444444444444, \"#bd3786\"], [0.5555555555555556, \"#d8576b\"], [0.6666666666666666, \"#ed7953\"], [0.7777777777777778, \"#fb9f3a\"], [0.8888888888888888, \"#fdca26\"], [1.0, \"#f0f921\"]], \"type\": \"surface\"}], \"table\": [{\"cells\": {\"fill\": {\"color\": \"#EBF0F8\"}, \"line\": {\"color\": \"white\"}}, \"header\": {\"fill\": {\"color\": \"#C8D4E3\"}, \"line\": {\"color\": \"white\"}}, \"type\": \"table\"}]}, \"layout\": {\"annotationdefaults\": {\"arrowcolor\": \"#2a3f5f\", \"arrowhead\": 0, \"arrowwidth\": 1}, \"autotypenumbers\": \"strict\", \"coloraxis\": {\"colorbar\": {\"outlinewidth\": 0, \"ticks\": \"\"}}, \"colorscale\": {\"diverging\": [[0, \"#8e0152\"], [0.1, \"#c51b7d\"], [0.2, \"#de77ae\"], [0.3, \"#f1b6da\"], [0.4, \"#fde0ef\"], [0.5, \"#f7f7f7\"], [0.6, \"#e6f5d0\"], [0.7, \"#b8e186\"], [0.8, \"#7fbc41\"], [0.9, \"#4d9221\"], [1, \"#276419\"]], \"sequential\": [[0.0, \"#0d0887\"], [0.1111111111111111, \"#46039f\"], [0.2222222222222222, \"#7201a8\"], [0.3333333333333333, \"#9c179e\"], [0.4444444444444444, \"#bd3786\"], [0.5555555555555556, \"#d8576b\"], [0.6666666666666666, \"#ed7953\"], [0.7777777777777778, \"#fb9f3a\"], [0.8888888888888888, \"#fdca26\"], [1.0, \"#f0f921\"]], \"sequentialminus\": [[0.0, \"#0d0887\"], [0.1111111111111111, \"#46039f\"], [0.2222222222222222, \"#7201a8\"], [0.3333333333333333, \"#9c179e\"], [0.4444444444444444, \"#bd3786\"], [0.5555555555555556, \"#d8576b\"], [0.6666666666666666, \"#ed7953\"], [0.7777777777777778, \"#fb9f3a\"], [0.8888888888888888, \"#fdca26\"], [1.0, \"#f0f921\"]]}, \"colorway\": [\"#636efa\", \"#EF553B\", \"#00cc96\", \"#ab63fa\", \"#FFA15A\", \"#19d3f3\", \"#FF6692\", \"#B6E880\", \"#FF97FF\", \"#FECB52\"], \"font\": {\"color\": \"#2a3f5f\"}, \"geo\": {\"bgcolor\": \"white\", \"lakecolor\": \"white\", \"landcolor\": \"#E5ECF6\", \"showlakes\": true, \"showland\": true, \"subunitcolor\": \"white\"}, \"hoverlabel\": {\"align\": \"left\"}, \"hovermode\": \"closest\", \"mapbox\": {\"style\": \"light\"}, \"paper_bgcolor\": \"white\", \"plot_bgcolor\": \"#E5ECF6\", \"polar\": {\"angularaxis\": {\"gridcolor\": \"white\", \"linecolor\": \"white\", \"ticks\": \"\"}, \"bgcolor\": \"#E5ECF6\", \"radialaxis\": {\"gridcolor\": \"white\", \"linecolor\": \"white\", \"ticks\": \"\"}}, \"scene\": {\"xaxis\": {\"backgroundcolor\": \"#E5ECF6\", \"gridcolor\": \"white\", \"gridwidth\": 2, \"linecolor\": \"white\", \"showbackground\": true, \"ticks\": \"\", \"zerolinecolor\": \"white\"}, \"yaxis\": {\"backgroundcolor\": \"#E5ECF6\", \"gridcolor\": \"white\", \"gridwidth\": 2, \"linecolor\": \"white\", \"showbackground\": true, \"ticks\": \"\", \"zerolinecolor\": \"white\"}, \"zaxis\": {\"backgroundcolor\": \"#E5ECF6\", \"gridcolor\": \"white\", \"gridwidth\": 2, \"linecolor\": \"white\", \"showbackground\": true, \"ticks\": \"\", \"zerolinecolor\": \"white\"}}, \"shapedefaults\": {\"line\": {\"color\": \"#2a3f5f\"}}, \"ternary\": {\"aaxis\": {\"gridcolor\": \"white\", \"linecolor\": \"white\", \"ticks\": \"\"}, \"baxis\": {\"gridcolor\": \"white\", \"linecolor\": \"white\", \"ticks\": \"\"}, \"bgcolor\": \"#E5ECF6\", \"caxis\": {\"gridcolor\": \"white\", \"linecolor\": \"white\", \"ticks\": \"\"}}, \"title\": {\"x\": 0.05}, \"xaxis\": {\"automargin\": true, \"gridcolor\": \"white\", \"linecolor\": \"white\", \"ticks\": \"\", \"title\": {\"standoff\": 15}, \"zerolinecolor\": \"white\", \"zerolinewidth\": 2}, \"yaxis\": {\"automargin\": true, \"gridcolor\": \"white\", \"linecolor\": \"white\", \"ticks\": \"\", \"title\": {\"standoff\": 15}, \"zerolinecolor\": \"white\", \"zerolinewidth\": 2}}}, \"title\": {\"font\": {\"size\": 28}, \"text\": \"Suicide Rates per Country: 1990\", \"x\": 0.5, \"xanchor\": \"center\"}, \"updatemenus\": [{\"buttons\": [{\"args\": [null, {\"frame\": {\"duration\": 1000, \"redraw\": true}, \"transition\": {\"duration\": 250, \"easing\": \"linear\"}}], \"label\": \"Play\", \"method\": \"animate\"}], \"type\": \"buttons\"}], \"xaxis\": {\"autorange\": false, \"range\": [0, 60], \"title\": {\"font\": {\"size\": 18}, \"text\": \"suicide rate (deaths per 100,000)\"}}, \"yaxis\": {\"autorange\": false, \"range\": [-0.5, 5.5], \"tickfont\": {\"size\": 14}}},                        {\"responsive\": true}                    ).then(function(){\n",
       "                            Plotly.addFrames('c3896c07-2355-4a82-b75a-3fb0142d51cd', [{\"data\": [{\"marker\": {\"color\": [\"#FFCC99\", \"#C0C0C0\", \"#333399\", \"#FF6600\", \"#993366\"]}, \"orientation\": \"h\", \"text\": [15.45900286, 18.0396141, 20.20373436, 20.92354023, 40.83261926], \"x\": [15.45900286, 18.0396141, 20.20373436, 20.92354023, 40.83261926], \"y\": [\"Mongolia\", \"Laos\", \"India\", \"China\", \"Sri Lanka\"], \"type\": \"bar\"}], \"layout\": {\"title\": {\"font\": {\"size\": 28}, \"text\": \"Suicide Rates per Country: 1990\"}, \"xaxis\": {\"autorange\": false, \"range\": [0, 60]}, \"yaxis\": {\"autorange\": false, \"range\": [-0.5, 5.5], \"tickfont\": {\"size\": 14}}}}, {\"data\": [{\"marker\": {\"color\": [\"#FFCC99\", \"#C0C0C0\", \"#333399\", \"#FF6600\", \"#993366\"]}, \"orientation\": \"h\", \"text\": [16.21340363, 17.93086757, 20.2776083, 21.16653107, 37.92036571], \"x\": [16.21340363, 17.93086757, 20.2776083, 21.16653107, 37.92036571], \"y\": [\"Mongolia\", \"Laos\", \"India\", \"China\", \"Sri Lanka\"], \"type\": \"bar\"}], \"layout\": {\"title\": {\"font\": {\"size\": 28}, \"text\": \"Suicide Rates per Country: 1991\"}, \"xaxis\": {\"autorange\": false, \"range\": [0, 60]}, \"yaxis\": {\"autorange\": false, \"range\": [-0.5, 5.5], \"tickfont\": {\"size\": 14}}}}, {\"data\": [{\"marker\": {\"color\": [\"#C0C0C0\", \"#FFCC99\", \"#333399\", \"#FF6600\", \"#993366\"]}, \"orientation\": \"h\", \"text\": [17.725849, 18.11621741, 20.35507563, 21.34464345, 37.67094135], \"x\": [17.725849, 18.11621741, 20.35507563, 21.34464345, 37.67094135], \"y\": [\"Laos\", \"Mongolia\", \"India\", \"China\", \"Sri Lanka\"], \"type\": \"bar\"}], \"layout\": {\"title\": {\"font\": {\"size\": 28}, \"text\": \"Suicide Rates per Country: 1992\"}, \"xaxis\": {\"autorange\": false, \"range\": [0, 60]}, \"yaxis\": {\"autorange\": false, \"range\": [-0.5, 5.5], \"tickfont\": {\"size\": 14}}}}, {\"data\": [{\"marker\": {\"color\": [\"#C0C0C0\", \"#FFCC99\", \"#333399\", \"#FF6600\", \"#993366\"]}, \"orientation\": \"h\", \"text\": [17.50399467, 19.43246438, 19.7892849, 21.176004199999998, 36.82477302], \"x\": [17.50399467, 19.43246438, 19.7892849, 21.176004199999998, 36.82477302], \"y\": [\"Laos\", \"Mongolia\", \"India\", \"China\", \"Sri Lanka\"], \"type\": \"bar\"}], \"layout\": {\"title\": {\"font\": {\"size\": 28}, \"text\": \"Suicide Rates per Country: 1993\"}, \"xaxis\": {\"autorange\": false, \"range\": [0, 60]}, \"yaxis\": {\"autorange\": false, \"range\": [-0.5, 5.5], \"tickfont\": {\"size\": 14}}}}, {\"data\": [{\"marker\": {\"color\": [\"#C0C0C0\", \"#333399\", \"#FFCC99\", \"#FF6600\", \"#993366\"]}, \"orientation\": \"h\", \"text\": [17.25703695, 19.44339413, 20.25559342, 20.81882025, 38.63506358], \"x\": [17.25703695, 19.44339413, 20.25559342, 20.81882025, 38.63506358], \"y\": [\"Laos\", \"India\", \"Mongolia\", \"China\", \"Sri Lanka\"], \"type\": \"bar\"}], \"layout\": {\"title\": {\"font\": {\"size\": 28}, \"text\": \"Suicide Rates per Country: 1994\"}, \"xaxis\": {\"autorange\": false, \"range\": [0, 60]}, \"yaxis\": {\"autorange\": false, \"range\": [-0.5, 5.5], \"tickfont\": {\"size\": 14}}}}, {\"data\": [{\"marker\": {\"color\": [\"#800080\", \"#333399\", \"#FF6600\", \"#FFCC99\", \"#993366\"]}, \"orientation\": \"h\", \"text\": [17.37961065, 19.14461705, 20.35353836, 21.66817829, 41.36717825], \"x\": [17.37961065, 19.14461705, 20.35353836, 21.66817829, 41.36717825], \"y\": [\"Thailand\", \"India\", \"China\", \"Mongolia\", \"Sri Lanka\"], \"type\": \"bar\"}], \"layout\": {\"title\": {\"font\": {\"size\": 28}, \"text\": \"Suicide Rates per Country: 1995\"}, \"xaxis\": {\"autorange\": false, \"range\": [0, 60]}, \"yaxis\": {\"autorange\": false, \"range\": [-0.5, 5.5], \"tickfont\": {\"size\": 14}}}}, {\"data\": [{\"marker\": {\"color\": [\"#800080\", \"#333399\", \"#FF6600\", \"#FFCC99\", \"#993366\"]}, \"orientation\": \"h\", \"text\": [18.38800041, 18.85233219, 19.3547242, 22.10102855, 42.40503675], \"x\": [18.38800041, 18.85233219, 19.3547242, 22.10102855, 42.40503675], \"y\": [\"Thailand\", \"India\", \"China\", \"Mongolia\", \"Sri Lanka\"], \"type\": \"bar\"}], \"layout\": {\"title\": {\"font\": {\"size\": 28}, \"text\": \"Suicide Rates per Country: 1996\"}, \"xaxis\": {\"autorange\": false, \"range\": [0, 60]}, \"yaxis\": {\"autorange\": false, \"range\": [-0.5, 5.5], \"tickfont\": {\"size\": 14}}}}, {\"data\": [{\"marker\": {\"color\": [\"#800080\", \"#FF6600\", \"#333399\", \"#FFCC99\", \"#993366\"]}, \"orientation\": \"h\", \"text\": [16.94791379, 18.25292802, 19.44876965, 22.05798142, 44.77666001], \"x\": [16.94791379, 18.25292802, 19.44876965, 22.05798142, 44.77666001], \"y\": [\"Thailand\", \"China\", \"India\", \"Mongolia\", \"Sri Lanka\"], \"type\": \"bar\"}], \"layout\": {\"title\": {\"font\": {\"size\": 28}, \"text\": \"Suicide Rates per Country: 1997\"}, \"xaxis\": {\"autorange\": false, \"range\": [0, 60]}, \"yaxis\": {\"autorange\": false, \"range\": [-0.5, 5.5], \"tickfont\": {\"size\": 14}}}}, {\"data\": [{\"marker\": {\"color\": [\"#339966\", \"#FF6600\", \"#333399\", \"#FFCC99\", \"#993366\"]}, \"orientation\": \"h\", \"text\": [17.00210811, 17.13252987, 19.53216478, 21.3527236, 41.64311631], \"x\": [17.00210811, 17.13252987, 19.53216478, 21.3527236, 41.64311631], \"y\": [\"South Korea\", \"China\", \"India\", \"Mongolia\", \"Sri Lanka\"], \"type\": \"bar\"}], \"layout\": {\"title\": {\"font\": {\"size\": 28}, \"text\": \"Suicide Rates per Country: 1998\"}, \"xaxis\": {\"autorange\": false, \"range\": [0, 60]}, \"yaxis\": {\"autorange\": false, \"range\": [-0.5, 5.5], \"tickfont\": {\"size\": 14}}}}, {\"data\": [{\"marker\": {\"color\": [\"#800080\", \"#339966\", \"#333399\", \"#FFCC99\", \"#993366\"]}, \"orientation\": \"h\", \"text\": [17.35066527, 17.72470137, 19.80329975, 20.78551562, 40.55905456], \"x\": [17.35066527, 17.72470137, 19.80329975, 20.78551562, 40.55905456], \"y\": [\"Thailand\", \"South Korea\", \"India\", \"Mongolia\", \"Sri Lanka\"], \"type\": \"bar\"}], \"layout\": {\"title\": {\"font\": {\"size\": 28}, \"text\": \"Suicide Rates per Country: 1999\"}, \"xaxis\": {\"autorange\": false, \"range\": [0, 60]}, \"yaxis\": {\"autorange\": false, \"range\": [-0.5, 5.5], \"tickfont\": {\"size\": 14}}}}, {\"data\": [{\"marker\": {\"color\": [\"#800080\", \"#339966\", \"#333399\", \"#FFCC99\", \"#993366\"]}, \"orientation\": \"h\", \"text\": [16.78279118, 18.45064942, 19.724828, 20.74208426, 39.5348929], \"x\": [16.78279118, 18.45064942, 19.724828, 20.74208426, 39.5348929], \"y\": [\"Thailand\", \"South Korea\", \"India\", \"Mongolia\", \"Sri Lanka\"], \"type\": \"bar\"}], \"layout\": {\"title\": {\"font\": {\"size\": 28}, \"text\": \"Suicide Rates per Country: 2000\"}, \"xaxis\": {\"autorange\": false, \"range\": [0, 60]}, \"yaxis\": {\"autorange\": false, \"range\": [-0.5, 5.5], \"tickfont\": {\"size\": 14}}}}, {\"data\": [{\"marker\": {\"color\": [\"#800080\", \"#333399\", \"#339966\", \"#FFCC99\", \"#993366\"]}, \"orientation\": \"h\", \"text\": [15.49398285, 19.2070647, 19.55967029, 20.49644692, 35.674189500000004], \"x\": [15.49398285, 19.2070647, 19.55967029, 20.49644692, 35.674189500000004], \"y\": [\"Thailand\", \"India\", \"South Korea\", \"Mongolia\", \"Sri Lanka\"], \"type\": \"bar\"}], \"layout\": {\"title\": {\"font\": {\"size\": 28}, \"text\": \"Suicide Rates per Country: 2001\"}, \"xaxis\": {\"autorange\": false, \"range\": [0, 60]}, \"yaxis\": {\"autorange\": false, \"range\": [-0.5, 5.5], \"tickfont\": {\"size\": 14}}}}, {\"data\": [{\"marker\": {\"color\": [\"#008000\", \"#333399\", \"#FFCC99\", \"#339966\", \"#993366\"]}, \"orientation\": \"h\", \"text\": [15.38517228, 18.54118074, 20.33797195, 21.12958128, 32.86200448], \"x\": [15.38517228, 18.54118074, 20.33797195, 21.12958128, 32.86200448], \"y\": [\"Taiwan\", \"India\", \"Mongolia\", \"South Korea\", \"Sri Lanka\"], \"type\": \"bar\"}], \"layout\": {\"title\": {\"font\": {\"size\": 28}, \"text\": \"Suicide Rates per Country: 2002\"}, \"xaxis\": {\"autorange\": false, \"range\": [0, 60]}, \"yaxis\": {\"autorange\": false, \"range\": [-0.5, 5.5], \"tickfont\": {\"size\": 14}}}}, {\"data\": [{\"marker\": {\"color\": [\"#008000\", \"#333399\", \"#FFCC99\", \"#339966\", \"#993366\"]}, \"orientation\": \"h\", \"text\": [16.11859721, 17.76862469, 20.10891443, 23.02409031, 31.83120257], \"x\": [16.11859721, 17.76862469, 20.10891443, 23.02409031, 31.83120257], \"y\": [\"Taiwan\", \"India\", \"Mongolia\", \"South Korea\", \"Sri Lanka\"], \"type\": \"bar\"}], \"layout\": {\"title\": {\"font\": {\"size\": 28}, \"text\": \"Suicide Rates per Country: 2003\"}, \"xaxis\": {\"autorange\": false, \"range\": [0, 60]}, \"yaxis\": {\"autorange\": false, \"range\": [-0.5, 5.5], \"tickfont\": {\"size\": 14}}}}, {\"data\": [{\"marker\": {\"color\": [\"#008000\", \"#333399\", \"#FFCC99\", \"#339966\", \"#993366\"]}, \"orientation\": \"h\", \"text\": [17.068263199999997, 17.19984556, 20.27826865, 24.04338133, 30.00291395], \"x\": [17.068263199999997, 17.19984556, 20.27826865, 24.04338133, 30.00291395], \"y\": [\"Taiwan\", \"India\", \"Mongolia\", \"South Korea\", \"Sri Lanka\"], \"type\": \"bar\"}], \"layout\": {\"title\": {\"font\": {\"size\": 28}, \"text\": \"Suicide Rates per Country: 2004\"}, \"xaxis\": {\"autorange\": false, \"range\": [0, 60]}, \"yaxis\": {\"autorange\": false, \"range\": [-0.5, 5.5], \"tickfont\": {\"size\": 14}}}}, {\"data\": [{\"marker\": {\"color\": [\"#333399\", \"#008000\", \"#FFCC99\", \"#339966\", \"#993366\"]}, \"orientation\": \"h\", \"text\": [17.41189593, 18.233026199999998, 20.28742619, 24.73347523, 28.88799469], \"x\": [17.41189593, 18.233026199999998, 20.28742619, 24.73347523, 28.88799469], \"y\": [\"India\", \"Taiwan\", \"Mongolia\", \"South Korea\", \"Sri Lanka\"], \"type\": \"bar\"}], \"layout\": {\"title\": {\"font\": {\"size\": 28}, \"text\": \"Suicide Rates per Country: 2005\"}, \"xaxis\": {\"autorange\": false, \"range\": [0, 60]}, \"yaxis\": {\"autorange\": false, \"range\": [-0.5, 5.5], \"tickfont\": {\"size\": 14}}}}, {\"data\": [{\"marker\": {\"color\": [\"#333399\", \"#008000\", \"#FFCC99\", \"#339966\", \"#993366\"]}, \"orientation\": \"h\", \"text\": [17.19528285, 18.01470992, 19.80528272, 24.71202091, 26.64207134], \"x\": [17.19528285, 18.01470992, 19.80528272, 24.71202091, 26.64207134], \"y\": [\"India\", \"Taiwan\", \"Mongolia\", \"South Korea\", \"Sri Lanka\"], \"type\": \"bar\"}], \"layout\": {\"title\": {\"font\": {\"size\": 28}, \"text\": \"Suicide Rates per Country: 2006\"}, \"xaxis\": {\"autorange\": false, \"range\": [0, 60]}, \"yaxis\": {\"autorange\": false, \"range\": [-0.5, 5.5], \"tickfont\": {\"size\": 14}}}}, {\"data\": [{\"marker\": {\"color\": [\"#333399\", \"#008000\", \"#FFCC99\", \"#993366\", \"#339966\"]}, \"orientation\": \"h\", \"text\": [16.91934868, 17.28011316, 19.0439052, 25.48580481, 25.61990207], \"x\": [16.91934868, 17.28011316, 19.0439052, 25.48580481, 25.61990207], \"y\": [\"India\", \"Taiwan\", \"Mongolia\", \"Sri Lanka\", \"South Korea\"], \"type\": \"bar\"}], \"layout\": {\"title\": {\"font\": {\"size\": 28}, \"text\": \"Suicide Rates per Country: 2007\"}, \"xaxis\": {\"autorange\": false, \"range\": [0, 60]}, \"yaxis\": {\"autorange\": false, \"range\": [-0.5, 5.5], \"tickfont\": {\"size\": 14}}}}, {\"data\": [{\"marker\": {\"color\": [\"#008000\", \"#333399\", \"#FFCC99\", \"#993366\", \"#339966\"]}, \"orientation\": \"h\", \"text\": [16.61363789, 16.95242305, 17.98368008, 24.56795495, 26.55802323], \"x\": [16.61363789, 16.95242305, 17.98368008, 24.56795495, 26.55802323], \"y\": [\"Taiwan\", \"India\", \"Mongolia\", \"Sri Lanka\", \"South Korea\"], \"type\": \"bar\"}], \"layout\": {\"title\": {\"font\": {\"size\": 28}, \"text\": \"Suicide Rates per Country: 2008\"}, \"xaxis\": {\"autorange\": false, \"range\": [0, 60]}, \"yaxis\": {\"autorange\": false, \"range\": [-0.5, 5.5], \"tickfont\": {\"size\": 14}}}}, {\"data\": [{\"marker\": {\"color\": [\"#008000\", \"#333399\", \"#FFCC99\", \"#993366\", \"#339966\"]}, \"orientation\": \"h\", \"text\": [15.77075073, 17.11830359, 17.56104435, 22.17638176, 27.64088972], \"x\": [15.77075073, 17.11830359, 17.56104435, 22.17638176, 27.64088972], \"y\": [\"Taiwan\", \"India\", \"Mongolia\", \"Sri Lanka\", \"South Korea\"], \"type\": \"bar\"}], \"layout\": {\"title\": {\"font\": {\"size\": 28}, \"text\": \"Suicide Rates per Country: 2009\"}, \"xaxis\": {\"autorange\": false, \"range\": [0, 60]}, \"yaxis\": {\"autorange\": false, \"range\": [-0.5, 5.5], \"tickfont\": {\"size\": 14}}}}, {\"data\": [{\"marker\": {\"color\": [\"#008000\", \"#333399\", \"#FFCC99\", \"#993366\", \"#339966\"]}, \"orientation\": \"h\", \"text\": [15.10192924, 17.29007824, 17.47477038, 21.03126878, 27.8075663], \"x\": [15.10192924, 17.29007824, 17.47477038, 21.03126878, 27.8075663], \"y\": [\"Taiwan\", \"India\", \"Mongolia\", \"Sri Lanka\", \"South Korea\"], \"type\": \"bar\"}], \"layout\": {\"title\": {\"font\": {\"size\": 28}, \"text\": \"Suicide Rates per Country: 2010\"}, \"xaxis\": {\"autorange\": false, \"range\": [0, 60]}, \"yaxis\": {\"autorange\": false, \"range\": [-0.5, 5.5], \"tickfont\": {\"size\": 14}}}}, {\"data\": [{\"marker\": {\"color\": [\"#008000\", \"#FFCC99\", \"#333399\", \"#993366\", \"#339966\"]}, \"orientation\": \"h\", \"text\": [15.09201417, 17.13495399, 17.45907339, 21.31421116, 27.24035292], \"x\": [15.09201417, 17.13495399, 17.45907339, 21.31421116, 27.24035292], \"y\": [\"Taiwan\", \"Mongolia\", \"India\", \"Sri Lanka\", \"South Korea\"], \"type\": \"bar\"}], \"layout\": {\"title\": {\"font\": {\"size\": 28}, \"text\": \"Suicide Rates per Country: 2011\"}, \"xaxis\": {\"autorange\": false, \"range\": [0, 60]}, \"yaxis\": {\"autorange\": false, \"range\": [-0.5, 5.5], \"tickfont\": {\"size\": 14}}}}, {\"data\": [{\"marker\": {\"color\": [\"#008000\", \"#FFCC99\", \"#333399\", \"#993366\", \"#339966\"]}, \"orientation\": \"h\", \"text\": [14.52384705, 16.86263528, 17.041459600000003, 21.0068221, 26.03645798], \"x\": [14.52384705, 16.86263528, 17.041459600000003, 21.0068221, 26.03645798], \"y\": [\"Taiwan\", \"Mongolia\", \"India\", \"Sri Lanka\", \"South Korea\"], \"type\": \"bar\"}], \"layout\": {\"title\": {\"font\": {\"size\": 28}, \"text\": \"Suicide Rates per Country: 2012\"}, \"xaxis\": {\"autorange\": false, \"range\": [0, 60]}, \"yaxis\": {\"autorange\": false, \"range\": [-0.5, 5.5], \"tickfont\": {\"size\": 14}}}}, {\"data\": [{\"marker\": {\"color\": [\"#008000\", \"#FFCC99\", \"#333399\", \"#993366\", \"#339966\"]}, \"orientation\": \"h\", \"text\": [13.68962324, 16.36203236, 16.56142617, 20.11614307, 24.83892538], \"x\": [13.68962324, 16.36203236, 16.56142617, 20.11614307, 24.83892538], \"y\": [\"Taiwan\", \"Mongolia\", \"India\", \"Sri Lanka\", \"South Korea\"], \"type\": \"bar\"}], \"layout\": {\"title\": {\"font\": {\"size\": 28}, \"text\": \"Suicide Rates per Country: 2013\"}, \"xaxis\": {\"autorange\": false, \"range\": [0, 60]}, \"yaxis\": {\"autorange\": false, \"range\": [-0.5, 5.5], \"tickfont\": {\"size\": 14}}}}, {\"data\": [{\"marker\": {\"color\": [\"#008000\", \"#FFCC99\", \"#333399\", \"#993366\", \"#339966\"]}, \"orientation\": \"h\", \"text\": [13.61588313, 15.89197967, 16.28727736, 20.15473714, 23.51897906], \"x\": [13.61588313, 15.89197967, 16.28727736, 20.15473714, 23.51897906], \"y\": [\"Taiwan\", \"Mongolia\", \"India\", \"Sri Lanka\", \"South Korea\"], \"type\": \"bar\"}], \"layout\": {\"title\": {\"font\": {\"size\": 28}, \"text\": \"Suicide Rates per Country: 2014\"}, \"xaxis\": {\"autorange\": false, \"range\": [0, 60]}, \"yaxis\": {\"autorange\": false, \"range\": [-0.5, 5.5], \"tickfont\": {\"size\": 14}}}}, {\"data\": [{\"marker\": {\"color\": [\"#008000\", \"#333399\", \"#FFCC99\", \"#993366\", \"#339966\"]}, \"orientation\": \"h\", \"text\": [13.18056348, 15.70522051, 15.80153732, 20.02788347, 22.38901605], \"x\": [13.18056348, 15.70522051, 15.80153732, 20.02788347, 22.38901605], \"y\": [\"Taiwan\", \"India\", \"Mongolia\", \"Sri Lanka\", \"South Korea\"], \"type\": \"bar\"}], \"layout\": {\"title\": {\"font\": {\"size\": 28}, \"text\": \"Suicide Rates per Country: 2015\"}, \"xaxis\": {\"autorange\": false, \"range\": [0, 60]}, \"yaxis\": {\"autorange\": false, \"range\": [-0.5, 5.5], \"tickfont\": {\"size\": 14}}}}, {\"data\": [{\"marker\": {\"color\": [\"#008000\", \"#FFCC99\", \"#333399\", \"#993366\", \"#339966\"]}, \"orientation\": \"h\", \"text\": [13.39808814, 15.510453699999998, 15.73827567, 19.95052735, 21.22913702], \"x\": [13.39808814, 15.510453699999998, 15.73827567, 19.95052735, 21.22913702], \"y\": [\"Taiwan\", \"Mongolia\", \"India\", \"Sri Lanka\", \"South Korea\"], \"type\": \"bar\"}], \"layout\": {\"title\": {\"font\": {\"size\": 28}, \"text\": \"Suicide Rates per Country: 2016\"}, \"xaxis\": {\"autorange\": false, \"range\": [0, 60]}, \"yaxis\": {\"autorange\": false, \"range\": [-0.5, 5.5], \"tickfont\": {\"size\": 14}}}}, {\"data\": [{\"marker\": {\"color\": [\"#008000\", \"#FFCC99\", \"#333399\", \"#993366\", \"#339966\"]}, \"orientation\": \"h\", \"text\": [13.52431332, 15.35814334, 15.59784439, 19.80041876, 20.80566027], \"x\": [13.52431332, 15.35814334, 15.59784439, 19.80041876, 20.80566027], \"y\": [\"Taiwan\", \"Mongolia\", \"India\", \"Sri Lanka\", \"South Korea\"], \"type\": \"bar\"}], \"layout\": {\"title\": {\"font\": {\"size\": 28}, \"text\": \"Suicide Rates per Country: 2017\"}, \"xaxis\": {\"autorange\": false, \"range\": [0, 60]}, \"yaxis\": {\"autorange\": false, \"range\": [-0.5, 5.5], \"tickfont\": {\"size\": 14}}}}]);\n",
       "                        }).then(function(){\n",
       "                            \n",
       "var gd = document.getElementById('c3896c07-2355-4a82-b75a-3fb0142d51cd');\n",
       "var x = new MutationObserver(function (mutations, observer) {{\n",
       "        var display = window.getComputedStyle(gd).display;\n",
       "        if (!display || display === 'none') {{\n",
       "            console.log([gd, 'removed!']);\n",
       "            Plotly.purge(gd);\n",
       "            observer.disconnect();\n",
       "        }}\n",
       "}});\n",
       "\n",
       "// Listen for the removal of the full notebook cells\n",
       "var notebookContainer = gd.closest('#notebook-container');\n",
       "if (notebookContainer) {{\n",
       "    x.observe(notebookContainer, {childList: true});\n",
       "}}\n",
       "\n",
       "// Listen for the clearing of the current output cell\n",
       "var outputEl = gd.closest('.output');\n",
       "if (outputEl) {{\n",
       "    x.observe(outputEl, {childList: true});\n",
       "}}\n",
       "\n",
       "                        })                };                });            </script>        </div>"
      ]
     },
     "metadata": {},
     "output_type": "display_data"
    }
   ],
   "source": [
    "pio.show(fig)"
   ]
  },
  {
   "cell_type": "code",
   "execution_count": null,
   "metadata": {},
   "outputs": [],
   "source": []
  }
 ],
 "metadata": {
  "kernelspec": {
   "display_name": "Python 3",
   "language": "python",
   "name": "python3"
  },
  "language_info": {
   "codemirror_mode": {
    "name": "ipython",
    "version": 3
   },
   "file_extension": ".py",
   "mimetype": "text/x-python",
   "name": "python",
   "nbconvert_exporter": "python",
   "pygments_lexer": "ipython3",
   "version": "3.7.7"
  }
 },
 "nbformat": 4,
 "nbformat_minor": 4
}
