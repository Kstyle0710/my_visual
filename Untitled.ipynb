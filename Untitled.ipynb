{
 "cells": [
  {
   "cell_type": "code",
   "execution_count": 1,
   "metadata": {},
   "outputs": [
    {
     "ename": "SyntaxError",
     "evalue": "invalid syntax (<ipython-input-1-4a87dbfb4911>, line 1)",
     "output_type": "error",
     "traceback": [
      "\u001b[1;36m  File \u001b[1;32m\"<ipython-input-1-4a87dbfb4911>\"\u001b[1;36m, line \u001b[1;32m1\u001b[0m\n\u001b[1;33m    pk.eyJ1Ijoia3N0eWxlMDcxMCIsImEiOiJja2lwa3ZvM2gwNW1oMnRscmpnd3h3eHc2In0._8EKxsQhiot3haFfX5J-0A\u001b[0m\n\u001b[1;37m                                                                                                ^\u001b[0m\n\u001b[1;31mSyntaxError\u001b[0m\u001b[1;31m:\u001b[0m invalid syntax\n"
     ]
    }
   ],
   "source": [
    "pk.eyJ1Ijoia3N0eWxlMDcxMCIsImEiOiJja2lwa3ZvM2gwNW1oMnRscmpnd3h3eHc2In0._8EKxsQhiot3haFfX5J-0A"
   ]
  },
  {
   "cell_type": "code",
   "execution_count": null,
   "metadata": {},
   "outputs": [],
   "source": []
  }
 ],
 "metadata": {
  "kernelspec": {
   "display_name": "Python 3",
   "language": "python",
   "name": "python3"
  }
 },
 "nbformat": 4,
 "nbformat_minor": 4
}
