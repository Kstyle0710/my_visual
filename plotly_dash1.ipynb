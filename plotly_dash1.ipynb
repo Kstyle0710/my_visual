{
 "cells": [
  {
   "cell_type": "code",
   "execution_count": 13,
   "metadata": {},
   "outputs": [
    {
     "name": "stdout",
     "output_type": "stream",
     "text": [
      "Requirement already satisfied: dash_core_components in c:\\users\\jongb\\anaconda3\\envs\\py37_64\\lib\\site-packages (1.14.1)\n"
     ]
    }
   ],
   "source": [
    "# ! pip install dash\n",
    "# ! pip install dash-renderer\n",
    "# ! pip install dash_html_components\n",
    "# ! pip install dash_core_components"
   ]
  },
  {
   "cell_type": "code",
   "execution_count": 14,
   "metadata": {},
   "outputs": [],
   "source": [
    "import dash\n",
    "import dash_html_components as html\n",
    "import dash_core_components as dcc"
   ]
  },
  {
   "cell_type": "code",
   "execution_count": 15,
   "metadata": {},
   "outputs": [],
   "source": [
    "app = dash.Dash()"
   ]
  },
  {
   "cell_type": "code",
   "execution_count": 30,
   "metadata": {},
   "outputs": [],
   "source": [
    "app.layout = html.Div([\n",
    "#     html.H1('Hello Dash!'),\n",
    "    html.H1(children = 'Hello Dash!',\n",
    "           style = {\n",
    "               'textAlign':'center',\n",
    "               'color':'#c0392b'\n",
    "           }),\n",
    "#     html.Div(\"Dash - A Data product development framework from plotly\"),\n",
    "    html.Div(children =\"Dash - A Data product development framework from plotly\",\n",
    "            style = {\n",
    "               'textAlign':'center',\n",
    "               'color':'#27ae60'\n",
    "            }),\n",
    "    \n",
    "\n",
    "    \n",
    "    dcc.Graph(\n",
    "        id = 'sample',\n",
    "        figure = {\n",
    "            'data' : [\n",
    "                {'x' : [5, 6, 7], 'y' :[12, 15, 20],\n",
    "                 'type' : 'bar', 'name' : 'first chart'},\n",
    "                {'x' : [5, 6, 7], 'y' :[21, 25, 30],\n",
    "                 'type' : 'bar', 'name' : 'second chart'}\n",
    "            ],\n",
    "            'layout' : {\n",
    "                'plot_bgcolor':'#DCDCDC',   # 차트 영역의 배경 색깔 설정\n",
    "                'paper_bgcolor':'#FFF8DC',  # 차트 바깥 영역의 배경 색깔 설정\n",
    "                'font':{                  \n",
    "                    'color': '#8e44ad'      # 차트 내 글자 색깔 설정\n",
    "                },\n",
    "                'title':'Simple Bar Chart'\n",
    "                }\n",
    "            }\n",
    "    )\n",
    "])"
   ]
  },
  {
   "cell_type": "code",
   "execution_count": 29,
   "metadata": {},
   "outputs": [
    {
     "name": "stdout",
     "output_type": "stream",
     "text": [
      "Dash is running on http://127.0.0.1:4020/\n",
      "\n",
      "Dash is running on http://127.0.0.1:4020/\n",
      "\n",
      "Dash is running on http://127.0.0.1:4020/\n",
      "\n",
      " * Serving Flask app \"__main__\" (lazy loading)\n",
      " * Environment: production\n",
      "   WARNING: This is a development server. Do not use it in a production deployment.\n",
      "   Use a production WSGI server instead.\n",
      " * Debug mode: off\n"
     ]
    },
    {
     "name": "stderr",
     "output_type": "stream",
     "text": [
      " * Running on http://127.0.0.1:4020/ (Press CTRL+C to quit)\n",
      "127.0.0.1 - - [20/Dec/2020 11:06:34] \"\u001b[37mGET / HTTP/1.1\u001b[0m\" 200 -\n",
      "127.0.0.1 - - [20/Dec/2020 11:06:35] \"\u001b[37mGET /_dash-dependencies HTTP/1.1\u001b[0m\" 200 -\n",
      "127.0.0.1 - - [20/Dec/2020 11:06:35] \"\u001b[37mGET /_dash-layout HTTP/1.1\u001b[0m\" 200 -\n",
      "127.0.0.1 - - [20/Dec/2020 11:06:35] \"\u001b[37mGET /_favicon.ico?v=1.18.1 HTTP/1.1\u001b[0m\" 200 -\n",
      "127.0.0.1 - - [20/Dec/2020 11:07:43] \"\u001b[37mGET / HTTP/1.1\u001b[0m\" 200 -\n",
      "127.0.0.1 - - [20/Dec/2020 11:07:43] \"\u001b[37mGET /_dash-layout HTTP/1.1\u001b[0m\" 200 -\n",
      "127.0.0.1 - - [20/Dec/2020 11:07:43] \"\u001b[37mGET /_dash-dependencies HTTP/1.1\u001b[0m\" 200 -\n",
      "127.0.0.1 - - [20/Dec/2020 11:07:43] \"\u001b[37mGET /_favicon.ico?v=1.18.1 HTTP/1.1\u001b[0m\" 200 -\n"
     ]
    }
   ],
   "source": [
    "if __name__ == '__main__':\n",
    "    app.run_server(port = 4020)"
   ]
  },
  {
   "cell_type": "code",
   "execution_count": null,
   "metadata": {},
   "outputs": [],
   "source": []
  },
  {
   "cell_type": "code",
   "execution_count": null,
   "metadata": {},
   "outputs": [],
   "source": []
  }
 ],
 "metadata": {
  "kernelspec": {
   "display_name": "Python 3",
   "language": "python",
   "name": "python3"
  },
  "language_info": {
   "codemirror_mode": {
    "name": "ipython",
    "version": 3
   },
   "file_extension": ".py",
   "mimetype": "text/x-python",
   "name": "python",
   "nbconvert_exporter": "python",
   "pygments_lexer": "ipython3",
   "version": "3.7.7"
  }
 },
 "nbformat": 4,
 "nbformat_minor": 4
}
