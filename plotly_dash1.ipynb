{
 "cells": [
  {
   "cell_type": "code",
   "execution_count": 13,
   "metadata": {},
   "outputs": [
    {
     "name": "stdout",
     "output_type": "stream",
     "text": [
      "Requirement already satisfied: dash_core_components in c:\\users\\jongb\\anaconda3\\envs\\py37_64\\lib\\site-packages (1.14.1)\n"
     ]
    }
   ],
   "source": [
    "# ! pip install dash\n",
    "# ! pip install dash-renderer\n",
    "# ! pip install dash_html_components\n",
    "# ! pip install dash_core_components"
   ]
  },
  {
   "cell_type": "code",
   "execution_count": 14,
   "metadata": {},
   "outputs": [],
   "source": [
    "import dash\n",
    "import dash_html_components as html\n",
    "import dash_core_components as dcc"
   ]
  },
  {
   "cell_type": "code",
   "execution_count": 15,
   "metadata": {},
   "outputs": [],
   "source": [
    "app = dash.Dash()"
   ]
  },
  {
   "cell_type": "code",
   "execution_count": 18,
   "metadata": {},
   "outputs": [],
   "source": [
    "app.layout = html.Div([\n",
    "    html.H1('Hello Dash!'),\n",
    "    html.Div(\"Dash - A Data product development framework from plotly\"),\n",
    "    \n",
    "    \n",
    "    dcc.Graph(\n",
    "        id = 'sample',\n",
    "        figure = {\n",
    "            'data' : [\n",
    "                {'x' : [5, 6, 7], 'y' :[12, 15, 20],\n",
    "                 'type' : 'bar', 'name' : 'first chart'},\n",
    "                {'x' : [5, 6, 7], 'y' :[21, 25, 30],\n",
    "                 'type' : 'bar', 'name' : 'second chart'}\n",
    "            ],\n",
    "            'layout' : {\n",
    "                'title':'Simple Bar Chart'\n",
    "                }\n",
    "            }\n",
    "    )\n",
    "])"
   ]
  },
  {
   "cell_type": "code",
   "execution_count": null,
   "metadata": {},
   "outputs": [
    {
     "name": "stdout",
     "output_type": "stream",
     "text": [
      "Dash is running on http://127.0.0.1:4020/\n",
      "\n",
      "Dash is running on http://127.0.0.1:4020/\n",
      "\n",
      "Dash is running on http://127.0.0.1:4020/\n",
      "\n",
      " * Serving Flask app \"__main__\" (lazy loading)\n",
      " * Environment: production\n",
      "   WARNING: This is a development server. Do not use it in a production deployment.\n",
      "   Use a production WSGI server instead.\n",
      " * Debug mode: off\n"
     ]
    },
    {
     "name": "stderr",
     "output_type": "stream",
     "text": [
      " * Running on http://127.0.0.1:4020/ (Press CTRL+C to quit)\n",
      "127.0.0.1 - - [20/Dec/2020 10:48:05] \"\u001b[37mGET / HTTP/1.1\u001b[0m\" 200 -\n",
      "127.0.0.1 - - [20/Dec/2020 10:48:05] \"\u001b[37mGET /_dash-layout HTTP/1.1\u001b[0m\" 200 -\n",
      "127.0.0.1 - - [20/Dec/2020 10:48:05] \"\u001b[37mGET /_dash-dependencies HTTP/1.1\u001b[0m\" 200 -\n",
      "--- Logging error ---\n",
      "Traceback (most recent call last):\n",
      "  File \"c:\\users\\jongb\\anaconda3\\envs\\py37_64\\lib\\site-packages\\ipykernel\\iostream.py\", line 95, in _event_pipe\n",
      "    event_pipe = self._local.event_pipe\n",
      "AttributeError: '_thread._local' object has no attribute 'event_pipe'\n",
      "\n",
      "During handling of the above exception, another exception occurred:\n",
      "\n",
      "Traceback (most recent call last):\n",
      "  File \"c:\\users\\jongb\\anaconda3\\envs\\py37_64\\lib\\logging\\__init__.py\", line 1028, in emit\n",
      "    stream.write(msg + self.terminator)\n",
      "  File \"c:\\users\\jongb\\anaconda3\\envs\\py37_64\\lib\\site-packages\\ipykernel\\iostream.py\", line 402, in write\n",
      "    self.pub_thread.schedule(lambda : self._buffer.write(string))\n",
      "  File \"c:\\users\\jongb\\anaconda3\\envs\\py37_64\\lib\\site-packages\\ipykernel\\iostream.py\", line 203, in schedule\n",
      "    self._event_pipe.send(b'')\n",
      "  File \"c:\\users\\jongb\\anaconda3\\envs\\py37_64\\lib\\site-packages\\ipykernel\\iostream.py\", line 99, in _event_pipe\n",
      "    event_pipe = ctx.socket(zmq.PUSH)\n",
      "  File \"c:\\users\\jongb\\anaconda3\\envs\\py37_64\\lib\\site-packages\\zmq\\sugar\\context.py\", line 226, in socket\n",
      "    s = self._socket_class(self, socket_type, **kwargs)\n",
      "  File \"c:\\users\\jongb\\anaconda3\\envs\\py37_64\\lib\\site-packages\\zmq\\sugar\\socket.py\", line 60, in __init__\n",
      "    super(Socket, self).__init__(*a, **kw)\n",
      "  File \"zmq\\backend\\cython\\socket.pyx\", line 328, in zmq.backend.cython.socket.Socket.__init__\n",
      "zmq.error.ZMQError: Permission denied\n",
      "Call stack:\n",
      "  File \"c:\\users\\jongb\\anaconda3\\envs\\py37_64\\lib\\threading.py\", line 890, in _bootstrap\n",
      "    self._bootstrap_inner()\n",
      "  File \"c:\\users\\jongb\\anaconda3\\envs\\py37_64\\lib\\threading.py\", line 926, in _bootstrap_inner\n",
      "    self.run()\n",
      "  File \"c:\\users\\jongb\\anaconda3\\envs\\py37_64\\lib\\threading.py\", line 870, in run\n",
      "    self._target(*self._args, **self._kwargs)\n",
      "  File \"c:\\users\\jongb\\anaconda3\\envs\\py37_64\\lib\\socketserver.py\", line 650, in process_request_thread\n",
      "    self.finish_request(request, client_address)\n",
      "  File \"c:\\users\\jongb\\anaconda3\\envs\\py37_64\\lib\\socketserver.py\", line 360, in finish_request\n",
      "    self.RequestHandlerClass(request, client_address, self)\n",
      "  File \"c:\\users\\jongb\\anaconda3\\envs\\py37_64\\lib\\socketserver.py\", line 720, in __init__\n",
      "    self.handle()\n",
      "  File \"c:\\users\\jongb\\anaconda3\\envs\\py37_64\\lib\\site-packages\\werkzeug\\serving.py\", line 345, in handle\n",
      "    BaseHTTPRequestHandler.handle(self)\n",
      "  File \"c:\\users\\jongb\\anaconda3\\envs\\py37_64\\lib\\http\\server.py\", line 426, in handle\n",
      "    self.handle_one_request()\n",
      "  File \"c:\\users\\jongb\\anaconda3\\envs\\py37_64\\lib\\site-packages\\werkzeug\\serving.py\", line 379, in handle_one_request\n",
      "    return self.run_wsgi()\n",
      "  File \"c:\\users\\jongb\\anaconda3\\envs\\py37_64\\lib\\site-packages\\werkzeug\\serving.py\", line 323, in run_wsgi\n",
      "    execute(self.server.app)\n",
      "  File \"c:\\users\\jongb\\anaconda3\\envs\\py37_64\\lib\\site-packages\\werkzeug\\serving.py\", line 315, in execute\n",
      "    write(data)\n",
      "  File \"c:\\users\\jongb\\anaconda3\\envs\\py37_64\\lib\\site-packages\\werkzeug\\serving.py\", line 273, in write\n",
      "    self.send_response(code, msg)\n",
      "  File \"c:\\users\\jongb\\anaconda3\\envs\\py37_64\\lib\\site-packages\\werkzeug\\serving.py\", line 383, in send_response\n",
      "    self.log_request(code)\n",
      "  File \"c:\\users\\jongb\\anaconda3\\envs\\py37_64\\lib\\site-packages\\werkzeug\\serving.py\", line 434, in log_request\n",
      "    self.log(\"info\", '\"%s\" %s %s', msg, code, size)\n",
      "  File \"c:\\users\\jongb\\anaconda3\\envs\\py37_64\\lib\\site-packages\\werkzeug\\serving.py\", line 446, in log\n",
      "    % (self.address_string(), self.log_date_time_string(), message % args),\n",
      "  File \"c:\\users\\jongb\\anaconda3\\envs\\py37_64\\lib\\site-packages\\werkzeug\\_internal.py\", line 113, in _log\n",
      "    getattr(_logger, type)(message.rstrip(), *args, **kwargs)\n",
      "Message: '127.0.0.1 - - [20/Dec/2020 10:48:05] \"\\x1b[37mGET /_dash-dependencies HTTP/1.1\\x1b[0m\" 200 -'\n",
      "Arguments: ()\n",
      "127.0.0.1 - - [20/Dec/2020 10:48:05] \"\u001b[37mGET /_dash-component-suites/dash_core_components/async-graph.v1_14_1m1607534654.js HTTP/1.1\u001b[0m\" 200 -\n",
      "127.0.0.1 - - [20/Dec/2020 10:48:06] \"\u001b[37mGET /_dash-component-suites/dash_core_components/async-plotlyjs.v1_14_1m1607534654.js HTTP/1.1\u001b[0m\" 200 -\n",
      "127.0.0.1 - - [20/Dec/2020 10:49:40] \"\u001b[37mGET / HTTP/1.1\u001b[0m\" 200 -\n",
      "127.0.0.1 - - [20/Dec/2020 10:49:41] \"\u001b[37mGET /_dash-layout HTTP/1.1\u001b[0m\" 200 -\n",
      "127.0.0.1 - - [20/Dec/2020 10:49:41] \"\u001b[37mGET /_dash-dependencies HTTP/1.1\u001b[0m\" 200 -\n",
      "127.0.0.1 - - [20/Dec/2020 10:49:59] \"\u001b[37mGET / HTTP/1.1\u001b[0m\" 200 -\n",
      "127.0.0.1 - - [20/Dec/2020 10:49:59] \"\u001b[37mGET /_dash-layout HTTP/1.1\u001b[0m\" 200 -\n",
      "127.0.0.1 - - [20/Dec/2020 10:49:59] \"\u001b[37mGET /_dash-dependencies HTTP/1.1\u001b[0m\" 200 -\n"
     ]
    }
   ],
   "source": [
    "if __name__ == '__main__':\n",
    "    app.run_server(port = 4020)"
   ]
  },
  {
   "cell_type": "code",
   "execution_count": null,
   "metadata": {},
   "outputs": [],
   "source": []
  },
  {
   "cell_type": "code",
   "execution_count": null,
   "metadata": {},
   "outputs": [],
   "source": []
  }
 ],
 "metadata": {
  "kernelspec": {
   "display_name": "Python 3",
   "language": "python",
   "name": "python3"
  },
  "language_info": {
   "codemirror_mode": {
    "name": "ipython",
    "version": 3
   },
   "file_extension": ".py",
   "mimetype": "text/x-python",
   "name": "python",
   "nbconvert_exporter": "python",
   "pygments_lexer": "ipython3",
   "version": "3.7.7"
  }
 },
 "nbformat": 4,
 "nbformat_minor": 4
}
