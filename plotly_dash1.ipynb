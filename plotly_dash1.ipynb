{
 "cells": [
  {
   "cell_type": "code",
   "execution_count": 13,
   "metadata": {},
   "outputs": [
    {
     "name": "stdout",
     "output_type": "stream",
     "text": [
      "Requirement already satisfied: dash_core_components in c:\\users\\jongb\\anaconda3\\envs\\py37_64\\lib\\site-packages (1.14.1)\n"
     ]
    }
   ],
   "source": [
    "# ! pip install dash\n",
    "# ! pip install dash-renderer\n",
    "# ! pip install dash_html_components\n",
    "# ! pip install dash_core_components"
   ]
  },
  {
   "cell_type": "code",
   "execution_count": 14,
   "metadata": {},
   "outputs": [],
   "source": [
    "import dash\n",
    "import dash_html_components as html\n",
    "import dash_core_components as dcc"
   ]
  },
  {
   "cell_type": "code",
   "execution_count": 33,
   "metadata": {},
   "outputs": [],
   "source": [
    "app = dash.Dash()"
   ]
  },
  {
   "cell_type": "code",
   "execution_count": 38,
   "metadata": {},
   "outputs": [],
   "source": [
    "# 딕셔너리를 통한 컬러 변수화\n",
    "colors = {\n",
    "    'text':'#c0392b',\n",
    "    'plot_bgcolor':'#DCDCDC',\n",
    "    'paper_bgcolor':'#FFF8DC'\n",
    "}"
   ]
  },
  {
   "cell_type": "markdown",
   "metadata": {},
   "source": [
    "### Bar Chart"
   ]
  },
  {
   "cell_type": "code",
   "execution_count": 39,
   "metadata": {},
   "outputs": [],
   "source": [
    "# app.layout = html.Div([\n",
    "#     html.H1(children = 'Hello Dash!',\n",
    "#            style = {\n",
    "#                'textAlign':'center',\n",
    "#                'color':colors['text']\n",
    "#            }),\n",
    "#     html.Div(children =\"Dash - A Data product development framework from plotly\",\n",
    "#             style = {\n",
    "#                'textAlign':'center',\n",
    "#                'color':'#27ae60'\n",
    "#             }),\n",
    "    \n",
    "\n",
    "    \n",
    "#     dcc.Graph(\n",
    "#         id = 'sample',\n",
    "#         figure = {\n",
    "#             'data' : [\n",
    "#                 {'x' : [5, 6, 7], 'y' :[12, 15, 20],\n",
    "#                  'type' : 'bar', 'name' : 'first chart'},\n",
    "#                 {'x' : [5, 6, 7], 'y' :[21, 25, 30],\n",
    "#                  'type' : 'bar', 'name' : 'second chart'}\n",
    "#             ],\n",
    "#             'layout' : {\n",
    "#                 'plot_bgcolor':colors['plot_bgcolor'],   # 차트 영역의 배경 색깔 설정\n",
    "#                 'paper_bgcolor':colors['paper_bgcolor'],  # 차트 바깥 영역의 배경 색깔 설정\n",
    "#                 'font':{                  \n",
    "#                     'color': colors['text']      # 차트 내 글자 색깔 설정\n",
    "#                 },\n",
    "#                 'title':'Simple Bar Chart'\n",
    "#                 }\n",
    "#             }\n",
    "#     )\n",
    "# ])"
   ]
  },
  {
   "cell_type": "markdown",
   "metadata": {},
   "source": [
    "### Scatter Chart"
   ]
  },
  {
   "cell_type": "code",
   "execution_count": 47,
   "metadata": {},
   "outputs": [],
   "source": [
    "import numpy as np\n",
    "import plotly.graph_objs as go"
   ]
  },
  {
   "cell_type": "code",
   "execution_count": 42,
   "metadata": {},
   "outputs": [],
   "source": [
    "np.random.seed(50)\n",
    "x_rand = np.random.randint(1, 61, 60)\n",
    "y_rand = np.random.randint(1, 61, 60)"
   ]
  },
  {
   "cell_type": "code",
   "execution_count": 50,
   "metadata": {},
   "outputs": [],
   "source": [
    "app.layout = html.Div([\n",
    "    \n",
    "    dcc.Graph(\n",
    "        id = 'scatter_chart',\n",
    "        figure = {\n",
    "            'data':[\n",
    "                go.Scatter(\n",
    "                    x = x_rand,\n",
    "                    y = y_rand,\n",
    "                    mode='markers'\n",
    "                )\n",
    "            ],\n",
    "            'layout':go.Layout(\n",
    "                title=\"Scatter Plot of Random 60 Points\",\n",
    "                xaxis={'title':'Random x values'},\n",
    "                yaxis={'title':'Random y values'}\n",
    "            )\n",
    "        }\n",
    "\n",
    "    )\n",
    "])"
   ]
  },
  {
   "cell_type": "code",
   "execution_count": 51,
   "metadata": {},
   "outputs": [
    {
     "name": "stdout",
     "output_type": "stream",
     "text": [
      "Dash is running on http://127.0.0.1:4021/\n",
      "\n",
      "Dash is running on http://127.0.0.1:4021/\n",
      "\n",
      "Dash is running on http://127.0.0.1:4021/\n",
      "\n",
      "Dash is running on http://127.0.0.1:4021/\n",
      "\n",
      " * Serving Flask app \"__main__\" (lazy loading)\n",
      " * Environment: production\n",
      "   WARNING: This is a development server. Do not use it in a production deployment.\n",
      "   Use a production WSGI server instead.\n",
      " * Debug mode: off\n"
     ]
    },
    {
     "name": "stderr",
     "output_type": "stream",
     "text": [
      " * Running on http://127.0.0.1:4021/ (Press CTRL+C to quit)\n",
      "127.0.0.1 - - [20/Dec/2020 11:28:19] \"\u001b[37mGET / HTTP/1.1\u001b[0m\" 200 -\n",
      "127.0.0.1 - - [20/Dec/2020 11:28:19] \"\u001b[37mGET /_dash-component-suites/dash_renderer/polyfill@7.v1_8_3m1608386625.8.7.min.js HTTP/1.1\u001b[0m\" 200 -\n",
      "127.0.0.1 - - [20/Dec/2020 11:28:19] \"\u001b[37mGET /_dash-component-suites/dash_renderer/react@16.v1_8_3m1608386625.14.0.min.js HTTP/1.1\u001b[0m\" 200 -\n",
      "127.0.0.1 - - [20/Dec/2020 11:28:19] \"\u001b[37mGET /_dash-component-suites/dash_renderer/prop-types@15.v1_8_3m1608386625.7.2.min.js HTTP/1.1\u001b[0m\" 200 -\n",
      "127.0.0.1 - - [20/Dec/2020 11:28:19] \"\u001b[37mGET /_dash-component-suites/dash_renderer/react-dom@16.v1_8_3m1608386625.14.0.min.js HTTP/1.1\u001b[0m\" 200 -\n",
      "127.0.0.1 - - [20/Dec/2020 11:28:20] \"\u001b[37mGET /_dash-component-suites/dash_core_components/dash_core_components-shared.v1_14_1m1608386625.js HTTP/1.1\u001b[0m\" 200 -\n",
      "127.0.0.1 - - [20/Dec/2020 11:28:20] \"\u001b[37mGET /_dash-component-suites/dash_core_components/dash_core_components.v1_14_1m1608386625.min.js HTTP/1.1\u001b[0m\" 200 -\n",
      "127.0.0.1 - - [20/Dec/2020 11:28:20] \"\u001b[37mGET /_dash-component-suites/dash_html_components/dash_html_components.v1_1_1m1608386625.min.js HTTP/1.1\u001b[0m\" 200 -\n",
      "127.0.0.1 - - [20/Dec/2020 11:28:20] \"\u001b[37mGET /_dash-component-suites/dash_renderer/dash_renderer.v1_8_3m1608386625.min.js HTTP/1.1\u001b[0m\" 200 -\n",
      "127.0.0.1 - - [20/Dec/2020 11:28:20] \"\u001b[37mGET /_dash-dependencies HTTP/1.1\u001b[0m\" 200 -\n",
      "127.0.0.1 - - [20/Dec/2020 11:28:20] \"\u001b[37mGET /_dash-layout HTTP/1.1\u001b[0m\" 200 -\n",
      "127.0.0.1 - - [20/Dec/2020 11:28:20] \"\u001b[37mGET /_favicon.ico?v=1.18.1 HTTP/1.1\u001b[0m\" 200 -\n",
      "127.0.0.1 - - [20/Dec/2020 11:28:20] \"\u001b[37mGET /_dash-component-suites/dash_core_components/async-graph.v1_14_1m1607534654.js HTTP/1.1\u001b[0m\" 200 -\n",
      "127.0.0.1 - - [20/Dec/2020 11:28:20] \"\u001b[37mGET /_dash-component-suites/dash_core_components/async-plotlyjs.v1_14_1m1607534654.js HTTP/1.1\u001b[0m\" 200 -\n"
     ]
    }
   ],
   "source": [
    "if __name__ == '__main__':\n",
    "    app.run_server(port = 4021)"
   ]
  },
  {
   "cell_type": "code",
   "execution_count": null,
   "metadata": {},
   "outputs": [],
   "source": []
  },
  {
   "cell_type": "code",
   "execution_count": null,
   "metadata": {},
   "outputs": [],
   "source": []
  }
 ],
 "metadata": {
  "kernelspec": {
   "display_name": "Python 3",
   "language": "python",
   "name": "python3"
  },
  "language_info": {
   "codemirror_mode": {
    "name": "ipython",
    "version": 3
   },
   "file_extension": ".py",
   "mimetype": "text/x-python",
   "name": "python",
   "nbconvert_exporter": "python",
   "pygments_lexer": "ipython3",
   "version": "3.7.7"
  }
 },
 "nbformat": 4,
 "nbformat_minor": 4
}
