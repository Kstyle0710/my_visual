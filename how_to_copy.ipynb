{
 "cells": [
  {
   "cell_type": "markdown",
   "metadata": {},
   "source": [
    "## \"=\" Operator"
   ]
  },
  {
   "cell_type": "code",
   "execution_count": 18,
   "metadata": {},
   "outputs": [
    {
     "name": "stdout",
     "output_type": "stream",
     "text": [
      "[1, 2, 3] 2496820410824\n",
      "[1, 2, 3] 2496820410824\n",
      "-----\n",
      "[1, 2, 3] 2496820410824\n",
      "3 140723690054096\n",
      "-----\n"
     ]
    }
   ],
   "source": [
    "a = [1, 2, 3]    # mutable\n",
    "b = a\n",
    "print(a, id(a))\n",
    "print(b, id(b))\n",
    "print(\"-\"*5)\n",
    "b = 3           # immutable 값 변경 (객체 자체의 변경)\n",
    "print(a, id(a))\n",
    "print(b, id(b))  # 메모리 id값 변경\n",
    "print(\"-\"*5)"
   ]
  },
  {
   "cell_type": "code",
   "execution_count": 19,
   "metadata": {},
   "outputs": [
    {
     "name": "stdout",
     "output_type": "stream",
     "text": [
      "AA 2496819028976\n",
      "AA 2496819028976\n",
      "-----\n",
      "AA 2496819028976\n",
      "[1, 2, 3] 2496826954696\n",
      "-----\n"
     ]
    }
   ],
   "source": [
    "a = \"AA\"    # immutable\n",
    "b = a\n",
    "print(a, id(a))\n",
    "print(b, id(b))\n",
    "print(\"-\"*5)\n",
    "b = [1, 2, 3]           # mutable 값 변경 (객체 자체의 변경)\n",
    "print(a, id(a))\n",
    "print(b, id(b))  # 메모리 id값 변경\n",
    "print(\"-\"*5)"
   ]
  },
  {
   "cell_type": "code",
   "execution_count": 20,
   "metadata": {},
   "outputs": [
    {
     "name": "stdout",
     "output_type": "stream",
     "text": [
      "[1, 2, 3] 2496824212360\n",
      "[1, 2, 3] 2496824212360\n",
      "-----\n",
      "[1, 2, 3] 2496824212360\n",
      "[4, 5, 6] 2496818291656\n",
      "-----\n"
     ]
    }
   ],
   "source": [
    "a = [1, 2, 3]    # mutable\n",
    "b = a\n",
    "print(a, id(a))\n",
    "print(b, id(b))\n",
    "print(\"-\"*5)\n",
    "b = [4, 5, 6]           # mutable 값 변경 (객체 자체의 변경)\n",
    "print(a, id(a))\n",
    "print(b, id(b))  # 메모리 id값 변경\n",
    "print(\"-\"*5)"
   ]
  },
  {
   "cell_type": "code",
   "execution_count": 27,
   "metadata": {},
   "outputs": [
    {
     "name": "stdout",
     "output_type": "stream",
     "text": [
      "AA 2496819028976\n",
      "AA 2496819028976\n",
      "-----\n",
      "AA 2496819028976\n",
      "AABB 2496826241264\n",
      "-----\n"
     ]
    }
   ],
   "source": [
    "a = \"AA\"            # immutable\n",
    "b = a\n",
    "print(a, id(a))\n",
    "print(b, id(b))\n",
    "print(\"-\"*5)\n",
    "b = a +\"BB\"           # immutable 값 변경 (객체 자체의 변경)\n",
    "print(a, id(a))\n",
    "print(b, id(b))       # 메모리 id값 변경\n",
    "print(\"-\"*5)"
   ]
  },
  {
   "cell_type": "code",
   "execution_count": 25,
   "metadata": {},
   "outputs": [
    {
     "name": "stdout",
     "output_type": "stream",
     "text": [
      "[1, 2, 3] 2496825196424\n",
      "[1, 2, 3] 2496825196424\n",
      "-----\n",
      "[1, 2, 3, [4, 5, 6]] 2496825196424\n",
      "[1, 2, 3, [4, 5, 6]] 2496825196424\n",
      "-----\n"
     ]
    }
   ],
   "source": [
    "a = [1, 2, 3]    # mutable\n",
    "b = a\n",
    "print(a, id(a))\n",
    "print(b, id(b))\n",
    "print(\"-\"*5)\n",
    "b.append([4, 5, 6])           # 리스트 안에 값 추가 (not 객체 자체의 변경)\n",
    "print(a, id(a))\n",
    "print(b, id(b))  \n",
    "print(\"-\"*5)"
   ]
  },
  {
   "cell_type": "code",
   "execution_count": 26,
   "metadata": {},
   "outputs": [
    {
     "name": "stdout",
     "output_type": "stream",
     "text": [
      "[1, 2, 3] 2496816823816\n",
      "[1, 2, 3] 2496816823816\n",
      "-----\n",
      "[10, 2, 3] 2496816823816\n",
      "[10, 2, 3] 2496816823816\n",
      "-----\n"
     ]
    }
   ],
   "source": [
    "a = [1, 2, 3]    # mutable\n",
    "b = a\n",
    "print(a, id(a))\n",
    "print(b, id(b))\n",
    "print(\"-\"*5)\n",
    "b[0] = 10           # 리스트 안에 값 추가 (not 객체 자체의 변경)\n",
    "print(a, id(a))\n",
    "print(b, id(b))  \n",
    "print(\"-\"*5)"
   ]
  },
  {
   "cell_type": "markdown",
   "metadata": {},
   "source": [
    "## Shallow Copy"
   ]
  },
  {
   "cell_type": "code",
   "execution_count": 28,
   "metadata": {},
   "outputs": [],
   "source": [
    "import copy"
   ]
  },
  {
   "cell_type": "code",
   "execution_count": 31,
   "metadata": {},
   "outputs": [
    {
     "name": "stdout",
     "output_type": "stream",
     "text": [
      "[1, 2, 3] 2496817520392\n",
      "[1, 2, 3] 2496815478728\n",
      "-----\n",
      "[1, 2, 3] 2496817520392\n",
      "3 140723690054096\n",
      "-----\n"
     ]
    }
   ],
   "source": [
    "a = [1, 2, 3]    # mutable\n",
    "b = copy.copy(a)\n",
    "print(a, id(a))\n",
    "print(b, id(b))    ## 객체가 mutable한 경우, id가 변경됨\n",
    "print(\"-\"*5)\n",
    "b = 3           # immutable 값 변경 (객체 자체의 변경)\n",
    "print(a, id(a))\n",
    "print(b, id(b))  # 메모리 id값 변경\n",
    "print(\"-\"*5)"
   ]
  },
  {
   "cell_type": "code",
   "execution_count": 33,
   "metadata": {},
   "outputs": [
    {
     "name": "stdout",
     "output_type": "stream",
     "text": [
      "AA 2496819028976\n",
      "AA 2496819028976\n",
      "-----\n",
      "AA 2496819028976\n",
      "[1, 2, 3] 2496817578056\n",
      "-----\n"
     ]
    }
   ],
   "source": [
    "a = \"AA\"    # immutable\n",
    "b = copy.copy(a)\n",
    "print(a, id(a))\n",
    "print(b, id(b))\n",
    "print(\"-\"*5)\n",
    "b = [1, 2, 3]           # mutable 값 변경 (객체 자체의 변경)\n",
    "print(a, id(a))\n",
    "print(b, id(b))  # 메모리 id값 변경\n",
    "print(\"-\"*5)"
   ]
  },
  {
   "cell_type": "code",
   "execution_count": 36,
   "metadata": {},
   "outputs": [
    {
     "name": "stdout",
     "output_type": "stream",
     "text": [
      "[1, 2, 3] 2496816816712\n",
      "[1, 2, 3] 2496820685320\n",
      "-----\n",
      "[1, 2, 3] 2496816816712\n",
      "[4, 5, 6] 2496824852936\n",
      "-----\n"
     ]
    }
   ],
   "source": [
    "a = [1, 2, 3]    # mutable\n",
    "b = copy.copy(a)\n",
    "print(a, id(a))\n",
    "print(b, id(b))    ## 객체가 mutable한 경우, id가 변경됨\n",
    "print(\"-\"*5)\n",
    "b = [4, 5, 6]           # mutable 값 변경 (객체 자체의 변경)\n",
    "print(a, id(a))\n",
    "print(b, id(b))  # 메모리 id값 변경\n",
    "print(\"-\"*5)"
   ]
  },
  {
   "cell_type": "code",
   "execution_count": 38,
   "metadata": {},
   "outputs": [
    {
     "name": "stdout",
     "output_type": "stream",
     "text": [
      "AA 2496819028976\n",
      "AA 2496819028976\n",
      "-----\n",
      "AA 2496819028976\n",
      "AABB 2496813127152\n",
      "-----\n"
     ]
    }
   ],
   "source": [
    "a = \"AA\"            # immutable\n",
    "b = copy.copy(a)\n",
    "print(a, id(a))\n",
    "print(b, id(b))\n",
    "print(\"-\"*5)\n",
    "b = a +\"BB\"           # immutable 값 변경 (객체 자체의 변경)\n",
    "print(a, id(a))\n",
    "print(b, id(b))       # 메모리 id값 변경\n",
    "print(\"-\"*5)"
   ]
  },
  {
   "cell_type": "code",
   "execution_count": 49,
   "metadata": {},
   "outputs": [
    {
     "name": "stdout",
     "output_type": "stream",
     "text": [
      "[1, 2, 3] 2496827299976\n",
      "[1, 2, 3] 2496813741256\n",
      "-----\n",
      "[1, 2, 3] 2496827299976\n",
      "[1, 2, 3, [4, 5, 6]] 2496813741256\n",
      "-----\n"
     ]
    }
   ],
   "source": [
    "a = [1, 2, 3]    # mutable\n",
    "b = copy.copy(a)\n",
    "print(a, id(a))\n",
    "print(b, id(b))       ## 객체가 mutable한 경우, id가 변경됨\n",
    "print(\"-\"*5)\n",
    "b.append([4, 5, 6])           # 리스트 안에 값 추가 (not 객체 자체의 변경)\n",
    "print(a, id(a))\n",
    "print(b, id(b))  \n",
    "print(\"-\"*5)"
   ]
  },
  {
   "cell_type": "code",
   "execution_count": 42,
   "metadata": {},
   "outputs": [
    {
     "name": "stdout",
     "output_type": "stream",
     "text": [
      "[1, 2, 3] 2496814840200\n",
      "[1, 2, 3] 2496827330376\n",
      "-----\n",
      "[1, 2, 3] 2496814840200\n",
      "[10, 2, 3] 2496827330376\n",
      "-----\n"
     ]
    }
   ],
   "source": [
    "a = [1, 2, 3]    # mutable\n",
    "b = copy.copy(a)\n",
    "print(a, id(a))\n",
    "print(b, id(b))    ## 객체가 mutable한 경우, id가 변경됨\n",
    "print(\"-\"*5)\n",
    "b[0] = 10           # 리스트 안에 값 추가 (not 객체 자체의 변경)\n",
    "print(a, id(a))\n",
    "print(b, id(b))  \n",
    "print(\"-\"*5)"
   ]
  },
  {
   "cell_type": "markdown",
   "metadata": {},
   "source": [
    "## Deep Copy"
   ]
  },
  {
   "cell_type": "code",
   "execution_count": 43,
   "metadata": {},
   "outputs": [
    {
     "name": "stdout",
     "output_type": "stream",
     "text": [
      "[1, 2, 3] 2496826451400\n",
      "[1, 2, 3] 2496825698056\n",
      "-----\n",
      "[1, 2, 3] 2496826451400\n",
      "3 140723690054096\n",
      "-----\n"
     ]
    }
   ],
   "source": [
    "a = [1, 2, 3]    # mutable\n",
    "b = copy.deepcopy(a)\n",
    "print(a, id(a))\n",
    "print(b, id(b))    ## 객체가 mutable한 경우, id가 변경됨 (Swallow copy 동일)\n",
    "print(\"-\"*5)\n",
    "b = 3           # immutable 값 변경 (객체 자체의 변경)\n",
    "print(a, id(a))\n",
    "print(b, id(b))  # 메모리 id값 변경\n",
    "print(\"-\"*5)"
   ]
  },
  {
   "cell_type": "code",
   "execution_count": 44,
   "metadata": {},
   "outputs": [
    {
     "name": "stdout",
     "output_type": "stream",
     "text": [
      "AA 2496819028976\n",
      "AA 2496819028976\n",
      "-----\n",
      "AA 2496819028976\n",
      "[1, 2, 3] 2496815458312\n",
      "-----\n"
     ]
    }
   ],
   "source": [
    "a = \"AA\"    # immutable\n",
    "b = copy.deepcopy(a)\n",
    "print(a, id(a))\n",
    "print(b, id(b))\n",
    "print(\"-\"*5)\n",
    "b = [1, 2, 3]           # mutable 값 변경 (객체 자체의 변경)\n",
    "print(a, id(a))\n",
    "print(b, id(b))  # 메모리 id값 변경\n",
    "print(\"-\"*5)"
   ]
  },
  {
   "cell_type": "code",
   "execution_count": 45,
   "metadata": {},
   "outputs": [
    {
     "name": "stdout",
     "output_type": "stream",
     "text": [
      "[1, 2, 3] 2496813726728\n",
      "[1, 2, 3] 2496825646728\n",
      "-----\n",
      "[1, 2, 3] 2496813726728\n",
      "[4, 5, 6] 2496827210376\n",
      "-----\n"
     ]
    }
   ],
   "source": [
    "a = [1, 2, 3]    # mutable\n",
    "b = copy.deepcopy(a)\n",
    "print(a, id(a))\n",
    "print(b, id(b))    ## 객체가 mutable한 경우, id가 변경됨 (Swallow copy 동일)\n",
    "print(\"-\"*5)\n",
    "b = [4, 5, 6]           # mutable 값 변경 (객체 자체의 변경)\n",
    "print(a, id(a))\n",
    "print(b, id(b))  # 메모리 id값 변경\n",
    "print(\"-\"*5)"
   ]
  },
  {
   "cell_type": "code",
   "execution_count": 46,
   "metadata": {},
   "outputs": [
    {
     "name": "stdout",
     "output_type": "stream",
     "text": [
      "AA 2496819028976\n",
      "AA 2496819028976\n",
      "-----\n",
      "AA 2496819028976\n",
      "AABB 2496813084976\n",
      "-----\n"
     ]
    }
   ],
   "source": [
    "a = \"AA\"            # immutable\n",
    "b = copy.deepcopy(a)\n",
    "print(a, id(a))\n",
    "print(b, id(b))\n",
    "print(\"-\"*5)\n",
    "b = a +\"BB\"           # immutable 값 변경 (객체 자체의 변경)\n",
    "print(a, id(a))\n",
    "print(b, id(b))       # 메모리 id값 변경\n",
    "print(\"-\"*5)"
   ]
  },
  {
   "cell_type": "code",
   "execution_count": 47,
   "metadata": {},
   "outputs": [
    {
     "name": "stdout",
     "output_type": "stream",
     "text": [
      "[1, 2, 3] 2496825324360\n",
      "[1, 2, 3] 2496825922184\n",
      "-----\n",
      "[1, 2, 3] 2496825324360\n",
      "[1, 2, 3, [4, 5, 6]] 2496825922184\n",
      "-----\n"
     ]
    }
   ],
   "source": [
    "a = [1, 2, 3]       # mutable\n",
    "b = copy.deepcopy(a)\n",
    "print(a, id(a))\n",
    "print(b, id(b))       ## 객체가 mutable한 경우, id가 변경됨\n",
    "print(\"-\"*5)\n",
    "b.append([4, 5, 6])           # 리스트 안에 값 추가 (not 객체 자체의 변경)\n",
    "print(a, id(a))\n",
    "print(b, id(b))  \n",
    "print(\"-\"*5)"
   ]
  },
  {
   "cell_type": "code",
   "execution_count": 48,
   "metadata": {},
   "outputs": [
    {
     "name": "stdout",
     "output_type": "stream",
     "text": [
      "[1, 2, 3] 2496824873928\n",
      "[1, 2, 3] 2496823275848\n",
      "-----\n",
      "[1, 2, 3] 2496824873928\n",
      "[10, 2, 3] 2496823275848\n",
      "-----\n"
     ]
    }
   ],
   "source": [
    "a = [1, 2, 3]    # mutable\n",
    "b = copy.deepcopy(a)\n",
    "print(a, id(a))\n",
    "print(b, id(b))    ## 객체가 mutable한 경우, id가 변경됨\n",
    "print(\"-\"*5)\n",
    "b[0] = 10           # 리스트 안에 값 추가 (not 객체 자체의 변경)\n",
    "print(a, id(a))\n",
    "print(b, id(b))  \n",
    "print(\"-\"*5)"
   ]
  },
  {
   "cell_type": "markdown",
   "metadata": {},
   "source": [
    "## 리스트 내에 리스트가 있는 경우 (내부 리스트)"
   ]
  },
  {
   "cell_type": "code",
   "execution_count": 50,
   "metadata": {},
   "outputs": [
    {
     "name": "stdout",
     "output_type": "stream",
     "text": [
      "[1, [1, 2, 3]]\n",
      "[100, [1, 2, 3]]\n",
      "[1, [1, 2, 3]]\n",
      "[1, [1, 2, 3, 4]]\n",
      "[1, [1, 2, 3, 4]]\n"
     ]
    }
   ],
   "source": [
    "a = [1, [1, 2, 3]]\n",
    "b = copy.copy(a)    # shallow copy 발생\n",
    "print(b)    # [1, [1, 2, 3]] 출력\n",
    "b[0] = 100\n",
    "print(b)    # [100, [1, 2, 3]] 출력,\n",
    "print(a)    # [1, [1, 2, 3]] 출력, shallow copy 가 발생해 복사된 리스트는 별도의 객체이므로 item을 수정하면 복사본만 수정된다. (immutable 객체의 경우)\n",
    "\n",
    "c = copy.copy(a)\n",
    "c[1].append(4)    # 리스트의 두번째 item(내부리스트)에 4를 추가\n",
    "print(c)    # [1, [1, 2, 3, 4]] 출력\n",
    "print(a)    # [1, [1, 2, 3, 4]] 출력, a가 c와 똑같이 수정된 이유는 리스트의 item 내부의 객체는 동일한 객체이므로 mutable한 리스트를 수정할때는 둘다 값이 변경됨"
   ]
  },
  {
   "cell_type": "markdown",
   "metadata": {},
   "source": [
    "주석에서 잘 설명하고 있지만, 리스트 내에 리스트가 있는 경우에 얕은 복사(b = copy.copy(a))가 이뤄지더라도 리스트 내의 내부 리스트까지 별도의 객체로 복사가 되는것은 아닙니다.\n",
    "\n",
    "위의 예제에서 b 에서 첫번째 요소(숫자)를 변경하였을때 a 가 변경되지 않은 것은 그 요소가 immutable 하기 때문입니다. immutable 하다는 것은, 요소가 수정되는 것이 아니라 그저 다른 값으로 대체된다고 볼 수 있죠. 그렇기 때문에 b 에서 변경된 요소가 a 에는 반영되어 있지 않은 것이죠.(두 리스트는 다른 객체이므로..)\n",
    "\n",
    "그러나 c 의 경우는 좀 다릅니다. a 를 복사하여(c = copy.copy(a)) c 를 만듭니다. 그리고 c 의 두번째 요소(리스트)에 새로운 값을 추가합니다. 출력해보면 a 와 b 의 경우처럼 c 에 값을 수정했을때 a 는 수정되지 않을거라 기대되지만, 실제는 그렇지 않습니다. \n",
    "\n",
    "c 의 내부리스트를 수정하게 되면 a 의 내부리스트 또한 바뀌게 되는데요. 그 이유는 a 와 c 의 내부리스트는 같은 객체를 참조하기 때문입니다. b 의 경우에도 같은 객체라 말할 수도 있지만, 이 둘의 중요한 차이는 그 객체가 mutable 하냐 immutable 하냐의 차이입니다. mutable 한 경우에는 값이 수정될수 있지만, immutable 한 경우에는 값이 수정되는 것이 아니라 아예 새로운 객체로 변경되는 것이죠. 그래서 위와 같은 차이가 나타나게 되는 것입니다."
   ]
  },
  {
   "cell_type": "code",
   "execution_count": 51,
   "metadata": {},
   "outputs": [
    {
     "name": "stdout",
     "output_type": "stream",
     "text": [
      "[1, [1, 2, 3]]\n",
      "[100, [1, 2, 3, 4]]\n",
      "[1, [1, 2, 3]]\n"
     ]
    }
   ],
   "source": [
    "a = [1, [1, 2, 3]]\n",
    "b = copy.deepcopy(a)    # deep copy 실행\n",
    "print(b)    # [1, [1, 2, 3]] 출력\n",
    "b[0] = 100\n",
    "b[1].append(4)\n",
    "print(b)    # [100, [1, 2, 3, 4]] 출력\n",
    "print(a)    # [1, [1, 2, 3]] 출력"
   ]
  },
  {
   "cell_type": "markdown",
   "metadata": {},
   "source": [
    "mutable 한 내부객체(내부리스트)의 문제를 해결하기 위해서는 얕은 복사가 아닌 깊은 복사(deep copy)를 해야 합니다.\n",
    "\n",
    "얕은 복사가 복합객체(리스트)만 복사되고 그 안의 내용은 동일한 객체를 참조한다면, 깊은 복사의 경우에는 복합객체를 새롭게 생성하고 그 안의 내용까지 재귀적으로 새롭게 생성하게 됩니다.\n",
    "\n",
    "그래서 깊은 복사를 하게 되면, 처음에 만들었던 객체와 복사된 객체가 전혀 달라지기 때문에 어느 한쪽을 수정한다고 해서 다른 한쪽이 영향 받는 일은 없게되겠죠.\n",
    "\n",
    "파이썬에서는 copy 모듈의 deepcopy()라는 메서드를 통해 깊은 복사를 손쉽게 구현할 수 있습니다."
   ]
  },
  {
   "cell_type": "code",
   "execution_count": null,
   "metadata": {},
   "outputs": [],
   "source": []
  }
 ],
 "metadata": {
  "kernelspec": {
   "display_name": "Python 3",
   "language": "python",
   "name": "python3"
  },
  "language_info": {
   "codemirror_mode": {
    "name": "ipython",
    "version": 3
   },
   "file_extension": ".py",
   "mimetype": "text/x-python",
   "name": "python",
   "nbconvert_exporter": "python",
   "pygments_lexer": "ipython3",
   "version": "3.7.7"
  }
 },
 "nbformat": 4,
 "nbformat_minor": 4
}
