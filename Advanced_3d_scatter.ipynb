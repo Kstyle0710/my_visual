{
 "cells": [
  {
   "cell_type": "code",
   "execution_count": 1,
   "metadata": {},
   "outputs": [],
   "source": [
    "import pandas as pd\n",
    "import plotly.express as px\n",
    "import plotly.io as pio\n",
    "import numpy as np\n",
    "import plotly.graph_objects as go"
   ]
  },
  {
   "cell_type": "code",
   "execution_count": 2,
   "metadata": {},
   "outputs": [],
   "source": [
    "# Use for animation rotation at the end\n",
    "x_eye = -1.25\n",
    "y_eye = 2\n",
    "z_eye = 0.5"
   ]
  },
  {
   "cell_type": "code",
   "execution_count": 3,
   "metadata": {},
   "outputs": [
    {
     "data": {
      "text/html": [
       "<div>\n",
       "<style scoped>\n",
       "    .dataframe tbody tr th:only-of-type {\n",
       "        vertical-align: middle;\n",
       "    }\n",
       "\n",
       "    .dataframe tbody tr th {\n",
       "        vertical-align: top;\n",
       "    }\n",
       "\n",
       "    .dataframe thead th {\n",
       "        text-align: right;\n",
       "    }\n",
       "</style>\n",
       "<table border=\"1\" class=\"dataframe\">\n",
       "  <thead>\n",
       "    <tr style=\"text-align: right;\">\n",
       "      <th></th>\n",
       "      <th>WORK_STAND_NM</th>\n",
       "      <th>WORK_UNIT</th>\n",
       "      <th>WORK_ACT</th>\n",
       "      <th>CHK_INFO</th>\n",
       "      <th>부서</th>\n",
       "      <th>대구분</th>\n",
       "      <th>중구분</th>\n",
       "      <th>소구분</th>\n",
       "    </tr>\n",
       "  </thead>\n",
       "  <tbody>\n",
       "    <tr>\n",
       "      <th>0</th>\n",
       "      <td>선각 철의장풍/치공구류 제작</td>\n",
       "      <td>작업 준비</td>\n",
       "      <td>당일 제작 수량 확인</td>\n",
       "      <td>관련 도면준비</td>\n",
       "      <td>가공소조립부</td>\n",
       "      <td>가공</td>\n",
       "      <td>가공/제작</td>\n",
       "      <td>기계가공</td>\n",
       "    </tr>\n",
       "    <tr>\n",
       "      <th>1</th>\n",
       "      <td>선각 철의장풍/치공구류 제작</td>\n",
       "      <td>작업 준비</td>\n",
       "      <td>필요 자재(잔재, 원자재) 파악</td>\n",
       "      <td>자재 부족시 관련 부서 협조 요청</td>\n",
       "      <td>가공소조립부</td>\n",
       "      <td>가공</td>\n",
       "      <td>가공/제작</td>\n",
       "      <td>기계가공</td>\n",
       "    </tr>\n",
       "    <tr>\n",
       "      <th>2</th>\n",
       "      <td>선각 철의장풍/치공구류 제작</td>\n",
       "      <td>작업 준비</td>\n",
       "      <td>장비별 작업자 배원</td>\n",
       "      <td>NaN</td>\n",
       "      <td>가공소조립부</td>\n",
       "      <td>가공</td>\n",
       "      <td>가공/제작</td>\n",
       "      <td>기계가공</td>\n",
       "    </tr>\n",
       "    <tr>\n",
       "      <th>3</th>\n",
       "      <td>선각 철의장풍/치공구류 제작</td>\n",
       "      <td>물량 배정</td>\n",
       "      <td>수동 마킹(NC 마킹의 반대 개념)</td>\n",
       "      <td>NaN</td>\n",
       "      <td>가공소조립부</td>\n",
       "      <td>가공</td>\n",
       "      <td>가공/제작</td>\n",
       "      <td>기계가공</td>\n",
       "    </tr>\n",
       "    <tr>\n",
       "      <th>4</th>\n",
       "      <td>선각 철의장풍/치공구류 제작</td>\n",
       "      <td>물량 배정</td>\n",
       "      <td>수동 절단(기계 절단의 반대 개념)</td>\n",
       "      <td>NaN</td>\n",
       "      <td>가공소조립부</td>\n",
       "      <td>가공</td>\n",
       "      <td>가공/제작</td>\n",
       "      <td>기계가공</td>\n",
       "    </tr>\n",
       "    <tr>\n",
       "      <th>...</th>\n",
       "      <td>...</td>\n",
       "      <td>...</td>\n",
       "      <td>...</td>\n",
       "      <td>...</td>\n",
       "      <td>...</td>\n",
       "      <td>...</td>\n",
       "      <td>...</td>\n",
       "      <td>...</td>\n",
       "    </tr>\n",
       "    <tr>\n",
       "      <th>23528</th>\n",
       "      <td>사내/생산현장 이동</td>\n",
       "      <td>자전거 운전</td>\n",
       "      <td>블록하부 통행 및 크레인 주행구간 등 작업반경 내 주행 금지</td>\n",
       "      <td>NaN</td>\n",
       "      <td>조선해양품질경영2부</td>\n",
       "      <td>기능</td>\n",
       "      <td>공통</td>\n",
       "      <td>이동</td>\n",
       "    </tr>\n",
       "    <tr>\n",
       "      <th>23529</th>\n",
       "      <td>사내/생산현장 이동</td>\n",
       "      <td>자전거 운전</td>\n",
       "      <td>우천시 우의 착용 후 운행</td>\n",
       "      <td>우산사용 금지</td>\n",
       "      <td>조선해양품질경영2부</td>\n",
       "      <td>기능</td>\n",
       "      <td>공통</td>\n",
       "      <td>이동</td>\n",
       "    </tr>\n",
       "    <tr>\n",
       "      <th>23530</th>\n",
       "      <td>사내/생산현장 이동</td>\n",
       "      <td>자전거 운전</td>\n",
       "      <td>크레인 레일 위 이동시에는 레일 방향의 직각으로 이동</td>\n",
       "      <td>레일 사이에 바퀴가 빠져 넘어질 수 있음</td>\n",
       "      <td>조선해양품질경영2부</td>\n",
       "      <td>기능</td>\n",
       "      <td>공통</td>\n",
       "      <td>이동</td>\n",
       "    </tr>\n",
       "    <tr>\n",
       "      <th>23531</th>\n",
       "      <td>사내/생산현장 이동</td>\n",
       "      <td>자전거 운전</td>\n",
       "      <td>목적지 도착 후 지정된 주차장소에 주차</td>\n",
       "      <td>NaN</td>\n",
       "      <td>조선해양품질경영2부</td>\n",
       "      <td>기능</td>\n",
       "      <td>공통</td>\n",
       "      <td>이동</td>\n",
       "    </tr>\n",
       "    <tr>\n",
       "      <th>23532</th>\n",
       "      <td>사내/생산현장 이동</td>\n",
       "      <td>복귀</td>\n",
       "      <td>출발시와 동일한 방법으로 안전하게 복귀</td>\n",
       "      <td>NaN</td>\n",
       "      <td>조선해양품질경영2부</td>\n",
       "      <td>기능</td>\n",
       "      <td>공통</td>\n",
       "      <td>이동</td>\n",
       "    </tr>\n",
       "  </tbody>\n",
       "</table>\n",
       "<p>23533 rows × 8 columns</p>\n",
       "</div>"
      ],
      "text/plain": [
       "         WORK_STAND_NM WORK_UNIT                           WORK_ACT  \\\n",
       "0      선각 철의장풍/치공구류 제작     작업 준비                        당일 제작 수량 확인   \n",
       "1      선각 철의장풍/치공구류 제작     작업 준비                  필요 자재(잔재, 원자재) 파악   \n",
       "2      선각 철의장풍/치공구류 제작     작업 준비                         장비별 작업자 배원   \n",
       "3      선각 철의장풍/치공구류 제작     물량 배정                수동 마킹(NC 마킹의 반대 개념)   \n",
       "4      선각 철의장풍/치공구류 제작     물량 배정                수동 절단(기계 절단의 반대 개념)   \n",
       "...                ...       ...                                ...   \n",
       "23528       사내/생산현장 이동    자전거 운전  블록하부 통행 및 크레인 주행구간 등 작업반경 내 주행 금지   \n",
       "23529       사내/생산현장 이동    자전거 운전                     우천시 우의 착용 후 운행   \n",
       "23530       사내/생산현장 이동    자전거 운전      크레인 레일 위 이동시에는 레일 방향의 직각으로 이동   \n",
       "23531       사내/생산현장 이동    자전거 운전              목적지 도착 후 지정된 주차장소에 주차   \n",
       "23532       사내/생산현장 이동        복귀              출발시와 동일한 방법으로 안전하게 복귀   \n",
       "\n",
       "                     CHK_INFO          부서 대구분    중구분   소구분  \n",
       "0                     관련 도면준비      가공소조립부  가공  가공/제작  기계가공  \n",
       "1          자재 부족시 관련 부서 협조 요청      가공소조립부  가공  가공/제작  기계가공  \n",
       "2                         NaN      가공소조립부  가공  가공/제작  기계가공  \n",
       "3                         NaN      가공소조립부  가공  가공/제작  기계가공  \n",
       "4                         NaN      가공소조립부  가공  가공/제작  기계가공  \n",
       "...                       ...         ...  ..    ...   ...  \n",
       "23528                     NaN  조선해양품질경영2부  기능     공통    이동  \n",
       "23529                 우산사용 금지  조선해양품질경영2부  기능     공통    이동  \n",
       "23530  레일 사이에 바퀴가 빠져 넘어질 수 있음  조선해양품질경영2부  기능     공통    이동  \n",
       "23531                     NaN  조선해양품질경영2부  기능     공통    이동  \n",
       "23532                     NaN  조선해양품질경영2부  기능     공통    이동  \n",
       "\n",
       "[23533 rows x 8 columns]"
      ]
     },
     "execution_count": 3,
     "metadata": {},
     "output_type": "execute_result"
    }
   ],
   "source": [
    "df = pd.read_excel('./source/ws_mother_file.xlsx')\n",
    "df\n",
    "\n",
    "# df = df[df['Year'].isin(['2010'])]\n",
    "# df = df[df['Continent'].isin(['Africa', 'Europe'])]\n",
    "# # df = df[df['Year'].isin(['1990','1995','2000','2005','2010'])]\n",
    "# df['resized_pop'] = df['population'] / 100000000  # use for size parameter"
   ]
  },
  {
   "cell_type": "code",
   "execution_count": 107,
   "metadata": {},
   "outputs": [
    {
     "data": {
      "text/html": [
       "<div>\n",
       "<style scoped>\n",
       "    .dataframe tbody tr th:only-of-type {\n",
       "        vertical-align: middle;\n",
       "    }\n",
       "\n",
       "    .dataframe tbody tr th {\n",
       "        vertical-align: top;\n",
       "    }\n",
       "\n",
       "    .dataframe thead th {\n",
       "        text-align: right;\n",
       "    }\n",
       "</style>\n",
       "<table border=\"1\" class=\"dataframe\">\n",
       "  <thead>\n",
       "    <tr style=\"text-align: right;\">\n",
       "      <th></th>\n",
       "      <th>부서</th>\n",
       "      <th>order1</th>\n",
       "    </tr>\n",
       "  </thead>\n",
       "  <tbody>\n",
       "    <tr>\n",
       "      <th>0</th>\n",
       "      <td>가공소조립부</td>\n",
       "      <td>0</td>\n",
       "    </tr>\n",
       "    <tr>\n",
       "      <th>1</th>\n",
       "      <td>판넬조립부</td>\n",
       "      <td>1</td>\n",
       "    </tr>\n",
       "    <tr>\n",
       "      <th>2</th>\n",
       "      <td>대조립1부</td>\n",
       "      <td>2</td>\n",
       "    </tr>\n",
       "    <tr>\n",
       "      <th>3</th>\n",
       "      <td>대조립2부</td>\n",
       "      <td>3</td>\n",
       "    </tr>\n",
       "    <tr>\n",
       "      <th>4</th>\n",
       "      <td>의장생산부</td>\n",
       "      <td>4</td>\n",
       "    </tr>\n",
       "    <tr>\n",
       "      <th>5</th>\n",
       "      <td>선행의장부</td>\n",
       "      <td>5</td>\n",
       "    </tr>\n",
       "    <tr>\n",
       "      <th>6</th>\n",
       "      <td>선행도장부</td>\n",
       "      <td>6</td>\n",
       "    </tr>\n",
       "    <tr>\n",
       "      <th>7</th>\n",
       "      <td>선실생산부</td>\n",
       "      <td>7</td>\n",
       "    </tr>\n",
       "    <tr>\n",
       "      <th>8</th>\n",
       "      <td>건조1부</td>\n",
       "      <td>8</td>\n",
       "    </tr>\n",
       "    <tr>\n",
       "      <th>9</th>\n",
       "      <td>건조2부</td>\n",
       "      <td>9</td>\n",
       "    </tr>\n",
       "    <tr>\n",
       "      <th>10</th>\n",
       "      <td>건조3부</td>\n",
       "      <td>10</td>\n",
       "    </tr>\n",
       "    <tr>\n",
       "      <th>11</th>\n",
       "      <td>의장1부</td>\n",
       "      <td>11</td>\n",
       "    </tr>\n",
       "    <tr>\n",
       "      <th>12</th>\n",
       "      <td>의장2부</td>\n",
       "      <td>12</td>\n",
       "    </tr>\n",
       "    <tr>\n",
       "      <th>13</th>\n",
       "      <td>의장3부</td>\n",
       "      <td>13</td>\n",
       "    </tr>\n",
       "    <tr>\n",
       "      <th>14</th>\n",
       "      <td>CHS공사부</td>\n",
       "      <td>14</td>\n",
       "    </tr>\n",
       "    <tr>\n",
       "      <th>15</th>\n",
       "      <td>기계의장부</td>\n",
       "      <td>15</td>\n",
       "    </tr>\n",
       "    <tr>\n",
       "      <th>16</th>\n",
       "      <td>도장1부</td>\n",
       "      <td>16</td>\n",
       "    </tr>\n",
       "    <tr>\n",
       "      <th>17</th>\n",
       "      <td>도장2부</td>\n",
       "      <td>17</td>\n",
       "    </tr>\n",
       "    <tr>\n",
       "      <th>18</th>\n",
       "      <td>LNG공사부</td>\n",
       "      <td>18</td>\n",
       "    </tr>\n",
       "    <tr>\n",
       "      <th>19</th>\n",
       "      <td>시운전부</td>\n",
       "      <td>19</td>\n",
       "    </tr>\n",
       "    <tr>\n",
       "      <th>20</th>\n",
       "      <td>운항관제과</td>\n",
       "      <td>20</td>\n",
       "    </tr>\n",
       "    <tr>\n",
       "      <th>21</th>\n",
       "      <td>외업공사지원부</td>\n",
       "      <td>21</td>\n",
       "    </tr>\n",
       "    <tr>\n",
       "      <th>22</th>\n",
       "      <td>발판지원부</td>\n",
       "      <td>22</td>\n",
       "    </tr>\n",
       "    <tr>\n",
       "      <th>23</th>\n",
       "      <td>자재운영부</td>\n",
       "      <td>23</td>\n",
       "    </tr>\n",
       "    <tr>\n",
       "      <th>24</th>\n",
       "      <td>조선해양품질경영1부</td>\n",
       "      <td>24</td>\n",
       "    </tr>\n",
       "    <tr>\n",
       "      <th>25</th>\n",
       "      <td>조선해양품질경영2부</td>\n",
       "      <td>25</td>\n",
       "    </tr>\n",
       "  </tbody>\n",
       "</table>\n",
       "</div>"
      ],
      "text/plain": [
       "            부서  order1\n",
       "0       가공소조립부       0\n",
       "1        판넬조립부       1\n",
       "2        대조립1부       2\n",
       "3        대조립2부       3\n",
       "4        의장생산부       4\n",
       "5        선행의장부       5\n",
       "6        선행도장부       6\n",
       "7        선실생산부       7\n",
       "8         건조1부       8\n",
       "9         건조2부       9\n",
       "10        건조3부      10\n",
       "11        의장1부      11\n",
       "12        의장2부      12\n",
       "13        의장3부      13\n",
       "14      CHS공사부      14\n",
       "15       기계의장부      15\n",
       "16        도장1부      16\n",
       "17        도장2부      17\n",
       "18      LNG공사부      18\n",
       "19        시운전부      19\n",
       "20       운항관제과      20\n",
       "21     외업공사지원부      21\n",
       "22       발판지원부      22\n",
       "23       자재운영부      23\n",
       "24  조선해양품질경영1부      24\n",
       "25  조선해양품질경영2부      25"
      ]
     },
     "execution_count": 107,
     "metadata": {},
     "output_type": "execute_result"
    }
   ],
   "source": [
    "depts = [\"가공소조립부\", \"판넬조립부\", \"대조립1부\", \"대조립2부\", \"의장생산부\", \"선행의장부\", \"선행도장부\",\n",
    "       \"선실생산부\", \"건조1부\", \"건조2부\", \"건조3부\", \"의장1부\", \"의장2부\", \"의장3부\", \"CHS공사부\", \"기계의장부\", \"도장1부\", \"도장2부\",\n",
    "       \"LNG공사부\", \"시운전부\", \"운항관제과\", \"외업공사지원부\", \"발판지원부\", \"자재운영부\", \"조선해양품질경영1부\", \"조선해양품질경영2부\"]\n",
    "depts_dict = {dept : int(i) for i, dept in enumerate(depts)}\n",
    "df_depts = pd.DataFrame(depts_dict.items(), columns=['부서', 'order1'])\n",
    "df_depts"
   ]
  },
  {
   "cell_type": "code",
   "execution_count": 106,
   "metadata": {},
   "outputs": [
    {
     "data": {
      "text/html": [
       "<div>\n",
       "<style scoped>\n",
       "    .dataframe tbody tr th:only-of-type {\n",
       "        vertical-align: middle;\n",
       "    }\n",
       "\n",
       "    .dataframe tbody tr th {\n",
       "        vertical-align: top;\n",
       "    }\n",
       "\n",
       "    .dataframe thead th {\n",
       "        text-align: right;\n",
       "    }\n",
       "</style>\n",
       "<table border=\"1\" class=\"dataframe\">\n",
       "  <thead>\n",
       "    <tr style=\"text-align: right;\">\n",
       "      <th></th>\n",
       "      <th>대구분</th>\n",
       "      <th>order2</th>\n",
       "    </tr>\n",
       "  </thead>\n",
       "  <tbody>\n",
       "    <tr>\n",
       "      <th>0</th>\n",
       "      <td>가공</td>\n",
       "      <td>0</td>\n",
       "    </tr>\n",
       "    <tr>\n",
       "      <th>1</th>\n",
       "      <td>소조립</td>\n",
       "      <td>1</td>\n",
       "    </tr>\n",
       "    <tr>\n",
       "      <th>2</th>\n",
       "      <td>판넬조립</td>\n",
       "      <td>2</td>\n",
       "    </tr>\n",
       "    <tr>\n",
       "      <th>3</th>\n",
       "      <td>대조립</td>\n",
       "      <td>3</td>\n",
       "    </tr>\n",
       "    <tr>\n",
       "      <th>4</th>\n",
       "      <td>의장생산</td>\n",
       "      <td>4</td>\n",
       "    </tr>\n",
       "    <tr>\n",
       "      <th>5</th>\n",
       "      <td>선행의장</td>\n",
       "      <td>5</td>\n",
       "    </tr>\n",
       "    <tr>\n",
       "      <th>6</th>\n",
       "      <td>선실선행의장</td>\n",
       "      <td>6</td>\n",
       "    </tr>\n",
       "    <tr>\n",
       "      <th>7</th>\n",
       "      <td>선행도장</td>\n",
       "      <td>7</td>\n",
       "    </tr>\n",
       "    <tr>\n",
       "      <th>8</th>\n",
       "      <td>선실생산</td>\n",
       "      <td>8</td>\n",
       "    </tr>\n",
       "    <tr>\n",
       "      <th>9</th>\n",
       "      <td>건조</td>\n",
       "      <td>9</td>\n",
       "    </tr>\n",
       "    <tr>\n",
       "      <th>10</th>\n",
       "      <td>후행의장</td>\n",
       "      <td>10</td>\n",
       "    </tr>\n",
       "    <tr>\n",
       "      <th>11</th>\n",
       "      <td>기계의장</td>\n",
       "      <td>11</td>\n",
       "    </tr>\n",
       "    <tr>\n",
       "      <th>12</th>\n",
       "      <td>LNG공사</td>\n",
       "      <td>12</td>\n",
       "    </tr>\n",
       "    <tr>\n",
       "      <th>13</th>\n",
       "      <td>후행도장</td>\n",
       "      <td>13</td>\n",
       "    </tr>\n",
       "    <tr>\n",
       "      <th>14</th>\n",
       "      <td>시운전</td>\n",
       "      <td>14</td>\n",
       "    </tr>\n",
       "    <tr>\n",
       "      <th>15</th>\n",
       "      <td>운항관제</td>\n",
       "      <td>15</td>\n",
       "    </tr>\n",
       "    <tr>\n",
       "      <th>16</th>\n",
       "      <td>발판지원</td>\n",
       "      <td>16</td>\n",
       "    </tr>\n",
       "    <tr>\n",
       "      <th>17</th>\n",
       "      <td>공사지원</td>\n",
       "      <td>17</td>\n",
       "    </tr>\n",
       "    <tr>\n",
       "      <th>18</th>\n",
       "      <td>QM</td>\n",
       "      <td>18</td>\n",
       "    </tr>\n",
       "    <tr>\n",
       "      <th>19</th>\n",
       "      <td>기능</td>\n",
       "      <td>19</td>\n",
       "    </tr>\n",
       "  </tbody>\n",
       "</table>\n",
       "</div>"
      ],
      "text/plain": [
       "       대구분  order2\n",
       "0       가공       0\n",
       "1      소조립       1\n",
       "2     판넬조립       2\n",
       "3      대조립       3\n",
       "4     의장생산       4\n",
       "5     선행의장       5\n",
       "6   선실선행의장       6\n",
       "7     선행도장       7\n",
       "8     선실생산       8\n",
       "9       건조       9\n",
       "10    후행의장      10\n",
       "11    기계의장      11\n",
       "12   LNG공사      12\n",
       "13    후행도장      13\n",
       "14     시운전      14\n",
       "15    운항관제      15\n",
       "16    발판지원      16\n",
       "17    공사지원      17\n",
       "18      QM      18\n",
       "19      기능      19"
      ]
     },
     "execution_count": 106,
     "metadata": {},
     "output_type": "execute_result"
    }
   ],
   "source": [
    "process = [\"가공\", \"소조립\", \"판넬조립\", \"대조립\", \"의장생산\", \"선행의장\", \"선실선행의장\", \"선행도장\",\n",
    "           \"선실생산\", \"건조\",\"후행의장\", \"기계의장\", \"LNG공사\", \"후행도장\", \"시운전\", \"운항관제\",\n",
    "          \"발판지원\", \"공사지원\", \"QM\", \"기능\"]\n",
    "proce_dict = {proce : int(i) for i, proce in enumerate(process)}\n",
    "df_process = pd.DataFrame(proce_dict.items(), columns=['대구분', 'order2'])\n",
    "df_process"
   ]
  },
  {
   "cell_type": "code",
   "execution_count": 108,
   "metadata": {},
   "outputs": [
    {
     "data": {
      "text/html": [
       "<div>\n",
       "<style scoped>\n",
       "    .dataframe tbody tr th:only-of-type {\n",
       "        vertical-align: middle;\n",
       "    }\n",
       "\n",
       "    .dataframe tbody tr th {\n",
       "        vertical-align: top;\n",
       "    }\n",
       "\n",
       "    .dataframe thead th {\n",
       "        text-align: right;\n",
       "    }\n",
       "</style>\n",
       "<table border=\"1\" class=\"dataframe\">\n",
       "  <thead>\n",
       "    <tr style=\"text-align: right;\">\n",
       "      <th></th>\n",
       "      <th>대구분</th>\n",
       "      <th>부서</th>\n",
       "      <th>WORK_STAND_NM</th>\n",
       "      <th>WORK_ACT</th>\n",
       "    </tr>\n",
       "  </thead>\n",
       "  <tbody>\n",
       "    <tr>\n",
       "      <th>0</th>\n",
       "      <td>LNG공사</td>\n",
       "      <td>LNG공사부</td>\n",
       "      <td>CARGO TANK MEMB. MARKING</td>\n",
       "      <td>14</td>\n",
       "    </tr>\n",
       "    <tr>\n",
       "      <th>1</th>\n",
       "      <td>LNG공사</td>\n",
       "      <td>LNG공사부</td>\n",
       "      <td>CARGO TANK MEMB. PANEL보온 I/P 설치</td>\n",
       "      <td>14</td>\n",
       "    </tr>\n",
       "    <tr>\n",
       "      <th>2</th>\n",
       "      <td>LNG공사</td>\n",
       "      <td>LNG공사부</td>\n",
       "      <td>CARGO TANK MEMB. PANEL보온 TPX/TBP 설치</td>\n",
       "      <td>27</td>\n",
       "    </tr>\n",
       "    <tr>\n",
       "      <th>3</th>\n",
       "      <td>LNG공사</td>\n",
       "      <td>LNG공사부</td>\n",
       "      <td>CARGO TANK MEMB. S/OPENING 보온</td>\n",
       "      <td>9</td>\n",
       "    </tr>\n",
       "    <tr>\n",
       "      <th>4</th>\n",
       "      <td>LNG공사</td>\n",
       "      <td>LNG공사부</td>\n",
       "      <td>CARGO TANK MEMB. 설치 MEMB. FIT-UP</td>\n",
       "      <td>6</td>\n",
       "    </tr>\n",
       "    <tr>\n",
       "      <th>...</th>\n",
       "      <td>...</td>\n",
       "      <td>...</td>\n",
       "      <td>...</td>\n",
       "      <td>...</td>\n",
       "    </tr>\n",
       "    <tr>\n",
       "      <th>1399</th>\n",
       "      <td>후행의장</td>\n",
       "      <td>의장3부</td>\n",
       "      <td>철의장 검사_FAN &amp; DAMPER OPERATION/VOLUME TEST</td>\n",
       "      <td>16</td>\n",
       "    </tr>\n",
       "    <tr>\n",
       "      <th>1400</th>\n",
       "      <td>후행의장</td>\n",
       "      <td>의장3부</td>\n",
       "      <td>철의장 검사_LIFE &amp; RESCUE BOAT/DAVIT TEST</td>\n",
       "      <td>24</td>\n",
       "    </tr>\n",
       "    <tr>\n",
       "      <th>1401</th>\n",
       "      <td>후행의장</td>\n",
       "      <td>의장3부</td>\n",
       "      <td>함석시공</td>\n",
       "      <td>20</td>\n",
       "    </tr>\n",
       "    <tr>\n",
       "      <th>1402</th>\n",
       "      <td>후행의장</td>\n",
       "      <td>의장3부</td>\n",
       "      <td>후PE 전장 설치</td>\n",
       "      <td>44</td>\n",
       "    </tr>\n",
       "    <tr>\n",
       "      <th>1403</th>\n",
       "      <td>후행의장</td>\n",
       "      <td>의장생산부</td>\n",
       "      <td>조정관 설치</td>\n",
       "      <td>38</td>\n",
       "    </tr>\n",
       "  </tbody>\n",
       "</table>\n",
       "<p>1404 rows × 4 columns</p>\n",
       "</div>"
      ],
      "text/plain": [
       "        대구분      부서                              WORK_STAND_NM  WORK_ACT\n",
       "0     LNG공사  LNG공사부                   CARGO TANK MEMB. MARKING        14\n",
       "1     LNG공사  LNG공사부            CARGO TANK MEMB. PANEL보온 I/P 설치        14\n",
       "2     LNG공사  LNG공사부        CARGO TANK MEMB. PANEL보온 TPX/TBP 설치        27\n",
       "3     LNG공사  LNG공사부              CARGO TANK MEMB. S/OPENING 보온         9\n",
       "4     LNG공사  LNG공사부           CARGO TANK MEMB. 설치 MEMB. FIT-UP         6\n",
       "...     ...     ...                                        ...       ...\n",
       "1399   후행의장    의장3부  철의장 검사_FAN & DAMPER OPERATION/VOLUME TEST        16\n",
       "1400   후행의장    의장3부       철의장 검사_LIFE & RESCUE BOAT/DAVIT TEST        24\n",
       "1401   후행의장    의장3부                                       함석시공        20\n",
       "1402   후행의장    의장3부                                  후PE 전장 설치        44\n",
       "1403   후행의장   의장생산부                                     조정관 설치        38\n",
       "\n",
       "[1404 rows x 4 columns]"
      ]
     },
     "execution_count": 108,
     "metadata": {},
     "output_type": "execute_result"
    }
   ],
   "source": [
    "dff = df.groupby(['대구분', '부서', 'WORK_STAND_NM'], as_index=False)['WORK_ACT'].count()\n",
    "dff"
   ]
  },
  {
   "cell_type": "code",
   "execution_count": 109,
   "metadata": {},
   "outputs": [
    {
     "data": {
      "text/html": [
       "<div>\n",
       "<style scoped>\n",
       "    .dataframe tbody tr th:only-of-type {\n",
       "        vertical-align: middle;\n",
       "    }\n",
       "\n",
       "    .dataframe tbody tr th {\n",
       "        vertical-align: top;\n",
       "    }\n",
       "\n",
       "    .dataframe thead th {\n",
       "        text-align: right;\n",
       "    }\n",
       "</style>\n",
       "<table border=\"1\" class=\"dataframe\">\n",
       "  <thead>\n",
       "    <tr style=\"text-align: right;\">\n",
       "      <th></th>\n",
       "      <th>대구분</th>\n",
       "      <th>부서</th>\n",
       "      <th>WORK_ACT</th>\n",
       "    </tr>\n",
       "  </thead>\n",
       "  <tbody>\n",
       "    <tr>\n",
       "      <th>0</th>\n",
       "      <td>LNG공사</td>\n",
       "      <td>LNG공사부</td>\n",
       "      <td>182</td>\n",
       "    </tr>\n",
       "    <tr>\n",
       "      <th>1</th>\n",
       "      <td>QM</td>\n",
       "      <td>조선해양품질경영1부</td>\n",
       "      <td>238</td>\n",
       "    </tr>\n",
       "    <tr>\n",
       "      <th>2</th>\n",
       "      <td>QM</td>\n",
       "      <td>조선해양품질경영2부</td>\n",
       "      <td>278</td>\n",
       "    </tr>\n",
       "    <tr>\n",
       "      <th>3</th>\n",
       "      <td>가공</td>\n",
       "      <td>가공소조립부</td>\n",
       "      <td>107</td>\n",
       "    </tr>\n",
       "    <tr>\n",
       "      <th>4</th>\n",
       "      <td>건조</td>\n",
       "      <td>건조1부</td>\n",
       "      <td>271</td>\n",
       "    </tr>\n",
       "    <tr>\n",
       "      <th>...</th>\n",
       "      <td>...</td>\n",
       "      <td>...</td>\n",
       "      <td>...</td>\n",
       "    </tr>\n",
       "    <tr>\n",
       "      <th>86</th>\n",
       "      <td>후행의장</td>\n",
       "      <td>선실생산부</td>\n",
       "      <td>38</td>\n",
       "    </tr>\n",
       "    <tr>\n",
       "      <th>87</th>\n",
       "      <td>후행의장</td>\n",
       "      <td>의장1부</td>\n",
       "      <td>1167</td>\n",
       "    </tr>\n",
       "    <tr>\n",
       "      <th>88</th>\n",
       "      <td>후행의장</td>\n",
       "      <td>의장2부</td>\n",
       "      <td>1078</td>\n",
       "    </tr>\n",
       "    <tr>\n",
       "      <th>89</th>\n",
       "      <td>후행의장</td>\n",
       "      <td>의장3부</td>\n",
       "      <td>1076</td>\n",
       "    </tr>\n",
       "    <tr>\n",
       "      <th>90</th>\n",
       "      <td>후행의장</td>\n",
       "      <td>의장생산부</td>\n",
       "      <td>38</td>\n",
       "    </tr>\n",
       "  </tbody>\n",
       "</table>\n",
       "<p>91 rows × 3 columns</p>\n",
       "</div>"
      ],
      "text/plain": [
       "      대구분          부서  WORK_ACT\n",
       "0   LNG공사      LNG공사부       182\n",
       "1      QM  조선해양품질경영1부       238\n",
       "2      QM  조선해양품질경영2부       278\n",
       "3      가공      가공소조립부       107\n",
       "4      건조        건조1부       271\n",
       "..    ...         ...       ...\n",
       "86   후행의장       선실생산부        38\n",
       "87   후행의장        의장1부      1167\n",
       "88   후행의장        의장2부      1078\n",
       "89   후행의장        의장3부      1076\n",
       "90   후행의장       의장생산부        38\n",
       "\n",
       "[91 rows x 3 columns]"
      ]
     },
     "execution_count": 109,
     "metadata": {},
     "output_type": "execute_result"
    }
   ],
   "source": [
    "dff1 = dff.groupby(['대구분', '부서'], as_index=False)['WORK_ACT'].sum()\n",
    "dff1"
   ]
  },
  {
   "cell_type": "code",
   "execution_count": 110,
   "metadata": {},
   "outputs": [
    {
     "data": {
      "text/html": [
       "<div>\n",
       "<style scoped>\n",
       "    .dataframe tbody tr th:only-of-type {\n",
       "        vertical-align: middle;\n",
       "    }\n",
       "\n",
       "    .dataframe tbody tr th {\n",
       "        vertical-align: top;\n",
       "    }\n",
       "\n",
       "    .dataframe thead th {\n",
       "        text-align: right;\n",
       "    }\n",
       "</style>\n",
       "<table border=\"1\" class=\"dataframe\">\n",
       "  <thead>\n",
       "    <tr style=\"text-align: right;\">\n",
       "      <th></th>\n",
       "      <th>대구분</th>\n",
       "      <th>부서</th>\n",
       "      <th>WORK_ACT</th>\n",
       "      <th>order1</th>\n",
       "    </tr>\n",
       "  </thead>\n",
       "  <tbody>\n",
       "    <tr>\n",
       "      <th>0</th>\n",
       "      <td>LNG공사</td>\n",
       "      <td>LNG공사부</td>\n",
       "      <td>182</td>\n",
       "      <td>18</td>\n",
       "    </tr>\n",
       "    <tr>\n",
       "      <th>1</th>\n",
       "      <td>QM</td>\n",
       "      <td>조선해양품질경영1부</td>\n",
       "      <td>238</td>\n",
       "      <td>24</td>\n",
       "    </tr>\n",
       "    <tr>\n",
       "      <th>2</th>\n",
       "      <td>QM</td>\n",
       "      <td>조선해양품질경영2부</td>\n",
       "      <td>278</td>\n",
       "      <td>25</td>\n",
       "    </tr>\n",
       "    <tr>\n",
       "      <th>3</th>\n",
       "      <td>가공</td>\n",
       "      <td>가공소조립부</td>\n",
       "      <td>107</td>\n",
       "      <td>0</td>\n",
       "    </tr>\n",
       "    <tr>\n",
       "      <th>4</th>\n",
       "      <td>건조</td>\n",
       "      <td>건조1부</td>\n",
       "      <td>271</td>\n",
       "      <td>8</td>\n",
       "    </tr>\n",
       "    <tr>\n",
       "      <th>...</th>\n",
       "      <td>...</td>\n",
       "      <td>...</td>\n",
       "      <td>...</td>\n",
       "      <td>...</td>\n",
       "    </tr>\n",
       "    <tr>\n",
       "      <th>86</th>\n",
       "      <td>후행의장</td>\n",
       "      <td>선실생산부</td>\n",
       "      <td>38</td>\n",
       "      <td>7</td>\n",
       "    </tr>\n",
       "    <tr>\n",
       "      <th>87</th>\n",
       "      <td>후행의장</td>\n",
       "      <td>의장1부</td>\n",
       "      <td>1167</td>\n",
       "      <td>11</td>\n",
       "    </tr>\n",
       "    <tr>\n",
       "      <th>88</th>\n",
       "      <td>후행의장</td>\n",
       "      <td>의장2부</td>\n",
       "      <td>1078</td>\n",
       "      <td>12</td>\n",
       "    </tr>\n",
       "    <tr>\n",
       "      <th>89</th>\n",
       "      <td>후행의장</td>\n",
       "      <td>의장3부</td>\n",
       "      <td>1076</td>\n",
       "      <td>13</td>\n",
       "    </tr>\n",
       "    <tr>\n",
       "      <th>90</th>\n",
       "      <td>후행의장</td>\n",
       "      <td>의장생산부</td>\n",
       "      <td>38</td>\n",
       "      <td>4</td>\n",
       "    </tr>\n",
       "  </tbody>\n",
       "</table>\n",
       "<p>91 rows × 4 columns</p>\n",
       "</div>"
      ],
      "text/plain": [
       "      대구분          부서  WORK_ACT  order1\n",
       "0   LNG공사      LNG공사부       182      18\n",
       "1      QM  조선해양품질경영1부       238      24\n",
       "2      QM  조선해양품질경영2부       278      25\n",
       "3      가공      가공소조립부       107       0\n",
       "4      건조        건조1부       271       8\n",
       "..    ...         ...       ...     ...\n",
       "86   후행의장       선실생산부        38       7\n",
       "87   후행의장        의장1부      1167      11\n",
       "88   후행의장        의장2부      1078      12\n",
       "89   후행의장        의장3부      1076      13\n",
       "90   후행의장       의장생산부        38       4\n",
       "\n",
       "[91 rows x 4 columns]"
      ]
     },
     "execution_count": 110,
     "metadata": {},
     "output_type": "execute_result"
    }
   ],
   "source": [
    "dff2 = pd.merge(dff1, df_depts, how='left', on='부서')\n",
    "dff2"
   ]
  },
  {
   "cell_type": "code",
   "execution_count": 117,
   "metadata": {},
   "outputs": [
    {
     "data": {
      "text/html": [
       "<div>\n",
       "<style scoped>\n",
       "    .dataframe tbody tr th:only-of-type {\n",
       "        vertical-align: middle;\n",
       "    }\n",
       "\n",
       "    .dataframe tbody tr th {\n",
       "        vertical-align: top;\n",
       "    }\n",
       "\n",
       "    .dataframe thead th {\n",
       "        text-align: right;\n",
       "    }\n",
       "</style>\n",
       "<table border=\"1\" class=\"dataframe\">\n",
       "  <thead>\n",
       "    <tr style=\"text-align: right;\">\n",
       "      <th></th>\n",
       "      <th>대구분</th>\n",
       "      <th>부서</th>\n",
       "      <th>WORK_ACT</th>\n",
       "      <th>order1</th>\n",
       "      <th>order2</th>\n",
       "    </tr>\n",
       "  </thead>\n",
       "  <tbody>\n",
       "    <tr>\n",
       "      <th>0</th>\n",
       "      <td>LNG공사</td>\n",
       "      <td>LNG공사부</td>\n",
       "      <td>182</td>\n",
       "      <td>18</td>\n",
       "      <td>12.0</td>\n",
       "    </tr>\n",
       "    <tr>\n",
       "      <th>1</th>\n",
       "      <td>QM</td>\n",
       "      <td>조선해양품질경영1부</td>\n",
       "      <td>238</td>\n",
       "      <td>24</td>\n",
       "      <td>18.0</td>\n",
       "    </tr>\n",
       "    <tr>\n",
       "      <th>2</th>\n",
       "      <td>QM</td>\n",
       "      <td>조선해양품질경영2부</td>\n",
       "      <td>278</td>\n",
       "      <td>25</td>\n",
       "      <td>18.0</td>\n",
       "    </tr>\n",
       "    <tr>\n",
       "      <th>3</th>\n",
       "      <td>가공</td>\n",
       "      <td>가공소조립부</td>\n",
       "      <td>107</td>\n",
       "      <td>0</td>\n",
       "      <td>0.0</td>\n",
       "    </tr>\n",
       "    <tr>\n",
       "      <th>4</th>\n",
       "      <td>건조</td>\n",
       "      <td>건조1부</td>\n",
       "      <td>271</td>\n",
       "      <td>8</td>\n",
       "      <td>9.0</td>\n",
       "    </tr>\n",
       "    <tr>\n",
       "      <th>...</th>\n",
       "      <td>...</td>\n",
       "      <td>...</td>\n",
       "      <td>...</td>\n",
       "      <td>...</td>\n",
       "      <td>...</td>\n",
       "    </tr>\n",
       "    <tr>\n",
       "      <th>86</th>\n",
       "      <td>후행의장</td>\n",
       "      <td>선실생산부</td>\n",
       "      <td>38</td>\n",
       "      <td>7</td>\n",
       "      <td>10.0</td>\n",
       "    </tr>\n",
       "    <tr>\n",
       "      <th>87</th>\n",
       "      <td>후행의장</td>\n",
       "      <td>의장1부</td>\n",
       "      <td>1167</td>\n",
       "      <td>11</td>\n",
       "      <td>10.0</td>\n",
       "    </tr>\n",
       "    <tr>\n",
       "      <th>88</th>\n",
       "      <td>후행의장</td>\n",
       "      <td>의장2부</td>\n",
       "      <td>1078</td>\n",
       "      <td>12</td>\n",
       "      <td>10.0</td>\n",
       "    </tr>\n",
       "    <tr>\n",
       "      <th>89</th>\n",
       "      <td>후행의장</td>\n",
       "      <td>의장3부</td>\n",
       "      <td>1076</td>\n",
       "      <td>13</td>\n",
       "      <td>10.0</td>\n",
       "    </tr>\n",
       "    <tr>\n",
       "      <th>90</th>\n",
       "      <td>후행의장</td>\n",
       "      <td>의장생산부</td>\n",
       "      <td>38</td>\n",
       "      <td>4</td>\n",
       "      <td>10.0</td>\n",
       "    </tr>\n",
       "  </tbody>\n",
       "</table>\n",
       "<p>91 rows × 5 columns</p>\n",
       "</div>"
      ],
      "text/plain": [
       "      대구분          부서  WORK_ACT  order1  order2\n",
       "0   LNG공사      LNG공사부       182      18    12.0\n",
       "1      QM  조선해양품질경영1부       238      24    18.0\n",
       "2      QM  조선해양품질경영2부       278      25    18.0\n",
       "3      가공      가공소조립부       107       0     0.0\n",
       "4      건조        건조1부       271       8     9.0\n",
       "..    ...         ...       ...     ...     ...\n",
       "86   후행의장       선실생산부        38       7    10.0\n",
       "87   후행의장        의장1부      1167      11    10.0\n",
       "88   후행의장        의장2부      1078      12    10.0\n",
       "89   후행의장        의장3부      1076      13    10.0\n",
       "90   후행의장       의장생산부        38       4    10.0\n",
       "\n",
       "[91 rows x 5 columns]"
      ]
     },
     "execution_count": 117,
     "metadata": {},
     "output_type": "execute_result"
    }
   ],
   "source": [
    "dff3 = pd.merge(dff2, df_process, how='left', on='대구분')\n",
    "dff3"
   ]
  },
  {
   "cell_type": "code",
   "execution_count": 131,
   "metadata": {},
   "outputs": [
    {
     "data": {
      "text/html": [
       "<div>\n",
       "<style scoped>\n",
       "    .dataframe tbody tr th:only-of-type {\n",
       "        vertical-align: middle;\n",
       "    }\n",
       "\n",
       "    .dataframe tbody tr th {\n",
       "        vertical-align: top;\n",
       "    }\n",
       "\n",
       "    .dataframe thead th {\n",
       "        text-align: right;\n",
       "    }\n",
       "</style>\n",
       "<table border=\"1\" class=\"dataframe\">\n",
       "  <thead>\n",
       "    <tr style=\"text-align: right;\">\n",
       "      <th></th>\n",
       "      <th>대구분</th>\n",
       "      <th>부서</th>\n",
       "      <th>WORK_ACT</th>\n",
       "      <th>order1</th>\n",
       "      <th>order2</th>\n",
       "    </tr>\n",
       "  </thead>\n",
       "  <tbody>\n",
       "    <tr>\n",
       "      <th>3</th>\n",
       "      <td>가공</td>\n",
       "      <td>가공소조립부</td>\n",
       "      <td>107</td>\n",
       "      <td>0</td>\n",
       "      <td>0.0</td>\n",
       "    </tr>\n",
       "    <tr>\n",
       "      <th>75</th>\n",
       "      <td>소조립</td>\n",
       "      <td>가공소조립부</td>\n",
       "      <td>650</td>\n",
       "      <td>0</td>\n",
       "      <td>1.0</td>\n",
       "    </tr>\n",
       "    <tr>\n",
       "      <th>66</th>\n",
       "      <td>선행의장</td>\n",
       "      <td>가공소조립부</td>\n",
       "      <td>34</td>\n",
       "      <td>0</td>\n",
       "      <td>5.0</td>\n",
       "    </tr>\n",
       "    <tr>\n",
       "      <th>48</th>\n",
       "      <td>선실선행의장</td>\n",
       "      <td>가공소조립부</td>\n",
       "      <td>8</td>\n",
       "      <td>0</td>\n",
       "      <td>6.0</td>\n",
       "    </tr>\n",
       "    <tr>\n",
       "      <th>13</th>\n",
       "      <td>기능</td>\n",
       "      <td>가공소조립부</td>\n",
       "      <td>367</td>\n",
       "      <td>0</td>\n",
       "      <td>19.0</td>\n",
       "    </tr>\n",
       "    <tr>\n",
       "      <th>...</th>\n",
       "      <td>...</td>\n",
       "      <td>...</td>\n",
       "      <td>...</td>\n",
       "      <td>...</td>\n",
       "      <td>...</td>\n",
       "    </tr>\n",
       "    <tr>\n",
       "      <th>33</th>\n",
       "      <td>기능</td>\n",
       "      <td>자재운영부</td>\n",
       "      <td>220</td>\n",
       "      <td>23</td>\n",
       "      <td>19.0</td>\n",
       "    </tr>\n",
       "    <tr>\n",
       "      <th>1</th>\n",
       "      <td>QM</td>\n",
       "      <td>조선해양품질경영1부</td>\n",
       "      <td>238</td>\n",
       "      <td>24</td>\n",
       "      <td>18.0</td>\n",
       "    </tr>\n",
       "    <tr>\n",
       "      <th>34</th>\n",
       "      <td>기능</td>\n",
       "      <td>조선해양품질경영1부</td>\n",
       "      <td>96</td>\n",
       "      <td>24</td>\n",
       "      <td>19.0</td>\n",
       "    </tr>\n",
       "    <tr>\n",
       "      <th>2</th>\n",
       "      <td>QM</td>\n",
       "      <td>조선해양품질경영2부</td>\n",
       "      <td>278</td>\n",
       "      <td>25</td>\n",
       "      <td>18.0</td>\n",
       "    </tr>\n",
       "    <tr>\n",
       "      <th>35</th>\n",
       "      <td>기능</td>\n",
       "      <td>조선해양품질경영2부</td>\n",
       "      <td>96</td>\n",
       "      <td>25</td>\n",
       "      <td>19.0</td>\n",
       "    </tr>\n",
       "  </tbody>\n",
       "</table>\n",
       "<p>91 rows × 5 columns</p>\n",
       "</div>"
      ],
      "text/plain": [
       "       대구분          부서  WORK_ACT  order1  order2\n",
       "3       가공      가공소조립부       107       0     0.0\n",
       "75     소조립      가공소조립부       650       0     1.0\n",
       "66    선행의장      가공소조립부        34       0     5.0\n",
       "48  선실선행의장      가공소조립부         8       0     6.0\n",
       "13      기능      가공소조립부       367       0    19.0\n",
       "..     ...         ...       ...     ...     ...\n",
       "33      기능       자재운영부       220      23    19.0\n",
       "1       QM  조선해양품질경영1부       238      24    18.0\n",
       "34      기능  조선해양품질경영1부        96      24    19.0\n",
       "2       QM  조선해양품질경영2부       278      25    18.0\n",
       "35      기능  조선해양품질경영2부        96      25    19.0\n",
       "\n",
       "[91 rows x 5 columns]"
      ]
     },
     "execution_count": 131,
     "metadata": {},
     "output_type": "execute_result"
    }
   ],
   "source": [
    "dff4 = dff3.sort_values(['order1', 'order2'], ascending=(True, True))\n",
    "dff4"
   ]
  },
  {
   "cell_type": "code",
   "execution_count": 167,
   "metadata": {},
   "outputs": [],
   "source": [
    "dff4 = dff4[dff4[\"대구분\"] != \"기능\"]"
   ]
  },
  {
   "cell_type": "code",
   "execution_count": 168,
   "metadata": {},
   "outputs": [
    {
     "data": {
      "application/vnd.plotly.v1+json": {
       "config": {
        "plotlyServerURL": "https://plotly.com"
       },
       "data": [
        {
         "customdata": [
          [
           "가공소조립부"
          ],
          [
           "가공소조립부"
          ],
          [
           "가공소조립부"
          ],
          [
           "가공소조립부"
          ]
         ],
         "hovertemplate": "<b>%{hovertext}</b><br><br>대구분=%{text}<br>작업행동 개수(로그)=%{marker.size}<extra></extra>",
         "hovertext": [
          "가공소조립부",
          "가공소조립부",
          "가공소조립부",
          "가공소조립부"
         ],
         "legendgroup": "",
         "marker": {
          "color": "rgb(76,114,176)",
          "opacity": 0.5,
          "size": [
           107,
           650,
           34,
           8
          ],
          "sizemode": "area",
          "sizeref": 0.373125,
          "symbol": "circle"
         },
         "mode": "markers+text",
         "name": "가공소조립부",
         "scene": "scene",
         "showlegend": true,
         "text": [
          "가공",
          "소조립",
          "선행의장",
          "선실선행의장"
         ],
         "type": "scatter3d",
         "x": [
          "가공소조립부",
          "가공소조립부",
          "가공소조립부",
          "가공소조립부"
         ],
         "y": [
          "가공",
          "소조립",
          "선행의장",
          "선실선행의장"
         ],
         "z": [
          107,
          650,
          34,
          8
         ]
        },
        {
         "customdata": [
          [
           "판넬조립부"
          ],
          [
           "판넬조립부"
          ],
          [
           "판넬조립부"
          ],
          [
           "판넬조립부"
          ],
          [
           "판넬조립부"
          ]
         ],
         "hovertemplate": "<b>%{hovertext}</b><br><br>대구분=%{text}<br>작업행동 개수(로그)=%{marker.size}<extra></extra>",
         "hovertext": [
          "판넬조립부",
          "판넬조립부",
          "판넬조립부",
          "판넬조립부",
          "판넬조립부"
         ],
         "legendgroup": "",
         "marker": {
          "color": "rgb(221,132,82)",
          "opacity": 0.5,
          "size": [
           15,
           103,
           91,
           33,
           265
          ],
          "sizemode": "area",
          "sizeref": 0.373125,
          "symbol": "circle"
         },
         "mode": "markers+text",
         "name": "판넬조립부",
         "scene": "scene",
         "showlegend": true,
         "text": [
          "대조립",
          "선행의장",
          "선실선행의장",
          "선실생산",
          "판넬"
         ],
         "type": "scatter3d",
         "x": [
          "판넬조립부",
          "판넬조립부",
          "판넬조립부",
          "판넬조립부",
          "판넬조립부"
         ],
         "y": [
          "대조립",
          "선행의장",
          "선실선행의장",
          "선실생산",
          "판넬"
         ],
         "z": [
          15,
          103,
          91,
          33,
          265
         ]
        },
        {
         "customdata": [
          [
           "대조립1부"
          ],
          [
           "대조립1부"
          ],
          [
           "대조립1부"
          ],
          [
           "대조립1부"
          ]
         ],
         "hovertemplate": "<b>%{hovertext}</b><br><br>대구분=%{text}<br>작업행동 개수(로그)=%{marker.size}<extra></extra>",
         "hovertext": [
          "대조립1부",
          "대조립1부",
          "대조립1부",
          "대조립1부"
         ],
         "legendgroup": "",
         "marker": {
          "color": "rgb(85,168,104)",
          "opacity": 0.5,
          "size": [
           398,
           88,
           48,
           16
          ],
          "sizemode": "area",
          "sizeref": 0.373125,
          "symbol": "circle"
         },
         "mode": "markers+text",
         "name": "대조립1부",
         "scene": "scene",
         "showlegend": true,
         "text": [
          "대조립",
          "선행의장",
          "선실선행의장",
          "선실생산"
         ],
         "type": "scatter3d",
         "x": [
          "대조립1부",
          "대조립1부",
          "대조립1부",
          "대조립1부"
         ],
         "y": [
          "대조립",
          "선행의장",
          "선실선행의장",
          "선실생산"
         ],
         "z": [
          398,
          88,
          48,
          16
         ]
        },
        {
         "customdata": [
          [
           "대조립2부"
          ],
          [
           "대조립2부"
          ],
          [
           "대조립2부"
          ],
          [
           "대조립2부"
          ]
         ],
         "hovertemplate": "<b>%{hovertext}</b><br><br>대구분=%{text}<br>작업행동 개수(로그)=%{marker.size}<extra></extra>",
         "hovertext": [
          "대조립2부",
          "대조립2부",
          "대조립2부",
          "대조립2부"
         ],
         "legendgroup": "",
         "marker": {
          "color": "rgb(196,78,82)",
          "opacity": 0.5,
          "size": [
           559,
           88,
           78,
           38
          ],
          "sizemode": "area",
          "sizeref": 0.373125,
          "symbol": "circle"
         },
         "mode": "markers+text",
         "name": "대조립2부",
         "scene": "scene",
         "showlegend": true,
         "text": [
          "대조립",
          "선행의장",
          "선실선행의장",
          "선실생산"
         ],
         "type": "scatter3d",
         "x": [
          "대조립2부",
          "대조립2부",
          "대조립2부",
          "대조립2부"
         ],
         "y": [
          "대조립",
          "선행의장",
          "선실선행의장",
          "선실생산"
         ],
         "z": [
          559,
          88,
          78,
          38
         ]
        },
        {
         "customdata": [
          [
           "의장생산부"
          ],
          [
           "의장생산부"
          ],
          [
           "의장생산부"
          ]
         ],
         "hovertemplate": "<b>%{hovertext}</b><br><br>대구분=%{text}<br>작업행동 개수(로그)=%{marker.size}<extra></extra>",
         "hovertext": [
          "의장생산부",
          "의장생산부",
          "의장생산부"
         ],
         "legendgroup": "",
         "marker": {
          "color": "rgb(129,114,179)",
          "opacity": 0.5,
          "size": [
           665,
           30,
           38
          ],
          "sizemode": "area",
          "sizeref": 0.373125,
          "symbol": "circle"
         },
         "mode": "markers+text",
         "name": "의장생산부",
         "scene": "scene",
         "showlegend": true,
         "text": [
          "의장생산",
          "선행도장",
          "후행의장"
         ],
         "type": "scatter3d",
         "x": [
          "의장생산부",
          "의장생산부",
          "의장생산부"
         ],
         "y": [
          "의장생산",
          "선행도장",
          "후행의장"
         ],
         "z": [
          665,
          30,
          38
         ]
        },
        {
         "customdata": [
          [
           "선행의장부"
          ],
          [
           "선행의장부"
          ],
          [
           "선행의장부"
          ],
          [
           "선행의장부"
          ]
         ],
         "hovertemplate": "<b>%{hovertext}</b><br><br>대구분=%{text}<br>작업행동 개수(로그)=%{marker.size}<extra></extra>",
         "hovertext": [
          "선행의장부",
          "선행의장부",
          "선행의장부",
          "선행의장부"
         ],
         "legendgroup": "",
         "marker": {
          "color": "rgb(147,120,96)",
          "opacity": 0.5,
          "size": [
           353,
           443,
           97,
           8
          ],
          "sizemode": "area",
          "sizeref": 0.373125,
          "symbol": "circle"
         },
         "mode": "markers+text",
         "name": "선행의장부",
         "scene": "scene",
         "showlegend": true,
         "text": [
          "선행의장",
          "선실선행의장",
          "선실생산",
          "기계의장"
         ],
         "type": "scatter3d",
         "x": [
          "선행의장부",
          "선행의장부",
          "선행의장부",
          "선행의장부"
         ],
         "y": [
          "선행의장",
          "선실선행의장",
          "선실생산",
          "기계의장"
         ],
         "z": [
          353,
          443,
          97,
          8
         ]
        },
        {
         "customdata": [
          [
           "선행도장부"
          ]
         ],
         "hovertemplate": "<b>%{hovertext}</b><br><br>대구분=%{text}<br>작업행동 개수(로그)=%{marker.size}<extra></extra>",
         "hovertext": [
          "선행도장부"
         ],
         "legendgroup": "",
         "marker": {
          "color": "rgb(218,139,195)",
          "opacity": 0.5,
          "size": [
           159
          ],
          "sizemode": "area",
          "sizeref": 0.373125,
          "symbol": "circle"
         },
         "mode": "markers+text",
         "name": "선행도장부",
         "scene": "scene",
         "showlegend": true,
         "text": [
          "선행도장"
         ],
         "type": "scatter3d",
         "x": [
          "선행도장부"
         ],
         "y": [
          "선행도장"
         ],
         "z": [
          159
         ]
        },
        {
         "customdata": [
          [
           "선실생산부"
          ],
          [
           "선실생산부"
          ],
          [
           "선실생산부"
          ],
          [
           "선실생산부"
          ]
         ],
         "hovertemplate": "<b>%{hovertext}</b><br><br>대구분=%{text}<br>작업행동 개수(로그)=%{marker.size}<extra></extra>",
         "hovertext": [
          "선실생산부",
          "선실생산부",
          "선실생산부",
          "선실생산부"
         ],
         "legendgroup": "",
         "marker": {
          "color": "rgb(140,140,140)",
          "opacity": 0.5,
          "size": [
           16,
           19,
           562,
           38
          ],
          "sizemode": "area",
          "sizeref": 0.373125,
          "symbol": "circle"
         },
         "mode": "markers+text",
         "name": "선실생산부",
         "scene": "scene",
         "showlegend": true,
         "text": [
          "선행의장",
          "선실선행의장",
          "선실생산",
          "후행의장"
         ],
         "type": "scatter3d",
         "x": [
          "선실생산부",
          "선실생산부",
          "선실생산부",
          "선실생산부"
         ],
         "y": [
          "선행의장",
          "선실선행의장",
          "선실생산",
          "후행의장"
         ],
         "z": [
          16,
          19,
          562,
          38
         ]
        },
        {
         "customdata": [
          [
           "건조1부"
          ]
         ],
         "hovertemplate": "<b>%{hovertext}</b><br><br>대구분=%{text}<br>작업행동 개수(로그)=%{marker.size}<extra></extra>",
         "hovertext": [
          "건조1부"
         ],
         "legendgroup": "",
         "marker": {
          "color": "rgb(204,185,116)",
          "opacity": 0.5,
          "size": [
           271
          ],
          "sizemode": "area",
          "sizeref": 0.373125,
          "symbol": "circle"
         },
         "mode": "markers+text",
         "name": "건조1부",
         "scene": "scene",
         "showlegend": true,
         "text": [
          "건조"
         ],
         "type": "scatter3d",
         "x": [
          "건조1부"
         ],
         "y": [
          "건조"
         ],
         "z": [
          271
         ]
        },
        {
         "customdata": [
          [
           "건조2부"
          ]
         ],
         "hovertemplate": "<b>%{hovertext}</b><br><br>대구분=%{text}<br>작업행동 개수(로그)=%{marker.size}<extra></extra>",
         "hovertext": [
          "건조2부"
         ],
         "legendgroup": "",
         "marker": {
          "color": "rgb(100,181,205)",
          "opacity": 0.5,
          "size": [
           272
          ],
          "sizemode": "area",
          "sizeref": 0.373125,
          "symbol": "circle"
         },
         "mode": "markers+text",
         "name": "건조2부",
         "scene": "scene",
         "showlegend": true,
         "text": [
          "건조"
         ],
         "type": "scatter3d",
         "x": [
          "건조2부"
         ],
         "y": [
          "건조"
         ],
         "z": [
          272
         ]
        },
        {
         "customdata": [
          [
           "건조3부"
          ]
         ],
         "hovertemplate": "<b>%{hovertext}</b><br><br>대구분=%{text}<br>작업행동 개수(로그)=%{marker.size}<extra></extra>",
         "hovertext": [
          "건조3부"
         ],
         "legendgroup": "",
         "marker": {
          "color": "rgb(76,114,176)",
          "opacity": 0.5,
          "size": [
           271
          ],
          "sizemode": "area",
          "sizeref": 0.373125,
          "symbol": "circle"
         },
         "mode": "markers+text",
         "name": "건조3부",
         "scene": "scene",
         "showlegend": true,
         "text": [
          "건조"
         ],
         "type": "scatter3d",
         "x": [
          "건조3부"
         ],
         "y": [
          "건조"
         ],
         "z": [
          271
         ]
        },
        {
         "customdata": [
          [
           "의장1부"
          ],
          [
           "의장1부"
          ],
          [
           "의장1부"
          ],
          [
           "의장1부"
          ],
          [
           "의장1부"
          ],
          [
           "의장1부"
          ]
         ],
         "hovertemplate": "<b>%{hovertext}</b><br><br>대구분=%{text}<br>작업행동 개수(로그)=%{marker.size}<extra></extra>",
         "hovertext": [
          "의장1부",
          "의장1부",
          "의장1부",
          "의장1부",
          "의장1부",
          "의장1부"
         ],
         "legendgroup": "",
         "marker": {
          "color": "rgb(221,132,82)",
          "opacity": 0.5,
          "size": [
           25,
           29,
           32,
           46,
           1167,
           88
          ],
          "sizemode": "area",
          "sizeref": 0.373125,
          "symbol": "circle"
         },
         "mode": "markers+text",
         "name": "의장1부",
         "scene": "scene",
         "showlegend": true,
         "text": [
          "선행의장",
          "선실선행의장",
          "선행도장",
          "선실생산",
          "후행의장",
          "후행도장"
         ],
         "type": "scatter3d",
         "x": [
          "의장1부",
          "의장1부",
          "의장1부",
          "의장1부",
          "의장1부",
          "의장1부"
         ],
         "y": [
          "선행의장",
          "선실선행의장",
          "선행도장",
          "선실생산",
          "후행의장",
          "후행도장"
         ],
         "z": [
          25,
          29,
          32,
          46,
          1167,
          88
         ]
        },
        {
         "customdata": [
          [
           "의장2부"
          ],
          [
           "의장2부"
          ],
          [
           "의장2부"
          ],
          [
           "의장2부"
          ],
          [
           "의장2부"
          ],
          [
           "의장2부"
          ]
         ],
         "hovertemplate": "<b>%{hovertext}</b><br><br>대구분=%{text}<br>작업행동 개수(로그)=%{marker.size}<extra></extra>",
         "hovertext": [
          "의장2부",
          "의장2부",
          "의장2부",
          "의장2부",
          "의장2부",
          "의장2부"
         ],
         "legendgroup": "",
         "marker": {
          "color": "rgb(85,168,104)",
          "opacity": 0.5,
          "size": [
           25,
           29,
           32,
           93,
           1078,
           88
          ],
          "sizemode": "area",
          "sizeref": 0.373125,
          "symbol": "circle"
         },
         "mode": "markers+text",
         "name": "의장2부",
         "scene": "scene",
         "showlegend": true,
         "text": [
          "선행의장",
          "선실선행의장",
          "선행도장",
          "선실생산",
          "후행의장",
          "후행도장"
         ],
         "type": "scatter3d",
         "x": [
          "의장2부",
          "의장2부",
          "의장2부",
          "의장2부",
          "의장2부",
          "의장2부"
         ],
         "y": [
          "선행의장",
          "선실선행의장",
          "선행도장",
          "선실생산",
          "후행의장",
          "후행도장"
         ],
         "z": [
          25,
          29,
          32,
          93,
          1078,
          88
         ]
        },
        {
         "customdata": [
          [
           "의장3부"
          ],
          [
           "의장3부"
          ],
          [
           "의장3부"
          ],
          [
           "의장3부"
          ],
          [
           "의장3부"
          ],
          [
           "의장3부"
          ]
         ],
         "hovertemplate": "<b>%{hovertext}</b><br><br>대구분=%{text}<br>작업행동 개수(로그)=%{marker.size}<extra></extra>",
         "hovertext": [
          "의장3부",
          "의장3부",
          "의장3부",
          "의장3부",
          "의장3부",
          "의장3부"
         ],
         "legendgroup": "",
         "marker": {
          "color": "rgb(196,78,82)",
          "opacity": 0.5,
          "size": [
           25,
           29,
           31,
           45,
           1076,
           89
          ],
          "sizemode": "area",
          "sizeref": 0.373125,
          "symbol": "circle"
         },
         "mode": "markers+text",
         "name": "의장3부",
         "scene": "scene",
         "showlegend": true,
         "text": [
          "선행의장",
          "선실선행의장",
          "선행도장",
          "선실생산",
          "후행의장",
          "후행도장"
         ],
         "type": "scatter3d",
         "x": [
          "의장3부",
          "의장3부",
          "의장3부",
          "의장3부",
          "의장3부",
          "의장3부"
         ],
         "y": [
          "선행의장",
          "선실선행의장",
          "선행도장",
          "선실생산",
          "후행의장",
          "후행도장"
         ],
         "z": [
          25,
          29,
          31,
          45,
          1076,
          89
         ]
        },
        {
         "customdata": [
          [
           "CHS공사부"
          ],
          [
           "CHS공사부"
          ]
         ],
         "hovertemplate": "<b>%{hovertext}</b><br><br>대구분=%{text}<br>작업행동 개수(로그)=%{marker.size}<extra></extra>",
         "hovertext": [
          "CHS공사부",
          "CHS공사부"
         ],
         "legendgroup": "",
         "marker": {
          "color": "rgb(129,114,179)",
          "opacity": 0.5,
          "size": [
           9,
           859
          ],
          "sizemode": "area",
          "sizeref": 0.373125,
          "symbol": "circle"
         },
         "mode": "markers+text",
         "name": "CHS공사부",
         "scene": "scene",
         "showlegend": true,
         "text": [
          "선행의장",
          "후행의장"
         ],
         "type": "scatter3d",
         "x": [
          "CHS공사부",
          "CHS공사부"
         ],
         "y": [
          "선행의장",
          "후행의장"
         ],
         "z": [
          9,
          859
         ]
        },
        {
         "customdata": [
          [
           "기계의장부"
          ]
         ],
         "hovertemplate": "<b>%{hovertext}</b><br><br>대구분=%{text}<br>작업행동 개수(로그)=%{marker.size}<extra></extra>",
         "hovertext": [
          "기계의장부"
         ],
         "legendgroup": "",
         "marker": {
          "color": "rgb(147,120,96)",
          "opacity": 0.5,
          "size": [
           543
          ],
          "sizemode": "area",
          "sizeref": 0.373125,
          "symbol": "circle"
         },
         "mode": "markers+text",
         "name": "기계의장부",
         "scene": "scene",
         "showlegend": true,
         "text": [
          "기계의장"
         ],
         "type": "scatter3d",
         "x": [
          "기계의장부"
         ],
         "y": [
          "기계의장"
         ],
         "z": [
          543
         ]
        },
        {
         "customdata": [
          [
           "도장1부"
          ],
          [
           "도장1부"
          ]
         ],
         "hovertemplate": "<b>%{hovertext}</b><br><br>대구분=%{text}<br>작업행동 개수(로그)=%{marker.size}<extra></extra>",
         "hovertext": [
          "도장1부",
          "도장1부"
         ],
         "legendgroup": "",
         "marker": {
          "color": "rgb(218,139,195)",
          "opacity": 0.5,
          "size": [
           31,
           96
          ],
          "sizemode": "area",
          "sizeref": 0.373125,
          "symbol": "circle"
         },
         "mode": "markers+text",
         "name": "도장1부",
         "scene": "scene",
         "showlegend": true,
         "text": [
          "선행도장",
          "후행도장"
         ],
         "type": "scatter3d",
         "x": [
          "도장1부",
          "도장1부"
         ],
         "y": [
          "선행도장",
          "후행도장"
         ],
         "z": [
          31,
          96
         ]
        },
        {
         "customdata": [
          [
           "도장2부"
          ],
          [
           "도장2부"
          ]
         ],
         "hovertemplate": "<b>%{hovertext}</b><br><br>대구분=%{text}<br>작업행동 개수(로그)=%{marker.size}<extra></extra>",
         "hovertext": [
          "도장2부",
          "도장2부"
         ],
         "legendgroup": "",
         "marker": {
          "color": "rgb(140,140,140)",
          "opacity": 0.5,
          "size": [
           32,
           95
          ],
          "sizemode": "area",
          "sizeref": 0.373125,
          "symbol": "circle"
         },
         "mode": "markers+text",
         "name": "도장2부",
         "scene": "scene",
         "showlegend": true,
         "text": [
          "선행도장",
          "후행도장"
         ],
         "type": "scatter3d",
         "x": [
          "도장2부",
          "도장2부"
         ],
         "y": [
          "선행도장",
          "후행도장"
         ],
         "z": [
          32,
          95
         ]
        },
        {
         "customdata": [
          [
           "LNG공사부"
          ]
         ],
         "hovertemplate": "<b>%{hovertext}</b><br><br>대구분=%{text}<br>작업행동 개수(로그)=%{marker.size}<extra></extra>",
         "hovertext": [
          "LNG공사부"
         ],
         "legendgroup": "",
         "marker": {
          "color": "rgb(204,185,116)",
          "opacity": 0.5,
          "size": [
           182
          ],
          "sizemode": "area",
          "sizeref": 0.373125,
          "symbol": "circle"
         },
         "mode": "markers+text",
         "name": "LNG공사부",
         "scene": "scene",
         "showlegend": true,
         "text": [
          "LNG공사"
         ],
         "type": "scatter3d",
         "x": [
          "LNG공사부"
         ],
         "y": [
          "LNG공사"
         ],
         "z": [
          182
         ]
        },
        {
         "customdata": [
          [
           "시운전부"
          ],
          [
           "시운전부"
          ]
         ],
         "hovertemplate": "<b>%{hovertext}</b><br><br>대구분=%{text}<br>작업행동 개수(로그)=%{marker.size}<extra></extra>",
         "hovertext": [
          "시운전부",
          "시운전부"
         ],
         "legendgroup": "",
         "marker": {
          "color": "rgb(100,181,205)",
          "opacity": 0.5,
          "size": [
           17,
           2388
          ],
          "sizemode": "area",
          "sizeref": 0.373125,
          "symbol": "circle"
         },
         "mode": "markers+text",
         "name": "시운전부",
         "scene": "scene",
         "showlegend": true,
         "text": [
          "선실선행의장",
          "시운전"
         ],
         "type": "scatter3d",
         "x": [
          "시운전부",
          "시운전부"
         ],
         "y": [
          "선실선행의장",
          "시운전"
         ],
         "z": [
          17,
          2388
         ]
        },
        {
         "customdata": [
          [
           "운항관제과"
          ]
         ],
         "hovertemplate": "<b>%{hovertext}</b><br><br>대구분=%{text}<br>작업행동 개수(로그)=%{marker.size}<extra></extra>",
         "hovertext": [
          "운항관제과"
         ],
         "legendgroup": "",
         "marker": {
          "color": "rgb(76,114,176)",
          "opacity": 0.5,
          "size": [
           477
          ],
          "sizemode": "area",
          "sizeref": 0.373125,
          "symbol": "circle"
         },
         "mode": "markers+text",
         "name": "운항관제과",
         "scene": "scene",
         "showlegend": true,
         "text": [
          "운항관제"
         ],
         "type": "scatter3d",
         "x": [
          "운항관제과"
         ],
         "y": [
          "운항관제"
         ],
         "z": [
          477
         ]
        },
        {
         "customdata": [
          [
           "외업공사지원부"
          ]
         ],
         "hovertemplate": "<b>%{hovertext}</b><br><br>대구분=%{text}<br>작업행동 개수(로그)=%{marker.size}<extra></extra>",
         "hovertext": [
          "외업공사지원부"
         ],
         "legendgroup": "",
         "marker": {
          "color": "rgb(221,132,82)",
          "opacity": 0.5,
          "size": [
           344
          ],
          "sizemode": "area",
          "sizeref": 0.373125,
          "symbol": "circle"
         },
         "mode": "markers+text",
         "name": "외업공사지원부",
         "scene": "scene",
         "showlegend": true,
         "text": [
          "공사지원"
         ],
         "type": "scatter3d",
         "x": [
          "외업공사지원부"
         ],
         "y": [
          "공사지원"
         ],
         "z": [
          344
         ]
        },
        {
         "customdata": [
          [
           "발판지원부"
          ]
         ],
         "hovertemplate": "<b>%{hovertext}</b><br><br>대구분=%{text}<br>작업행동 개수(로그)=%{marker.size}<extra></extra>",
         "hovertext": [
          "발판지원부"
         ],
         "legendgroup": "",
         "marker": {
          "color": "rgb(85,168,104)",
          "opacity": 0.5,
          "size": [
           103
          ],
          "sizemode": "area",
          "sizeref": 0.373125,
          "symbol": "circle"
         },
         "mode": "markers+text",
         "name": "발판지원부",
         "scene": "scene",
         "showlegend": true,
         "text": [
          "공사지원"
         ],
         "type": "scatter3d",
         "x": [
          "발판지원부"
         ],
         "y": [
          "공사지원"
         ],
         "z": [
          103
         ]
        },
        {
         "customdata": [
          [
           "조선해양품질경영1부"
          ]
         ],
         "hovertemplate": "<b>%{hovertext}</b><br><br>대구분=%{text}<br>작업행동 개수(로그)=%{marker.size}<extra></extra>",
         "hovertext": [
          "조선해양품질경영1부"
         ],
         "legendgroup": "",
         "marker": {
          "color": "rgb(196,78,82)",
          "opacity": 0.5,
          "size": [
           238
          ],
          "sizemode": "area",
          "sizeref": 0.373125,
          "symbol": "circle"
         },
         "mode": "markers+text",
         "name": "조선해양품질경영1부",
         "scene": "scene",
         "showlegend": true,
         "text": [
          "QM"
         ],
         "type": "scatter3d",
         "x": [
          "조선해양품질경영1부"
         ],
         "y": [
          "QM"
         ],
         "z": [
          238
         ]
        },
        {
         "customdata": [
          [
           "조선해양품질경영2부"
          ]
         ],
         "hovertemplate": "<b>%{hovertext}</b><br><br>대구분=%{text}<br>작업행동 개수(로그)=%{marker.size}<extra></extra>",
         "hovertext": [
          "조선해양품질경영2부"
         ],
         "legendgroup": "",
         "marker": {
          "color": "rgb(129,114,179)",
          "opacity": 0.5,
          "size": [
           278
          ],
          "sizemode": "area",
          "sizeref": 0.373125,
          "symbol": "circle"
         },
         "mode": "markers+text",
         "name": "조선해양품질경영2부",
         "scene": "scene",
         "showlegend": true,
         "text": [
          "QM"
         ],
         "type": "scatter3d",
         "x": [
          "조선해양품질경영2부"
         ],
         "y": [
          "QM"
         ],
         "z": [
          278
         ]
        }
       ],
       "layout": {
        "height": 900,
        "legend": {
         "itemsizing": "constant",
         "title": {
          "text": "부서"
         },
         "tracegroupgap": 0
        },
        "scene": {
         "domain": {
          "x": [
           0,
           1
          ],
          "y": [
           0,
           1
          ]
         },
         "xaxis": {
          "categoryarray": [
           "가공소조립부",
           "판넬조립부",
           "대조립1부",
           "대조립2부",
           "의장생산부",
           "선행의장부",
           "선행도장부",
           "선실생산부",
           "건조1부",
           "건조2부",
           "건조3부",
           "의장1부",
           "의장2부",
           "의장3부",
           "CHS공사부",
           "기계의장부",
           "도장1부",
           "도장2부",
           "LNG공사부",
           "시운전부",
           "운항관제과",
           "외업공사지원부",
           "발판지원부",
           "조선해양품질경영1부",
           "조선해양품질경영2부"
          ],
          "categoryorder": "array",
          "title": {
           "text": "부서"
          }
         },
         "yaxis": {
          "title": {
           "text": "대구분"
          }
         },
         "zaxis": {
          "title": {
           "text": "작업행동 개수(로그)"
          },
          "type": "log"
         }
        },
        "template": {
         "data": {
          "bar": [
           {
            "error_x": {
             "color": "rgb(36,36,36)"
            },
            "error_y": {
             "color": "rgb(36,36,36)"
            },
            "marker": {
             "line": {
              "color": "rgb(234,234,242)",
              "width": 0.5
             }
            },
            "type": "bar"
           }
          ],
          "barpolar": [
           {
            "marker": {
             "line": {
              "color": "rgb(234,234,242)",
              "width": 0.5
             }
            },
            "type": "barpolar"
           }
          ],
          "carpet": [
           {
            "aaxis": {
             "endlinecolor": "rgb(36,36,36)",
             "gridcolor": "white",
             "linecolor": "white",
             "minorgridcolor": "white",
             "startlinecolor": "rgb(36,36,36)"
            },
            "baxis": {
             "endlinecolor": "rgb(36,36,36)",
             "gridcolor": "white",
             "linecolor": "white",
             "minorgridcolor": "white",
             "startlinecolor": "rgb(36,36,36)"
            },
            "type": "carpet"
           }
          ],
          "choropleth": [
           {
            "colorbar": {
             "outlinewidth": 0,
             "tickcolor": "rgb(36,36,36)",
             "ticklen": 8,
             "ticks": "outside",
             "tickwidth": 2
            },
            "type": "choropleth"
           }
          ],
          "contour": [
           {
            "colorbar": {
             "outlinewidth": 0,
             "tickcolor": "rgb(36,36,36)",
             "ticklen": 8,
             "ticks": "outside",
             "tickwidth": 2
            },
            "colorscale": [
             [
              0,
              "rgb(2,4,25)"
             ],
             [
              0.06274509803921569,
              "rgb(24,15,41)"
             ],
             [
              0.12549019607843137,
              "rgb(47,23,57)"
             ],
             [
              0.18823529411764706,
              "rgb(71,28,72)"
             ],
             [
              0.25098039215686274,
              "rgb(97,30,82)"
             ],
             [
              0.3137254901960784,
              "rgb(123,30,89)"
             ],
             [
              0.3764705882352941,
              "rgb(150,27,91)"
             ],
             [
              0.4392156862745098,
              "rgb(177,22,88)"
             ],
             [
              0.5019607843137255,
              "rgb(203,26,79)"
             ],
             [
              0.5647058823529412,
              "rgb(223,47,67)"
             ],
             [
              0.6274509803921569,
              "rgb(236,76,61)"
             ],
             [
              0.6901960784313725,
              "rgb(242,107,73)"
             ],
             [
              0.7529411764705882,
              "rgb(244,135,95)"
             ],
             [
              0.8156862745098039,
              "rgb(245,162,122)"
             ],
             [
              0.8784313725490196,
              "rgb(246,188,153)"
             ],
             [
              0.9411764705882353,
              "rgb(247,212,187)"
             ],
             [
              1,
              "rgb(250,234,220)"
             ]
            ],
            "type": "contour"
           }
          ],
          "contourcarpet": [
           {
            "colorbar": {
             "outlinewidth": 0,
             "tickcolor": "rgb(36,36,36)",
             "ticklen": 8,
             "ticks": "outside",
             "tickwidth": 2
            },
            "type": "contourcarpet"
           }
          ],
          "heatmap": [
           {
            "colorbar": {
             "outlinewidth": 0,
             "tickcolor": "rgb(36,36,36)",
             "ticklen": 8,
             "ticks": "outside",
             "tickwidth": 2
            },
            "colorscale": [
             [
              0,
              "rgb(2,4,25)"
             ],
             [
              0.06274509803921569,
              "rgb(24,15,41)"
             ],
             [
              0.12549019607843137,
              "rgb(47,23,57)"
             ],
             [
              0.18823529411764706,
              "rgb(71,28,72)"
             ],
             [
              0.25098039215686274,
              "rgb(97,30,82)"
             ],
             [
              0.3137254901960784,
              "rgb(123,30,89)"
             ],
             [
              0.3764705882352941,
              "rgb(150,27,91)"
             ],
             [
              0.4392156862745098,
              "rgb(177,22,88)"
             ],
             [
              0.5019607843137255,
              "rgb(203,26,79)"
             ],
             [
              0.5647058823529412,
              "rgb(223,47,67)"
             ],
             [
              0.6274509803921569,
              "rgb(236,76,61)"
             ],
             [
              0.6901960784313725,
              "rgb(242,107,73)"
             ],
             [
              0.7529411764705882,
              "rgb(244,135,95)"
             ],
             [
              0.8156862745098039,
              "rgb(245,162,122)"
             ],
             [
              0.8784313725490196,
              "rgb(246,188,153)"
             ],
             [
              0.9411764705882353,
              "rgb(247,212,187)"
             ],
             [
              1,
              "rgb(250,234,220)"
             ]
            ],
            "type": "heatmap"
           }
          ],
          "heatmapgl": [
           {
            "colorbar": {
             "outlinewidth": 0,
             "tickcolor": "rgb(36,36,36)",
             "ticklen": 8,
             "ticks": "outside",
             "tickwidth": 2
            },
            "colorscale": [
             [
              0,
              "rgb(2,4,25)"
             ],
             [
              0.06274509803921569,
              "rgb(24,15,41)"
             ],
             [
              0.12549019607843137,
              "rgb(47,23,57)"
             ],
             [
              0.18823529411764706,
              "rgb(71,28,72)"
             ],
             [
              0.25098039215686274,
              "rgb(97,30,82)"
             ],
             [
              0.3137254901960784,
              "rgb(123,30,89)"
             ],
             [
              0.3764705882352941,
              "rgb(150,27,91)"
             ],
             [
              0.4392156862745098,
              "rgb(177,22,88)"
             ],
             [
              0.5019607843137255,
              "rgb(203,26,79)"
             ],
             [
              0.5647058823529412,
              "rgb(223,47,67)"
             ],
             [
              0.6274509803921569,
              "rgb(236,76,61)"
             ],
             [
              0.6901960784313725,
              "rgb(242,107,73)"
             ],
             [
              0.7529411764705882,
              "rgb(244,135,95)"
             ],
             [
              0.8156862745098039,
              "rgb(245,162,122)"
             ],
             [
              0.8784313725490196,
              "rgb(246,188,153)"
             ],
             [
              0.9411764705882353,
              "rgb(247,212,187)"
             ],
             [
              1,
              "rgb(250,234,220)"
             ]
            ],
            "type": "heatmapgl"
           }
          ],
          "histogram": [
           {
            "marker": {
             "colorbar": {
              "outlinewidth": 0,
              "tickcolor": "rgb(36,36,36)",
              "ticklen": 8,
              "ticks": "outside",
              "tickwidth": 2
             }
            },
            "type": "histogram"
           }
          ],
          "histogram2d": [
           {
            "colorbar": {
             "outlinewidth": 0,
             "tickcolor": "rgb(36,36,36)",
             "ticklen": 8,
             "ticks": "outside",
             "tickwidth": 2
            },
            "colorscale": [
             [
              0,
              "rgb(2,4,25)"
             ],
             [
              0.06274509803921569,
              "rgb(24,15,41)"
             ],
             [
              0.12549019607843137,
              "rgb(47,23,57)"
             ],
             [
              0.18823529411764706,
              "rgb(71,28,72)"
             ],
             [
              0.25098039215686274,
              "rgb(97,30,82)"
             ],
             [
              0.3137254901960784,
              "rgb(123,30,89)"
             ],
             [
              0.3764705882352941,
              "rgb(150,27,91)"
             ],
             [
              0.4392156862745098,
              "rgb(177,22,88)"
             ],
             [
              0.5019607843137255,
              "rgb(203,26,79)"
             ],
             [
              0.5647058823529412,
              "rgb(223,47,67)"
             ],
             [
              0.6274509803921569,
              "rgb(236,76,61)"
             ],
             [
              0.6901960784313725,
              "rgb(242,107,73)"
             ],
             [
              0.7529411764705882,
              "rgb(244,135,95)"
             ],
             [
              0.8156862745098039,
              "rgb(245,162,122)"
             ],
             [
              0.8784313725490196,
              "rgb(246,188,153)"
             ],
             [
              0.9411764705882353,
              "rgb(247,212,187)"
             ],
             [
              1,
              "rgb(250,234,220)"
             ]
            ],
            "type": "histogram2d"
           }
          ],
          "histogram2dcontour": [
           {
            "colorbar": {
             "outlinewidth": 0,
             "tickcolor": "rgb(36,36,36)",
             "ticklen": 8,
             "ticks": "outside",
             "tickwidth": 2
            },
            "colorscale": [
             [
              0,
              "rgb(2,4,25)"
             ],
             [
              0.06274509803921569,
              "rgb(24,15,41)"
             ],
             [
              0.12549019607843137,
              "rgb(47,23,57)"
             ],
             [
              0.18823529411764706,
              "rgb(71,28,72)"
             ],
             [
              0.25098039215686274,
              "rgb(97,30,82)"
             ],
             [
              0.3137254901960784,
              "rgb(123,30,89)"
             ],
             [
              0.3764705882352941,
              "rgb(150,27,91)"
             ],
             [
              0.4392156862745098,
              "rgb(177,22,88)"
             ],
             [
              0.5019607843137255,
              "rgb(203,26,79)"
             ],
             [
              0.5647058823529412,
              "rgb(223,47,67)"
             ],
             [
              0.6274509803921569,
              "rgb(236,76,61)"
             ],
             [
              0.6901960784313725,
              "rgb(242,107,73)"
             ],
             [
              0.7529411764705882,
              "rgb(244,135,95)"
             ],
             [
              0.8156862745098039,
              "rgb(245,162,122)"
             ],
             [
              0.8784313725490196,
              "rgb(246,188,153)"
             ],
             [
              0.9411764705882353,
              "rgb(247,212,187)"
             ],
             [
              1,
              "rgb(250,234,220)"
             ]
            ],
            "type": "histogram2dcontour"
           }
          ],
          "mesh3d": [
           {
            "colorbar": {
             "outlinewidth": 0,
             "tickcolor": "rgb(36,36,36)",
             "ticklen": 8,
             "ticks": "outside",
             "tickwidth": 2
            },
            "type": "mesh3d"
           }
          ],
          "parcoords": [
           {
            "line": {
             "colorbar": {
              "outlinewidth": 0,
              "tickcolor": "rgb(36,36,36)",
              "ticklen": 8,
              "ticks": "outside",
              "tickwidth": 2
             }
            },
            "type": "parcoords"
           }
          ],
          "pie": [
           {
            "automargin": true,
            "type": "pie"
           }
          ],
          "scatter": [
           {
            "marker": {
             "colorbar": {
              "outlinewidth": 0,
              "tickcolor": "rgb(36,36,36)",
              "ticklen": 8,
              "ticks": "outside",
              "tickwidth": 2
             }
            },
            "type": "scatter"
           }
          ],
          "scatter3d": [
           {
            "line": {
             "colorbar": {
              "outlinewidth": 0,
              "tickcolor": "rgb(36,36,36)",
              "ticklen": 8,
              "ticks": "outside",
              "tickwidth": 2
             }
            },
            "marker": {
             "colorbar": {
              "outlinewidth": 0,
              "tickcolor": "rgb(36,36,36)",
              "ticklen": 8,
              "ticks": "outside",
              "tickwidth": 2
             }
            },
            "type": "scatter3d"
           }
          ],
          "scattercarpet": [
           {
            "marker": {
             "colorbar": {
              "outlinewidth": 0,
              "tickcolor": "rgb(36,36,36)",
              "ticklen": 8,
              "ticks": "outside",
              "tickwidth": 2
             }
            },
            "type": "scattercarpet"
           }
          ],
          "scattergeo": [
           {
            "marker": {
             "colorbar": {
              "outlinewidth": 0,
              "tickcolor": "rgb(36,36,36)",
              "ticklen": 8,
              "ticks": "outside",
              "tickwidth": 2
             }
            },
            "type": "scattergeo"
           }
          ],
          "scattergl": [
           {
            "marker": {
             "colorbar": {
              "outlinewidth": 0,
              "tickcolor": "rgb(36,36,36)",
              "ticklen": 8,
              "ticks": "outside",
              "tickwidth": 2
             }
            },
            "type": "scattergl"
           }
          ],
          "scattermapbox": [
           {
            "marker": {
             "colorbar": {
              "outlinewidth": 0,
              "tickcolor": "rgb(36,36,36)",
              "ticklen": 8,
              "ticks": "outside",
              "tickwidth": 2
             }
            },
            "type": "scattermapbox"
           }
          ],
          "scatterpolar": [
           {
            "marker": {
             "colorbar": {
              "outlinewidth": 0,
              "tickcolor": "rgb(36,36,36)",
              "ticklen": 8,
              "ticks": "outside",
              "tickwidth": 2
             }
            },
            "type": "scatterpolar"
           }
          ],
          "scatterpolargl": [
           {
            "marker": {
             "colorbar": {
              "outlinewidth": 0,
              "tickcolor": "rgb(36,36,36)",
              "ticklen": 8,
              "ticks": "outside",
              "tickwidth": 2
             }
            },
            "type": "scatterpolargl"
           }
          ],
          "scatterternary": [
           {
            "marker": {
             "colorbar": {
              "outlinewidth": 0,
              "tickcolor": "rgb(36,36,36)",
              "ticklen": 8,
              "ticks": "outside",
              "tickwidth": 2
             }
            },
            "type": "scatterternary"
           }
          ],
          "surface": [
           {
            "colorbar": {
             "outlinewidth": 0,
             "tickcolor": "rgb(36,36,36)",
             "ticklen": 8,
             "ticks": "outside",
             "tickwidth": 2
            },
            "colorscale": [
             [
              0,
              "rgb(2,4,25)"
             ],
             [
              0.06274509803921569,
              "rgb(24,15,41)"
             ],
             [
              0.12549019607843137,
              "rgb(47,23,57)"
             ],
             [
              0.18823529411764706,
              "rgb(71,28,72)"
             ],
             [
              0.25098039215686274,
              "rgb(97,30,82)"
             ],
             [
              0.3137254901960784,
              "rgb(123,30,89)"
             ],
             [
              0.3764705882352941,
              "rgb(150,27,91)"
             ],
             [
              0.4392156862745098,
              "rgb(177,22,88)"
             ],
             [
              0.5019607843137255,
              "rgb(203,26,79)"
             ],
             [
              0.5647058823529412,
              "rgb(223,47,67)"
             ],
             [
              0.6274509803921569,
              "rgb(236,76,61)"
             ],
             [
              0.6901960784313725,
              "rgb(242,107,73)"
             ],
             [
              0.7529411764705882,
              "rgb(244,135,95)"
             ],
             [
              0.8156862745098039,
              "rgb(245,162,122)"
             ],
             [
              0.8784313725490196,
              "rgb(246,188,153)"
             ],
             [
              0.9411764705882353,
              "rgb(247,212,187)"
             ],
             [
              1,
              "rgb(250,234,220)"
             ]
            ],
            "type": "surface"
           }
          ],
          "table": [
           {
            "cells": {
             "fill": {
              "color": "rgb(231,231,240)"
             },
             "line": {
              "color": "white"
             }
            },
            "header": {
             "fill": {
              "color": "rgb(183,183,191)"
             },
             "line": {
              "color": "white"
             }
            },
            "type": "table"
           }
          ]
         },
         "layout": {
          "annotationdefaults": {
           "arrowcolor": "rgb(67,103,167)"
          },
          "autotypenumbers": "strict",
          "coloraxis": {
           "colorbar": {
            "outlinewidth": 0,
            "tickcolor": "rgb(36,36,36)",
            "ticklen": 8,
            "ticks": "outside",
            "tickwidth": 2
           }
          },
          "colorscale": {
           "sequential": [
            [
             0,
             "rgb(2,4,25)"
            ],
            [
             0.06274509803921569,
             "rgb(24,15,41)"
            ],
            [
             0.12549019607843137,
             "rgb(47,23,57)"
            ],
            [
             0.18823529411764706,
             "rgb(71,28,72)"
            ],
            [
             0.25098039215686274,
             "rgb(97,30,82)"
            ],
            [
             0.3137254901960784,
             "rgb(123,30,89)"
            ],
            [
             0.3764705882352941,
             "rgb(150,27,91)"
            ],
            [
             0.4392156862745098,
             "rgb(177,22,88)"
            ],
            [
             0.5019607843137255,
             "rgb(203,26,79)"
            ],
            [
             0.5647058823529412,
             "rgb(223,47,67)"
            ],
            [
             0.6274509803921569,
             "rgb(236,76,61)"
            ],
            [
             0.6901960784313725,
             "rgb(242,107,73)"
            ],
            [
             0.7529411764705882,
             "rgb(244,135,95)"
            ],
            [
             0.8156862745098039,
             "rgb(245,162,122)"
            ],
            [
             0.8784313725490196,
             "rgb(246,188,153)"
            ],
            [
             0.9411764705882353,
             "rgb(247,212,187)"
            ],
            [
             1,
             "rgb(250,234,220)"
            ]
           ],
           "sequentialminus": [
            [
             0,
             "rgb(2,4,25)"
            ],
            [
             0.06274509803921569,
             "rgb(24,15,41)"
            ],
            [
             0.12549019607843137,
             "rgb(47,23,57)"
            ],
            [
             0.18823529411764706,
             "rgb(71,28,72)"
            ],
            [
             0.25098039215686274,
             "rgb(97,30,82)"
            ],
            [
             0.3137254901960784,
             "rgb(123,30,89)"
            ],
            [
             0.3764705882352941,
             "rgb(150,27,91)"
            ],
            [
             0.4392156862745098,
             "rgb(177,22,88)"
            ],
            [
             0.5019607843137255,
             "rgb(203,26,79)"
            ],
            [
             0.5647058823529412,
             "rgb(223,47,67)"
            ],
            [
             0.6274509803921569,
             "rgb(236,76,61)"
            ],
            [
             0.6901960784313725,
             "rgb(242,107,73)"
            ],
            [
             0.7529411764705882,
             "rgb(244,135,95)"
            ],
            [
             0.8156862745098039,
             "rgb(245,162,122)"
            ],
            [
             0.8784313725490196,
             "rgb(246,188,153)"
            ],
            [
             0.9411764705882353,
             "rgb(247,212,187)"
            ],
            [
             1,
             "rgb(250,234,220)"
            ]
           ]
          },
          "colorway": [
           "rgb(76,114,176)",
           "rgb(221,132,82)",
           "rgb(85,168,104)",
           "rgb(196,78,82)",
           "rgb(129,114,179)",
           "rgb(147,120,96)",
           "rgb(218,139,195)",
           "rgb(140,140,140)",
           "rgb(204,185,116)",
           "rgb(100,181,205)"
          ],
          "font": {
           "color": "rgb(36,36,36)"
          },
          "geo": {
           "bgcolor": "white",
           "lakecolor": "white",
           "landcolor": "rgb(234,234,242)",
           "showlakes": true,
           "showland": true,
           "subunitcolor": "white"
          },
          "hoverlabel": {
           "align": "left"
          },
          "hovermode": "closest",
          "paper_bgcolor": "white",
          "plot_bgcolor": "rgb(234,234,242)",
          "polar": {
           "angularaxis": {
            "gridcolor": "white",
            "linecolor": "white",
            "showgrid": true,
            "ticks": ""
           },
           "bgcolor": "rgb(234,234,242)",
           "radialaxis": {
            "gridcolor": "white",
            "linecolor": "white",
            "showgrid": true,
            "ticks": ""
           }
          },
          "scene": {
           "xaxis": {
            "backgroundcolor": "rgb(234,234,242)",
            "gridcolor": "white",
            "gridwidth": 2,
            "linecolor": "white",
            "showbackground": true,
            "showgrid": true,
            "ticks": "",
            "zerolinecolor": "white"
           },
           "yaxis": {
            "backgroundcolor": "rgb(234,234,242)",
            "gridcolor": "white",
            "gridwidth": 2,
            "linecolor": "white",
            "showbackground": true,
            "showgrid": true,
            "ticks": "",
            "zerolinecolor": "white"
           },
           "zaxis": {
            "backgroundcolor": "rgb(234,234,242)",
            "gridcolor": "white",
            "gridwidth": 2,
            "linecolor": "white",
            "showbackground": true,
            "showgrid": true,
            "ticks": "",
            "zerolinecolor": "white"
           }
          },
          "shapedefaults": {
           "fillcolor": "rgb(67,103,167)",
           "line": {
            "width": 0
           },
           "opacity": 0.5
          },
          "ternary": {
           "aaxis": {
            "gridcolor": "white",
            "linecolor": "white",
            "showgrid": true,
            "ticks": ""
           },
           "baxis": {
            "gridcolor": "white",
            "linecolor": "white",
            "showgrid": true,
            "ticks": ""
           },
           "bgcolor": "rgb(234,234,242)",
           "caxis": {
            "gridcolor": "white",
            "linecolor": "white",
            "showgrid": true,
            "ticks": ""
           }
          },
          "xaxis": {
           "automargin": true,
           "gridcolor": "white",
           "linecolor": "white",
           "showgrid": true,
           "ticks": "",
           "title": {
            "standoff": 15
           },
           "zerolinecolor": "white"
          },
          "yaxis": {
           "automargin": true,
           "gridcolor": "white",
           "linecolor": "white",
           "showgrid": true,
           "ticks": "",
           "title": {
            "standoff": 15
           },
           "zerolinecolor": "white"
          }
         }
        },
        "title": {
         "text": "부서/공정별 작업표준 분포(로그 스케일)"
        },
        "width": 1000
       }
      },
      "text/html": [
       "<div>                            <div id=\"a6babd82-cbc0-4795-9a02-ca2218fc082c\" class=\"plotly-graph-div\" style=\"height:900px; width:1000px;\"></div>            <script type=\"text/javascript\">                require([\"plotly\"], function(Plotly) {                    window.PLOTLYENV=window.PLOTLYENV || {};                                    if (document.getElementById(\"a6babd82-cbc0-4795-9a02-ca2218fc082c\")) {                    Plotly.newPlot(                        \"a6babd82-cbc0-4795-9a02-ca2218fc082c\",                        [{\"customdata\": [[\"\\uac00\\uacf5\\uc18c\\uc870\\ub9bd\\ubd80\"], [\"\\uac00\\uacf5\\uc18c\\uc870\\ub9bd\\ubd80\"], [\"\\uac00\\uacf5\\uc18c\\uc870\\ub9bd\\ubd80\"], [\"\\uac00\\uacf5\\uc18c\\uc870\\ub9bd\\ubd80\"]], \"hovertemplate\": \"<b>%{hovertext}</b><br><br>\\ub300\\uad6c\\ubd84=%{text}<br>\\uc791\\uc5c5\\ud589\\ub3d9 \\uac1c\\uc218(\\ub85c\\uadf8)=%{marker.size}<extra></extra>\", \"hovertext\": [\"\\uac00\\uacf5\\uc18c\\uc870\\ub9bd\\ubd80\", \"\\uac00\\uacf5\\uc18c\\uc870\\ub9bd\\ubd80\", \"\\uac00\\uacf5\\uc18c\\uc870\\ub9bd\\ubd80\", \"\\uac00\\uacf5\\uc18c\\uc870\\ub9bd\\ubd80\"], \"legendgroup\": \"\", \"marker\": {\"color\": \"rgb(76,114,176)\", \"opacity\": 0.5, \"size\": [107, 650, 34, 8], \"sizemode\": \"area\", \"sizeref\": 0.373125, \"symbol\": \"circle\"}, \"mode\": \"markers+text\", \"name\": \"\\uac00\\uacf5\\uc18c\\uc870\\ub9bd\\ubd80\", \"scene\": \"scene\", \"showlegend\": true, \"text\": [\"\\uac00\\uacf5\", \"\\uc18c\\uc870\\ub9bd\", \"\\uc120\\ud589\\uc758\\uc7a5\", \"\\uc120\\uc2e4\\uc120\\ud589\\uc758\\uc7a5\"], \"type\": \"scatter3d\", \"x\": [\"\\uac00\\uacf5\\uc18c\\uc870\\ub9bd\\ubd80\", \"\\uac00\\uacf5\\uc18c\\uc870\\ub9bd\\ubd80\", \"\\uac00\\uacf5\\uc18c\\uc870\\ub9bd\\ubd80\", \"\\uac00\\uacf5\\uc18c\\uc870\\ub9bd\\ubd80\"], \"y\": [\"\\uac00\\uacf5\", \"\\uc18c\\uc870\\ub9bd\", \"\\uc120\\ud589\\uc758\\uc7a5\", \"\\uc120\\uc2e4\\uc120\\ud589\\uc758\\uc7a5\"], \"z\": [107, 650, 34, 8]}, {\"customdata\": [[\"\\ud310\\ub12c\\uc870\\ub9bd\\ubd80\"], [\"\\ud310\\ub12c\\uc870\\ub9bd\\ubd80\"], [\"\\ud310\\ub12c\\uc870\\ub9bd\\ubd80\"], [\"\\ud310\\ub12c\\uc870\\ub9bd\\ubd80\"], [\"\\ud310\\ub12c\\uc870\\ub9bd\\ubd80\"]], \"hovertemplate\": \"<b>%{hovertext}</b><br><br>\\ub300\\uad6c\\ubd84=%{text}<br>\\uc791\\uc5c5\\ud589\\ub3d9 \\uac1c\\uc218(\\ub85c\\uadf8)=%{marker.size}<extra></extra>\", \"hovertext\": [\"\\ud310\\ub12c\\uc870\\ub9bd\\ubd80\", \"\\ud310\\ub12c\\uc870\\ub9bd\\ubd80\", \"\\ud310\\ub12c\\uc870\\ub9bd\\ubd80\", \"\\ud310\\ub12c\\uc870\\ub9bd\\ubd80\", \"\\ud310\\ub12c\\uc870\\ub9bd\\ubd80\"], \"legendgroup\": \"\", \"marker\": {\"color\": \"rgb(221,132,82)\", \"opacity\": 0.5, \"size\": [15, 103, 91, 33, 265], \"sizemode\": \"area\", \"sizeref\": 0.373125, \"symbol\": \"circle\"}, \"mode\": \"markers+text\", \"name\": \"\\ud310\\ub12c\\uc870\\ub9bd\\ubd80\", \"scene\": \"scene\", \"showlegend\": true, \"text\": [\"\\ub300\\uc870\\ub9bd\", \"\\uc120\\ud589\\uc758\\uc7a5\", \"\\uc120\\uc2e4\\uc120\\ud589\\uc758\\uc7a5\", \"\\uc120\\uc2e4\\uc0dd\\uc0b0\", \"\\ud310\\ub12c\"], \"type\": \"scatter3d\", \"x\": [\"\\ud310\\ub12c\\uc870\\ub9bd\\ubd80\", \"\\ud310\\ub12c\\uc870\\ub9bd\\ubd80\", \"\\ud310\\ub12c\\uc870\\ub9bd\\ubd80\", \"\\ud310\\ub12c\\uc870\\ub9bd\\ubd80\", \"\\ud310\\ub12c\\uc870\\ub9bd\\ubd80\"], \"y\": [\"\\ub300\\uc870\\ub9bd\", \"\\uc120\\ud589\\uc758\\uc7a5\", \"\\uc120\\uc2e4\\uc120\\ud589\\uc758\\uc7a5\", \"\\uc120\\uc2e4\\uc0dd\\uc0b0\", \"\\ud310\\ub12c\"], \"z\": [15, 103, 91, 33, 265]}, {\"customdata\": [[\"\\ub300\\uc870\\ub9bd1\\ubd80\"], [\"\\ub300\\uc870\\ub9bd1\\ubd80\"], [\"\\ub300\\uc870\\ub9bd1\\ubd80\"], [\"\\ub300\\uc870\\ub9bd1\\ubd80\"]], \"hovertemplate\": \"<b>%{hovertext}</b><br><br>\\ub300\\uad6c\\ubd84=%{text}<br>\\uc791\\uc5c5\\ud589\\ub3d9 \\uac1c\\uc218(\\ub85c\\uadf8)=%{marker.size}<extra></extra>\", \"hovertext\": [\"\\ub300\\uc870\\ub9bd1\\ubd80\", \"\\ub300\\uc870\\ub9bd1\\ubd80\", \"\\ub300\\uc870\\ub9bd1\\ubd80\", \"\\ub300\\uc870\\ub9bd1\\ubd80\"], \"legendgroup\": \"\", \"marker\": {\"color\": \"rgb(85,168,104)\", \"opacity\": 0.5, \"size\": [398, 88, 48, 16], \"sizemode\": \"area\", \"sizeref\": 0.373125, \"symbol\": \"circle\"}, \"mode\": \"markers+text\", \"name\": \"\\ub300\\uc870\\ub9bd1\\ubd80\", \"scene\": \"scene\", \"showlegend\": true, \"text\": [\"\\ub300\\uc870\\ub9bd\", \"\\uc120\\ud589\\uc758\\uc7a5\", \"\\uc120\\uc2e4\\uc120\\ud589\\uc758\\uc7a5\", \"\\uc120\\uc2e4\\uc0dd\\uc0b0\"], \"type\": \"scatter3d\", \"x\": [\"\\ub300\\uc870\\ub9bd1\\ubd80\", \"\\ub300\\uc870\\ub9bd1\\ubd80\", \"\\ub300\\uc870\\ub9bd1\\ubd80\", \"\\ub300\\uc870\\ub9bd1\\ubd80\"], \"y\": [\"\\ub300\\uc870\\ub9bd\", \"\\uc120\\ud589\\uc758\\uc7a5\", \"\\uc120\\uc2e4\\uc120\\ud589\\uc758\\uc7a5\", \"\\uc120\\uc2e4\\uc0dd\\uc0b0\"], \"z\": [398, 88, 48, 16]}, {\"customdata\": [[\"\\ub300\\uc870\\ub9bd2\\ubd80\"], [\"\\ub300\\uc870\\ub9bd2\\ubd80\"], [\"\\ub300\\uc870\\ub9bd2\\ubd80\"], [\"\\ub300\\uc870\\ub9bd2\\ubd80\"]], \"hovertemplate\": \"<b>%{hovertext}</b><br><br>\\ub300\\uad6c\\ubd84=%{text}<br>\\uc791\\uc5c5\\ud589\\ub3d9 \\uac1c\\uc218(\\ub85c\\uadf8)=%{marker.size}<extra></extra>\", \"hovertext\": [\"\\ub300\\uc870\\ub9bd2\\ubd80\", \"\\ub300\\uc870\\ub9bd2\\ubd80\", \"\\ub300\\uc870\\ub9bd2\\ubd80\", \"\\ub300\\uc870\\ub9bd2\\ubd80\"], \"legendgroup\": \"\", \"marker\": {\"color\": \"rgb(196,78,82)\", \"opacity\": 0.5, \"size\": [559, 88, 78, 38], \"sizemode\": \"area\", \"sizeref\": 0.373125, \"symbol\": \"circle\"}, \"mode\": \"markers+text\", \"name\": \"\\ub300\\uc870\\ub9bd2\\ubd80\", \"scene\": \"scene\", \"showlegend\": true, \"text\": [\"\\ub300\\uc870\\ub9bd\", \"\\uc120\\ud589\\uc758\\uc7a5\", \"\\uc120\\uc2e4\\uc120\\ud589\\uc758\\uc7a5\", \"\\uc120\\uc2e4\\uc0dd\\uc0b0\"], \"type\": \"scatter3d\", \"x\": [\"\\ub300\\uc870\\ub9bd2\\ubd80\", \"\\ub300\\uc870\\ub9bd2\\ubd80\", \"\\ub300\\uc870\\ub9bd2\\ubd80\", \"\\ub300\\uc870\\ub9bd2\\ubd80\"], \"y\": [\"\\ub300\\uc870\\ub9bd\", \"\\uc120\\ud589\\uc758\\uc7a5\", \"\\uc120\\uc2e4\\uc120\\ud589\\uc758\\uc7a5\", \"\\uc120\\uc2e4\\uc0dd\\uc0b0\"], \"z\": [559, 88, 78, 38]}, {\"customdata\": [[\"\\uc758\\uc7a5\\uc0dd\\uc0b0\\ubd80\"], [\"\\uc758\\uc7a5\\uc0dd\\uc0b0\\ubd80\"], [\"\\uc758\\uc7a5\\uc0dd\\uc0b0\\ubd80\"]], \"hovertemplate\": \"<b>%{hovertext}</b><br><br>\\ub300\\uad6c\\ubd84=%{text}<br>\\uc791\\uc5c5\\ud589\\ub3d9 \\uac1c\\uc218(\\ub85c\\uadf8)=%{marker.size}<extra></extra>\", \"hovertext\": [\"\\uc758\\uc7a5\\uc0dd\\uc0b0\\ubd80\", \"\\uc758\\uc7a5\\uc0dd\\uc0b0\\ubd80\", \"\\uc758\\uc7a5\\uc0dd\\uc0b0\\ubd80\"], \"legendgroup\": \"\", \"marker\": {\"color\": \"rgb(129,114,179)\", \"opacity\": 0.5, \"size\": [665, 30, 38], \"sizemode\": \"area\", \"sizeref\": 0.373125, \"symbol\": \"circle\"}, \"mode\": \"markers+text\", \"name\": \"\\uc758\\uc7a5\\uc0dd\\uc0b0\\ubd80\", \"scene\": \"scene\", \"showlegend\": true, \"text\": [\"\\uc758\\uc7a5\\uc0dd\\uc0b0\", \"\\uc120\\ud589\\ub3c4\\uc7a5\", \"\\ud6c4\\ud589\\uc758\\uc7a5\"], \"type\": \"scatter3d\", \"x\": [\"\\uc758\\uc7a5\\uc0dd\\uc0b0\\ubd80\", \"\\uc758\\uc7a5\\uc0dd\\uc0b0\\ubd80\", \"\\uc758\\uc7a5\\uc0dd\\uc0b0\\ubd80\"], \"y\": [\"\\uc758\\uc7a5\\uc0dd\\uc0b0\", \"\\uc120\\ud589\\ub3c4\\uc7a5\", \"\\ud6c4\\ud589\\uc758\\uc7a5\"], \"z\": [665, 30, 38]}, {\"customdata\": [[\"\\uc120\\ud589\\uc758\\uc7a5\\ubd80\"], [\"\\uc120\\ud589\\uc758\\uc7a5\\ubd80\"], [\"\\uc120\\ud589\\uc758\\uc7a5\\ubd80\"], [\"\\uc120\\ud589\\uc758\\uc7a5\\ubd80\"]], \"hovertemplate\": \"<b>%{hovertext}</b><br><br>\\ub300\\uad6c\\ubd84=%{text}<br>\\uc791\\uc5c5\\ud589\\ub3d9 \\uac1c\\uc218(\\ub85c\\uadf8)=%{marker.size}<extra></extra>\", \"hovertext\": [\"\\uc120\\ud589\\uc758\\uc7a5\\ubd80\", \"\\uc120\\ud589\\uc758\\uc7a5\\ubd80\", \"\\uc120\\ud589\\uc758\\uc7a5\\ubd80\", \"\\uc120\\ud589\\uc758\\uc7a5\\ubd80\"], \"legendgroup\": \"\", \"marker\": {\"color\": \"rgb(147,120,96)\", \"opacity\": 0.5, \"size\": [353, 443, 97, 8], \"sizemode\": \"area\", \"sizeref\": 0.373125, \"symbol\": \"circle\"}, \"mode\": \"markers+text\", \"name\": \"\\uc120\\ud589\\uc758\\uc7a5\\ubd80\", \"scene\": \"scene\", \"showlegend\": true, \"text\": [\"\\uc120\\ud589\\uc758\\uc7a5\", \"\\uc120\\uc2e4\\uc120\\ud589\\uc758\\uc7a5\", \"\\uc120\\uc2e4\\uc0dd\\uc0b0\", \"\\uae30\\uacc4\\uc758\\uc7a5\"], \"type\": \"scatter3d\", \"x\": [\"\\uc120\\ud589\\uc758\\uc7a5\\ubd80\", \"\\uc120\\ud589\\uc758\\uc7a5\\ubd80\", \"\\uc120\\ud589\\uc758\\uc7a5\\ubd80\", \"\\uc120\\ud589\\uc758\\uc7a5\\ubd80\"], \"y\": [\"\\uc120\\ud589\\uc758\\uc7a5\", \"\\uc120\\uc2e4\\uc120\\ud589\\uc758\\uc7a5\", \"\\uc120\\uc2e4\\uc0dd\\uc0b0\", \"\\uae30\\uacc4\\uc758\\uc7a5\"], \"z\": [353, 443, 97, 8]}, {\"customdata\": [[\"\\uc120\\ud589\\ub3c4\\uc7a5\\ubd80\"]], \"hovertemplate\": \"<b>%{hovertext}</b><br><br>\\ub300\\uad6c\\ubd84=%{text}<br>\\uc791\\uc5c5\\ud589\\ub3d9 \\uac1c\\uc218(\\ub85c\\uadf8)=%{marker.size}<extra></extra>\", \"hovertext\": [\"\\uc120\\ud589\\ub3c4\\uc7a5\\ubd80\"], \"legendgroup\": \"\", \"marker\": {\"color\": \"rgb(218,139,195)\", \"opacity\": 0.5, \"size\": [159], \"sizemode\": \"area\", \"sizeref\": 0.373125, \"symbol\": \"circle\"}, \"mode\": \"markers+text\", \"name\": \"\\uc120\\ud589\\ub3c4\\uc7a5\\ubd80\", \"scene\": \"scene\", \"showlegend\": true, \"text\": [\"\\uc120\\ud589\\ub3c4\\uc7a5\"], \"type\": \"scatter3d\", \"x\": [\"\\uc120\\ud589\\ub3c4\\uc7a5\\ubd80\"], \"y\": [\"\\uc120\\ud589\\ub3c4\\uc7a5\"], \"z\": [159]}, {\"customdata\": [[\"\\uc120\\uc2e4\\uc0dd\\uc0b0\\ubd80\"], [\"\\uc120\\uc2e4\\uc0dd\\uc0b0\\ubd80\"], [\"\\uc120\\uc2e4\\uc0dd\\uc0b0\\ubd80\"], [\"\\uc120\\uc2e4\\uc0dd\\uc0b0\\ubd80\"]], \"hovertemplate\": \"<b>%{hovertext}</b><br><br>\\ub300\\uad6c\\ubd84=%{text}<br>\\uc791\\uc5c5\\ud589\\ub3d9 \\uac1c\\uc218(\\ub85c\\uadf8)=%{marker.size}<extra></extra>\", \"hovertext\": [\"\\uc120\\uc2e4\\uc0dd\\uc0b0\\ubd80\", \"\\uc120\\uc2e4\\uc0dd\\uc0b0\\ubd80\", \"\\uc120\\uc2e4\\uc0dd\\uc0b0\\ubd80\", \"\\uc120\\uc2e4\\uc0dd\\uc0b0\\ubd80\"], \"legendgroup\": \"\", \"marker\": {\"color\": \"rgb(140,140,140)\", \"opacity\": 0.5, \"size\": [16, 19, 562, 38], \"sizemode\": \"area\", \"sizeref\": 0.373125, \"symbol\": \"circle\"}, \"mode\": \"markers+text\", \"name\": \"\\uc120\\uc2e4\\uc0dd\\uc0b0\\ubd80\", \"scene\": \"scene\", \"showlegend\": true, \"text\": [\"\\uc120\\ud589\\uc758\\uc7a5\", \"\\uc120\\uc2e4\\uc120\\ud589\\uc758\\uc7a5\", \"\\uc120\\uc2e4\\uc0dd\\uc0b0\", \"\\ud6c4\\ud589\\uc758\\uc7a5\"], \"type\": \"scatter3d\", \"x\": [\"\\uc120\\uc2e4\\uc0dd\\uc0b0\\ubd80\", \"\\uc120\\uc2e4\\uc0dd\\uc0b0\\ubd80\", \"\\uc120\\uc2e4\\uc0dd\\uc0b0\\ubd80\", \"\\uc120\\uc2e4\\uc0dd\\uc0b0\\ubd80\"], \"y\": [\"\\uc120\\ud589\\uc758\\uc7a5\", \"\\uc120\\uc2e4\\uc120\\ud589\\uc758\\uc7a5\", \"\\uc120\\uc2e4\\uc0dd\\uc0b0\", \"\\ud6c4\\ud589\\uc758\\uc7a5\"], \"z\": [16, 19, 562, 38]}, {\"customdata\": [[\"\\uac74\\uc8701\\ubd80\"]], \"hovertemplate\": \"<b>%{hovertext}</b><br><br>\\ub300\\uad6c\\ubd84=%{text}<br>\\uc791\\uc5c5\\ud589\\ub3d9 \\uac1c\\uc218(\\ub85c\\uadf8)=%{marker.size}<extra></extra>\", \"hovertext\": [\"\\uac74\\uc8701\\ubd80\"], \"legendgroup\": \"\", \"marker\": {\"color\": \"rgb(204,185,116)\", \"opacity\": 0.5, \"size\": [271], \"sizemode\": \"area\", \"sizeref\": 0.373125, \"symbol\": \"circle\"}, \"mode\": \"markers+text\", \"name\": \"\\uac74\\uc8701\\ubd80\", \"scene\": \"scene\", \"showlegend\": true, \"text\": [\"\\uac74\\uc870\"], \"type\": \"scatter3d\", \"x\": [\"\\uac74\\uc8701\\ubd80\"], \"y\": [\"\\uac74\\uc870\"], \"z\": [271]}, {\"customdata\": [[\"\\uac74\\uc8702\\ubd80\"]], \"hovertemplate\": \"<b>%{hovertext}</b><br><br>\\ub300\\uad6c\\ubd84=%{text}<br>\\uc791\\uc5c5\\ud589\\ub3d9 \\uac1c\\uc218(\\ub85c\\uadf8)=%{marker.size}<extra></extra>\", \"hovertext\": [\"\\uac74\\uc8702\\ubd80\"], \"legendgroup\": \"\", \"marker\": {\"color\": \"rgb(100,181,205)\", \"opacity\": 0.5, \"size\": [272], \"sizemode\": \"area\", \"sizeref\": 0.373125, \"symbol\": \"circle\"}, \"mode\": \"markers+text\", \"name\": \"\\uac74\\uc8702\\ubd80\", \"scene\": \"scene\", \"showlegend\": true, \"text\": [\"\\uac74\\uc870\"], \"type\": \"scatter3d\", \"x\": [\"\\uac74\\uc8702\\ubd80\"], \"y\": [\"\\uac74\\uc870\"], \"z\": [272]}, {\"customdata\": [[\"\\uac74\\uc8703\\ubd80\"]], \"hovertemplate\": \"<b>%{hovertext}</b><br><br>\\ub300\\uad6c\\ubd84=%{text}<br>\\uc791\\uc5c5\\ud589\\ub3d9 \\uac1c\\uc218(\\ub85c\\uadf8)=%{marker.size}<extra></extra>\", \"hovertext\": [\"\\uac74\\uc8703\\ubd80\"], \"legendgroup\": \"\", \"marker\": {\"color\": \"rgb(76,114,176)\", \"opacity\": 0.5, \"size\": [271], \"sizemode\": \"area\", \"sizeref\": 0.373125, \"symbol\": \"circle\"}, \"mode\": \"markers+text\", \"name\": \"\\uac74\\uc8703\\ubd80\", \"scene\": \"scene\", \"showlegend\": true, \"text\": [\"\\uac74\\uc870\"], \"type\": \"scatter3d\", \"x\": [\"\\uac74\\uc8703\\ubd80\"], \"y\": [\"\\uac74\\uc870\"], \"z\": [271]}, {\"customdata\": [[\"\\uc758\\uc7a51\\ubd80\"], [\"\\uc758\\uc7a51\\ubd80\"], [\"\\uc758\\uc7a51\\ubd80\"], [\"\\uc758\\uc7a51\\ubd80\"], [\"\\uc758\\uc7a51\\ubd80\"], [\"\\uc758\\uc7a51\\ubd80\"]], \"hovertemplate\": \"<b>%{hovertext}</b><br><br>\\ub300\\uad6c\\ubd84=%{text}<br>\\uc791\\uc5c5\\ud589\\ub3d9 \\uac1c\\uc218(\\ub85c\\uadf8)=%{marker.size}<extra></extra>\", \"hovertext\": [\"\\uc758\\uc7a51\\ubd80\", \"\\uc758\\uc7a51\\ubd80\", \"\\uc758\\uc7a51\\ubd80\", \"\\uc758\\uc7a51\\ubd80\", \"\\uc758\\uc7a51\\ubd80\", \"\\uc758\\uc7a51\\ubd80\"], \"legendgroup\": \"\", \"marker\": {\"color\": \"rgb(221,132,82)\", \"opacity\": 0.5, \"size\": [25, 29, 32, 46, 1167, 88], \"sizemode\": \"area\", \"sizeref\": 0.373125, \"symbol\": \"circle\"}, \"mode\": \"markers+text\", \"name\": \"\\uc758\\uc7a51\\ubd80\", \"scene\": \"scene\", \"showlegend\": true, \"text\": [\"\\uc120\\ud589\\uc758\\uc7a5\", \"\\uc120\\uc2e4\\uc120\\ud589\\uc758\\uc7a5\", \"\\uc120\\ud589\\ub3c4\\uc7a5\", \"\\uc120\\uc2e4\\uc0dd\\uc0b0\", \"\\ud6c4\\ud589\\uc758\\uc7a5\", \"\\ud6c4\\ud589\\ub3c4\\uc7a5\"], \"type\": \"scatter3d\", \"x\": [\"\\uc758\\uc7a51\\ubd80\", \"\\uc758\\uc7a51\\ubd80\", \"\\uc758\\uc7a51\\ubd80\", \"\\uc758\\uc7a51\\ubd80\", \"\\uc758\\uc7a51\\ubd80\", \"\\uc758\\uc7a51\\ubd80\"], \"y\": [\"\\uc120\\ud589\\uc758\\uc7a5\", \"\\uc120\\uc2e4\\uc120\\ud589\\uc758\\uc7a5\", \"\\uc120\\ud589\\ub3c4\\uc7a5\", \"\\uc120\\uc2e4\\uc0dd\\uc0b0\", \"\\ud6c4\\ud589\\uc758\\uc7a5\", \"\\ud6c4\\ud589\\ub3c4\\uc7a5\"], \"z\": [25, 29, 32, 46, 1167, 88]}, {\"customdata\": [[\"\\uc758\\uc7a52\\ubd80\"], [\"\\uc758\\uc7a52\\ubd80\"], [\"\\uc758\\uc7a52\\ubd80\"], [\"\\uc758\\uc7a52\\ubd80\"], [\"\\uc758\\uc7a52\\ubd80\"], [\"\\uc758\\uc7a52\\ubd80\"]], \"hovertemplate\": \"<b>%{hovertext}</b><br><br>\\ub300\\uad6c\\ubd84=%{text}<br>\\uc791\\uc5c5\\ud589\\ub3d9 \\uac1c\\uc218(\\ub85c\\uadf8)=%{marker.size}<extra></extra>\", \"hovertext\": [\"\\uc758\\uc7a52\\ubd80\", \"\\uc758\\uc7a52\\ubd80\", \"\\uc758\\uc7a52\\ubd80\", \"\\uc758\\uc7a52\\ubd80\", \"\\uc758\\uc7a52\\ubd80\", \"\\uc758\\uc7a52\\ubd80\"], \"legendgroup\": \"\", \"marker\": {\"color\": \"rgb(85,168,104)\", \"opacity\": 0.5, \"size\": [25, 29, 32, 93, 1078, 88], \"sizemode\": \"area\", \"sizeref\": 0.373125, \"symbol\": \"circle\"}, \"mode\": \"markers+text\", \"name\": \"\\uc758\\uc7a52\\ubd80\", \"scene\": \"scene\", \"showlegend\": true, \"text\": [\"\\uc120\\ud589\\uc758\\uc7a5\", \"\\uc120\\uc2e4\\uc120\\ud589\\uc758\\uc7a5\", \"\\uc120\\ud589\\ub3c4\\uc7a5\", \"\\uc120\\uc2e4\\uc0dd\\uc0b0\", \"\\ud6c4\\ud589\\uc758\\uc7a5\", \"\\ud6c4\\ud589\\ub3c4\\uc7a5\"], \"type\": \"scatter3d\", \"x\": [\"\\uc758\\uc7a52\\ubd80\", \"\\uc758\\uc7a52\\ubd80\", \"\\uc758\\uc7a52\\ubd80\", \"\\uc758\\uc7a52\\ubd80\", \"\\uc758\\uc7a52\\ubd80\", \"\\uc758\\uc7a52\\ubd80\"], \"y\": [\"\\uc120\\ud589\\uc758\\uc7a5\", \"\\uc120\\uc2e4\\uc120\\ud589\\uc758\\uc7a5\", \"\\uc120\\ud589\\ub3c4\\uc7a5\", \"\\uc120\\uc2e4\\uc0dd\\uc0b0\", \"\\ud6c4\\ud589\\uc758\\uc7a5\", \"\\ud6c4\\ud589\\ub3c4\\uc7a5\"], \"z\": [25, 29, 32, 93, 1078, 88]}, {\"customdata\": [[\"\\uc758\\uc7a53\\ubd80\"], [\"\\uc758\\uc7a53\\ubd80\"], [\"\\uc758\\uc7a53\\ubd80\"], [\"\\uc758\\uc7a53\\ubd80\"], [\"\\uc758\\uc7a53\\ubd80\"], [\"\\uc758\\uc7a53\\ubd80\"]], \"hovertemplate\": \"<b>%{hovertext}</b><br><br>\\ub300\\uad6c\\ubd84=%{text}<br>\\uc791\\uc5c5\\ud589\\ub3d9 \\uac1c\\uc218(\\ub85c\\uadf8)=%{marker.size}<extra></extra>\", \"hovertext\": [\"\\uc758\\uc7a53\\ubd80\", \"\\uc758\\uc7a53\\ubd80\", \"\\uc758\\uc7a53\\ubd80\", \"\\uc758\\uc7a53\\ubd80\", \"\\uc758\\uc7a53\\ubd80\", \"\\uc758\\uc7a53\\ubd80\"], \"legendgroup\": \"\", \"marker\": {\"color\": \"rgb(196,78,82)\", \"opacity\": 0.5, \"size\": [25, 29, 31, 45, 1076, 89], \"sizemode\": \"area\", \"sizeref\": 0.373125, \"symbol\": \"circle\"}, \"mode\": \"markers+text\", \"name\": \"\\uc758\\uc7a53\\ubd80\", \"scene\": \"scene\", \"showlegend\": true, \"text\": [\"\\uc120\\ud589\\uc758\\uc7a5\", \"\\uc120\\uc2e4\\uc120\\ud589\\uc758\\uc7a5\", \"\\uc120\\ud589\\ub3c4\\uc7a5\", \"\\uc120\\uc2e4\\uc0dd\\uc0b0\", \"\\ud6c4\\ud589\\uc758\\uc7a5\", \"\\ud6c4\\ud589\\ub3c4\\uc7a5\"], \"type\": \"scatter3d\", \"x\": [\"\\uc758\\uc7a53\\ubd80\", \"\\uc758\\uc7a53\\ubd80\", \"\\uc758\\uc7a53\\ubd80\", \"\\uc758\\uc7a53\\ubd80\", \"\\uc758\\uc7a53\\ubd80\", \"\\uc758\\uc7a53\\ubd80\"], \"y\": [\"\\uc120\\ud589\\uc758\\uc7a5\", \"\\uc120\\uc2e4\\uc120\\ud589\\uc758\\uc7a5\", \"\\uc120\\ud589\\ub3c4\\uc7a5\", \"\\uc120\\uc2e4\\uc0dd\\uc0b0\", \"\\ud6c4\\ud589\\uc758\\uc7a5\", \"\\ud6c4\\ud589\\ub3c4\\uc7a5\"], \"z\": [25, 29, 31, 45, 1076, 89]}, {\"customdata\": [[\"CHS\\uacf5\\uc0ac\\ubd80\"], [\"CHS\\uacf5\\uc0ac\\ubd80\"]], \"hovertemplate\": \"<b>%{hovertext}</b><br><br>\\ub300\\uad6c\\ubd84=%{text}<br>\\uc791\\uc5c5\\ud589\\ub3d9 \\uac1c\\uc218(\\ub85c\\uadf8)=%{marker.size}<extra></extra>\", \"hovertext\": [\"CHS\\uacf5\\uc0ac\\ubd80\", \"CHS\\uacf5\\uc0ac\\ubd80\"], \"legendgroup\": \"\", \"marker\": {\"color\": \"rgb(129,114,179)\", \"opacity\": 0.5, \"size\": [9, 859], \"sizemode\": \"area\", \"sizeref\": 0.373125, \"symbol\": \"circle\"}, \"mode\": \"markers+text\", \"name\": \"CHS\\uacf5\\uc0ac\\ubd80\", \"scene\": \"scene\", \"showlegend\": true, \"text\": [\"\\uc120\\ud589\\uc758\\uc7a5\", \"\\ud6c4\\ud589\\uc758\\uc7a5\"], \"type\": \"scatter3d\", \"x\": [\"CHS\\uacf5\\uc0ac\\ubd80\", \"CHS\\uacf5\\uc0ac\\ubd80\"], \"y\": [\"\\uc120\\ud589\\uc758\\uc7a5\", \"\\ud6c4\\ud589\\uc758\\uc7a5\"], \"z\": [9, 859]}, {\"customdata\": [[\"\\uae30\\uacc4\\uc758\\uc7a5\\ubd80\"]], \"hovertemplate\": \"<b>%{hovertext}</b><br><br>\\ub300\\uad6c\\ubd84=%{text}<br>\\uc791\\uc5c5\\ud589\\ub3d9 \\uac1c\\uc218(\\ub85c\\uadf8)=%{marker.size}<extra></extra>\", \"hovertext\": [\"\\uae30\\uacc4\\uc758\\uc7a5\\ubd80\"], \"legendgroup\": \"\", \"marker\": {\"color\": \"rgb(147,120,96)\", \"opacity\": 0.5, \"size\": [543], \"sizemode\": \"area\", \"sizeref\": 0.373125, \"symbol\": \"circle\"}, \"mode\": \"markers+text\", \"name\": \"\\uae30\\uacc4\\uc758\\uc7a5\\ubd80\", \"scene\": \"scene\", \"showlegend\": true, \"text\": [\"\\uae30\\uacc4\\uc758\\uc7a5\"], \"type\": \"scatter3d\", \"x\": [\"\\uae30\\uacc4\\uc758\\uc7a5\\ubd80\"], \"y\": [\"\\uae30\\uacc4\\uc758\\uc7a5\"], \"z\": [543]}, {\"customdata\": [[\"\\ub3c4\\uc7a51\\ubd80\"], [\"\\ub3c4\\uc7a51\\ubd80\"]], \"hovertemplate\": \"<b>%{hovertext}</b><br><br>\\ub300\\uad6c\\ubd84=%{text}<br>\\uc791\\uc5c5\\ud589\\ub3d9 \\uac1c\\uc218(\\ub85c\\uadf8)=%{marker.size}<extra></extra>\", \"hovertext\": [\"\\ub3c4\\uc7a51\\ubd80\", \"\\ub3c4\\uc7a51\\ubd80\"], \"legendgroup\": \"\", \"marker\": {\"color\": \"rgb(218,139,195)\", \"opacity\": 0.5, \"size\": [31, 96], \"sizemode\": \"area\", \"sizeref\": 0.373125, \"symbol\": \"circle\"}, \"mode\": \"markers+text\", \"name\": \"\\ub3c4\\uc7a51\\ubd80\", \"scene\": \"scene\", \"showlegend\": true, \"text\": [\"\\uc120\\ud589\\ub3c4\\uc7a5\", \"\\ud6c4\\ud589\\ub3c4\\uc7a5\"], \"type\": \"scatter3d\", \"x\": [\"\\ub3c4\\uc7a51\\ubd80\", \"\\ub3c4\\uc7a51\\ubd80\"], \"y\": [\"\\uc120\\ud589\\ub3c4\\uc7a5\", \"\\ud6c4\\ud589\\ub3c4\\uc7a5\"], \"z\": [31, 96]}, {\"customdata\": [[\"\\ub3c4\\uc7a52\\ubd80\"], [\"\\ub3c4\\uc7a52\\ubd80\"]], \"hovertemplate\": \"<b>%{hovertext}</b><br><br>\\ub300\\uad6c\\ubd84=%{text}<br>\\uc791\\uc5c5\\ud589\\ub3d9 \\uac1c\\uc218(\\ub85c\\uadf8)=%{marker.size}<extra></extra>\", \"hovertext\": [\"\\ub3c4\\uc7a52\\ubd80\", \"\\ub3c4\\uc7a52\\ubd80\"], \"legendgroup\": \"\", \"marker\": {\"color\": \"rgb(140,140,140)\", \"opacity\": 0.5, \"size\": [32, 95], \"sizemode\": \"area\", \"sizeref\": 0.373125, \"symbol\": \"circle\"}, \"mode\": \"markers+text\", \"name\": \"\\ub3c4\\uc7a52\\ubd80\", \"scene\": \"scene\", \"showlegend\": true, \"text\": [\"\\uc120\\ud589\\ub3c4\\uc7a5\", \"\\ud6c4\\ud589\\ub3c4\\uc7a5\"], \"type\": \"scatter3d\", \"x\": [\"\\ub3c4\\uc7a52\\ubd80\", \"\\ub3c4\\uc7a52\\ubd80\"], \"y\": [\"\\uc120\\ud589\\ub3c4\\uc7a5\", \"\\ud6c4\\ud589\\ub3c4\\uc7a5\"], \"z\": [32, 95]}, {\"customdata\": [[\"LNG\\uacf5\\uc0ac\\ubd80\"]], \"hovertemplate\": \"<b>%{hovertext}</b><br><br>\\ub300\\uad6c\\ubd84=%{text}<br>\\uc791\\uc5c5\\ud589\\ub3d9 \\uac1c\\uc218(\\ub85c\\uadf8)=%{marker.size}<extra></extra>\", \"hovertext\": [\"LNG\\uacf5\\uc0ac\\ubd80\"], \"legendgroup\": \"\", \"marker\": {\"color\": \"rgb(204,185,116)\", \"opacity\": 0.5, \"size\": [182], \"sizemode\": \"area\", \"sizeref\": 0.373125, \"symbol\": \"circle\"}, \"mode\": \"markers+text\", \"name\": \"LNG\\uacf5\\uc0ac\\ubd80\", \"scene\": \"scene\", \"showlegend\": true, \"text\": [\"LNG\\uacf5\\uc0ac\"], \"type\": \"scatter3d\", \"x\": [\"LNG\\uacf5\\uc0ac\\ubd80\"], \"y\": [\"LNG\\uacf5\\uc0ac\"], \"z\": [182]}, {\"customdata\": [[\"\\uc2dc\\uc6b4\\uc804\\ubd80\"], [\"\\uc2dc\\uc6b4\\uc804\\ubd80\"]], \"hovertemplate\": \"<b>%{hovertext}</b><br><br>\\ub300\\uad6c\\ubd84=%{text}<br>\\uc791\\uc5c5\\ud589\\ub3d9 \\uac1c\\uc218(\\ub85c\\uadf8)=%{marker.size}<extra></extra>\", \"hovertext\": [\"\\uc2dc\\uc6b4\\uc804\\ubd80\", \"\\uc2dc\\uc6b4\\uc804\\ubd80\"], \"legendgroup\": \"\", \"marker\": {\"color\": \"rgb(100,181,205)\", \"opacity\": 0.5, \"size\": [17, 2388], \"sizemode\": \"area\", \"sizeref\": 0.373125, \"symbol\": \"circle\"}, \"mode\": \"markers+text\", \"name\": \"\\uc2dc\\uc6b4\\uc804\\ubd80\", \"scene\": \"scene\", \"showlegend\": true, \"text\": [\"\\uc120\\uc2e4\\uc120\\ud589\\uc758\\uc7a5\", \"\\uc2dc\\uc6b4\\uc804\"], \"type\": \"scatter3d\", \"x\": [\"\\uc2dc\\uc6b4\\uc804\\ubd80\", \"\\uc2dc\\uc6b4\\uc804\\ubd80\"], \"y\": [\"\\uc120\\uc2e4\\uc120\\ud589\\uc758\\uc7a5\", \"\\uc2dc\\uc6b4\\uc804\"], \"z\": [17, 2388]}, {\"customdata\": [[\"\\uc6b4\\ud56d\\uad00\\uc81c\\uacfc\"]], \"hovertemplate\": \"<b>%{hovertext}</b><br><br>\\ub300\\uad6c\\ubd84=%{text}<br>\\uc791\\uc5c5\\ud589\\ub3d9 \\uac1c\\uc218(\\ub85c\\uadf8)=%{marker.size}<extra></extra>\", \"hovertext\": [\"\\uc6b4\\ud56d\\uad00\\uc81c\\uacfc\"], \"legendgroup\": \"\", \"marker\": {\"color\": \"rgb(76,114,176)\", \"opacity\": 0.5, \"size\": [477], \"sizemode\": \"area\", \"sizeref\": 0.373125, \"symbol\": \"circle\"}, \"mode\": \"markers+text\", \"name\": \"\\uc6b4\\ud56d\\uad00\\uc81c\\uacfc\", \"scene\": \"scene\", \"showlegend\": true, \"text\": [\"\\uc6b4\\ud56d\\uad00\\uc81c\"], \"type\": \"scatter3d\", \"x\": [\"\\uc6b4\\ud56d\\uad00\\uc81c\\uacfc\"], \"y\": [\"\\uc6b4\\ud56d\\uad00\\uc81c\"], \"z\": [477]}, {\"customdata\": [[\"\\uc678\\uc5c5\\uacf5\\uc0ac\\uc9c0\\uc6d0\\ubd80\"]], \"hovertemplate\": \"<b>%{hovertext}</b><br><br>\\ub300\\uad6c\\ubd84=%{text}<br>\\uc791\\uc5c5\\ud589\\ub3d9 \\uac1c\\uc218(\\ub85c\\uadf8)=%{marker.size}<extra></extra>\", \"hovertext\": [\"\\uc678\\uc5c5\\uacf5\\uc0ac\\uc9c0\\uc6d0\\ubd80\"], \"legendgroup\": \"\", \"marker\": {\"color\": \"rgb(221,132,82)\", \"opacity\": 0.5, \"size\": [344], \"sizemode\": \"area\", \"sizeref\": 0.373125, \"symbol\": \"circle\"}, \"mode\": \"markers+text\", \"name\": \"\\uc678\\uc5c5\\uacf5\\uc0ac\\uc9c0\\uc6d0\\ubd80\", \"scene\": \"scene\", \"showlegend\": true, \"text\": [\"\\uacf5\\uc0ac\\uc9c0\\uc6d0\"], \"type\": \"scatter3d\", \"x\": [\"\\uc678\\uc5c5\\uacf5\\uc0ac\\uc9c0\\uc6d0\\ubd80\"], \"y\": [\"\\uacf5\\uc0ac\\uc9c0\\uc6d0\"], \"z\": [344]}, {\"customdata\": [[\"\\ubc1c\\ud310\\uc9c0\\uc6d0\\ubd80\"]], \"hovertemplate\": \"<b>%{hovertext}</b><br><br>\\ub300\\uad6c\\ubd84=%{text}<br>\\uc791\\uc5c5\\ud589\\ub3d9 \\uac1c\\uc218(\\ub85c\\uadf8)=%{marker.size}<extra></extra>\", \"hovertext\": [\"\\ubc1c\\ud310\\uc9c0\\uc6d0\\ubd80\"], \"legendgroup\": \"\", \"marker\": {\"color\": \"rgb(85,168,104)\", \"opacity\": 0.5, \"size\": [103], \"sizemode\": \"area\", \"sizeref\": 0.373125, \"symbol\": \"circle\"}, \"mode\": \"markers+text\", \"name\": \"\\ubc1c\\ud310\\uc9c0\\uc6d0\\ubd80\", \"scene\": \"scene\", \"showlegend\": true, \"text\": [\"\\uacf5\\uc0ac\\uc9c0\\uc6d0\"], \"type\": \"scatter3d\", \"x\": [\"\\ubc1c\\ud310\\uc9c0\\uc6d0\\ubd80\"], \"y\": [\"\\uacf5\\uc0ac\\uc9c0\\uc6d0\"], \"z\": [103]}, {\"customdata\": [[\"\\uc870\\uc120\\ud574\\uc591\\ud488\\uc9c8\\uacbd\\uc6011\\ubd80\"]], \"hovertemplate\": \"<b>%{hovertext}</b><br><br>\\ub300\\uad6c\\ubd84=%{text}<br>\\uc791\\uc5c5\\ud589\\ub3d9 \\uac1c\\uc218(\\ub85c\\uadf8)=%{marker.size}<extra></extra>\", \"hovertext\": [\"\\uc870\\uc120\\ud574\\uc591\\ud488\\uc9c8\\uacbd\\uc6011\\ubd80\"], \"legendgroup\": \"\", \"marker\": {\"color\": \"rgb(196,78,82)\", \"opacity\": 0.5, \"size\": [238], \"sizemode\": \"area\", \"sizeref\": 0.373125, \"symbol\": \"circle\"}, \"mode\": \"markers+text\", \"name\": \"\\uc870\\uc120\\ud574\\uc591\\ud488\\uc9c8\\uacbd\\uc6011\\ubd80\", \"scene\": \"scene\", \"showlegend\": true, \"text\": [\"QM\"], \"type\": \"scatter3d\", \"x\": [\"\\uc870\\uc120\\ud574\\uc591\\ud488\\uc9c8\\uacbd\\uc6011\\ubd80\"], \"y\": [\"QM\"], \"z\": [238]}, {\"customdata\": [[\"\\uc870\\uc120\\ud574\\uc591\\ud488\\uc9c8\\uacbd\\uc6012\\ubd80\"]], \"hovertemplate\": \"<b>%{hovertext}</b><br><br>\\ub300\\uad6c\\ubd84=%{text}<br>\\uc791\\uc5c5\\ud589\\ub3d9 \\uac1c\\uc218(\\ub85c\\uadf8)=%{marker.size}<extra></extra>\", \"hovertext\": [\"\\uc870\\uc120\\ud574\\uc591\\ud488\\uc9c8\\uacbd\\uc6012\\ubd80\"], \"legendgroup\": \"\", \"marker\": {\"color\": \"rgb(129,114,179)\", \"opacity\": 0.5, \"size\": [278], \"sizemode\": \"area\", \"sizeref\": 0.373125, \"symbol\": \"circle\"}, \"mode\": \"markers+text\", \"name\": \"\\uc870\\uc120\\ud574\\uc591\\ud488\\uc9c8\\uacbd\\uc6012\\ubd80\", \"scene\": \"scene\", \"showlegend\": true, \"text\": [\"QM\"], \"type\": \"scatter3d\", \"x\": [\"\\uc870\\uc120\\ud574\\uc591\\ud488\\uc9c8\\uacbd\\uc6012\\ubd80\"], \"y\": [\"QM\"], \"z\": [278]}],                        {\"height\": 900, \"legend\": {\"itemsizing\": \"constant\", \"title\": {\"text\": \"\\ubd80\\uc11c\"}, \"tracegroupgap\": 0}, \"scene\": {\"domain\": {\"x\": [0.0, 1.0], \"y\": [0.0, 1.0]}, \"xaxis\": {\"categoryarray\": [\"\\uac00\\uacf5\\uc18c\\uc870\\ub9bd\\ubd80\", \"\\ud310\\ub12c\\uc870\\ub9bd\\ubd80\", \"\\ub300\\uc870\\ub9bd1\\ubd80\", \"\\ub300\\uc870\\ub9bd2\\ubd80\", \"\\uc758\\uc7a5\\uc0dd\\uc0b0\\ubd80\", \"\\uc120\\ud589\\uc758\\uc7a5\\ubd80\", \"\\uc120\\ud589\\ub3c4\\uc7a5\\ubd80\", \"\\uc120\\uc2e4\\uc0dd\\uc0b0\\ubd80\", \"\\uac74\\uc8701\\ubd80\", \"\\uac74\\uc8702\\ubd80\", \"\\uac74\\uc8703\\ubd80\", \"\\uc758\\uc7a51\\ubd80\", \"\\uc758\\uc7a52\\ubd80\", \"\\uc758\\uc7a53\\ubd80\", \"CHS\\uacf5\\uc0ac\\ubd80\", \"\\uae30\\uacc4\\uc758\\uc7a5\\ubd80\", \"\\ub3c4\\uc7a51\\ubd80\", \"\\ub3c4\\uc7a52\\ubd80\", \"LNG\\uacf5\\uc0ac\\ubd80\", \"\\uc2dc\\uc6b4\\uc804\\ubd80\", \"\\uc6b4\\ud56d\\uad00\\uc81c\\uacfc\", \"\\uc678\\uc5c5\\uacf5\\uc0ac\\uc9c0\\uc6d0\\ubd80\", \"\\ubc1c\\ud310\\uc9c0\\uc6d0\\ubd80\", \"\\uc870\\uc120\\ud574\\uc591\\ud488\\uc9c8\\uacbd\\uc6011\\ubd80\", \"\\uc870\\uc120\\ud574\\uc591\\ud488\\uc9c8\\uacbd\\uc6012\\ubd80\"], \"categoryorder\": \"array\", \"title\": {\"text\": \"\\ubd80\\uc11c\"}}, \"yaxis\": {\"title\": {\"text\": \"\\ub300\\uad6c\\ubd84\"}}, \"zaxis\": {\"title\": {\"text\": \"\\uc791\\uc5c5\\ud589\\ub3d9 \\uac1c\\uc218(\\ub85c\\uadf8)\"}, \"type\": \"log\"}}, \"template\": {\"data\": {\"bar\": [{\"error_x\": {\"color\": \"rgb(36,36,36)\"}, \"error_y\": {\"color\": \"rgb(36,36,36)\"}, \"marker\": {\"line\": {\"color\": \"rgb(234,234,242)\", \"width\": 0.5}}, \"type\": \"bar\"}], \"barpolar\": [{\"marker\": {\"line\": {\"color\": \"rgb(234,234,242)\", \"width\": 0.5}}, \"type\": \"barpolar\"}], \"carpet\": [{\"aaxis\": {\"endlinecolor\": \"rgb(36,36,36)\", \"gridcolor\": \"white\", \"linecolor\": \"white\", \"minorgridcolor\": \"white\", \"startlinecolor\": \"rgb(36,36,36)\"}, \"baxis\": {\"endlinecolor\": \"rgb(36,36,36)\", \"gridcolor\": \"white\", \"linecolor\": \"white\", \"minorgridcolor\": \"white\", \"startlinecolor\": \"rgb(36,36,36)\"}, \"type\": \"carpet\"}], \"choropleth\": [{\"colorbar\": {\"outlinewidth\": 0, \"tickcolor\": \"rgb(36,36,36)\", \"ticklen\": 8, \"ticks\": \"outside\", \"tickwidth\": 2}, \"type\": \"choropleth\"}], \"contour\": [{\"colorbar\": {\"outlinewidth\": 0, \"tickcolor\": \"rgb(36,36,36)\", \"ticklen\": 8, \"ticks\": \"outside\", \"tickwidth\": 2}, \"colorscale\": [[0.0, \"rgb(2,4,25)\"], [0.06274509803921569, \"rgb(24,15,41)\"], [0.12549019607843137, \"rgb(47,23,57)\"], [0.18823529411764706, \"rgb(71,28,72)\"], [0.25098039215686274, \"rgb(97,30,82)\"], [0.3137254901960784, \"rgb(123,30,89)\"], [0.3764705882352941, \"rgb(150,27,91)\"], [0.4392156862745098, \"rgb(177,22,88)\"], [0.5019607843137255, \"rgb(203,26,79)\"], [0.5647058823529412, \"rgb(223,47,67)\"], [0.6274509803921569, \"rgb(236,76,61)\"], [0.6901960784313725, \"rgb(242,107,73)\"], [0.7529411764705882, \"rgb(244,135,95)\"], [0.8156862745098039, \"rgb(245,162,122)\"], [0.8784313725490196, \"rgb(246,188,153)\"], [0.9411764705882353, \"rgb(247,212,187)\"], [1.0, \"rgb(250,234,220)\"]], \"type\": \"contour\"}], \"contourcarpet\": [{\"colorbar\": {\"outlinewidth\": 0, \"tickcolor\": \"rgb(36,36,36)\", \"ticklen\": 8, \"ticks\": \"outside\", \"tickwidth\": 2}, \"type\": \"contourcarpet\"}], \"heatmap\": [{\"colorbar\": {\"outlinewidth\": 0, \"tickcolor\": \"rgb(36,36,36)\", \"ticklen\": 8, \"ticks\": \"outside\", \"tickwidth\": 2}, \"colorscale\": [[0.0, \"rgb(2,4,25)\"], [0.06274509803921569, \"rgb(24,15,41)\"], [0.12549019607843137, \"rgb(47,23,57)\"], [0.18823529411764706, \"rgb(71,28,72)\"], [0.25098039215686274, \"rgb(97,30,82)\"], [0.3137254901960784, \"rgb(123,30,89)\"], [0.3764705882352941, \"rgb(150,27,91)\"], [0.4392156862745098, \"rgb(177,22,88)\"], [0.5019607843137255, \"rgb(203,26,79)\"], [0.5647058823529412, \"rgb(223,47,67)\"], [0.6274509803921569, \"rgb(236,76,61)\"], [0.6901960784313725, \"rgb(242,107,73)\"], [0.7529411764705882, \"rgb(244,135,95)\"], [0.8156862745098039, \"rgb(245,162,122)\"], [0.8784313725490196, \"rgb(246,188,153)\"], [0.9411764705882353, \"rgb(247,212,187)\"], [1.0, \"rgb(250,234,220)\"]], \"type\": \"heatmap\"}], \"heatmapgl\": [{\"colorbar\": {\"outlinewidth\": 0, \"tickcolor\": \"rgb(36,36,36)\", \"ticklen\": 8, \"ticks\": \"outside\", \"tickwidth\": 2}, \"colorscale\": [[0.0, \"rgb(2,4,25)\"], [0.06274509803921569, \"rgb(24,15,41)\"], [0.12549019607843137, \"rgb(47,23,57)\"], [0.18823529411764706, \"rgb(71,28,72)\"], [0.25098039215686274, \"rgb(97,30,82)\"], [0.3137254901960784, \"rgb(123,30,89)\"], [0.3764705882352941, \"rgb(150,27,91)\"], [0.4392156862745098, \"rgb(177,22,88)\"], [0.5019607843137255, \"rgb(203,26,79)\"], [0.5647058823529412, \"rgb(223,47,67)\"], [0.6274509803921569, \"rgb(236,76,61)\"], [0.6901960784313725, \"rgb(242,107,73)\"], [0.7529411764705882, \"rgb(244,135,95)\"], [0.8156862745098039, \"rgb(245,162,122)\"], [0.8784313725490196, \"rgb(246,188,153)\"], [0.9411764705882353, \"rgb(247,212,187)\"], [1.0, \"rgb(250,234,220)\"]], \"type\": \"heatmapgl\"}], \"histogram\": [{\"marker\": {\"colorbar\": {\"outlinewidth\": 0, \"tickcolor\": \"rgb(36,36,36)\", \"ticklen\": 8, \"ticks\": \"outside\", \"tickwidth\": 2}}, \"type\": \"histogram\"}], \"histogram2d\": [{\"colorbar\": {\"outlinewidth\": 0, \"tickcolor\": \"rgb(36,36,36)\", \"ticklen\": 8, \"ticks\": \"outside\", \"tickwidth\": 2}, \"colorscale\": [[0.0, \"rgb(2,4,25)\"], [0.06274509803921569, \"rgb(24,15,41)\"], [0.12549019607843137, \"rgb(47,23,57)\"], [0.18823529411764706, \"rgb(71,28,72)\"], [0.25098039215686274, \"rgb(97,30,82)\"], [0.3137254901960784, \"rgb(123,30,89)\"], [0.3764705882352941, \"rgb(150,27,91)\"], [0.4392156862745098, \"rgb(177,22,88)\"], [0.5019607843137255, \"rgb(203,26,79)\"], [0.5647058823529412, \"rgb(223,47,67)\"], [0.6274509803921569, \"rgb(236,76,61)\"], [0.6901960784313725, \"rgb(242,107,73)\"], [0.7529411764705882, \"rgb(244,135,95)\"], [0.8156862745098039, \"rgb(245,162,122)\"], [0.8784313725490196, \"rgb(246,188,153)\"], [0.9411764705882353, \"rgb(247,212,187)\"], [1.0, \"rgb(250,234,220)\"]], \"type\": \"histogram2d\"}], \"histogram2dcontour\": [{\"colorbar\": {\"outlinewidth\": 0, \"tickcolor\": \"rgb(36,36,36)\", \"ticklen\": 8, \"ticks\": \"outside\", \"tickwidth\": 2}, \"colorscale\": [[0.0, \"rgb(2,4,25)\"], [0.06274509803921569, \"rgb(24,15,41)\"], [0.12549019607843137, \"rgb(47,23,57)\"], [0.18823529411764706, \"rgb(71,28,72)\"], [0.25098039215686274, \"rgb(97,30,82)\"], [0.3137254901960784, \"rgb(123,30,89)\"], [0.3764705882352941, \"rgb(150,27,91)\"], [0.4392156862745098, \"rgb(177,22,88)\"], [0.5019607843137255, \"rgb(203,26,79)\"], [0.5647058823529412, \"rgb(223,47,67)\"], [0.6274509803921569, \"rgb(236,76,61)\"], [0.6901960784313725, \"rgb(242,107,73)\"], [0.7529411764705882, \"rgb(244,135,95)\"], [0.8156862745098039, \"rgb(245,162,122)\"], [0.8784313725490196, \"rgb(246,188,153)\"], [0.9411764705882353, \"rgb(247,212,187)\"], [1.0, \"rgb(250,234,220)\"]], \"type\": \"histogram2dcontour\"}], \"mesh3d\": [{\"colorbar\": {\"outlinewidth\": 0, \"tickcolor\": \"rgb(36,36,36)\", \"ticklen\": 8, \"ticks\": \"outside\", \"tickwidth\": 2}, \"type\": \"mesh3d\"}], \"parcoords\": [{\"line\": {\"colorbar\": {\"outlinewidth\": 0, \"tickcolor\": \"rgb(36,36,36)\", \"ticklen\": 8, \"ticks\": \"outside\", \"tickwidth\": 2}}, \"type\": \"parcoords\"}], \"pie\": [{\"automargin\": true, \"type\": \"pie\"}], \"scatter\": [{\"marker\": {\"colorbar\": {\"outlinewidth\": 0, \"tickcolor\": \"rgb(36,36,36)\", \"ticklen\": 8, \"ticks\": \"outside\", \"tickwidth\": 2}}, \"type\": \"scatter\"}], \"scatter3d\": [{\"line\": {\"colorbar\": {\"outlinewidth\": 0, \"tickcolor\": \"rgb(36,36,36)\", \"ticklen\": 8, \"ticks\": \"outside\", \"tickwidth\": 2}}, \"marker\": {\"colorbar\": {\"outlinewidth\": 0, \"tickcolor\": \"rgb(36,36,36)\", \"ticklen\": 8, \"ticks\": \"outside\", \"tickwidth\": 2}}, \"type\": \"scatter3d\"}], \"scattercarpet\": [{\"marker\": {\"colorbar\": {\"outlinewidth\": 0, \"tickcolor\": \"rgb(36,36,36)\", \"ticklen\": 8, \"ticks\": \"outside\", \"tickwidth\": 2}}, \"type\": \"scattercarpet\"}], \"scattergeo\": [{\"marker\": {\"colorbar\": {\"outlinewidth\": 0, \"tickcolor\": \"rgb(36,36,36)\", \"ticklen\": 8, \"ticks\": \"outside\", \"tickwidth\": 2}}, \"type\": \"scattergeo\"}], \"scattergl\": [{\"marker\": {\"colorbar\": {\"outlinewidth\": 0, \"tickcolor\": \"rgb(36,36,36)\", \"ticklen\": 8, \"ticks\": \"outside\", \"tickwidth\": 2}}, \"type\": \"scattergl\"}], \"scattermapbox\": [{\"marker\": {\"colorbar\": {\"outlinewidth\": 0, \"tickcolor\": \"rgb(36,36,36)\", \"ticklen\": 8, \"ticks\": \"outside\", \"tickwidth\": 2}}, \"type\": \"scattermapbox\"}], \"scatterpolar\": [{\"marker\": {\"colorbar\": {\"outlinewidth\": 0, \"tickcolor\": \"rgb(36,36,36)\", \"ticklen\": 8, \"ticks\": \"outside\", \"tickwidth\": 2}}, \"type\": \"scatterpolar\"}], \"scatterpolargl\": [{\"marker\": {\"colorbar\": {\"outlinewidth\": 0, \"tickcolor\": \"rgb(36,36,36)\", \"ticklen\": 8, \"ticks\": \"outside\", \"tickwidth\": 2}}, \"type\": \"scatterpolargl\"}], \"scatterternary\": [{\"marker\": {\"colorbar\": {\"outlinewidth\": 0, \"tickcolor\": \"rgb(36,36,36)\", \"ticklen\": 8, \"ticks\": \"outside\", \"tickwidth\": 2}}, \"type\": \"scatterternary\"}], \"surface\": [{\"colorbar\": {\"outlinewidth\": 0, \"tickcolor\": \"rgb(36,36,36)\", \"ticklen\": 8, \"ticks\": \"outside\", \"tickwidth\": 2}, \"colorscale\": [[0.0, \"rgb(2,4,25)\"], [0.06274509803921569, \"rgb(24,15,41)\"], [0.12549019607843137, \"rgb(47,23,57)\"], [0.18823529411764706, \"rgb(71,28,72)\"], [0.25098039215686274, \"rgb(97,30,82)\"], [0.3137254901960784, \"rgb(123,30,89)\"], [0.3764705882352941, \"rgb(150,27,91)\"], [0.4392156862745098, \"rgb(177,22,88)\"], [0.5019607843137255, \"rgb(203,26,79)\"], [0.5647058823529412, \"rgb(223,47,67)\"], [0.6274509803921569, \"rgb(236,76,61)\"], [0.6901960784313725, \"rgb(242,107,73)\"], [0.7529411764705882, \"rgb(244,135,95)\"], [0.8156862745098039, \"rgb(245,162,122)\"], [0.8784313725490196, \"rgb(246,188,153)\"], [0.9411764705882353, \"rgb(247,212,187)\"], [1.0, \"rgb(250,234,220)\"]], \"type\": \"surface\"}], \"table\": [{\"cells\": {\"fill\": {\"color\": \"rgb(231,231,240)\"}, \"line\": {\"color\": \"white\"}}, \"header\": {\"fill\": {\"color\": \"rgb(183,183,191)\"}, \"line\": {\"color\": \"white\"}}, \"type\": \"table\"}]}, \"layout\": {\"annotationdefaults\": {\"arrowcolor\": \"rgb(67,103,167)\"}, \"autotypenumbers\": \"strict\", \"coloraxis\": {\"colorbar\": {\"outlinewidth\": 0, \"tickcolor\": \"rgb(36,36,36)\", \"ticklen\": 8, \"ticks\": \"outside\", \"tickwidth\": 2}}, \"colorscale\": {\"sequential\": [[0.0, \"rgb(2,4,25)\"], [0.06274509803921569, \"rgb(24,15,41)\"], [0.12549019607843137, \"rgb(47,23,57)\"], [0.18823529411764706, \"rgb(71,28,72)\"], [0.25098039215686274, \"rgb(97,30,82)\"], [0.3137254901960784, \"rgb(123,30,89)\"], [0.3764705882352941, \"rgb(150,27,91)\"], [0.4392156862745098, \"rgb(177,22,88)\"], [0.5019607843137255, \"rgb(203,26,79)\"], [0.5647058823529412, \"rgb(223,47,67)\"], [0.6274509803921569, \"rgb(236,76,61)\"], [0.6901960784313725, \"rgb(242,107,73)\"], [0.7529411764705882, \"rgb(244,135,95)\"], [0.8156862745098039, \"rgb(245,162,122)\"], [0.8784313725490196, \"rgb(246,188,153)\"], [0.9411764705882353, \"rgb(247,212,187)\"], [1.0, \"rgb(250,234,220)\"]], \"sequentialminus\": [[0.0, \"rgb(2,4,25)\"], [0.06274509803921569, \"rgb(24,15,41)\"], [0.12549019607843137, \"rgb(47,23,57)\"], [0.18823529411764706, \"rgb(71,28,72)\"], [0.25098039215686274, \"rgb(97,30,82)\"], [0.3137254901960784, \"rgb(123,30,89)\"], [0.3764705882352941, \"rgb(150,27,91)\"], [0.4392156862745098, \"rgb(177,22,88)\"], [0.5019607843137255, \"rgb(203,26,79)\"], [0.5647058823529412, \"rgb(223,47,67)\"], [0.6274509803921569, \"rgb(236,76,61)\"], [0.6901960784313725, \"rgb(242,107,73)\"], [0.7529411764705882, \"rgb(244,135,95)\"], [0.8156862745098039, \"rgb(245,162,122)\"], [0.8784313725490196, \"rgb(246,188,153)\"], [0.9411764705882353, \"rgb(247,212,187)\"], [1.0, \"rgb(250,234,220)\"]]}, \"colorway\": [\"rgb(76,114,176)\", \"rgb(221,132,82)\", \"rgb(85,168,104)\", \"rgb(196,78,82)\", \"rgb(129,114,179)\", \"rgb(147,120,96)\", \"rgb(218,139,195)\", \"rgb(140,140,140)\", \"rgb(204,185,116)\", \"rgb(100,181,205)\"], \"font\": {\"color\": \"rgb(36,36,36)\"}, \"geo\": {\"bgcolor\": \"white\", \"lakecolor\": \"white\", \"landcolor\": \"rgb(234,234,242)\", \"showlakes\": true, \"showland\": true, \"subunitcolor\": \"white\"}, \"hoverlabel\": {\"align\": \"left\"}, \"hovermode\": \"closest\", \"paper_bgcolor\": \"white\", \"plot_bgcolor\": \"rgb(234,234,242)\", \"polar\": {\"angularaxis\": {\"gridcolor\": \"white\", \"linecolor\": \"white\", \"showgrid\": true, \"ticks\": \"\"}, \"bgcolor\": \"rgb(234,234,242)\", \"radialaxis\": {\"gridcolor\": \"white\", \"linecolor\": \"white\", \"showgrid\": true, \"ticks\": \"\"}}, \"scene\": {\"xaxis\": {\"backgroundcolor\": \"rgb(234,234,242)\", \"gridcolor\": \"white\", \"gridwidth\": 2, \"linecolor\": \"white\", \"showbackground\": true, \"showgrid\": true, \"ticks\": \"\", \"zerolinecolor\": \"white\"}, \"yaxis\": {\"backgroundcolor\": \"rgb(234,234,242)\", \"gridcolor\": \"white\", \"gridwidth\": 2, \"linecolor\": \"white\", \"showbackground\": true, \"showgrid\": true, \"ticks\": \"\", \"zerolinecolor\": \"white\"}, \"zaxis\": {\"backgroundcolor\": \"rgb(234,234,242)\", \"gridcolor\": \"white\", \"gridwidth\": 2, \"linecolor\": \"white\", \"showbackground\": true, \"showgrid\": true, \"ticks\": \"\", \"zerolinecolor\": \"white\"}}, \"shapedefaults\": {\"fillcolor\": \"rgb(67,103,167)\", \"line\": {\"width\": 0}, \"opacity\": 0.5}, \"ternary\": {\"aaxis\": {\"gridcolor\": \"white\", \"linecolor\": \"white\", \"showgrid\": true, \"ticks\": \"\"}, \"baxis\": {\"gridcolor\": \"white\", \"linecolor\": \"white\", \"showgrid\": true, \"ticks\": \"\"}, \"bgcolor\": \"rgb(234,234,242)\", \"caxis\": {\"gridcolor\": \"white\", \"linecolor\": \"white\", \"showgrid\": true, \"ticks\": \"\"}}, \"xaxis\": {\"automargin\": true, \"gridcolor\": \"white\", \"linecolor\": \"white\", \"showgrid\": true, \"ticks\": \"\", \"title\": {\"standoff\": 15}, \"zerolinecolor\": \"white\"}, \"yaxis\": {\"automargin\": true, \"gridcolor\": \"white\", \"linecolor\": \"white\", \"showgrid\": true, \"ticks\": \"\", \"title\": {\"standoff\": 15}, \"zerolinecolor\": \"white\"}}}, \"title\": {\"text\": \"\\ubd80\\uc11c/\\uacf5\\uc815\\ubcc4 \\uc791\\uc5c5\\ud45c\\uc900 \\ubd84\\ud3ec(\\ub85c\\uadf8 \\uc2a4\\ucf00\\uc77c)\"}, \"width\": 1000},                        {\"responsive\": true}                    ).then(function(){\n",
       "                            \n",
       "var gd = document.getElementById('a6babd82-cbc0-4795-9a02-ca2218fc082c');\n",
       "var x = new MutationObserver(function (mutations, observer) {{\n",
       "        var display = window.getComputedStyle(gd).display;\n",
       "        if (!display || display === 'none') {{\n",
       "            console.log([gd, 'removed!']);\n",
       "            Plotly.purge(gd);\n",
       "            observer.disconnect();\n",
       "        }}\n",
       "}});\n",
       "\n",
       "// Listen for the removal of the full notebook cells\n",
       "var notebookContainer = gd.closest('#notebook-container');\n",
       "if (notebookContainer) {{\n",
       "    x.observe(notebookContainer, {childList: true});\n",
       "}}\n",
       "\n",
       "// Listen for the clearing of the current output cell\n",
       "var outputEl = gd.closest('.output');\n",
       "if (outputEl) {{\n",
       "    x.observe(outputEl, {childList: true});\n",
       "}}\n",
       "\n",
       "                        })                };                });            </script>        </div>"
      ]
     },
     "metadata": {},
     "output_type": "display_data"
    }
   ],
   "source": [
    "fig = px.scatter_3d(\n",
    "    data_frame=dff4,\n",
    "    x='부서',\n",
    "    y='대구분',\n",
    "    z='WORK_ACT',\n",
    "    color=\"부서\",\n",
    "#     color_discrete_sequence=['magenta', 'green'],\n",
    "    # color_discrete_map={'Europe': 'black', 'Africa': 'yellow'},\n",
    "    opacity=0.5,              # opacity values range from 0 to 1\n",
    "#     symbol='대구분',            # symbol used for bubble\n",
    "    symbol_map={\"기능\": \"square-open\"},\n",
    "    size='WORK_ACT',       # size of bubble\n",
    "    text='대구분',\n",
    "    size_max=80,              # set the maximum mark size when using size\n",
    "    log_z=True,  # you can also set log_y and log_z as a log scale\n",
    "#     range_z=[9,13],           # you can also set range of range_y and range_x\n",
    "    template='seaborn',         # 'ggplot2', 'seaborn', 'simple_white', 'plotly',\n",
    "                                # 'plotly_white', 'plotly_dark', 'presentation',\n",
    "                                # 'xgridoff', 'ygridoff', 'gridon', 'none'\n",
    "    title='부서/공정별 작업표준 분포(로그 스케일)',\n",
    "    labels={'WORK_ACT': '작업행동 개수(로그)'},\n",
    "    hover_data={'부서': False},\n",
    "    # hover_data={'Continent': False, 'GDP per capita': ':.1f'},\n",
    "    hover_name='부서',        # values appear in bold in the hover tooltip\n",
    "    height=900,                 # height of graph in pixels\n",
    "    width=1000,\n",
    "    # animation_frame='Year',   # assign marks to animation frames\n",
    "#     range_x=[-5,30],\n",
    "#     range_z=[0,250],\n",
    "#     range_y=[0,30]\n",
    "\n",
    ")\n",
    "\n",
    "# fig.update_traces(showlegend=False, selector=dict(type='scatter3d'))\n",
    "fig.update_traces(legendgroup=\"\", selector=dict(type='scatter3d'))\n",
    "fig.update_traces(marker_symbol=\"circle\", selector=dict(type='scatter3d'))\n",
    "##( \"circle\" | \"circle-open\" | \"square\" | \"square-open\" | \"diamond\" | \"diamond-open\" | \"cross\" | \"x\" )\n",
    "\n",
    "pio.show(fig)\n",
    "title=\"부서_공정별 작업표준 분포(로그 스케일)\"\n",
    "fig.write_html(\"./results/{}.html\".format(title))\n"
   ]
  },
  {
   "cell_type": "code",
   "execution_count": 134,
   "metadata": {},
   "outputs": [],
   "source": [
    "# fig.layout.updatemenus[0].buttons[0].args[1]['frame']['duration'] = 50\n",
    "# fig.layout.updatemenus[0].buttons[0].args[1]['transition']['duration'] = 500"
   ]
  },
  {
   "cell_type": "code",
   "execution_count": 170,
   "metadata": {},
   "outputs": [
    {
     "data": {
      "application/vnd.plotly.v1+json": {
       "config": {
        "plotlyServerURL": "https://plotly.com"
       },
       "data": [
        {
         "customdata": [
          [
           "가공소조립부"
          ],
          [
           "가공소조립부"
          ],
          [
           "가공소조립부"
          ],
          [
           "가공소조립부"
          ]
         ],
         "hovertemplate": "<b>%{hovertext}</b><br><br>대구분=%{text}<br>작업행동 개수(로그)=%{marker.size}<extra></extra>",
         "hovertext": [
          "가공소조립부",
          "가공소조립부",
          "가공소조립부",
          "가공소조립부"
         ],
         "legendgroup": "",
         "marker": {
          "color": "rgb(76,114,176)",
          "opacity": 0.5,
          "size": [
           107,
           650,
           34,
           8
          ],
          "sizemode": "area",
          "sizeref": 0.373125,
          "symbol": "circle"
         },
         "mode": "markers+text",
         "name": "가공소조립부",
         "scene": "scene",
         "showlegend": true,
         "text": [
          "가공",
          "소조립",
          "선행의장",
          "선실선행의장"
         ],
         "type": "scatter3d",
         "x": [
          "가공소조립부",
          "가공소조립부",
          "가공소조립부",
          "가공소조립부"
         ],
         "y": [
          "가공",
          "소조립",
          "선행의장",
          "선실선행의장"
         ],
         "z": [
          107,
          650,
          34,
          8
         ]
        },
        {
         "customdata": [
          [
           "판넬조립부"
          ],
          [
           "판넬조립부"
          ],
          [
           "판넬조립부"
          ],
          [
           "판넬조립부"
          ],
          [
           "판넬조립부"
          ]
         ],
         "hovertemplate": "<b>%{hovertext}</b><br><br>대구분=%{text}<br>작업행동 개수(로그)=%{marker.size}<extra></extra>",
         "hovertext": [
          "판넬조립부",
          "판넬조립부",
          "판넬조립부",
          "판넬조립부",
          "판넬조립부"
         ],
         "legendgroup": "",
         "marker": {
          "color": "rgb(221,132,82)",
          "opacity": 0.5,
          "size": [
           15,
           103,
           91,
           33,
           265
          ],
          "sizemode": "area",
          "sizeref": 0.373125,
          "symbol": "circle"
         },
         "mode": "markers+text",
         "name": "판넬조립부",
         "scene": "scene",
         "showlegend": true,
         "text": [
          "대조립",
          "선행의장",
          "선실선행의장",
          "선실생산",
          "판넬"
         ],
         "type": "scatter3d",
         "x": [
          "판넬조립부",
          "판넬조립부",
          "판넬조립부",
          "판넬조립부",
          "판넬조립부"
         ],
         "y": [
          "대조립",
          "선행의장",
          "선실선행의장",
          "선실생산",
          "판넬"
         ],
         "z": [
          15,
          103,
          91,
          33,
          265
         ]
        },
        {
         "customdata": [
          [
           "대조립1부"
          ],
          [
           "대조립1부"
          ],
          [
           "대조립1부"
          ],
          [
           "대조립1부"
          ]
         ],
         "hovertemplate": "<b>%{hovertext}</b><br><br>대구분=%{text}<br>작업행동 개수(로그)=%{marker.size}<extra></extra>",
         "hovertext": [
          "대조립1부",
          "대조립1부",
          "대조립1부",
          "대조립1부"
         ],
         "legendgroup": "",
         "marker": {
          "color": "rgb(85,168,104)",
          "opacity": 0.5,
          "size": [
           398,
           88,
           48,
           16
          ],
          "sizemode": "area",
          "sizeref": 0.373125,
          "symbol": "circle"
         },
         "mode": "markers+text",
         "name": "대조립1부",
         "scene": "scene",
         "showlegend": true,
         "text": [
          "대조립",
          "선행의장",
          "선실선행의장",
          "선실생산"
         ],
         "type": "scatter3d",
         "x": [
          "대조립1부",
          "대조립1부",
          "대조립1부",
          "대조립1부"
         ],
         "y": [
          "대조립",
          "선행의장",
          "선실선행의장",
          "선실생산"
         ],
         "z": [
          398,
          88,
          48,
          16
         ]
        },
        {
         "customdata": [
          [
           "대조립2부"
          ],
          [
           "대조립2부"
          ],
          [
           "대조립2부"
          ],
          [
           "대조립2부"
          ]
         ],
         "hovertemplate": "<b>%{hovertext}</b><br><br>대구분=%{text}<br>작업행동 개수(로그)=%{marker.size}<extra></extra>",
         "hovertext": [
          "대조립2부",
          "대조립2부",
          "대조립2부",
          "대조립2부"
         ],
         "legendgroup": "",
         "marker": {
          "color": "rgb(196,78,82)",
          "opacity": 0.5,
          "size": [
           559,
           88,
           78,
           38
          ],
          "sizemode": "area",
          "sizeref": 0.373125,
          "symbol": "circle"
         },
         "mode": "markers+text",
         "name": "대조립2부",
         "scene": "scene",
         "showlegend": true,
         "text": [
          "대조립",
          "선행의장",
          "선실선행의장",
          "선실생산"
         ],
         "type": "scatter3d",
         "x": [
          "대조립2부",
          "대조립2부",
          "대조립2부",
          "대조립2부"
         ],
         "y": [
          "대조립",
          "선행의장",
          "선실선행의장",
          "선실생산"
         ],
         "z": [
          559,
          88,
          78,
          38
         ]
        },
        {
         "customdata": [
          [
           "의장생산부"
          ],
          [
           "의장생산부"
          ],
          [
           "의장생산부"
          ]
         ],
         "hovertemplate": "<b>%{hovertext}</b><br><br>대구분=%{text}<br>작업행동 개수(로그)=%{marker.size}<extra></extra>",
         "hovertext": [
          "의장생산부",
          "의장생산부",
          "의장생산부"
         ],
         "legendgroup": "",
         "marker": {
          "color": "rgb(129,114,179)",
          "opacity": 0.5,
          "size": [
           665,
           30,
           38
          ],
          "sizemode": "area",
          "sizeref": 0.373125,
          "symbol": "circle"
         },
         "mode": "markers+text",
         "name": "의장생산부",
         "scene": "scene",
         "showlegend": true,
         "text": [
          "의장생산",
          "선행도장",
          "후행의장"
         ],
         "type": "scatter3d",
         "x": [
          "의장생산부",
          "의장생산부",
          "의장생산부"
         ],
         "y": [
          "의장생산",
          "선행도장",
          "후행의장"
         ],
         "z": [
          665,
          30,
          38
         ]
        },
        {
         "customdata": [
          [
           "선행의장부"
          ],
          [
           "선행의장부"
          ],
          [
           "선행의장부"
          ],
          [
           "선행의장부"
          ]
         ],
         "hovertemplate": "<b>%{hovertext}</b><br><br>대구분=%{text}<br>작업행동 개수(로그)=%{marker.size}<extra></extra>",
         "hovertext": [
          "선행의장부",
          "선행의장부",
          "선행의장부",
          "선행의장부"
         ],
         "legendgroup": "",
         "marker": {
          "color": "rgb(147,120,96)",
          "opacity": 0.5,
          "size": [
           353,
           443,
           97,
           8
          ],
          "sizemode": "area",
          "sizeref": 0.373125,
          "symbol": "circle"
         },
         "mode": "markers+text",
         "name": "선행의장부",
         "scene": "scene",
         "showlegend": true,
         "text": [
          "선행의장",
          "선실선행의장",
          "선실생산",
          "기계의장"
         ],
         "type": "scatter3d",
         "x": [
          "선행의장부",
          "선행의장부",
          "선행의장부",
          "선행의장부"
         ],
         "y": [
          "선행의장",
          "선실선행의장",
          "선실생산",
          "기계의장"
         ],
         "z": [
          353,
          443,
          97,
          8
         ]
        },
        {
         "customdata": [
          [
           "선행도장부"
          ]
         ],
         "hovertemplate": "<b>%{hovertext}</b><br><br>대구분=%{text}<br>작업행동 개수(로그)=%{marker.size}<extra></extra>",
         "hovertext": [
          "선행도장부"
         ],
         "legendgroup": "",
         "marker": {
          "color": "rgb(218,139,195)",
          "opacity": 0.5,
          "size": [
           159
          ],
          "sizemode": "area",
          "sizeref": 0.373125,
          "symbol": "circle"
         },
         "mode": "markers+text",
         "name": "선행도장부",
         "scene": "scene",
         "showlegend": true,
         "text": [
          "선행도장"
         ],
         "type": "scatter3d",
         "x": [
          "선행도장부"
         ],
         "y": [
          "선행도장"
         ],
         "z": [
          159
         ]
        },
        {
         "customdata": [
          [
           "선실생산부"
          ],
          [
           "선실생산부"
          ],
          [
           "선실생산부"
          ],
          [
           "선실생산부"
          ]
         ],
         "hovertemplate": "<b>%{hovertext}</b><br><br>대구분=%{text}<br>작업행동 개수(로그)=%{marker.size}<extra></extra>",
         "hovertext": [
          "선실생산부",
          "선실생산부",
          "선실생산부",
          "선실생산부"
         ],
         "legendgroup": "",
         "marker": {
          "color": "rgb(140,140,140)",
          "opacity": 0.5,
          "size": [
           16,
           19,
           562,
           38
          ],
          "sizemode": "area",
          "sizeref": 0.373125,
          "symbol": "circle"
         },
         "mode": "markers+text",
         "name": "선실생산부",
         "scene": "scene",
         "showlegend": true,
         "text": [
          "선행의장",
          "선실선행의장",
          "선실생산",
          "후행의장"
         ],
         "type": "scatter3d",
         "x": [
          "선실생산부",
          "선실생산부",
          "선실생산부",
          "선실생산부"
         ],
         "y": [
          "선행의장",
          "선실선행의장",
          "선실생산",
          "후행의장"
         ],
         "z": [
          16,
          19,
          562,
          38
         ]
        },
        {
         "customdata": [
          [
           "건조1부"
          ]
         ],
         "hovertemplate": "<b>%{hovertext}</b><br><br>대구분=%{text}<br>작업행동 개수(로그)=%{marker.size}<extra></extra>",
         "hovertext": [
          "건조1부"
         ],
         "legendgroup": "",
         "marker": {
          "color": "rgb(204,185,116)",
          "opacity": 0.5,
          "size": [
           271
          ],
          "sizemode": "area",
          "sizeref": 0.373125,
          "symbol": "circle"
         },
         "mode": "markers+text",
         "name": "건조1부",
         "scene": "scene",
         "showlegend": true,
         "text": [
          "건조"
         ],
         "type": "scatter3d",
         "x": [
          "건조1부"
         ],
         "y": [
          "건조"
         ],
         "z": [
          271
         ]
        },
        {
         "customdata": [
          [
           "건조2부"
          ]
         ],
         "hovertemplate": "<b>%{hovertext}</b><br><br>대구분=%{text}<br>작업행동 개수(로그)=%{marker.size}<extra></extra>",
         "hovertext": [
          "건조2부"
         ],
         "legendgroup": "",
         "marker": {
          "color": "rgb(100,181,205)",
          "opacity": 0.5,
          "size": [
           272
          ],
          "sizemode": "area",
          "sizeref": 0.373125,
          "symbol": "circle"
         },
         "mode": "markers+text",
         "name": "건조2부",
         "scene": "scene",
         "showlegend": true,
         "text": [
          "건조"
         ],
         "type": "scatter3d",
         "x": [
          "건조2부"
         ],
         "y": [
          "건조"
         ],
         "z": [
          272
         ]
        },
        {
         "customdata": [
          [
           "건조3부"
          ]
         ],
         "hovertemplate": "<b>%{hovertext}</b><br><br>대구분=%{text}<br>작업행동 개수(로그)=%{marker.size}<extra></extra>",
         "hovertext": [
          "건조3부"
         ],
         "legendgroup": "",
         "marker": {
          "color": "rgb(76,114,176)",
          "opacity": 0.5,
          "size": [
           271
          ],
          "sizemode": "area",
          "sizeref": 0.373125,
          "symbol": "circle"
         },
         "mode": "markers+text",
         "name": "건조3부",
         "scene": "scene",
         "showlegend": true,
         "text": [
          "건조"
         ],
         "type": "scatter3d",
         "x": [
          "건조3부"
         ],
         "y": [
          "건조"
         ],
         "z": [
          271
         ]
        },
        {
         "customdata": [
          [
           "의장1부"
          ],
          [
           "의장1부"
          ],
          [
           "의장1부"
          ],
          [
           "의장1부"
          ],
          [
           "의장1부"
          ],
          [
           "의장1부"
          ]
         ],
         "hovertemplate": "<b>%{hovertext}</b><br><br>대구분=%{text}<br>작업행동 개수(로그)=%{marker.size}<extra></extra>",
         "hovertext": [
          "의장1부",
          "의장1부",
          "의장1부",
          "의장1부",
          "의장1부",
          "의장1부"
         ],
         "legendgroup": "",
         "marker": {
          "color": "rgb(221,132,82)",
          "opacity": 0.5,
          "size": [
           25,
           29,
           32,
           46,
           1167,
           88
          ],
          "sizemode": "area",
          "sizeref": 0.373125,
          "symbol": "circle"
         },
         "mode": "markers+text",
         "name": "의장1부",
         "scene": "scene",
         "showlegend": true,
         "text": [
          "선행의장",
          "선실선행의장",
          "선행도장",
          "선실생산",
          "후행의장",
          "후행도장"
         ],
         "type": "scatter3d",
         "x": [
          "의장1부",
          "의장1부",
          "의장1부",
          "의장1부",
          "의장1부",
          "의장1부"
         ],
         "y": [
          "선행의장",
          "선실선행의장",
          "선행도장",
          "선실생산",
          "후행의장",
          "후행도장"
         ],
         "z": [
          25,
          29,
          32,
          46,
          1167,
          88
         ]
        },
        {
         "customdata": [
          [
           "의장2부"
          ],
          [
           "의장2부"
          ],
          [
           "의장2부"
          ],
          [
           "의장2부"
          ],
          [
           "의장2부"
          ],
          [
           "의장2부"
          ]
         ],
         "hovertemplate": "<b>%{hovertext}</b><br><br>대구분=%{text}<br>작업행동 개수(로그)=%{marker.size}<extra></extra>",
         "hovertext": [
          "의장2부",
          "의장2부",
          "의장2부",
          "의장2부",
          "의장2부",
          "의장2부"
         ],
         "legendgroup": "",
         "marker": {
          "color": "rgb(85,168,104)",
          "opacity": 0.5,
          "size": [
           25,
           29,
           32,
           93,
           1078,
           88
          ],
          "sizemode": "area",
          "sizeref": 0.373125,
          "symbol": "circle"
         },
         "mode": "markers+text",
         "name": "의장2부",
         "scene": "scene",
         "showlegend": true,
         "text": [
          "선행의장",
          "선실선행의장",
          "선행도장",
          "선실생산",
          "후행의장",
          "후행도장"
         ],
         "type": "scatter3d",
         "x": [
          "의장2부",
          "의장2부",
          "의장2부",
          "의장2부",
          "의장2부",
          "의장2부"
         ],
         "y": [
          "선행의장",
          "선실선행의장",
          "선행도장",
          "선실생산",
          "후행의장",
          "후행도장"
         ],
         "z": [
          25,
          29,
          32,
          93,
          1078,
          88
         ]
        },
        {
         "customdata": [
          [
           "의장3부"
          ],
          [
           "의장3부"
          ],
          [
           "의장3부"
          ],
          [
           "의장3부"
          ],
          [
           "의장3부"
          ],
          [
           "의장3부"
          ]
         ],
         "hovertemplate": "<b>%{hovertext}</b><br><br>대구분=%{text}<br>작업행동 개수(로그)=%{marker.size}<extra></extra>",
         "hovertext": [
          "의장3부",
          "의장3부",
          "의장3부",
          "의장3부",
          "의장3부",
          "의장3부"
         ],
         "legendgroup": "",
         "marker": {
          "color": "rgb(196,78,82)",
          "opacity": 0.5,
          "size": [
           25,
           29,
           31,
           45,
           1076,
           89
          ],
          "sizemode": "area",
          "sizeref": 0.373125,
          "symbol": "circle"
         },
         "mode": "markers+text",
         "name": "의장3부",
         "scene": "scene",
         "showlegend": true,
         "text": [
          "선행의장",
          "선실선행의장",
          "선행도장",
          "선실생산",
          "후행의장",
          "후행도장"
         ],
         "type": "scatter3d",
         "x": [
          "의장3부",
          "의장3부",
          "의장3부",
          "의장3부",
          "의장3부",
          "의장3부"
         ],
         "y": [
          "선행의장",
          "선실선행의장",
          "선행도장",
          "선실생산",
          "후행의장",
          "후행도장"
         ],
         "z": [
          25,
          29,
          31,
          45,
          1076,
          89
         ]
        },
        {
         "customdata": [
          [
           "CHS공사부"
          ],
          [
           "CHS공사부"
          ]
         ],
         "hovertemplate": "<b>%{hovertext}</b><br><br>대구분=%{text}<br>작업행동 개수(로그)=%{marker.size}<extra></extra>",
         "hovertext": [
          "CHS공사부",
          "CHS공사부"
         ],
         "legendgroup": "",
         "marker": {
          "color": "rgb(129,114,179)",
          "opacity": 0.5,
          "size": [
           9,
           859
          ],
          "sizemode": "area",
          "sizeref": 0.373125,
          "symbol": "circle"
         },
         "mode": "markers+text",
         "name": "CHS공사부",
         "scene": "scene",
         "showlegend": true,
         "text": [
          "선행의장",
          "후행의장"
         ],
         "type": "scatter3d",
         "x": [
          "CHS공사부",
          "CHS공사부"
         ],
         "y": [
          "선행의장",
          "후행의장"
         ],
         "z": [
          9,
          859
         ]
        },
        {
         "customdata": [
          [
           "기계의장부"
          ]
         ],
         "hovertemplate": "<b>%{hovertext}</b><br><br>대구분=%{text}<br>작업행동 개수(로그)=%{marker.size}<extra></extra>",
         "hovertext": [
          "기계의장부"
         ],
         "legendgroup": "",
         "marker": {
          "color": "rgb(147,120,96)",
          "opacity": 0.5,
          "size": [
           543
          ],
          "sizemode": "area",
          "sizeref": 0.373125,
          "symbol": "circle"
         },
         "mode": "markers+text",
         "name": "기계의장부",
         "scene": "scene",
         "showlegend": true,
         "text": [
          "기계의장"
         ],
         "type": "scatter3d",
         "x": [
          "기계의장부"
         ],
         "y": [
          "기계의장"
         ],
         "z": [
          543
         ]
        },
        {
         "customdata": [
          [
           "도장1부"
          ],
          [
           "도장1부"
          ]
         ],
         "hovertemplate": "<b>%{hovertext}</b><br><br>대구분=%{text}<br>작업행동 개수(로그)=%{marker.size}<extra></extra>",
         "hovertext": [
          "도장1부",
          "도장1부"
         ],
         "legendgroup": "",
         "marker": {
          "color": "rgb(218,139,195)",
          "opacity": 0.5,
          "size": [
           31,
           96
          ],
          "sizemode": "area",
          "sizeref": 0.373125,
          "symbol": "circle"
         },
         "mode": "markers+text",
         "name": "도장1부",
         "scene": "scene",
         "showlegend": true,
         "text": [
          "선행도장",
          "후행도장"
         ],
         "type": "scatter3d",
         "x": [
          "도장1부",
          "도장1부"
         ],
         "y": [
          "선행도장",
          "후행도장"
         ],
         "z": [
          31,
          96
         ]
        },
        {
         "customdata": [
          [
           "도장2부"
          ],
          [
           "도장2부"
          ]
         ],
         "hovertemplate": "<b>%{hovertext}</b><br><br>대구분=%{text}<br>작업행동 개수(로그)=%{marker.size}<extra></extra>",
         "hovertext": [
          "도장2부",
          "도장2부"
         ],
         "legendgroup": "",
         "marker": {
          "color": "rgb(140,140,140)",
          "opacity": 0.5,
          "size": [
           32,
           95
          ],
          "sizemode": "area",
          "sizeref": 0.373125,
          "symbol": "circle"
         },
         "mode": "markers+text",
         "name": "도장2부",
         "scene": "scene",
         "showlegend": true,
         "text": [
          "선행도장",
          "후행도장"
         ],
         "type": "scatter3d",
         "x": [
          "도장2부",
          "도장2부"
         ],
         "y": [
          "선행도장",
          "후행도장"
         ],
         "z": [
          32,
          95
         ]
        },
        {
         "customdata": [
          [
           "LNG공사부"
          ]
         ],
         "hovertemplate": "<b>%{hovertext}</b><br><br>대구분=%{text}<br>작업행동 개수(로그)=%{marker.size}<extra></extra>",
         "hovertext": [
          "LNG공사부"
         ],
         "legendgroup": "",
         "marker": {
          "color": "rgb(204,185,116)",
          "opacity": 0.5,
          "size": [
           182
          ],
          "sizemode": "area",
          "sizeref": 0.373125,
          "symbol": "circle"
         },
         "mode": "markers+text",
         "name": "LNG공사부",
         "scene": "scene",
         "showlegend": true,
         "text": [
          "LNG공사"
         ],
         "type": "scatter3d",
         "x": [
          "LNG공사부"
         ],
         "y": [
          "LNG공사"
         ],
         "z": [
          182
         ]
        },
        {
         "customdata": [
          [
           "시운전부"
          ],
          [
           "시운전부"
          ]
         ],
         "hovertemplate": "<b>%{hovertext}</b><br><br>대구분=%{text}<br>작업행동 개수(로그)=%{marker.size}<extra></extra>",
         "hovertext": [
          "시운전부",
          "시운전부"
         ],
         "legendgroup": "",
         "marker": {
          "color": "rgb(100,181,205)",
          "opacity": 0.5,
          "size": [
           17,
           2388
          ],
          "sizemode": "area",
          "sizeref": 0.373125,
          "symbol": "circle"
         },
         "mode": "markers+text",
         "name": "시운전부",
         "scene": "scene",
         "showlegend": true,
         "text": [
          "선실선행의장",
          "시운전"
         ],
         "type": "scatter3d",
         "x": [
          "시운전부",
          "시운전부"
         ],
         "y": [
          "선실선행의장",
          "시운전"
         ],
         "z": [
          17,
          2388
         ]
        },
        {
         "customdata": [
          [
           "운항관제과"
          ]
         ],
         "hovertemplate": "<b>%{hovertext}</b><br><br>대구분=%{text}<br>작업행동 개수(로그)=%{marker.size}<extra></extra>",
         "hovertext": [
          "운항관제과"
         ],
         "legendgroup": "",
         "marker": {
          "color": "rgb(76,114,176)",
          "opacity": 0.5,
          "size": [
           477
          ],
          "sizemode": "area",
          "sizeref": 0.373125,
          "symbol": "circle"
         },
         "mode": "markers+text",
         "name": "운항관제과",
         "scene": "scene",
         "showlegend": true,
         "text": [
          "운항관제"
         ],
         "type": "scatter3d",
         "x": [
          "운항관제과"
         ],
         "y": [
          "운항관제"
         ],
         "z": [
          477
         ]
        },
        {
         "customdata": [
          [
           "외업공사지원부"
          ]
         ],
         "hovertemplate": "<b>%{hovertext}</b><br><br>대구분=%{text}<br>작업행동 개수(로그)=%{marker.size}<extra></extra>",
         "hovertext": [
          "외업공사지원부"
         ],
         "legendgroup": "",
         "marker": {
          "color": "rgb(221,132,82)",
          "opacity": 0.5,
          "size": [
           344
          ],
          "sizemode": "area",
          "sizeref": 0.373125,
          "symbol": "circle"
         },
         "mode": "markers+text",
         "name": "외업공사지원부",
         "scene": "scene",
         "showlegend": true,
         "text": [
          "공사지원"
         ],
         "type": "scatter3d",
         "x": [
          "외업공사지원부"
         ],
         "y": [
          "공사지원"
         ],
         "z": [
          344
         ]
        },
        {
         "customdata": [
          [
           "발판지원부"
          ]
         ],
         "hovertemplate": "<b>%{hovertext}</b><br><br>대구분=%{text}<br>작업행동 개수(로그)=%{marker.size}<extra></extra>",
         "hovertext": [
          "발판지원부"
         ],
         "legendgroup": "",
         "marker": {
          "color": "rgb(85,168,104)",
          "opacity": 0.5,
          "size": [
           103
          ],
          "sizemode": "area",
          "sizeref": 0.373125,
          "symbol": "circle"
         },
         "mode": "markers+text",
         "name": "발판지원부",
         "scene": "scene",
         "showlegend": true,
         "text": [
          "공사지원"
         ],
         "type": "scatter3d",
         "x": [
          "발판지원부"
         ],
         "y": [
          "공사지원"
         ],
         "z": [
          103
         ]
        },
        {
         "customdata": [
          [
           "조선해양품질경영1부"
          ]
         ],
         "hovertemplate": "<b>%{hovertext}</b><br><br>대구분=%{text}<br>작업행동 개수(로그)=%{marker.size}<extra></extra>",
         "hovertext": [
          "조선해양품질경영1부"
         ],
         "legendgroup": "",
         "marker": {
          "color": "rgb(196,78,82)",
          "opacity": 0.5,
          "size": [
           238
          ],
          "sizemode": "area",
          "sizeref": 0.373125,
          "symbol": "circle"
         },
         "mode": "markers+text",
         "name": "조선해양품질경영1부",
         "scene": "scene",
         "showlegend": true,
         "text": [
          "QM"
         ],
         "type": "scatter3d",
         "x": [
          "조선해양품질경영1부"
         ],
         "y": [
          "QM"
         ],
         "z": [
          238
         ]
        },
        {
         "customdata": [
          [
           "조선해양품질경영2부"
          ]
         ],
         "hovertemplate": "<b>%{hovertext}</b><br><br>대구분=%{text}<br>작업행동 개수(로그)=%{marker.size}<extra></extra>",
         "hovertext": [
          "조선해양품질경영2부"
         ],
         "legendgroup": "",
         "marker": {
          "color": "rgb(129,114,179)",
          "opacity": 0.5,
          "size": [
           278
          ],
          "sizemode": "area",
          "sizeref": 0.373125,
          "symbol": "circle"
         },
         "mode": "markers+text",
         "name": "조선해양품질경영2부",
         "scene": "scene",
         "showlegend": true,
         "text": [
          "QM"
         ],
         "type": "scatter3d",
         "x": [
          "조선해양품질경영2부"
         ],
         "y": [
          "QM"
         ],
         "z": [
          278
         ]
        }
       ],
       "frames": [
        {
         "layout": {
          "scene": {
           "camera": {
            "eye": {
             "x": -1.25,
             "y": 2,
             "z": 0.5
            }
           }
          }
         }
        },
        {
         "layout": {
          "scene": {
           "camera": {
            "eye": {
             "x": -1.0440883733038762,
             "y": 2.1148001013645867,
             "z": 0.5
            }
           }
          }
         }
        },
        {
         "layout": {
          "scene": {
           "camera": {
            "eye": {
             "x": -0.8277445607114295,
             "y": 2.20846981917631,
             "z": 0.5
            }
           }
          }
         }
        },
        {
         "layout": {
          "scene": {
           "camera": {
            "eye": {
             "x": -0.6031301980843282,
             "y": 2.2800732365778864,
             "z": 0.5
            }
           }
          }
         }
        },
        {
         "layout": {
          "scene": {
           "camera": {
            "eye": {
             "x": -0.37248955788630533,
             "y": 2.3288949158915835,
             "z": 0.5
            }
           }
          }
         }
        },
        {
         "layout": {
          "scene": {
           "camera": {
            "eye": {
             "x": -0.13812712515455994,
             "y": 2.3544470470359995,
             "z": 0.5
            }
           }
          }
         }
        },
        {
         "layout": {
          "scene": {
           "camera": {
            "eye": {
             "x": 0.0976154281529733,
             "y": 2.3564743215631507,
             "z": 0.5
            }
           }
          }
         }
        },
        {
         "layout": {
          "scene": {
           "camera": {
            "eye": {
             "x": 0.33238264036977183,
             "y": 2.3349564836160908,
             "z": 0.5
            }
           }
          }
         }
        },
        {
         "layout": {
          "scene": {
           "camera": {
            "eye": {
             "x": 0.5638287951150889,
             "y": 2.290108532318734,
             "z": 0.5
            }
           }
          }
         }
        },
        {
         "layout": {
          "scene": {
           "camera": {
            "eye": {
             "x": 0.7896413589166363,
             "y": 2.222378573575683,
             "z": 0.5
            }
           }
          }
         }
        },
        {
         "layout": {
          "scene": {
           "camera": {
            "eye": {
             "x": 1.0075640872806182,
             "y": 2.13244334274615,
             "z": 0.5
            }
           }
          }
         }
        },
        {
         "layout": {
          "scene": {
           "camera": {
            "eye": {
             "x": 1.215419568340899,
             "y": 2.021201442927949,
             "z": 0.5
            }
           }
          }
         }
        },
        {
         "layout": {
          "scene": {
           "camera": {
            "eye": {
             "x": 1.411130978838611,
             "y": 1.8897643664123798,
             "z": 0.5
            }
           }
          }
         }
        },
        {
         "layout": {
          "scene": {
           "camera": {
            "eye": {
             "x": 1.5927428350536517,
             "y": 1.7394453890206658,
             "z": 0.5
            }
           }
          }
         }
        },
        {
         "layout": {
          "scene": {
           "camera": {
            "eye": {
             "x": 1.7584405313516194,
             "y": 1.571746448286057,
             "z": 0.5
            }
           }
          }
         }
        },
        {
         "layout": {
          "scene": {
           "camera": {
            "eye": {
             "x": 1.9065684711234803,
             "y": 1.388343136590474,
             "z": 0.5
            }
           }
          }
         }
        },
        {
         "layout": {
          "scene": {
           "camera": {
            "eye": {
             "x": 2.0356466089596212,
             "y": 1.1910679591993036,
             "z": 0.5
            }
           }
          }
         }
        },
        {
         "layout": {
          "scene": {
           "camera": {
            "eye": {
             "x": 2.144385238774343,
             "y": 0.981892024474536,
             "z": 0.5
            }
           }
          }
         }
        },
        {
         "layout": {
          "scene": {
           "camera": {
            "eye": {
             "x": 2.2316978801227494,
             "y": 0.7629053492115697,
             "z": 0.5
            }
           }
          }
         }
        },
        {
         "layout": {
          "scene": {
           "camera": {
            "eye": {
             "x": 2.2967121339542085,
             "y": 0.5362959758822609,
             "z": 0.5
            }
           }
          }
         }
        },
        {
         "layout": {
          "scene": {
           "camera": {
            "eye": {
             "x": 2.3387783993352915,
             "y": 0.3043281104378174,
             "z": 0.5
            }
           }
          }
         }
        },
        {
         "layout": {
          "scene": {
           "camera": {
            "eye": {
             "x": 2.357476364047569,
             "y": 0.06931949911137703,
             "z": 0.5
            }
           }
          }
         }
        },
        {
         "layout": {
          "scene": {
           "camera": {
            "eye": {
             "x": 2.3526192042083625,
             "y": -0.16638172973620402,
             "z": 0.5
            }
           }
          }
         }
        },
        {
         "layout": {
          "scene": {
           "camera": {
            "eye": {
             "x": 2.3242554509532205,
             "y": -0.4004205273387489,
             "z": 0.5
            }
           }
          }
         }
        },
        {
         "layout": {
          "scene": {
           "camera": {
            "eye": {
             "x": 2.2726685055288582,
             "y": -0.6304584553935533,
             "z": 0.5
            }
           }
          }
         }
        },
        {
         "layout": {
          "scene": {
           "camera": {
            "eye": {
             "x": 2.19837380764158,
             "y": -0.8541970509639218,
             "z": 0.5
            }
           }
          }
         }
        },
        {
         "layout": {
          "scene": {
           "camera": {
            "eye": {
             "x": 2.1021136853541122,
             "y": -1.0694007919610644,
             "z": 0.5
            }
           }
          }
         }
        },
        {
         "layout": {
          "scene": {
           "camera": {
            "eye": {
             "x": 1.9848499379889861,
             "y": -1.2739194337418351,
             "z": 0.5
            }
           }
          }
         }
        },
        {
         "layout": {
          "scene": {
           "camera": {
            "eye": {
             "x": 1.8477542261476323,
             "y": -1.4657094936424357,
             "z": 0.5
            }
           }
          }
         }
        },
        {
         "layout": {
          "scene": {
           "camera": {
            "eye": {
             "x": 1.6921963648649523,
             "y": -1.6428546687817038,
             "z": 0.5
            }
           }
          }
         }
        },
        {
         "layout": {
          "scene": {
           "camera": {
            "eye": {
             "x": 1.5197306368702912,
             "y": -1.8035849831260569,
             "z": 0.5
            }
           }
          }
         }
        },
        {
         "layout": {
          "scene": {
           "camera": {
            "eye": {
             "x": 1.3320802627081803,
             "y": -1.9462944725049458,
             "z": 0.5
            }
           }
          }
         }
        },
        {
         "layout": {
          "scene": {
           "camera": {
            "eye": {
             "x": 1.1311201828882813,
             "y": -2.0695572308739814,
             "z": 0.5
            }
           }
          }
         }
        },
        {
         "layout": {
          "scene": {
           "camera": {
            "eye": {
             "x": 0.9188583240995838,
             "y": -2.1721416574967907,
             "z": 0.5
            }
           }
          }
         }
        },
        {
         "layout": {
          "scene": {
           "camera": {
            "eye": {
             "x": 0.6974155366706627,
             "y": -2.2530227626924613,
             "z": 0.5
            }
           }
          }
         }
        },
        {
         "layout": {
          "scene": {
           "camera": {
            "eye": {
             "x": 0.46900440373425567,
             "y": -2.3113924091936173,
             "z": 0.5
            }
           }
          }
         }
        },
        {
         "layout": {
          "scene": {
           "camera": {
            "eye": {
             "x": 0.2359071338279789,
             "y": -2.3466673867868595,
             "z": 0.5
            }
           }
          }
         }
        },
        {
         "layout": {
          "scene": {
           "camera": {
            "eye": {
             "x": 0.0004527578210231642,
             "y": -2.358495239556433,
             "z": 0.5
            }
           }
          }
         }
        },
        {
         "layout": {
          "scene": {
           "camera": {
            "eye": {
             "x": -0.23500614199241787,
             "y": -2.346757787507232,
             "z": 0.5
            }
           }
          }
         }
        },
        {
         "layout": {
          "scene": {
           "camera": {
            "eye": {
             "x": -0.46811693811777333,
             "y": -2.3115723073802474,
             "z": 0.5
            }
           }
          }
         }
        },
        {
         "layout": {
          "scene": {
           "camera": {
            "eye": {
             "x": -0.6965504645363415,
             "y": -2.253290360862134,
             "z": 0.5
            }
           }
          }
         }
        },
        {
         "layout": {
          "scene": {
           "camera": {
            "eye": {
             "x": -0.918024288962236,
             "y": -2.1724942818970505,
             "z": 0.5
            }
           }
          }
         }
        },
        {
         "layout": {
          "scene": {
           "camera": {
            "eye": {
             "x": -1.1303255181513021,
             "y": -2.069991358198384,
             "z": 0.5
            }
           }
          }
         }
        },
        {
         "layout": {
          "scene": {
           "camera": {
            "eye": {
             "x": -1.3313329083989405,
             "y": -1.9468057650967694,
             "z": 0.5
            }
           }
          }
         }
        },
        {
         "layout": {
          "scene": {
           "camera": {
            "eye": {
             "x": -1.519038060306008,
             "y": -1.8041683323187339,
             "z": 0.5
            }
           }
          }
         }
        },
        {
         "layout": {
          "scene": {
           "camera": {
            "eye": {
             "x": -1.6915654860417195,
             "y": -1.6435042459429305,
             "z": 0.5
            }
           }
          }
         }
        },
        {
         "layout": {
          "scene": {
           "camera": {
            "eye": {
             "x": -1.8471913485981115,
             "y": -1.4664188084119385,
             "z": 0.5
            }
           }
          }
         }
        },
        {
         "layout": {
          "scene": {
           "camera": {
            "eye": {
             "x": -1.9843606857995884,
             "y": -1.2746813988809071,
             "z": 0.5
            }
           }
          }
         }
        },
        {
         "layout": {
          "scene": {
           "camera": {
            "eye": {
             "x": -2.10170294697099,
             "y": -1.070207794165906,
             "z": 0.5
            }
           }
          }
         }
        },
        {
         "layout": {
          "scene": {
           "camera": {
            "eye": {
             "x": -2.1980456870268847,
             "y": -0.855041026935264,
             "z": 0.5
            }
           }
          }
         }
        },
        {
         "layout": {
          "scene": {
           "camera": {
            "eye": {
             "x": -2.2724262811553095,
             "y": -0.6313309724024706,
             "z": 0.5
            }
           }
          }
         }
        },
        {
         "layout": {
          "scene": {
           "camera": {
            "eye": {
             "x": -2.3241015430466905,
             "y": -0.4013128674837031,
             "z": 0.5
            }
           }
          }
         }
        },
        {
         "layout": {
          "scene": {
           "camera": {
            "eye": {
             "x": -2.352555150565778,
             "y": -0.16728497704943712,
             "z": 0.5
            }
           }
          }
         }
        },
        {
         "layout": {
          "scene": {
           "camera": {
            "eye": {
             "x": -2.3575028046717534,
             "y": 0.06841436957844715,
             "z": 0.5
            }
           }
          }
         }
        },
        {
         "layout": {
          "scene": {
           "camera": {
            "eye": {
             "x": -2.3388950700402678,
             "y": 0.30343014244028543,
             "z": 0.5
            }
           }
          }
         }
        },
        {
         "layout": {
          "scene": {
           "camera": {
            "eye": {
             "x": -2.296917869004859,
             "y": 0.53541414161953,
             "z": 0.5
            }
           }
          }
         }
        },
        {
         "layout": {
          "scene": {
           "camera": {
            "eye": {
             "x": -2.2319906238824543,
             "y": 0.7620484596800993,
             "z": 0.5
            }
           }
          }
         }
        },
        {
         "layout": {
          "scene": {
           "camera": {
            "eye": {
             "x": -2.144762066244225,
             "y": 0.9810686414312726,
             "z": 0.5
            }
           }
          }
         }
        },
        {
         "layout": {
          "scene": {
           "camera": {
            "eye": {
             "x": -2.036103755004162,
             "y": 1.190286309615443,
             "z": 0.5
            }
           }
          }
         }
        },
        {
         "layout": {
          "scene": {
           "camera": {
            "eye": {
             "x": -1.9071013680905171,
             "y": 1.3876110304502767,
             "z": 0.5
            }
           }
          }
         }
        },
        {
         "layout": {
          "scene": {
           "camera": {
            "eye": {
             "x": -1.7590438547108092,
             "y": 1.5710712005520746,
             "z": 0.5
            }
           }
          }
         }
        },
        {
         "layout": {
          "scene": {
           "camera": {
            "eye": {
             "x": -1.5934105565974208,
             "y": 1.7388337465450507,
             "z": 0.5
            }
           }
          }
         }
        },
        {
         "layout": {
          "scene": {
           "camera": {
            "eye": {
             "x": -1.4118564269140148,
             "y": 1.8892224405245646,
             "z": 0.5
            }
           }
          }
         }
        }
       ],
       "layout": {
        "height": 900,
        "legend": {
         "itemsizing": "constant",
         "title": {
          "text": "부서"
         },
         "tracegroupgap": 0
        },
        "scene": {
         "camera": {
          "eye": {
           "x": -1.25,
           "y": 2,
           "z": 0.5
          }
         },
         "domain": {
          "x": [
           0,
           1
          ],
          "y": [
           0,
           1
          ]
         },
         "xaxis": {
          "categoryarray": [
           "가공소조립부",
           "판넬조립부",
           "대조립1부",
           "대조립2부",
           "의장생산부",
           "선행의장부",
           "선행도장부",
           "선실생산부",
           "건조1부",
           "건조2부",
           "건조3부",
           "의장1부",
           "의장2부",
           "의장3부",
           "CHS공사부",
           "기계의장부",
           "도장1부",
           "도장2부",
           "LNG공사부",
           "시운전부",
           "운항관제과",
           "외업공사지원부",
           "발판지원부",
           "조선해양품질경영1부",
           "조선해양품질경영2부"
          ],
          "categoryorder": "array",
          "title": {
           "text": "부서"
          }
         },
         "yaxis": {
          "title": {
           "text": "대구분"
          }
         },
         "zaxis": {
          "title": {
           "text": "작업행동 개수(로그)"
          },
          "type": "log"
         }
        },
        "template": {
         "data": {
          "bar": [
           {
            "error_x": {
             "color": "rgb(36,36,36)"
            },
            "error_y": {
             "color": "rgb(36,36,36)"
            },
            "marker": {
             "line": {
              "color": "rgb(234,234,242)",
              "width": 0.5
             }
            },
            "type": "bar"
           }
          ],
          "barpolar": [
           {
            "marker": {
             "line": {
              "color": "rgb(234,234,242)",
              "width": 0.5
             }
            },
            "type": "barpolar"
           }
          ],
          "carpet": [
           {
            "aaxis": {
             "endlinecolor": "rgb(36,36,36)",
             "gridcolor": "white",
             "linecolor": "white",
             "minorgridcolor": "white",
             "startlinecolor": "rgb(36,36,36)"
            },
            "baxis": {
             "endlinecolor": "rgb(36,36,36)",
             "gridcolor": "white",
             "linecolor": "white",
             "minorgridcolor": "white",
             "startlinecolor": "rgb(36,36,36)"
            },
            "type": "carpet"
           }
          ],
          "choropleth": [
           {
            "colorbar": {
             "outlinewidth": 0,
             "tickcolor": "rgb(36,36,36)",
             "ticklen": 8,
             "ticks": "outside",
             "tickwidth": 2
            },
            "type": "choropleth"
           }
          ],
          "contour": [
           {
            "colorbar": {
             "outlinewidth": 0,
             "tickcolor": "rgb(36,36,36)",
             "ticklen": 8,
             "ticks": "outside",
             "tickwidth": 2
            },
            "colorscale": [
             [
              0,
              "rgb(2,4,25)"
             ],
             [
              0.06274509803921569,
              "rgb(24,15,41)"
             ],
             [
              0.12549019607843137,
              "rgb(47,23,57)"
             ],
             [
              0.18823529411764706,
              "rgb(71,28,72)"
             ],
             [
              0.25098039215686274,
              "rgb(97,30,82)"
             ],
             [
              0.3137254901960784,
              "rgb(123,30,89)"
             ],
             [
              0.3764705882352941,
              "rgb(150,27,91)"
             ],
             [
              0.4392156862745098,
              "rgb(177,22,88)"
             ],
             [
              0.5019607843137255,
              "rgb(203,26,79)"
             ],
             [
              0.5647058823529412,
              "rgb(223,47,67)"
             ],
             [
              0.6274509803921569,
              "rgb(236,76,61)"
             ],
             [
              0.6901960784313725,
              "rgb(242,107,73)"
             ],
             [
              0.7529411764705882,
              "rgb(244,135,95)"
             ],
             [
              0.8156862745098039,
              "rgb(245,162,122)"
             ],
             [
              0.8784313725490196,
              "rgb(246,188,153)"
             ],
             [
              0.9411764705882353,
              "rgb(247,212,187)"
             ],
             [
              1,
              "rgb(250,234,220)"
             ]
            ],
            "type": "contour"
           }
          ],
          "contourcarpet": [
           {
            "colorbar": {
             "outlinewidth": 0,
             "tickcolor": "rgb(36,36,36)",
             "ticklen": 8,
             "ticks": "outside",
             "tickwidth": 2
            },
            "type": "contourcarpet"
           }
          ],
          "heatmap": [
           {
            "colorbar": {
             "outlinewidth": 0,
             "tickcolor": "rgb(36,36,36)",
             "ticklen": 8,
             "ticks": "outside",
             "tickwidth": 2
            },
            "colorscale": [
             [
              0,
              "rgb(2,4,25)"
             ],
             [
              0.06274509803921569,
              "rgb(24,15,41)"
             ],
             [
              0.12549019607843137,
              "rgb(47,23,57)"
             ],
             [
              0.18823529411764706,
              "rgb(71,28,72)"
             ],
             [
              0.25098039215686274,
              "rgb(97,30,82)"
             ],
             [
              0.3137254901960784,
              "rgb(123,30,89)"
             ],
             [
              0.3764705882352941,
              "rgb(150,27,91)"
             ],
             [
              0.4392156862745098,
              "rgb(177,22,88)"
             ],
             [
              0.5019607843137255,
              "rgb(203,26,79)"
             ],
             [
              0.5647058823529412,
              "rgb(223,47,67)"
             ],
             [
              0.6274509803921569,
              "rgb(236,76,61)"
             ],
             [
              0.6901960784313725,
              "rgb(242,107,73)"
             ],
             [
              0.7529411764705882,
              "rgb(244,135,95)"
             ],
             [
              0.8156862745098039,
              "rgb(245,162,122)"
             ],
             [
              0.8784313725490196,
              "rgb(246,188,153)"
             ],
             [
              0.9411764705882353,
              "rgb(247,212,187)"
             ],
             [
              1,
              "rgb(250,234,220)"
             ]
            ],
            "type": "heatmap"
           }
          ],
          "heatmapgl": [
           {
            "colorbar": {
             "outlinewidth": 0,
             "tickcolor": "rgb(36,36,36)",
             "ticklen": 8,
             "ticks": "outside",
             "tickwidth": 2
            },
            "colorscale": [
             [
              0,
              "rgb(2,4,25)"
             ],
             [
              0.06274509803921569,
              "rgb(24,15,41)"
             ],
             [
              0.12549019607843137,
              "rgb(47,23,57)"
             ],
             [
              0.18823529411764706,
              "rgb(71,28,72)"
             ],
             [
              0.25098039215686274,
              "rgb(97,30,82)"
             ],
             [
              0.3137254901960784,
              "rgb(123,30,89)"
             ],
             [
              0.3764705882352941,
              "rgb(150,27,91)"
             ],
             [
              0.4392156862745098,
              "rgb(177,22,88)"
             ],
             [
              0.5019607843137255,
              "rgb(203,26,79)"
             ],
             [
              0.5647058823529412,
              "rgb(223,47,67)"
             ],
             [
              0.6274509803921569,
              "rgb(236,76,61)"
             ],
             [
              0.6901960784313725,
              "rgb(242,107,73)"
             ],
             [
              0.7529411764705882,
              "rgb(244,135,95)"
             ],
             [
              0.8156862745098039,
              "rgb(245,162,122)"
             ],
             [
              0.8784313725490196,
              "rgb(246,188,153)"
             ],
             [
              0.9411764705882353,
              "rgb(247,212,187)"
             ],
             [
              1,
              "rgb(250,234,220)"
             ]
            ],
            "type": "heatmapgl"
           }
          ],
          "histogram": [
           {
            "marker": {
             "colorbar": {
              "outlinewidth": 0,
              "tickcolor": "rgb(36,36,36)",
              "ticklen": 8,
              "ticks": "outside",
              "tickwidth": 2
             }
            },
            "type": "histogram"
           }
          ],
          "histogram2d": [
           {
            "colorbar": {
             "outlinewidth": 0,
             "tickcolor": "rgb(36,36,36)",
             "ticklen": 8,
             "ticks": "outside",
             "tickwidth": 2
            },
            "colorscale": [
             [
              0,
              "rgb(2,4,25)"
             ],
             [
              0.06274509803921569,
              "rgb(24,15,41)"
             ],
             [
              0.12549019607843137,
              "rgb(47,23,57)"
             ],
             [
              0.18823529411764706,
              "rgb(71,28,72)"
             ],
             [
              0.25098039215686274,
              "rgb(97,30,82)"
             ],
             [
              0.3137254901960784,
              "rgb(123,30,89)"
             ],
             [
              0.3764705882352941,
              "rgb(150,27,91)"
             ],
             [
              0.4392156862745098,
              "rgb(177,22,88)"
             ],
             [
              0.5019607843137255,
              "rgb(203,26,79)"
             ],
             [
              0.5647058823529412,
              "rgb(223,47,67)"
             ],
             [
              0.6274509803921569,
              "rgb(236,76,61)"
             ],
             [
              0.6901960784313725,
              "rgb(242,107,73)"
             ],
             [
              0.7529411764705882,
              "rgb(244,135,95)"
             ],
             [
              0.8156862745098039,
              "rgb(245,162,122)"
             ],
             [
              0.8784313725490196,
              "rgb(246,188,153)"
             ],
             [
              0.9411764705882353,
              "rgb(247,212,187)"
             ],
             [
              1,
              "rgb(250,234,220)"
             ]
            ],
            "type": "histogram2d"
           }
          ],
          "histogram2dcontour": [
           {
            "colorbar": {
             "outlinewidth": 0,
             "tickcolor": "rgb(36,36,36)",
             "ticklen": 8,
             "ticks": "outside",
             "tickwidth": 2
            },
            "colorscale": [
             [
              0,
              "rgb(2,4,25)"
             ],
             [
              0.06274509803921569,
              "rgb(24,15,41)"
             ],
             [
              0.12549019607843137,
              "rgb(47,23,57)"
             ],
             [
              0.18823529411764706,
              "rgb(71,28,72)"
             ],
             [
              0.25098039215686274,
              "rgb(97,30,82)"
             ],
             [
              0.3137254901960784,
              "rgb(123,30,89)"
             ],
             [
              0.3764705882352941,
              "rgb(150,27,91)"
             ],
             [
              0.4392156862745098,
              "rgb(177,22,88)"
             ],
             [
              0.5019607843137255,
              "rgb(203,26,79)"
             ],
             [
              0.5647058823529412,
              "rgb(223,47,67)"
             ],
             [
              0.6274509803921569,
              "rgb(236,76,61)"
             ],
             [
              0.6901960784313725,
              "rgb(242,107,73)"
             ],
             [
              0.7529411764705882,
              "rgb(244,135,95)"
             ],
             [
              0.8156862745098039,
              "rgb(245,162,122)"
             ],
             [
              0.8784313725490196,
              "rgb(246,188,153)"
             ],
             [
              0.9411764705882353,
              "rgb(247,212,187)"
             ],
             [
              1,
              "rgb(250,234,220)"
             ]
            ],
            "type": "histogram2dcontour"
           }
          ],
          "mesh3d": [
           {
            "colorbar": {
             "outlinewidth": 0,
             "tickcolor": "rgb(36,36,36)",
             "ticklen": 8,
             "ticks": "outside",
             "tickwidth": 2
            },
            "type": "mesh3d"
           }
          ],
          "parcoords": [
           {
            "line": {
             "colorbar": {
              "outlinewidth": 0,
              "tickcolor": "rgb(36,36,36)",
              "ticklen": 8,
              "ticks": "outside",
              "tickwidth": 2
             }
            },
            "type": "parcoords"
           }
          ],
          "pie": [
           {
            "automargin": true,
            "type": "pie"
           }
          ],
          "scatter": [
           {
            "marker": {
             "colorbar": {
              "outlinewidth": 0,
              "tickcolor": "rgb(36,36,36)",
              "ticklen": 8,
              "ticks": "outside",
              "tickwidth": 2
             }
            },
            "type": "scatter"
           }
          ],
          "scatter3d": [
           {
            "line": {
             "colorbar": {
              "outlinewidth": 0,
              "tickcolor": "rgb(36,36,36)",
              "ticklen": 8,
              "ticks": "outside",
              "tickwidth": 2
             }
            },
            "marker": {
             "colorbar": {
              "outlinewidth": 0,
              "tickcolor": "rgb(36,36,36)",
              "ticklen": 8,
              "ticks": "outside",
              "tickwidth": 2
             }
            },
            "type": "scatter3d"
           }
          ],
          "scattercarpet": [
           {
            "marker": {
             "colorbar": {
              "outlinewidth": 0,
              "tickcolor": "rgb(36,36,36)",
              "ticklen": 8,
              "ticks": "outside",
              "tickwidth": 2
             }
            },
            "type": "scattercarpet"
           }
          ],
          "scattergeo": [
           {
            "marker": {
             "colorbar": {
              "outlinewidth": 0,
              "tickcolor": "rgb(36,36,36)",
              "ticklen": 8,
              "ticks": "outside",
              "tickwidth": 2
             }
            },
            "type": "scattergeo"
           }
          ],
          "scattergl": [
           {
            "marker": {
             "colorbar": {
              "outlinewidth": 0,
              "tickcolor": "rgb(36,36,36)",
              "ticklen": 8,
              "ticks": "outside",
              "tickwidth": 2
             }
            },
            "type": "scattergl"
           }
          ],
          "scattermapbox": [
           {
            "marker": {
             "colorbar": {
              "outlinewidth": 0,
              "tickcolor": "rgb(36,36,36)",
              "ticklen": 8,
              "ticks": "outside",
              "tickwidth": 2
             }
            },
            "type": "scattermapbox"
           }
          ],
          "scatterpolar": [
           {
            "marker": {
             "colorbar": {
              "outlinewidth": 0,
              "tickcolor": "rgb(36,36,36)",
              "ticklen": 8,
              "ticks": "outside",
              "tickwidth": 2
             }
            },
            "type": "scatterpolar"
           }
          ],
          "scatterpolargl": [
           {
            "marker": {
             "colorbar": {
              "outlinewidth": 0,
              "tickcolor": "rgb(36,36,36)",
              "ticklen": 8,
              "ticks": "outside",
              "tickwidth": 2
             }
            },
            "type": "scatterpolargl"
           }
          ],
          "scatterternary": [
           {
            "marker": {
             "colorbar": {
              "outlinewidth": 0,
              "tickcolor": "rgb(36,36,36)",
              "ticklen": 8,
              "ticks": "outside",
              "tickwidth": 2
             }
            },
            "type": "scatterternary"
           }
          ],
          "surface": [
           {
            "colorbar": {
             "outlinewidth": 0,
             "tickcolor": "rgb(36,36,36)",
             "ticklen": 8,
             "ticks": "outside",
             "tickwidth": 2
            },
            "colorscale": [
             [
              0,
              "rgb(2,4,25)"
             ],
             [
              0.06274509803921569,
              "rgb(24,15,41)"
             ],
             [
              0.12549019607843137,
              "rgb(47,23,57)"
             ],
             [
              0.18823529411764706,
              "rgb(71,28,72)"
             ],
             [
              0.25098039215686274,
              "rgb(97,30,82)"
             ],
             [
              0.3137254901960784,
              "rgb(123,30,89)"
             ],
             [
              0.3764705882352941,
              "rgb(150,27,91)"
             ],
             [
              0.4392156862745098,
              "rgb(177,22,88)"
             ],
             [
              0.5019607843137255,
              "rgb(203,26,79)"
             ],
             [
              0.5647058823529412,
              "rgb(223,47,67)"
             ],
             [
              0.6274509803921569,
              "rgb(236,76,61)"
             ],
             [
              0.6901960784313725,
              "rgb(242,107,73)"
             ],
             [
              0.7529411764705882,
              "rgb(244,135,95)"
             ],
             [
              0.8156862745098039,
              "rgb(245,162,122)"
             ],
             [
              0.8784313725490196,
              "rgb(246,188,153)"
             ],
             [
              0.9411764705882353,
              "rgb(247,212,187)"
             ],
             [
              1,
              "rgb(250,234,220)"
             ]
            ],
            "type": "surface"
           }
          ],
          "table": [
           {
            "cells": {
             "fill": {
              "color": "rgb(231,231,240)"
             },
             "line": {
              "color": "white"
             }
            },
            "header": {
             "fill": {
              "color": "rgb(183,183,191)"
             },
             "line": {
              "color": "white"
             }
            },
            "type": "table"
           }
          ]
         },
         "layout": {
          "annotationdefaults": {
           "arrowcolor": "rgb(67,103,167)"
          },
          "autotypenumbers": "strict",
          "coloraxis": {
           "colorbar": {
            "outlinewidth": 0,
            "tickcolor": "rgb(36,36,36)",
            "ticklen": 8,
            "ticks": "outside",
            "tickwidth": 2
           }
          },
          "colorscale": {
           "sequential": [
            [
             0,
             "rgb(2,4,25)"
            ],
            [
             0.06274509803921569,
             "rgb(24,15,41)"
            ],
            [
             0.12549019607843137,
             "rgb(47,23,57)"
            ],
            [
             0.18823529411764706,
             "rgb(71,28,72)"
            ],
            [
             0.25098039215686274,
             "rgb(97,30,82)"
            ],
            [
             0.3137254901960784,
             "rgb(123,30,89)"
            ],
            [
             0.3764705882352941,
             "rgb(150,27,91)"
            ],
            [
             0.4392156862745098,
             "rgb(177,22,88)"
            ],
            [
             0.5019607843137255,
             "rgb(203,26,79)"
            ],
            [
             0.5647058823529412,
             "rgb(223,47,67)"
            ],
            [
             0.6274509803921569,
             "rgb(236,76,61)"
            ],
            [
             0.6901960784313725,
             "rgb(242,107,73)"
            ],
            [
             0.7529411764705882,
             "rgb(244,135,95)"
            ],
            [
             0.8156862745098039,
             "rgb(245,162,122)"
            ],
            [
             0.8784313725490196,
             "rgb(246,188,153)"
            ],
            [
             0.9411764705882353,
             "rgb(247,212,187)"
            ],
            [
             1,
             "rgb(250,234,220)"
            ]
           ],
           "sequentialminus": [
            [
             0,
             "rgb(2,4,25)"
            ],
            [
             0.06274509803921569,
             "rgb(24,15,41)"
            ],
            [
             0.12549019607843137,
             "rgb(47,23,57)"
            ],
            [
             0.18823529411764706,
             "rgb(71,28,72)"
            ],
            [
             0.25098039215686274,
             "rgb(97,30,82)"
            ],
            [
             0.3137254901960784,
             "rgb(123,30,89)"
            ],
            [
             0.3764705882352941,
             "rgb(150,27,91)"
            ],
            [
             0.4392156862745098,
             "rgb(177,22,88)"
            ],
            [
             0.5019607843137255,
             "rgb(203,26,79)"
            ],
            [
             0.5647058823529412,
             "rgb(223,47,67)"
            ],
            [
             0.6274509803921569,
             "rgb(236,76,61)"
            ],
            [
             0.6901960784313725,
             "rgb(242,107,73)"
            ],
            [
             0.7529411764705882,
             "rgb(244,135,95)"
            ],
            [
             0.8156862745098039,
             "rgb(245,162,122)"
            ],
            [
             0.8784313725490196,
             "rgb(246,188,153)"
            ],
            [
             0.9411764705882353,
             "rgb(247,212,187)"
            ],
            [
             1,
             "rgb(250,234,220)"
            ]
           ]
          },
          "colorway": [
           "rgb(76,114,176)",
           "rgb(221,132,82)",
           "rgb(85,168,104)",
           "rgb(196,78,82)",
           "rgb(129,114,179)",
           "rgb(147,120,96)",
           "rgb(218,139,195)",
           "rgb(140,140,140)",
           "rgb(204,185,116)",
           "rgb(100,181,205)"
          ],
          "font": {
           "color": "rgb(36,36,36)"
          },
          "geo": {
           "bgcolor": "white",
           "lakecolor": "white",
           "landcolor": "rgb(234,234,242)",
           "showlakes": true,
           "showland": true,
           "subunitcolor": "white"
          },
          "hoverlabel": {
           "align": "left"
          },
          "hovermode": "closest",
          "paper_bgcolor": "white",
          "plot_bgcolor": "rgb(234,234,242)",
          "polar": {
           "angularaxis": {
            "gridcolor": "white",
            "linecolor": "white",
            "showgrid": true,
            "ticks": ""
           },
           "bgcolor": "rgb(234,234,242)",
           "radialaxis": {
            "gridcolor": "white",
            "linecolor": "white",
            "showgrid": true,
            "ticks": ""
           }
          },
          "scene": {
           "xaxis": {
            "backgroundcolor": "rgb(234,234,242)",
            "gridcolor": "white",
            "gridwidth": 2,
            "linecolor": "white",
            "showbackground": true,
            "showgrid": true,
            "ticks": "",
            "zerolinecolor": "white"
           },
           "yaxis": {
            "backgroundcolor": "rgb(234,234,242)",
            "gridcolor": "white",
            "gridwidth": 2,
            "linecolor": "white",
            "showbackground": true,
            "showgrid": true,
            "ticks": "",
            "zerolinecolor": "white"
           },
           "zaxis": {
            "backgroundcolor": "rgb(234,234,242)",
            "gridcolor": "white",
            "gridwidth": 2,
            "linecolor": "white",
            "showbackground": true,
            "showgrid": true,
            "ticks": "",
            "zerolinecolor": "white"
           }
          },
          "shapedefaults": {
           "fillcolor": "rgb(67,103,167)",
           "line": {
            "width": 0
           },
           "opacity": 0.5
          },
          "ternary": {
           "aaxis": {
            "gridcolor": "white",
            "linecolor": "white",
            "showgrid": true,
            "ticks": ""
           },
           "baxis": {
            "gridcolor": "white",
            "linecolor": "white",
            "showgrid": true,
            "ticks": ""
           },
           "bgcolor": "rgb(234,234,242)",
           "caxis": {
            "gridcolor": "white",
            "linecolor": "white",
            "showgrid": true,
            "ticks": ""
           }
          },
          "xaxis": {
           "automargin": true,
           "gridcolor": "white",
           "linecolor": "white",
           "showgrid": true,
           "ticks": "",
           "title": {
            "standoff": 15
           },
           "zerolinecolor": "white"
          },
          "yaxis": {
           "automargin": true,
           "gridcolor": "white",
           "linecolor": "white",
           "showgrid": true,
           "ticks": "",
           "title": {
            "standoff": 15
           },
           "zerolinecolor": "white"
          }
         }
        },
        "title": {
         "text": "부서/공정별 작업표준 분포(로그 스케일)"
        },
        "updatemenus": [
         {
          "buttons": [
           {
            "args": [
             null,
             {
              "frame": {
               "duration": 250,
               "redraw": true
              },
              "fromcurrent": true,
              "mode": "immediate",
              "transition": {
               "duration": 0
              }
             }
            ],
            "label": "Play",
            "method": "animate"
           }
          ],
          "pad": {
           "r": 10,
           "t": 45
          },
          "showactive": false,
          "type": "buttons",
          "x": 0.8,
          "xanchor": "left",
          "y": 1,
          "yanchor": "bottom"
         }
        ],
        "width": 1000
       }
      },
      "text/html": [
       "<div>                            <div id=\"e690a5c5-06c0-45c9-8fac-fa978661950f\" class=\"plotly-graph-div\" style=\"height:900px; width:1000px;\"></div>            <script type=\"text/javascript\">                require([\"plotly\"], function(Plotly) {                    window.PLOTLYENV=window.PLOTLYENV || {};                                    if (document.getElementById(\"e690a5c5-06c0-45c9-8fac-fa978661950f\")) {                    Plotly.newPlot(                        \"e690a5c5-06c0-45c9-8fac-fa978661950f\",                        [{\"customdata\": [[\"\\uac00\\uacf5\\uc18c\\uc870\\ub9bd\\ubd80\"], [\"\\uac00\\uacf5\\uc18c\\uc870\\ub9bd\\ubd80\"], [\"\\uac00\\uacf5\\uc18c\\uc870\\ub9bd\\ubd80\"], [\"\\uac00\\uacf5\\uc18c\\uc870\\ub9bd\\ubd80\"]], \"hovertemplate\": \"<b>%{hovertext}</b><br><br>\\ub300\\uad6c\\ubd84=%{text}<br>\\uc791\\uc5c5\\ud589\\ub3d9 \\uac1c\\uc218(\\ub85c\\uadf8)=%{marker.size}<extra></extra>\", \"hovertext\": [\"\\uac00\\uacf5\\uc18c\\uc870\\ub9bd\\ubd80\", \"\\uac00\\uacf5\\uc18c\\uc870\\ub9bd\\ubd80\", \"\\uac00\\uacf5\\uc18c\\uc870\\ub9bd\\ubd80\", \"\\uac00\\uacf5\\uc18c\\uc870\\ub9bd\\ubd80\"], \"legendgroup\": \"\", \"marker\": {\"color\": \"rgb(76,114,176)\", \"opacity\": 0.5, \"size\": [107, 650, 34, 8], \"sizemode\": \"area\", \"sizeref\": 0.373125, \"symbol\": \"circle\"}, \"mode\": \"markers+text\", \"name\": \"\\uac00\\uacf5\\uc18c\\uc870\\ub9bd\\ubd80\", \"scene\": \"scene\", \"showlegend\": true, \"text\": [\"\\uac00\\uacf5\", \"\\uc18c\\uc870\\ub9bd\", \"\\uc120\\ud589\\uc758\\uc7a5\", \"\\uc120\\uc2e4\\uc120\\ud589\\uc758\\uc7a5\"], \"type\": \"scatter3d\", \"x\": [\"\\uac00\\uacf5\\uc18c\\uc870\\ub9bd\\ubd80\", \"\\uac00\\uacf5\\uc18c\\uc870\\ub9bd\\ubd80\", \"\\uac00\\uacf5\\uc18c\\uc870\\ub9bd\\ubd80\", \"\\uac00\\uacf5\\uc18c\\uc870\\ub9bd\\ubd80\"], \"y\": [\"\\uac00\\uacf5\", \"\\uc18c\\uc870\\ub9bd\", \"\\uc120\\ud589\\uc758\\uc7a5\", \"\\uc120\\uc2e4\\uc120\\ud589\\uc758\\uc7a5\"], \"z\": [107, 650, 34, 8]}, {\"customdata\": [[\"\\ud310\\ub12c\\uc870\\ub9bd\\ubd80\"], [\"\\ud310\\ub12c\\uc870\\ub9bd\\ubd80\"], [\"\\ud310\\ub12c\\uc870\\ub9bd\\ubd80\"], [\"\\ud310\\ub12c\\uc870\\ub9bd\\ubd80\"], [\"\\ud310\\ub12c\\uc870\\ub9bd\\ubd80\"]], \"hovertemplate\": \"<b>%{hovertext}</b><br><br>\\ub300\\uad6c\\ubd84=%{text}<br>\\uc791\\uc5c5\\ud589\\ub3d9 \\uac1c\\uc218(\\ub85c\\uadf8)=%{marker.size}<extra></extra>\", \"hovertext\": [\"\\ud310\\ub12c\\uc870\\ub9bd\\ubd80\", \"\\ud310\\ub12c\\uc870\\ub9bd\\ubd80\", \"\\ud310\\ub12c\\uc870\\ub9bd\\ubd80\", \"\\ud310\\ub12c\\uc870\\ub9bd\\ubd80\", \"\\ud310\\ub12c\\uc870\\ub9bd\\ubd80\"], \"legendgroup\": \"\", \"marker\": {\"color\": \"rgb(221,132,82)\", \"opacity\": 0.5, \"size\": [15, 103, 91, 33, 265], \"sizemode\": \"area\", \"sizeref\": 0.373125, \"symbol\": \"circle\"}, \"mode\": \"markers+text\", \"name\": \"\\ud310\\ub12c\\uc870\\ub9bd\\ubd80\", \"scene\": \"scene\", \"showlegend\": true, \"text\": [\"\\ub300\\uc870\\ub9bd\", \"\\uc120\\ud589\\uc758\\uc7a5\", \"\\uc120\\uc2e4\\uc120\\ud589\\uc758\\uc7a5\", \"\\uc120\\uc2e4\\uc0dd\\uc0b0\", \"\\ud310\\ub12c\"], \"type\": \"scatter3d\", \"x\": [\"\\ud310\\ub12c\\uc870\\ub9bd\\ubd80\", \"\\ud310\\ub12c\\uc870\\ub9bd\\ubd80\", \"\\ud310\\ub12c\\uc870\\ub9bd\\ubd80\", \"\\ud310\\ub12c\\uc870\\ub9bd\\ubd80\", \"\\ud310\\ub12c\\uc870\\ub9bd\\ubd80\"], \"y\": [\"\\ub300\\uc870\\ub9bd\", \"\\uc120\\ud589\\uc758\\uc7a5\", \"\\uc120\\uc2e4\\uc120\\ud589\\uc758\\uc7a5\", \"\\uc120\\uc2e4\\uc0dd\\uc0b0\", \"\\ud310\\ub12c\"], \"z\": [15, 103, 91, 33, 265]}, {\"customdata\": [[\"\\ub300\\uc870\\ub9bd1\\ubd80\"], [\"\\ub300\\uc870\\ub9bd1\\ubd80\"], [\"\\ub300\\uc870\\ub9bd1\\ubd80\"], [\"\\ub300\\uc870\\ub9bd1\\ubd80\"]], \"hovertemplate\": \"<b>%{hovertext}</b><br><br>\\ub300\\uad6c\\ubd84=%{text}<br>\\uc791\\uc5c5\\ud589\\ub3d9 \\uac1c\\uc218(\\ub85c\\uadf8)=%{marker.size}<extra></extra>\", \"hovertext\": [\"\\ub300\\uc870\\ub9bd1\\ubd80\", \"\\ub300\\uc870\\ub9bd1\\ubd80\", \"\\ub300\\uc870\\ub9bd1\\ubd80\", \"\\ub300\\uc870\\ub9bd1\\ubd80\"], \"legendgroup\": \"\", \"marker\": {\"color\": \"rgb(85,168,104)\", \"opacity\": 0.5, \"size\": [398, 88, 48, 16], \"sizemode\": \"area\", \"sizeref\": 0.373125, \"symbol\": \"circle\"}, \"mode\": \"markers+text\", \"name\": \"\\ub300\\uc870\\ub9bd1\\ubd80\", \"scene\": \"scene\", \"showlegend\": true, \"text\": [\"\\ub300\\uc870\\ub9bd\", \"\\uc120\\ud589\\uc758\\uc7a5\", \"\\uc120\\uc2e4\\uc120\\ud589\\uc758\\uc7a5\", \"\\uc120\\uc2e4\\uc0dd\\uc0b0\"], \"type\": \"scatter3d\", \"x\": [\"\\ub300\\uc870\\ub9bd1\\ubd80\", \"\\ub300\\uc870\\ub9bd1\\ubd80\", \"\\ub300\\uc870\\ub9bd1\\ubd80\", \"\\ub300\\uc870\\ub9bd1\\ubd80\"], \"y\": [\"\\ub300\\uc870\\ub9bd\", \"\\uc120\\ud589\\uc758\\uc7a5\", \"\\uc120\\uc2e4\\uc120\\ud589\\uc758\\uc7a5\", \"\\uc120\\uc2e4\\uc0dd\\uc0b0\"], \"z\": [398, 88, 48, 16]}, {\"customdata\": [[\"\\ub300\\uc870\\ub9bd2\\ubd80\"], [\"\\ub300\\uc870\\ub9bd2\\ubd80\"], [\"\\ub300\\uc870\\ub9bd2\\ubd80\"], [\"\\ub300\\uc870\\ub9bd2\\ubd80\"]], \"hovertemplate\": \"<b>%{hovertext}</b><br><br>\\ub300\\uad6c\\ubd84=%{text}<br>\\uc791\\uc5c5\\ud589\\ub3d9 \\uac1c\\uc218(\\ub85c\\uadf8)=%{marker.size}<extra></extra>\", \"hovertext\": [\"\\ub300\\uc870\\ub9bd2\\ubd80\", \"\\ub300\\uc870\\ub9bd2\\ubd80\", \"\\ub300\\uc870\\ub9bd2\\ubd80\", \"\\ub300\\uc870\\ub9bd2\\ubd80\"], \"legendgroup\": \"\", \"marker\": {\"color\": \"rgb(196,78,82)\", \"opacity\": 0.5, \"size\": [559, 88, 78, 38], \"sizemode\": \"area\", \"sizeref\": 0.373125, \"symbol\": \"circle\"}, \"mode\": \"markers+text\", \"name\": \"\\ub300\\uc870\\ub9bd2\\ubd80\", \"scene\": \"scene\", \"showlegend\": true, \"text\": [\"\\ub300\\uc870\\ub9bd\", \"\\uc120\\ud589\\uc758\\uc7a5\", \"\\uc120\\uc2e4\\uc120\\ud589\\uc758\\uc7a5\", \"\\uc120\\uc2e4\\uc0dd\\uc0b0\"], \"type\": \"scatter3d\", \"x\": [\"\\ub300\\uc870\\ub9bd2\\ubd80\", \"\\ub300\\uc870\\ub9bd2\\ubd80\", \"\\ub300\\uc870\\ub9bd2\\ubd80\", \"\\ub300\\uc870\\ub9bd2\\ubd80\"], \"y\": [\"\\ub300\\uc870\\ub9bd\", \"\\uc120\\ud589\\uc758\\uc7a5\", \"\\uc120\\uc2e4\\uc120\\ud589\\uc758\\uc7a5\", \"\\uc120\\uc2e4\\uc0dd\\uc0b0\"], \"z\": [559, 88, 78, 38]}, {\"customdata\": [[\"\\uc758\\uc7a5\\uc0dd\\uc0b0\\ubd80\"], [\"\\uc758\\uc7a5\\uc0dd\\uc0b0\\ubd80\"], [\"\\uc758\\uc7a5\\uc0dd\\uc0b0\\ubd80\"]], \"hovertemplate\": \"<b>%{hovertext}</b><br><br>\\ub300\\uad6c\\ubd84=%{text}<br>\\uc791\\uc5c5\\ud589\\ub3d9 \\uac1c\\uc218(\\ub85c\\uadf8)=%{marker.size}<extra></extra>\", \"hovertext\": [\"\\uc758\\uc7a5\\uc0dd\\uc0b0\\ubd80\", \"\\uc758\\uc7a5\\uc0dd\\uc0b0\\ubd80\", \"\\uc758\\uc7a5\\uc0dd\\uc0b0\\ubd80\"], \"legendgroup\": \"\", \"marker\": {\"color\": \"rgb(129,114,179)\", \"opacity\": 0.5, \"size\": [665, 30, 38], \"sizemode\": \"area\", \"sizeref\": 0.373125, \"symbol\": \"circle\"}, \"mode\": \"markers+text\", \"name\": \"\\uc758\\uc7a5\\uc0dd\\uc0b0\\ubd80\", \"scene\": \"scene\", \"showlegend\": true, \"text\": [\"\\uc758\\uc7a5\\uc0dd\\uc0b0\", \"\\uc120\\ud589\\ub3c4\\uc7a5\", \"\\ud6c4\\ud589\\uc758\\uc7a5\"], \"type\": \"scatter3d\", \"x\": [\"\\uc758\\uc7a5\\uc0dd\\uc0b0\\ubd80\", \"\\uc758\\uc7a5\\uc0dd\\uc0b0\\ubd80\", \"\\uc758\\uc7a5\\uc0dd\\uc0b0\\ubd80\"], \"y\": [\"\\uc758\\uc7a5\\uc0dd\\uc0b0\", \"\\uc120\\ud589\\ub3c4\\uc7a5\", \"\\ud6c4\\ud589\\uc758\\uc7a5\"], \"z\": [665, 30, 38]}, {\"customdata\": [[\"\\uc120\\ud589\\uc758\\uc7a5\\ubd80\"], [\"\\uc120\\ud589\\uc758\\uc7a5\\ubd80\"], [\"\\uc120\\ud589\\uc758\\uc7a5\\ubd80\"], [\"\\uc120\\ud589\\uc758\\uc7a5\\ubd80\"]], \"hovertemplate\": \"<b>%{hovertext}</b><br><br>\\ub300\\uad6c\\ubd84=%{text}<br>\\uc791\\uc5c5\\ud589\\ub3d9 \\uac1c\\uc218(\\ub85c\\uadf8)=%{marker.size}<extra></extra>\", \"hovertext\": [\"\\uc120\\ud589\\uc758\\uc7a5\\ubd80\", \"\\uc120\\ud589\\uc758\\uc7a5\\ubd80\", \"\\uc120\\ud589\\uc758\\uc7a5\\ubd80\", \"\\uc120\\ud589\\uc758\\uc7a5\\ubd80\"], \"legendgroup\": \"\", \"marker\": {\"color\": \"rgb(147,120,96)\", \"opacity\": 0.5, \"size\": [353, 443, 97, 8], \"sizemode\": \"area\", \"sizeref\": 0.373125, \"symbol\": \"circle\"}, \"mode\": \"markers+text\", \"name\": \"\\uc120\\ud589\\uc758\\uc7a5\\ubd80\", \"scene\": \"scene\", \"showlegend\": true, \"text\": [\"\\uc120\\ud589\\uc758\\uc7a5\", \"\\uc120\\uc2e4\\uc120\\ud589\\uc758\\uc7a5\", \"\\uc120\\uc2e4\\uc0dd\\uc0b0\", \"\\uae30\\uacc4\\uc758\\uc7a5\"], \"type\": \"scatter3d\", \"x\": [\"\\uc120\\ud589\\uc758\\uc7a5\\ubd80\", \"\\uc120\\ud589\\uc758\\uc7a5\\ubd80\", \"\\uc120\\ud589\\uc758\\uc7a5\\ubd80\", \"\\uc120\\ud589\\uc758\\uc7a5\\ubd80\"], \"y\": [\"\\uc120\\ud589\\uc758\\uc7a5\", \"\\uc120\\uc2e4\\uc120\\ud589\\uc758\\uc7a5\", \"\\uc120\\uc2e4\\uc0dd\\uc0b0\", \"\\uae30\\uacc4\\uc758\\uc7a5\"], \"z\": [353, 443, 97, 8]}, {\"customdata\": [[\"\\uc120\\ud589\\ub3c4\\uc7a5\\ubd80\"]], \"hovertemplate\": \"<b>%{hovertext}</b><br><br>\\ub300\\uad6c\\ubd84=%{text}<br>\\uc791\\uc5c5\\ud589\\ub3d9 \\uac1c\\uc218(\\ub85c\\uadf8)=%{marker.size}<extra></extra>\", \"hovertext\": [\"\\uc120\\ud589\\ub3c4\\uc7a5\\ubd80\"], \"legendgroup\": \"\", \"marker\": {\"color\": \"rgb(218,139,195)\", \"opacity\": 0.5, \"size\": [159], \"sizemode\": \"area\", \"sizeref\": 0.373125, \"symbol\": \"circle\"}, \"mode\": \"markers+text\", \"name\": \"\\uc120\\ud589\\ub3c4\\uc7a5\\ubd80\", \"scene\": \"scene\", \"showlegend\": true, \"text\": [\"\\uc120\\ud589\\ub3c4\\uc7a5\"], \"type\": \"scatter3d\", \"x\": [\"\\uc120\\ud589\\ub3c4\\uc7a5\\ubd80\"], \"y\": [\"\\uc120\\ud589\\ub3c4\\uc7a5\"], \"z\": [159]}, {\"customdata\": [[\"\\uc120\\uc2e4\\uc0dd\\uc0b0\\ubd80\"], [\"\\uc120\\uc2e4\\uc0dd\\uc0b0\\ubd80\"], [\"\\uc120\\uc2e4\\uc0dd\\uc0b0\\ubd80\"], [\"\\uc120\\uc2e4\\uc0dd\\uc0b0\\ubd80\"]], \"hovertemplate\": \"<b>%{hovertext}</b><br><br>\\ub300\\uad6c\\ubd84=%{text}<br>\\uc791\\uc5c5\\ud589\\ub3d9 \\uac1c\\uc218(\\ub85c\\uadf8)=%{marker.size}<extra></extra>\", \"hovertext\": [\"\\uc120\\uc2e4\\uc0dd\\uc0b0\\ubd80\", \"\\uc120\\uc2e4\\uc0dd\\uc0b0\\ubd80\", \"\\uc120\\uc2e4\\uc0dd\\uc0b0\\ubd80\", \"\\uc120\\uc2e4\\uc0dd\\uc0b0\\ubd80\"], \"legendgroup\": \"\", \"marker\": {\"color\": \"rgb(140,140,140)\", \"opacity\": 0.5, \"size\": [16, 19, 562, 38], \"sizemode\": \"area\", \"sizeref\": 0.373125, \"symbol\": \"circle\"}, \"mode\": \"markers+text\", \"name\": \"\\uc120\\uc2e4\\uc0dd\\uc0b0\\ubd80\", \"scene\": \"scene\", \"showlegend\": true, \"text\": [\"\\uc120\\ud589\\uc758\\uc7a5\", \"\\uc120\\uc2e4\\uc120\\ud589\\uc758\\uc7a5\", \"\\uc120\\uc2e4\\uc0dd\\uc0b0\", \"\\ud6c4\\ud589\\uc758\\uc7a5\"], \"type\": \"scatter3d\", \"x\": [\"\\uc120\\uc2e4\\uc0dd\\uc0b0\\ubd80\", \"\\uc120\\uc2e4\\uc0dd\\uc0b0\\ubd80\", \"\\uc120\\uc2e4\\uc0dd\\uc0b0\\ubd80\", \"\\uc120\\uc2e4\\uc0dd\\uc0b0\\ubd80\"], \"y\": [\"\\uc120\\ud589\\uc758\\uc7a5\", \"\\uc120\\uc2e4\\uc120\\ud589\\uc758\\uc7a5\", \"\\uc120\\uc2e4\\uc0dd\\uc0b0\", \"\\ud6c4\\ud589\\uc758\\uc7a5\"], \"z\": [16, 19, 562, 38]}, {\"customdata\": [[\"\\uac74\\uc8701\\ubd80\"]], \"hovertemplate\": \"<b>%{hovertext}</b><br><br>\\ub300\\uad6c\\ubd84=%{text}<br>\\uc791\\uc5c5\\ud589\\ub3d9 \\uac1c\\uc218(\\ub85c\\uadf8)=%{marker.size}<extra></extra>\", \"hovertext\": [\"\\uac74\\uc8701\\ubd80\"], \"legendgroup\": \"\", \"marker\": {\"color\": \"rgb(204,185,116)\", \"opacity\": 0.5, \"size\": [271], \"sizemode\": \"area\", \"sizeref\": 0.373125, \"symbol\": \"circle\"}, \"mode\": \"markers+text\", \"name\": \"\\uac74\\uc8701\\ubd80\", \"scene\": \"scene\", \"showlegend\": true, \"text\": [\"\\uac74\\uc870\"], \"type\": \"scatter3d\", \"x\": [\"\\uac74\\uc8701\\ubd80\"], \"y\": [\"\\uac74\\uc870\"], \"z\": [271]}, {\"customdata\": [[\"\\uac74\\uc8702\\ubd80\"]], \"hovertemplate\": \"<b>%{hovertext}</b><br><br>\\ub300\\uad6c\\ubd84=%{text}<br>\\uc791\\uc5c5\\ud589\\ub3d9 \\uac1c\\uc218(\\ub85c\\uadf8)=%{marker.size}<extra></extra>\", \"hovertext\": [\"\\uac74\\uc8702\\ubd80\"], \"legendgroup\": \"\", \"marker\": {\"color\": \"rgb(100,181,205)\", \"opacity\": 0.5, \"size\": [272], \"sizemode\": \"area\", \"sizeref\": 0.373125, \"symbol\": \"circle\"}, \"mode\": \"markers+text\", \"name\": \"\\uac74\\uc8702\\ubd80\", \"scene\": \"scene\", \"showlegend\": true, \"text\": [\"\\uac74\\uc870\"], \"type\": \"scatter3d\", \"x\": [\"\\uac74\\uc8702\\ubd80\"], \"y\": [\"\\uac74\\uc870\"], \"z\": [272]}, {\"customdata\": [[\"\\uac74\\uc8703\\ubd80\"]], \"hovertemplate\": \"<b>%{hovertext}</b><br><br>\\ub300\\uad6c\\ubd84=%{text}<br>\\uc791\\uc5c5\\ud589\\ub3d9 \\uac1c\\uc218(\\ub85c\\uadf8)=%{marker.size}<extra></extra>\", \"hovertext\": [\"\\uac74\\uc8703\\ubd80\"], \"legendgroup\": \"\", \"marker\": {\"color\": \"rgb(76,114,176)\", \"opacity\": 0.5, \"size\": [271], \"sizemode\": \"area\", \"sizeref\": 0.373125, \"symbol\": \"circle\"}, \"mode\": \"markers+text\", \"name\": \"\\uac74\\uc8703\\ubd80\", \"scene\": \"scene\", \"showlegend\": true, \"text\": [\"\\uac74\\uc870\"], \"type\": \"scatter3d\", \"x\": [\"\\uac74\\uc8703\\ubd80\"], \"y\": [\"\\uac74\\uc870\"], \"z\": [271]}, {\"customdata\": [[\"\\uc758\\uc7a51\\ubd80\"], [\"\\uc758\\uc7a51\\ubd80\"], [\"\\uc758\\uc7a51\\ubd80\"], [\"\\uc758\\uc7a51\\ubd80\"], [\"\\uc758\\uc7a51\\ubd80\"], [\"\\uc758\\uc7a51\\ubd80\"]], \"hovertemplate\": \"<b>%{hovertext}</b><br><br>\\ub300\\uad6c\\ubd84=%{text}<br>\\uc791\\uc5c5\\ud589\\ub3d9 \\uac1c\\uc218(\\ub85c\\uadf8)=%{marker.size}<extra></extra>\", \"hovertext\": [\"\\uc758\\uc7a51\\ubd80\", \"\\uc758\\uc7a51\\ubd80\", \"\\uc758\\uc7a51\\ubd80\", \"\\uc758\\uc7a51\\ubd80\", \"\\uc758\\uc7a51\\ubd80\", \"\\uc758\\uc7a51\\ubd80\"], \"legendgroup\": \"\", \"marker\": {\"color\": \"rgb(221,132,82)\", \"opacity\": 0.5, \"size\": [25, 29, 32, 46, 1167, 88], \"sizemode\": \"area\", \"sizeref\": 0.373125, \"symbol\": \"circle\"}, \"mode\": \"markers+text\", \"name\": \"\\uc758\\uc7a51\\ubd80\", \"scene\": \"scene\", \"showlegend\": true, \"text\": [\"\\uc120\\ud589\\uc758\\uc7a5\", \"\\uc120\\uc2e4\\uc120\\ud589\\uc758\\uc7a5\", \"\\uc120\\ud589\\ub3c4\\uc7a5\", \"\\uc120\\uc2e4\\uc0dd\\uc0b0\", \"\\ud6c4\\ud589\\uc758\\uc7a5\", \"\\ud6c4\\ud589\\ub3c4\\uc7a5\"], \"type\": \"scatter3d\", \"x\": [\"\\uc758\\uc7a51\\ubd80\", \"\\uc758\\uc7a51\\ubd80\", \"\\uc758\\uc7a51\\ubd80\", \"\\uc758\\uc7a51\\ubd80\", \"\\uc758\\uc7a51\\ubd80\", \"\\uc758\\uc7a51\\ubd80\"], \"y\": [\"\\uc120\\ud589\\uc758\\uc7a5\", \"\\uc120\\uc2e4\\uc120\\ud589\\uc758\\uc7a5\", \"\\uc120\\ud589\\ub3c4\\uc7a5\", \"\\uc120\\uc2e4\\uc0dd\\uc0b0\", \"\\ud6c4\\ud589\\uc758\\uc7a5\", \"\\ud6c4\\ud589\\ub3c4\\uc7a5\"], \"z\": [25, 29, 32, 46, 1167, 88]}, {\"customdata\": [[\"\\uc758\\uc7a52\\ubd80\"], [\"\\uc758\\uc7a52\\ubd80\"], [\"\\uc758\\uc7a52\\ubd80\"], [\"\\uc758\\uc7a52\\ubd80\"], [\"\\uc758\\uc7a52\\ubd80\"], [\"\\uc758\\uc7a52\\ubd80\"]], \"hovertemplate\": \"<b>%{hovertext}</b><br><br>\\ub300\\uad6c\\ubd84=%{text}<br>\\uc791\\uc5c5\\ud589\\ub3d9 \\uac1c\\uc218(\\ub85c\\uadf8)=%{marker.size}<extra></extra>\", \"hovertext\": [\"\\uc758\\uc7a52\\ubd80\", \"\\uc758\\uc7a52\\ubd80\", \"\\uc758\\uc7a52\\ubd80\", \"\\uc758\\uc7a52\\ubd80\", \"\\uc758\\uc7a52\\ubd80\", \"\\uc758\\uc7a52\\ubd80\"], \"legendgroup\": \"\", \"marker\": {\"color\": \"rgb(85,168,104)\", \"opacity\": 0.5, \"size\": [25, 29, 32, 93, 1078, 88], \"sizemode\": \"area\", \"sizeref\": 0.373125, \"symbol\": \"circle\"}, \"mode\": \"markers+text\", \"name\": \"\\uc758\\uc7a52\\ubd80\", \"scene\": \"scene\", \"showlegend\": true, \"text\": [\"\\uc120\\ud589\\uc758\\uc7a5\", \"\\uc120\\uc2e4\\uc120\\ud589\\uc758\\uc7a5\", \"\\uc120\\ud589\\ub3c4\\uc7a5\", \"\\uc120\\uc2e4\\uc0dd\\uc0b0\", \"\\ud6c4\\ud589\\uc758\\uc7a5\", \"\\ud6c4\\ud589\\ub3c4\\uc7a5\"], \"type\": \"scatter3d\", \"x\": [\"\\uc758\\uc7a52\\ubd80\", \"\\uc758\\uc7a52\\ubd80\", \"\\uc758\\uc7a52\\ubd80\", \"\\uc758\\uc7a52\\ubd80\", \"\\uc758\\uc7a52\\ubd80\", \"\\uc758\\uc7a52\\ubd80\"], \"y\": [\"\\uc120\\ud589\\uc758\\uc7a5\", \"\\uc120\\uc2e4\\uc120\\ud589\\uc758\\uc7a5\", \"\\uc120\\ud589\\ub3c4\\uc7a5\", \"\\uc120\\uc2e4\\uc0dd\\uc0b0\", \"\\ud6c4\\ud589\\uc758\\uc7a5\", \"\\ud6c4\\ud589\\ub3c4\\uc7a5\"], \"z\": [25, 29, 32, 93, 1078, 88]}, {\"customdata\": [[\"\\uc758\\uc7a53\\ubd80\"], [\"\\uc758\\uc7a53\\ubd80\"], [\"\\uc758\\uc7a53\\ubd80\"], [\"\\uc758\\uc7a53\\ubd80\"], [\"\\uc758\\uc7a53\\ubd80\"], [\"\\uc758\\uc7a53\\ubd80\"]], \"hovertemplate\": \"<b>%{hovertext}</b><br><br>\\ub300\\uad6c\\ubd84=%{text}<br>\\uc791\\uc5c5\\ud589\\ub3d9 \\uac1c\\uc218(\\ub85c\\uadf8)=%{marker.size}<extra></extra>\", \"hovertext\": [\"\\uc758\\uc7a53\\ubd80\", \"\\uc758\\uc7a53\\ubd80\", \"\\uc758\\uc7a53\\ubd80\", \"\\uc758\\uc7a53\\ubd80\", \"\\uc758\\uc7a53\\ubd80\", \"\\uc758\\uc7a53\\ubd80\"], \"legendgroup\": \"\", \"marker\": {\"color\": \"rgb(196,78,82)\", \"opacity\": 0.5, \"size\": [25, 29, 31, 45, 1076, 89], \"sizemode\": \"area\", \"sizeref\": 0.373125, \"symbol\": \"circle\"}, \"mode\": \"markers+text\", \"name\": \"\\uc758\\uc7a53\\ubd80\", \"scene\": \"scene\", \"showlegend\": true, \"text\": [\"\\uc120\\ud589\\uc758\\uc7a5\", \"\\uc120\\uc2e4\\uc120\\ud589\\uc758\\uc7a5\", \"\\uc120\\ud589\\ub3c4\\uc7a5\", \"\\uc120\\uc2e4\\uc0dd\\uc0b0\", \"\\ud6c4\\ud589\\uc758\\uc7a5\", \"\\ud6c4\\ud589\\ub3c4\\uc7a5\"], \"type\": \"scatter3d\", \"x\": [\"\\uc758\\uc7a53\\ubd80\", \"\\uc758\\uc7a53\\ubd80\", \"\\uc758\\uc7a53\\ubd80\", \"\\uc758\\uc7a53\\ubd80\", \"\\uc758\\uc7a53\\ubd80\", \"\\uc758\\uc7a53\\ubd80\"], \"y\": [\"\\uc120\\ud589\\uc758\\uc7a5\", \"\\uc120\\uc2e4\\uc120\\ud589\\uc758\\uc7a5\", \"\\uc120\\ud589\\ub3c4\\uc7a5\", \"\\uc120\\uc2e4\\uc0dd\\uc0b0\", \"\\ud6c4\\ud589\\uc758\\uc7a5\", \"\\ud6c4\\ud589\\ub3c4\\uc7a5\"], \"z\": [25, 29, 31, 45, 1076, 89]}, {\"customdata\": [[\"CHS\\uacf5\\uc0ac\\ubd80\"], [\"CHS\\uacf5\\uc0ac\\ubd80\"]], \"hovertemplate\": \"<b>%{hovertext}</b><br><br>\\ub300\\uad6c\\ubd84=%{text}<br>\\uc791\\uc5c5\\ud589\\ub3d9 \\uac1c\\uc218(\\ub85c\\uadf8)=%{marker.size}<extra></extra>\", \"hovertext\": [\"CHS\\uacf5\\uc0ac\\ubd80\", \"CHS\\uacf5\\uc0ac\\ubd80\"], \"legendgroup\": \"\", \"marker\": {\"color\": \"rgb(129,114,179)\", \"opacity\": 0.5, \"size\": [9, 859], \"sizemode\": \"area\", \"sizeref\": 0.373125, \"symbol\": \"circle\"}, \"mode\": \"markers+text\", \"name\": \"CHS\\uacf5\\uc0ac\\ubd80\", \"scene\": \"scene\", \"showlegend\": true, \"text\": [\"\\uc120\\ud589\\uc758\\uc7a5\", \"\\ud6c4\\ud589\\uc758\\uc7a5\"], \"type\": \"scatter3d\", \"x\": [\"CHS\\uacf5\\uc0ac\\ubd80\", \"CHS\\uacf5\\uc0ac\\ubd80\"], \"y\": [\"\\uc120\\ud589\\uc758\\uc7a5\", \"\\ud6c4\\ud589\\uc758\\uc7a5\"], \"z\": [9, 859]}, {\"customdata\": [[\"\\uae30\\uacc4\\uc758\\uc7a5\\ubd80\"]], \"hovertemplate\": \"<b>%{hovertext}</b><br><br>\\ub300\\uad6c\\ubd84=%{text}<br>\\uc791\\uc5c5\\ud589\\ub3d9 \\uac1c\\uc218(\\ub85c\\uadf8)=%{marker.size}<extra></extra>\", \"hovertext\": [\"\\uae30\\uacc4\\uc758\\uc7a5\\ubd80\"], \"legendgroup\": \"\", \"marker\": {\"color\": \"rgb(147,120,96)\", \"opacity\": 0.5, \"size\": [543], \"sizemode\": \"area\", \"sizeref\": 0.373125, \"symbol\": \"circle\"}, \"mode\": \"markers+text\", \"name\": \"\\uae30\\uacc4\\uc758\\uc7a5\\ubd80\", \"scene\": \"scene\", \"showlegend\": true, \"text\": [\"\\uae30\\uacc4\\uc758\\uc7a5\"], \"type\": \"scatter3d\", \"x\": [\"\\uae30\\uacc4\\uc758\\uc7a5\\ubd80\"], \"y\": [\"\\uae30\\uacc4\\uc758\\uc7a5\"], \"z\": [543]}, {\"customdata\": [[\"\\ub3c4\\uc7a51\\ubd80\"], [\"\\ub3c4\\uc7a51\\ubd80\"]], \"hovertemplate\": \"<b>%{hovertext}</b><br><br>\\ub300\\uad6c\\ubd84=%{text}<br>\\uc791\\uc5c5\\ud589\\ub3d9 \\uac1c\\uc218(\\ub85c\\uadf8)=%{marker.size}<extra></extra>\", \"hovertext\": [\"\\ub3c4\\uc7a51\\ubd80\", \"\\ub3c4\\uc7a51\\ubd80\"], \"legendgroup\": \"\", \"marker\": {\"color\": \"rgb(218,139,195)\", \"opacity\": 0.5, \"size\": [31, 96], \"sizemode\": \"area\", \"sizeref\": 0.373125, \"symbol\": \"circle\"}, \"mode\": \"markers+text\", \"name\": \"\\ub3c4\\uc7a51\\ubd80\", \"scene\": \"scene\", \"showlegend\": true, \"text\": [\"\\uc120\\ud589\\ub3c4\\uc7a5\", \"\\ud6c4\\ud589\\ub3c4\\uc7a5\"], \"type\": \"scatter3d\", \"x\": [\"\\ub3c4\\uc7a51\\ubd80\", \"\\ub3c4\\uc7a51\\ubd80\"], \"y\": [\"\\uc120\\ud589\\ub3c4\\uc7a5\", \"\\ud6c4\\ud589\\ub3c4\\uc7a5\"], \"z\": [31, 96]}, {\"customdata\": [[\"\\ub3c4\\uc7a52\\ubd80\"], [\"\\ub3c4\\uc7a52\\ubd80\"]], \"hovertemplate\": \"<b>%{hovertext}</b><br><br>\\ub300\\uad6c\\ubd84=%{text}<br>\\uc791\\uc5c5\\ud589\\ub3d9 \\uac1c\\uc218(\\ub85c\\uadf8)=%{marker.size}<extra></extra>\", \"hovertext\": [\"\\ub3c4\\uc7a52\\ubd80\", \"\\ub3c4\\uc7a52\\ubd80\"], \"legendgroup\": \"\", \"marker\": {\"color\": \"rgb(140,140,140)\", \"opacity\": 0.5, \"size\": [32, 95], \"sizemode\": \"area\", \"sizeref\": 0.373125, \"symbol\": \"circle\"}, \"mode\": \"markers+text\", \"name\": \"\\ub3c4\\uc7a52\\ubd80\", \"scene\": \"scene\", \"showlegend\": true, \"text\": [\"\\uc120\\ud589\\ub3c4\\uc7a5\", \"\\ud6c4\\ud589\\ub3c4\\uc7a5\"], \"type\": \"scatter3d\", \"x\": [\"\\ub3c4\\uc7a52\\ubd80\", \"\\ub3c4\\uc7a52\\ubd80\"], \"y\": [\"\\uc120\\ud589\\ub3c4\\uc7a5\", \"\\ud6c4\\ud589\\ub3c4\\uc7a5\"], \"z\": [32, 95]}, {\"customdata\": [[\"LNG\\uacf5\\uc0ac\\ubd80\"]], \"hovertemplate\": \"<b>%{hovertext}</b><br><br>\\ub300\\uad6c\\ubd84=%{text}<br>\\uc791\\uc5c5\\ud589\\ub3d9 \\uac1c\\uc218(\\ub85c\\uadf8)=%{marker.size}<extra></extra>\", \"hovertext\": [\"LNG\\uacf5\\uc0ac\\ubd80\"], \"legendgroup\": \"\", \"marker\": {\"color\": \"rgb(204,185,116)\", \"opacity\": 0.5, \"size\": [182], \"sizemode\": \"area\", \"sizeref\": 0.373125, \"symbol\": \"circle\"}, \"mode\": \"markers+text\", \"name\": \"LNG\\uacf5\\uc0ac\\ubd80\", \"scene\": \"scene\", \"showlegend\": true, \"text\": [\"LNG\\uacf5\\uc0ac\"], \"type\": \"scatter3d\", \"x\": [\"LNG\\uacf5\\uc0ac\\ubd80\"], \"y\": [\"LNG\\uacf5\\uc0ac\"], \"z\": [182]}, {\"customdata\": [[\"\\uc2dc\\uc6b4\\uc804\\ubd80\"], [\"\\uc2dc\\uc6b4\\uc804\\ubd80\"]], \"hovertemplate\": \"<b>%{hovertext}</b><br><br>\\ub300\\uad6c\\ubd84=%{text}<br>\\uc791\\uc5c5\\ud589\\ub3d9 \\uac1c\\uc218(\\ub85c\\uadf8)=%{marker.size}<extra></extra>\", \"hovertext\": [\"\\uc2dc\\uc6b4\\uc804\\ubd80\", \"\\uc2dc\\uc6b4\\uc804\\ubd80\"], \"legendgroup\": \"\", \"marker\": {\"color\": \"rgb(100,181,205)\", \"opacity\": 0.5, \"size\": [17, 2388], \"sizemode\": \"area\", \"sizeref\": 0.373125, \"symbol\": \"circle\"}, \"mode\": \"markers+text\", \"name\": \"\\uc2dc\\uc6b4\\uc804\\ubd80\", \"scene\": \"scene\", \"showlegend\": true, \"text\": [\"\\uc120\\uc2e4\\uc120\\ud589\\uc758\\uc7a5\", \"\\uc2dc\\uc6b4\\uc804\"], \"type\": \"scatter3d\", \"x\": [\"\\uc2dc\\uc6b4\\uc804\\ubd80\", \"\\uc2dc\\uc6b4\\uc804\\ubd80\"], \"y\": [\"\\uc120\\uc2e4\\uc120\\ud589\\uc758\\uc7a5\", \"\\uc2dc\\uc6b4\\uc804\"], \"z\": [17, 2388]}, {\"customdata\": [[\"\\uc6b4\\ud56d\\uad00\\uc81c\\uacfc\"]], \"hovertemplate\": \"<b>%{hovertext}</b><br><br>\\ub300\\uad6c\\ubd84=%{text}<br>\\uc791\\uc5c5\\ud589\\ub3d9 \\uac1c\\uc218(\\ub85c\\uadf8)=%{marker.size}<extra></extra>\", \"hovertext\": [\"\\uc6b4\\ud56d\\uad00\\uc81c\\uacfc\"], \"legendgroup\": \"\", \"marker\": {\"color\": \"rgb(76,114,176)\", \"opacity\": 0.5, \"size\": [477], \"sizemode\": \"area\", \"sizeref\": 0.373125, \"symbol\": \"circle\"}, \"mode\": \"markers+text\", \"name\": \"\\uc6b4\\ud56d\\uad00\\uc81c\\uacfc\", \"scene\": \"scene\", \"showlegend\": true, \"text\": [\"\\uc6b4\\ud56d\\uad00\\uc81c\"], \"type\": \"scatter3d\", \"x\": [\"\\uc6b4\\ud56d\\uad00\\uc81c\\uacfc\"], \"y\": [\"\\uc6b4\\ud56d\\uad00\\uc81c\"], \"z\": [477]}, {\"customdata\": [[\"\\uc678\\uc5c5\\uacf5\\uc0ac\\uc9c0\\uc6d0\\ubd80\"]], \"hovertemplate\": \"<b>%{hovertext}</b><br><br>\\ub300\\uad6c\\ubd84=%{text}<br>\\uc791\\uc5c5\\ud589\\ub3d9 \\uac1c\\uc218(\\ub85c\\uadf8)=%{marker.size}<extra></extra>\", \"hovertext\": [\"\\uc678\\uc5c5\\uacf5\\uc0ac\\uc9c0\\uc6d0\\ubd80\"], \"legendgroup\": \"\", \"marker\": {\"color\": \"rgb(221,132,82)\", \"opacity\": 0.5, \"size\": [344], \"sizemode\": \"area\", \"sizeref\": 0.373125, \"symbol\": \"circle\"}, \"mode\": \"markers+text\", \"name\": \"\\uc678\\uc5c5\\uacf5\\uc0ac\\uc9c0\\uc6d0\\ubd80\", \"scene\": \"scene\", \"showlegend\": true, \"text\": [\"\\uacf5\\uc0ac\\uc9c0\\uc6d0\"], \"type\": \"scatter3d\", \"x\": [\"\\uc678\\uc5c5\\uacf5\\uc0ac\\uc9c0\\uc6d0\\ubd80\"], \"y\": [\"\\uacf5\\uc0ac\\uc9c0\\uc6d0\"], \"z\": [344]}, {\"customdata\": [[\"\\ubc1c\\ud310\\uc9c0\\uc6d0\\ubd80\"]], \"hovertemplate\": \"<b>%{hovertext}</b><br><br>\\ub300\\uad6c\\ubd84=%{text}<br>\\uc791\\uc5c5\\ud589\\ub3d9 \\uac1c\\uc218(\\ub85c\\uadf8)=%{marker.size}<extra></extra>\", \"hovertext\": [\"\\ubc1c\\ud310\\uc9c0\\uc6d0\\ubd80\"], \"legendgroup\": \"\", \"marker\": {\"color\": \"rgb(85,168,104)\", \"opacity\": 0.5, \"size\": [103], \"sizemode\": \"area\", \"sizeref\": 0.373125, \"symbol\": \"circle\"}, \"mode\": \"markers+text\", \"name\": \"\\ubc1c\\ud310\\uc9c0\\uc6d0\\ubd80\", \"scene\": \"scene\", \"showlegend\": true, \"text\": [\"\\uacf5\\uc0ac\\uc9c0\\uc6d0\"], \"type\": \"scatter3d\", \"x\": [\"\\ubc1c\\ud310\\uc9c0\\uc6d0\\ubd80\"], \"y\": [\"\\uacf5\\uc0ac\\uc9c0\\uc6d0\"], \"z\": [103]}, {\"customdata\": [[\"\\uc870\\uc120\\ud574\\uc591\\ud488\\uc9c8\\uacbd\\uc6011\\ubd80\"]], \"hovertemplate\": \"<b>%{hovertext}</b><br><br>\\ub300\\uad6c\\ubd84=%{text}<br>\\uc791\\uc5c5\\ud589\\ub3d9 \\uac1c\\uc218(\\ub85c\\uadf8)=%{marker.size}<extra></extra>\", \"hovertext\": [\"\\uc870\\uc120\\ud574\\uc591\\ud488\\uc9c8\\uacbd\\uc6011\\ubd80\"], \"legendgroup\": \"\", \"marker\": {\"color\": \"rgb(196,78,82)\", \"opacity\": 0.5, \"size\": [238], \"sizemode\": \"area\", \"sizeref\": 0.373125, \"symbol\": \"circle\"}, \"mode\": \"markers+text\", \"name\": \"\\uc870\\uc120\\ud574\\uc591\\ud488\\uc9c8\\uacbd\\uc6011\\ubd80\", \"scene\": \"scene\", \"showlegend\": true, \"text\": [\"QM\"], \"type\": \"scatter3d\", \"x\": [\"\\uc870\\uc120\\ud574\\uc591\\ud488\\uc9c8\\uacbd\\uc6011\\ubd80\"], \"y\": [\"QM\"], \"z\": [238]}, {\"customdata\": [[\"\\uc870\\uc120\\ud574\\uc591\\ud488\\uc9c8\\uacbd\\uc6012\\ubd80\"]], \"hovertemplate\": \"<b>%{hovertext}</b><br><br>\\ub300\\uad6c\\ubd84=%{text}<br>\\uc791\\uc5c5\\ud589\\ub3d9 \\uac1c\\uc218(\\ub85c\\uadf8)=%{marker.size}<extra></extra>\", \"hovertext\": [\"\\uc870\\uc120\\ud574\\uc591\\ud488\\uc9c8\\uacbd\\uc6012\\ubd80\"], \"legendgroup\": \"\", \"marker\": {\"color\": \"rgb(129,114,179)\", \"opacity\": 0.5, \"size\": [278], \"sizemode\": \"area\", \"sizeref\": 0.373125, \"symbol\": \"circle\"}, \"mode\": \"markers+text\", \"name\": \"\\uc870\\uc120\\ud574\\uc591\\ud488\\uc9c8\\uacbd\\uc6012\\ubd80\", \"scene\": \"scene\", \"showlegend\": true, \"text\": [\"QM\"], \"type\": \"scatter3d\", \"x\": [\"\\uc870\\uc120\\ud574\\uc591\\ud488\\uc9c8\\uacbd\\uc6012\\ubd80\"], \"y\": [\"QM\"], \"z\": [278]}],                        {\"height\": 900, \"legend\": {\"itemsizing\": \"constant\", \"title\": {\"text\": \"\\ubd80\\uc11c\"}, \"tracegroupgap\": 0}, \"scene\": {\"camera\": {\"eye\": {\"x\": -1.25, \"y\": 2, \"z\": 0.5}}, \"domain\": {\"x\": [0.0, 1.0], \"y\": [0.0, 1.0]}, \"xaxis\": {\"categoryarray\": [\"\\uac00\\uacf5\\uc18c\\uc870\\ub9bd\\ubd80\", \"\\ud310\\ub12c\\uc870\\ub9bd\\ubd80\", \"\\ub300\\uc870\\ub9bd1\\ubd80\", \"\\ub300\\uc870\\ub9bd2\\ubd80\", \"\\uc758\\uc7a5\\uc0dd\\uc0b0\\ubd80\", \"\\uc120\\ud589\\uc758\\uc7a5\\ubd80\", \"\\uc120\\ud589\\ub3c4\\uc7a5\\ubd80\", \"\\uc120\\uc2e4\\uc0dd\\uc0b0\\ubd80\", \"\\uac74\\uc8701\\ubd80\", \"\\uac74\\uc8702\\ubd80\", \"\\uac74\\uc8703\\ubd80\", \"\\uc758\\uc7a51\\ubd80\", \"\\uc758\\uc7a52\\ubd80\", \"\\uc758\\uc7a53\\ubd80\", \"CHS\\uacf5\\uc0ac\\ubd80\", \"\\uae30\\uacc4\\uc758\\uc7a5\\ubd80\", \"\\ub3c4\\uc7a51\\ubd80\", \"\\ub3c4\\uc7a52\\ubd80\", \"LNG\\uacf5\\uc0ac\\ubd80\", \"\\uc2dc\\uc6b4\\uc804\\ubd80\", \"\\uc6b4\\ud56d\\uad00\\uc81c\\uacfc\", \"\\uc678\\uc5c5\\uacf5\\uc0ac\\uc9c0\\uc6d0\\ubd80\", \"\\ubc1c\\ud310\\uc9c0\\uc6d0\\ubd80\", \"\\uc870\\uc120\\ud574\\uc591\\ud488\\uc9c8\\uacbd\\uc6011\\ubd80\", \"\\uc870\\uc120\\ud574\\uc591\\ud488\\uc9c8\\uacbd\\uc6012\\ubd80\"], \"categoryorder\": \"array\", \"title\": {\"text\": \"\\ubd80\\uc11c\"}}, \"yaxis\": {\"title\": {\"text\": \"\\ub300\\uad6c\\ubd84\"}}, \"zaxis\": {\"title\": {\"text\": \"\\uc791\\uc5c5\\ud589\\ub3d9 \\uac1c\\uc218(\\ub85c\\uadf8)\"}, \"type\": \"log\"}}, \"template\": {\"data\": {\"bar\": [{\"error_x\": {\"color\": \"rgb(36,36,36)\"}, \"error_y\": {\"color\": \"rgb(36,36,36)\"}, \"marker\": {\"line\": {\"color\": \"rgb(234,234,242)\", \"width\": 0.5}}, \"type\": \"bar\"}], \"barpolar\": [{\"marker\": {\"line\": {\"color\": \"rgb(234,234,242)\", \"width\": 0.5}}, \"type\": \"barpolar\"}], \"carpet\": [{\"aaxis\": {\"endlinecolor\": \"rgb(36,36,36)\", \"gridcolor\": \"white\", \"linecolor\": \"white\", \"minorgridcolor\": \"white\", \"startlinecolor\": \"rgb(36,36,36)\"}, \"baxis\": {\"endlinecolor\": \"rgb(36,36,36)\", \"gridcolor\": \"white\", \"linecolor\": \"white\", \"minorgridcolor\": \"white\", \"startlinecolor\": \"rgb(36,36,36)\"}, \"type\": \"carpet\"}], \"choropleth\": [{\"colorbar\": {\"outlinewidth\": 0, \"tickcolor\": \"rgb(36,36,36)\", \"ticklen\": 8, \"ticks\": \"outside\", \"tickwidth\": 2}, \"type\": \"choropleth\"}], \"contour\": [{\"colorbar\": {\"outlinewidth\": 0, \"tickcolor\": \"rgb(36,36,36)\", \"ticklen\": 8, \"ticks\": \"outside\", \"tickwidth\": 2}, \"colorscale\": [[0.0, \"rgb(2,4,25)\"], [0.06274509803921569, \"rgb(24,15,41)\"], [0.12549019607843137, \"rgb(47,23,57)\"], [0.18823529411764706, \"rgb(71,28,72)\"], [0.25098039215686274, \"rgb(97,30,82)\"], [0.3137254901960784, \"rgb(123,30,89)\"], [0.3764705882352941, \"rgb(150,27,91)\"], [0.4392156862745098, \"rgb(177,22,88)\"], [0.5019607843137255, \"rgb(203,26,79)\"], [0.5647058823529412, \"rgb(223,47,67)\"], [0.6274509803921569, \"rgb(236,76,61)\"], [0.6901960784313725, \"rgb(242,107,73)\"], [0.7529411764705882, \"rgb(244,135,95)\"], [0.8156862745098039, \"rgb(245,162,122)\"], [0.8784313725490196, \"rgb(246,188,153)\"], [0.9411764705882353, \"rgb(247,212,187)\"], [1.0, \"rgb(250,234,220)\"]], \"type\": \"contour\"}], \"contourcarpet\": [{\"colorbar\": {\"outlinewidth\": 0, \"tickcolor\": \"rgb(36,36,36)\", \"ticklen\": 8, \"ticks\": \"outside\", \"tickwidth\": 2}, \"type\": \"contourcarpet\"}], \"heatmap\": [{\"colorbar\": {\"outlinewidth\": 0, \"tickcolor\": \"rgb(36,36,36)\", \"ticklen\": 8, \"ticks\": \"outside\", \"tickwidth\": 2}, \"colorscale\": [[0.0, \"rgb(2,4,25)\"], [0.06274509803921569, \"rgb(24,15,41)\"], [0.12549019607843137, \"rgb(47,23,57)\"], [0.18823529411764706, \"rgb(71,28,72)\"], [0.25098039215686274, \"rgb(97,30,82)\"], [0.3137254901960784, \"rgb(123,30,89)\"], [0.3764705882352941, \"rgb(150,27,91)\"], [0.4392156862745098, \"rgb(177,22,88)\"], [0.5019607843137255, \"rgb(203,26,79)\"], [0.5647058823529412, \"rgb(223,47,67)\"], [0.6274509803921569, \"rgb(236,76,61)\"], [0.6901960784313725, \"rgb(242,107,73)\"], [0.7529411764705882, \"rgb(244,135,95)\"], [0.8156862745098039, \"rgb(245,162,122)\"], [0.8784313725490196, \"rgb(246,188,153)\"], [0.9411764705882353, \"rgb(247,212,187)\"], [1.0, \"rgb(250,234,220)\"]], \"type\": \"heatmap\"}], \"heatmapgl\": [{\"colorbar\": {\"outlinewidth\": 0, \"tickcolor\": \"rgb(36,36,36)\", \"ticklen\": 8, \"ticks\": \"outside\", \"tickwidth\": 2}, \"colorscale\": [[0.0, \"rgb(2,4,25)\"], [0.06274509803921569, \"rgb(24,15,41)\"], [0.12549019607843137, \"rgb(47,23,57)\"], [0.18823529411764706, \"rgb(71,28,72)\"], [0.25098039215686274, \"rgb(97,30,82)\"], [0.3137254901960784, \"rgb(123,30,89)\"], [0.3764705882352941, \"rgb(150,27,91)\"], [0.4392156862745098, \"rgb(177,22,88)\"], [0.5019607843137255, \"rgb(203,26,79)\"], [0.5647058823529412, \"rgb(223,47,67)\"], [0.6274509803921569, \"rgb(236,76,61)\"], [0.6901960784313725, \"rgb(242,107,73)\"], [0.7529411764705882, \"rgb(244,135,95)\"], [0.8156862745098039, \"rgb(245,162,122)\"], [0.8784313725490196, \"rgb(246,188,153)\"], [0.9411764705882353, \"rgb(247,212,187)\"], [1.0, \"rgb(250,234,220)\"]], \"type\": \"heatmapgl\"}], \"histogram\": [{\"marker\": {\"colorbar\": {\"outlinewidth\": 0, \"tickcolor\": \"rgb(36,36,36)\", \"ticklen\": 8, \"ticks\": \"outside\", \"tickwidth\": 2}}, \"type\": \"histogram\"}], \"histogram2d\": [{\"colorbar\": {\"outlinewidth\": 0, \"tickcolor\": \"rgb(36,36,36)\", \"ticklen\": 8, \"ticks\": \"outside\", \"tickwidth\": 2}, \"colorscale\": [[0.0, \"rgb(2,4,25)\"], [0.06274509803921569, \"rgb(24,15,41)\"], [0.12549019607843137, \"rgb(47,23,57)\"], [0.18823529411764706, \"rgb(71,28,72)\"], [0.25098039215686274, \"rgb(97,30,82)\"], [0.3137254901960784, \"rgb(123,30,89)\"], [0.3764705882352941, \"rgb(150,27,91)\"], [0.4392156862745098, \"rgb(177,22,88)\"], [0.5019607843137255, \"rgb(203,26,79)\"], [0.5647058823529412, \"rgb(223,47,67)\"], [0.6274509803921569, \"rgb(236,76,61)\"], [0.6901960784313725, \"rgb(242,107,73)\"], [0.7529411764705882, \"rgb(244,135,95)\"], [0.8156862745098039, \"rgb(245,162,122)\"], [0.8784313725490196, \"rgb(246,188,153)\"], [0.9411764705882353, \"rgb(247,212,187)\"], [1.0, \"rgb(250,234,220)\"]], \"type\": \"histogram2d\"}], \"histogram2dcontour\": [{\"colorbar\": {\"outlinewidth\": 0, \"tickcolor\": \"rgb(36,36,36)\", \"ticklen\": 8, \"ticks\": \"outside\", \"tickwidth\": 2}, \"colorscale\": [[0.0, \"rgb(2,4,25)\"], [0.06274509803921569, \"rgb(24,15,41)\"], [0.12549019607843137, \"rgb(47,23,57)\"], [0.18823529411764706, \"rgb(71,28,72)\"], [0.25098039215686274, \"rgb(97,30,82)\"], [0.3137254901960784, \"rgb(123,30,89)\"], [0.3764705882352941, \"rgb(150,27,91)\"], [0.4392156862745098, \"rgb(177,22,88)\"], [0.5019607843137255, \"rgb(203,26,79)\"], [0.5647058823529412, \"rgb(223,47,67)\"], [0.6274509803921569, \"rgb(236,76,61)\"], [0.6901960784313725, \"rgb(242,107,73)\"], [0.7529411764705882, \"rgb(244,135,95)\"], [0.8156862745098039, \"rgb(245,162,122)\"], [0.8784313725490196, \"rgb(246,188,153)\"], [0.9411764705882353, \"rgb(247,212,187)\"], [1.0, \"rgb(250,234,220)\"]], \"type\": \"histogram2dcontour\"}], \"mesh3d\": [{\"colorbar\": {\"outlinewidth\": 0, \"tickcolor\": \"rgb(36,36,36)\", \"ticklen\": 8, \"ticks\": \"outside\", \"tickwidth\": 2}, \"type\": \"mesh3d\"}], \"parcoords\": [{\"line\": {\"colorbar\": {\"outlinewidth\": 0, \"tickcolor\": \"rgb(36,36,36)\", \"ticklen\": 8, \"ticks\": \"outside\", \"tickwidth\": 2}}, \"type\": \"parcoords\"}], \"pie\": [{\"automargin\": true, \"type\": \"pie\"}], \"scatter\": [{\"marker\": {\"colorbar\": {\"outlinewidth\": 0, \"tickcolor\": \"rgb(36,36,36)\", \"ticklen\": 8, \"ticks\": \"outside\", \"tickwidth\": 2}}, \"type\": \"scatter\"}], \"scatter3d\": [{\"line\": {\"colorbar\": {\"outlinewidth\": 0, \"tickcolor\": \"rgb(36,36,36)\", \"ticklen\": 8, \"ticks\": \"outside\", \"tickwidth\": 2}}, \"marker\": {\"colorbar\": {\"outlinewidth\": 0, \"tickcolor\": \"rgb(36,36,36)\", \"ticklen\": 8, \"ticks\": \"outside\", \"tickwidth\": 2}}, \"type\": \"scatter3d\"}], \"scattercarpet\": [{\"marker\": {\"colorbar\": {\"outlinewidth\": 0, \"tickcolor\": \"rgb(36,36,36)\", \"ticklen\": 8, \"ticks\": \"outside\", \"tickwidth\": 2}}, \"type\": \"scattercarpet\"}], \"scattergeo\": [{\"marker\": {\"colorbar\": {\"outlinewidth\": 0, \"tickcolor\": \"rgb(36,36,36)\", \"ticklen\": 8, \"ticks\": \"outside\", \"tickwidth\": 2}}, \"type\": \"scattergeo\"}], \"scattergl\": [{\"marker\": {\"colorbar\": {\"outlinewidth\": 0, \"tickcolor\": \"rgb(36,36,36)\", \"ticklen\": 8, \"ticks\": \"outside\", \"tickwidth\": 2}}, \"type\": \"scattergl\"}], \"scattermapbox\": [{\"marker\": {\"colorbar\": {\"outlinewidth\": 0, \"tickcolor\": \"rgb(36,36,36)\", \"ticklen\": 8, \"ticks\": \"outside\", \"tickwidth\": 2}}, \"type\": \"scattermapbox\"}], \"scatterpolar\": [{\"marker\": {\"colorbar\": {\"outlinewidth\": 0, \"tickcolor\": \"rgb(36,36,36)\", \"ticklen\": 8, \"ticks\": \"outside\", \"tickwidth\": 2}}, \"type\": \"scatterpolar\"}], \"scatterpolargl\": [{\"marker\": {\"colorbar\": {\"outlinewidth\": 0, \"tickcolor\": \"rgb(36,36,36)\", \"ticklen\": 8, \"ticks\": \"outside\", \"tickwidth\": 2}}, \"type\": \"scatterpolargl\"}], \"scatterternary\": [{\"marker\": {\"colorbar\": {\"outlinewidth\": 0, \"tickcolor\": \"rgb(36,36,36)\", \"ticklen\": 8, \"ticks\": \"outside\", \"tickwidth\": 2}}, \"type\": \"scatterternary\"}], \"surface\": [{\"colorbar\": {\"outlinewidth\": 0, \"tickcolor\": \"rgb(36,36,36)\", \"ticklen\": 8, \"ticks\": \"outside\", \"tickwidth\": 2}, \"colorscale\": [[0.0, \"rgb(2,4,25)\"], [0.06274509803921569, \"rgb(24,15,41)\"], [0.12549019607843137, \"rgb(47,23,57)\"], [0.18823529411764706, \"rgb(71,28,72)\"], [0.25098039215686274, \"rgb(97,30,82)\"], [0.3137254901960784, \"rgb(123,30,89)\"], [0.3764705882352941, \"rgb(150,27,91)\"], [0.4392156862745098, \"rgb(177,22,88)\"], [0.5019607843137255, \"rgb(203,26,79)\"], [0.5647058823529412, \"rgb(223,47,67)\"], [0.6274509803921569, \"rgb(236,76,61)\"], [0.6901960784313725, \"rgb(242,107,73)\"], [0.7529411764705882, \"rgb(244,135,95)\"], [0.8156862745098039, \"rgb(245,162,122)\"], [0.8784313725490196, \"rgb(246,188,153)\"], [0.9411764705882353, \"rgb(247,212,187)\"], [1.0, \"rgb(250,234,220)\"]], \"type\": \"surface\"}], \"table\": [{\"cells\": {\"fill\": {\"color\": \"rgb(231,231,240)\"}, \"line\": {\"color\": \"white\"}}, \"header\": {\"fill\": {\"color\": \"rgb(183,183,191)\"}, \"line\": {\"color\": \"white\"}}, \"type\": \"table\"}]}, \"layout\": {\"annotationdefaults\": {\"arrowcolor\": \"rgb(67,103,167)\"}, \"autotypenumbers\": \"strict\", \"coloraxis\": {\"colorbar\": {\"outlinewidth\": 0, \"tickcolor\": \"rgb(36,36,36)\", \"ticklen\": 8, \"ticks\": \"outside\", \"tickwidth\": 2}}, \"colorscale\": {\"sequential\": [[0.0, \"rgb(2,4,25)\"], [0.06274509803921569, \"rgb(24,15,41)\"], [0.12549019607843137, \"rgb(47,23,57)\"], [0.18823529411764706, \"rgb(71,28,72)\"], [0.25098039215686274, \"rgb(97,30,82)\"], [0.3137254901960784, \"rgb(123,30,89)\"], [0.3764705882352941, \"rgb(150,27,91)\"], [0.4392156862745098, \"rgb(177,22,88)\"], [0.5019607843137255, \"rgb(203,26,79)\"], [0.5647058823529412, \"rgb(223,47,67)\"], [0.6274509803921569, \"rgb(236,76,61)\"], [0.6901960784313725, \"rgb(242,107,73)\"], [0.7529411764705882, \"rgb(244,135,95)\"], [0.8156862745098039, \"rgb(245,162,122)\"], [0.8784313725490196, \"rgb(246,188,153)\"], [0.9411764705882353, \"rgb(247,212,187)\"], [1.0, \"rgb(250,234,220)\"]], \"sequentialminus\": [[0.0, \"rgb(2,4,25)\"], [0.06274509803921569, \"rgb(24,15,41)\"], [0.12549019607843137, \"rgb(47,23,57)\"], [0.18823529411764706, \"rgb(71,28,72)\"], [0.25098039215686274, \"rgb(97,30,82)\"], [0.3137254901960784, \"rgb(123,30,89)\"], [0.3764705882352941, \"rgb(150,27,91)\"], [0.4392156862745098, \"rgb(177,22,88)\"], [0.5019607843137255, \"rgb(203,26,79)\"], [0.5647058823529412, \"rgb(223,47,67)\"], [0.6274509803921569, \"rgb(236,76,61)\"], [0.6901960784313725, \"rgb(242,107,73)\"], [0.7529411764705882, \"rgb(244,135,95)\"], [0.8156862745098039, \"rgb(245,162,122)\"], [0.8784313725490196, \"rgb(246,188,153)\"], [0.9411764705882353, \"rgb(247,212,187)\"], [1.0, \"rgb(250,234,220)\"]]}, \"colorway\": [\"rgb(76,114,176)\", \"rgb(221,132,82)\", \"rgb(85,168,104)\", \"rgb(196,78,82)\", \"rgb(129,114,179)\", \"rgb(147,120,96)\", \"rgb(218,139,195)\", \"rgb(140,140,140)\", \"rgb(204,185,116)\", \"rgb(100,181,205)\"], \"font\": {\"color\": \"rgb(36,36,36)\"}, \"geo\": {\"bgcolor\": \"white\", \"lakecolor\": \"white\", \"landcolor\": \"rgb(234,234,242)\", \"showlakes\": true, \"showland\": true, \"subunitcolor\": \"white\"}, \"hoverlabel\": {\"align\": \"left\"}, \"hovermode\": \"closest\", \"paper_bgcolor\": \"white\", \"plot_bgcolor\": \"rgb(234,234,242)\", \"polar\": {\"angularaxis\": {\"gridcolor\": \"white\", \"linecolor\": \"white\", \"showgrid\": true, \"ticks\": \"\"}, \"bgcolor\": \"rgb(234,234,242)\", \"radialaxis\": {\"gridcolor\": \"white\", \"linecolor\": \"white\", \"showgrid\": true, \"ticks\": \"\"}}, \"scene\": {\"xaxis\": {\"backgroundcolor\": \"rgb(234,234,242)\", \"gridcolor\": \"white\", \"gridwidth\": 2, \"linecolor\": \"white\", \"showbackground\": true, \"showgrid\": true, \"ticks\": \"\", \"zerolinecolor\": \"white\"}, \"yaxis\": {\"backgroundcolor\": \"rgb(234,234,242)\", \"gridcolor\": \"white\", \"gridwidth\": 2, \"linecolor\": \"white\", \"showbackground\": true, \"showgrid\": true, \"ticks\": \"\", \"zerolinecolor\": \"white\"}, \"zaxis\": {\"backgroundcolor\": \"rgb(234,234,242)\", \"gridcolor\": \"white\", \"gridwidth\": 2, \"linecolor\": \"white\", \"showbackground\": true, \"showgrid\": true, \"ticks\": \"\", \"zerolinecolor\": \"white\"}}, \"shapedefaults\": {\"fillcolor\": \"rgb(67,103,167)\", \"line\": {\"width\": 0}, \"opacity\": 0.5}, \"ternary\": {\"aaxis\": {\"gridcolor\": \"white\", \"linecolor\": \"white\", \"showgrid\": true, \"ticks\": \"\"}, \"baxis\": {\"gridcolor\": \"white\", \"linecolor\": \"white\", \"showgrid\": true, \"ticks\": \"\"}, \"bgcolor\": \"rgb(234,234,242)\", \"caxis\": {\"gridcolor\": \"white\", \"linecolor\": \"white\", \"showgrid\": true, \"ticks\": \"\"}}, \"xaxis\": {\"automargin\": true, \"gridcolor\": \"white\", \"linecolor\": \"white\", \"showgrid\": true, \"ticks\": \"\", \"title\": {\"standoff\": 15}, \"zerolinecolor\": \"white\"}, \"yaxis\": {\"automargin\": true, \"gridcolor\": \"white\", \"linecolor\": \"white\", \"showgrid\": true, \"ticks\": \"\", \"title\": {\"standoff\": 15}, \"zerolinecolor\": \"white\"}}}, \"title\": {\"text\": \"\\ubd80\\uc11c/\\uacf5\\uc815\\ubcc4 \\uc791\\uc5c5\\ud45c\\uc900 \\ubd84\\ud3ec(\\ub85c\\uadf8 \\uc2a4\\ucf00\\uc77c)\"}, \"updatemenus\": [{\"buttons\": [{\"args\": [null, {\"frame\": {\"duration\": 250, \"redraw\": true}, \"fromcurrent\": true, \"mode\": \"immediate\", \"transition\": {\"duration\": 0}}], \"label\": \"Play\", \"method\": \"animate\"}], \"pad\": {\"r\": 10, \"t\": 45}, \"showactive\": false, \"type\": \"buttons\", \"x\": 0.8, \"xanchor\": \"left\", \"y\": 1, \"yanchor\": \"bottom\"}], \"width\": 1000},                        {\"responsive\": true}                    ).then(function(){\n",
       "                            Plotly.addFrames('e690a5c5-06c0-45c9-8fac-fa978661950f', [{\"layout\": {\"scene\": {\"camera\": {\"eye\": {\"x\": -1.25, \"y\": 2.0, \"z\": 0.5}}}}}, {\"layout\": {\"scene\": {\"camera\": {\"eye\": {\"x\": -1.0440883733038762, \"y\": 2.1148001013645867, \"z\": 0.5}}}}}, {\"layout\": {\"scene\": {\"camera\": {\"eye\": {\"x\": -0.8277445607114295, \"y\": 2.20846981917631, \"z\": 0.5}}}}}, {\"layout\": {\"scene\": {\"camera\": {\"eye\": {\"x\": -0.6031301980843282, \"y\": 2.2800732365778864, \"z\": 0.5}}}}}, {\"layout\": {\"scene\": {\"camera\": {\"eye\": {\"x\": -0.37248955788630533, \"y\": 2.3288949158915835, \"z\": 0.5}}}}}, {\"layout\": {\"scene\": {\"camera\": {\"eye\": {\"x\": -0.13812712515455994, \"y\": 2.3544470470359995, \"z\": 0.5}}}}}, {\"layout\": {\"scene\": {\"camera\": {\"eye\": {\"x\": 0.0976154281529733, \"y\": 2.3564743215631507, \"z\": 0.5}}}}}, {\"layout\": {\"scene\": {\"camera\": {\"eye\": {\"x\": 0.33238264036977183, \"y\": 2.3349564836160908, \"z\": 0.5}}}}}, {\"layout\": {\"scene\": {\"camera\": {\"eye\": {\"x\": 0.5638287951150889, \"y\": 2.290108532318734, \"z\": 0.5}}}}}, {\"layout\": {\"scene\": {\"camera\": {\"eye\": {\"x\": 0.7896413589166363, \"y\": 2.222378573575683, \"z\": 0.5}}}}}, {\"layout\": {\"scene\": {\"camera\": {\"eye\": {\"x\": 1.0075640872806182, \"y\": 2.13244334274615, \"z\": 0.5}}}}}, {\"layout\": {\"scene\": {\"camera\": {\"eye\": {\"x\": 1.215419568340899, \"y\": 2.021201442927949, \"z\": 0.5}}}}}, {\"layout\": {\"scene\": {\"camera\": {\"eye\": {\"x\": 1.411130978838611, \"y\": 1.8897643664123798, \"z\": 0.5}}}}}, {\"layout\": {\"scene\": {\"camera\": {\"eye\": {\"x\": 1.5927428350536517, \"y\": 1.7394453890206658, \"z\": 0.5}}}}}, {\"layout\": {\"scene\": {\"camera\": {\"eye\": {\"x\": 1.7584405313516194, \"y\": 1.571746448286057, \"z\": 0.5}}}}}, {\"layout\": {\"scene\": {\"camera\": {\"eye\": {\"x\": 1.9065684711234803, \"y\": 1.388343136590474, \"z\": 0.5}}}}}, {\"layout\": {\"scene\": {\"camera\": {\"eye\": {\"x\": 2.0356466089596212, \"y\": 1.1910679591993036, \"z\": 0.5}}}}}, {\"layout\": {\"scene\": {\"camera\": {\"eye\": {\"x\": 2.144385238774343, \"y\": 0.981892024474536, \"z\": 0.5}}}}}, {\"layout\": {\"scene\": {\"camera\": {\"eye\": {\"x\": 2.2316978801227494, \"y\": 0.7629053492115697, \"z\": 0.5}}}}}, {\"layout\": {\"scene\": {\"camera\": {\"eye\": {\"x\": 2.2967121339542085, \"y\": 0.5362959758822609, \"z\": 0.5}}}}}, {\"layout\": {\"scene\": {\"camera\": {\"eye\": {\"x\": 2.3387783993352915, \"y\": 0.3043281104378174, \"z\": 0.5}}}}}, {\"layout\": {\"scene\": {\"camera\": {\"eye\": {\"x\": 2.357476364047569, \"y\": 0.06931949911137703, \"z\": 0.5}}}}}, {\"layout\": {\"scene\": {\"camera\": {\"eye\": {\"x\": 2.3526192042083625, \"y\": -0.16638172973620402, \"z\": 0.5}}}}}, {\"layout\": {\"scene\": {\"camera\": {\"eye\": {\"x\": 2.3242554509532205, \"y\": -0.4004205273387489, \"z\": 0.5}}}}}, {\"layout\": {\"scene\": {\"camera\": {\"eye\": {\"x\": 2.2726685055288582, \"y\": -0.6304584553935533, \"z\": 0.5}}}}}, {\"layout\": {\"scene\": {\"camera\": {\"eye\": {\"x\": 2.19837380764158, \"y\": -0.8541970509639218, \"z\": 0.5}}}}}, {\"layout\": {\"scene\": {\"camera\": {\"eye\": {\"x\": 2.1021136853541122, \"y\": -1.0694007919610644, \"z\": 0.5}}}}}, {\"layout\": {\"scene\": {\"camera\": {\"eye\": {\"x\": 1.9848499379889861, \"y\": -1.2739194337418351, \"z\": 0.5}}}}}, {\"layout\": {\"scene\": {\"camera\": {\"eye\": {\"x\": 1.8477542261476323, \"y\": -1.4657094936424357, \"z\": 0.5}}}}}, {\"layout\": {\"scene\": {\"camera\": {\"eye\": {\"x\": 1.6921963648649523, \"y\": -1.6428546687817038, \"z\": 0.5}}}}}, {\"layout\": {\"scene\": {\"camera\": {\"eye\": {\"x\": 1.5197306368702912, \"y\": -1.8035849831260569, \"z\": 0.5}}}}}, {\"layout\": {\"scene\": {\"camera\": {\"eye\": {\"x\": 1.3320802627081803, \"y\": -1.9462944725049458, \"z\": 0.5}}}}}, {\"layout\": {\"scene\": {\"camera\": {\"eye\": {\"x\": 1.1311201828882813, \"y\": -2.0695572308739814, \"z\": 0.5}}}}}, {\"layout\": {\"scene\": {\"camera\": {\"eye\": {\"x\": 0.9188583240995838, \"y\": -2.1721416574967907, \"z\": 0.5}}}}}, {\"layout\": {\"scene\": {\"camera\": {\"eye\": {\"x\": 0.6974155366706627, \"y\": -2.2530227626924613, \"z\": 0.5}}}}}, {\"layout\": {\"scene\": {\"camera\": {\"eye\": {\"x\": 0.46900440373425567, \"y\": -2.3113924091936173, \"z\": 0.5}}}}}, {\"layout\": {\"scene\": {\"camera\": {\"eye\": {\"x\": 0.2359071338279789, \"y\": -2.3466673867868595, \"z\": 0.5}}}}}, {\"layout\": {\"scene\": {\"camera\": {\"eye\": {\"x\": 0.0004527578210231642, \"y\": -2.358495239556433, \"z\": 0.5}}}}}, {\"layout\": {\"scene\": {\"camera\": {\"eye\": {\"x\": -0.23500614199241787, \"y\": -2.346757787507232, \"z\": 0.5}}}}}, {\"layout\": {\"scene\": {\"camera\": {\"eye\": {\"x\": -0.46811693811777333, \"y\": -2.3115723073802474, \"z\": 0.5}}}}}, {\"layout\": {\"scene\": {\"camera\": {\"eye\": {\"x\": -0.6965504645363415, \"y\": -2.253290360862134, \"z\": 0.5}}}}}, {\"layout\": {\"scene\": {\"camera\": {\"eye\": {\"x\": -0.918024288962236, \"y\": -2.1724942818970505, \"z\": 0.5}}}}}, {\"layout\": {\"scene\": {\"camera\": {\"eye\": {\"x\": -1.1303255181513021, \"y\": -2.069991358198384, \"z\": 0.5}}}}}, {\"layout\": {\"scene\": {\"camera\": {\"eye\": {\"x\": -1.3313329083989405, \"y\": -1.9468057650967694, \"z\": 0.5}}}}}, {\"layout\": {\"scene\": {\"camera\": {\"eye\": {\"x\": -1.519038060306008, \"y\": -1.8041683323187339, \"z\": 0.5}}}}}, {\"layout\": {\"scene\": {\"camera\": {\"eye\": {\"x\": -1.6915654860417195, \"y\": -1.6435042459429305, \"z\": 0.5}}}}}, {\"layout\": {\"scene\": {\"camera\": {\"eye\": {\"x\": -1.8471913485981115, \"y\": -1.4664188084119385, \"z\": 0.5}}}}}, {\"layout\": {\"scene\": {\"camera\": {\"eye\": {\"x\": -1.9843606857995884, \"y\": -1.2746813988809071, \"z\": 0.5}}}}}, {\"layout\": {\"scene\": {\"camera\": {\"eye\": {\"x\": -2.10170294697099, \"y\": -1.070207794165906, \"z\": 0.5}}}}}, {\"layout\": {\"scene\": {\"camera\": {\"eye\": {\"x\": -2.1980456870268847, \"y\": -0.855041026935264, \"z\": 0.5}}}}}, {\"layout\": {\"scene\": {\"camera\": {\"eye\": {\"x\": -2.2724262811553095, \"y\": -0.6313309724024706, \"z\": 0.5}}}}}, {\"layout\": {\"scene\": {\"camera\": {\"eye\": {\"x\": -2.3241015430466905, \"y\": -0.4013128674837031, \"z\": 0.5}}}}}, {\"layout\": {\"scene\": {\"camera\": {\"eye\": {\"x\": -2.352555150565778, \"y\": -0.16728497704943712, \"z\": 0.5}}}}}, {\"layout\": {\"scene\": {\"camera\": {\"eye\": {\"x\": -2.3575028046717534, \"y\": 0.06841436957844715, \"z\": 0.5}}}}}, {\"layout\": {\"scene\": {\"camera\": {\"eye\": {\"x\": -2.3388950700402678, \"y\": 0.30343014244028543, \"z\": 0.5}}}}}, {\"layout\": {\"scene\": {\"camera\": {\"eye\": {\"x\": -2.296917869004859, \"y\": 0.53541414161953, \"z\": 0.5}}}}}, {\"layout\": {\"scene\": {\"camera\": {\"eye\": {\"x\": -2.2319906238824543, \"y\": 0.7620484596800993, \"z\": 0.5}}}}}, {\"layout\": {\"scene\": {\"camera\": {\"eye\": {\"x\": -2.144762066244225, \"y\": 0.9810686414312726, \"z\": 0.5}}}}}, {\"layout\": {\"scene\": {\"camera\": {\"eye\": {\"x\": -2.036103755004162, \"y\": 1.190286309615443, \"z\": 0.5}}}}}, {\"layout\": {\"scene\": {\"camera\": {\"eye\": {\"x\": -1.9071013680905171, \"y\": 1.3876110304502767, \"z\": 0.5}}}}}, {\"layout\": {\"scene\": {\"camera\": {\"eye\": {\"x\": -1.7590438547108092, \"y\": 1.5710712005520746, \"z\": 0.5}}}}}, {\"layout\": {\"scene\": {\"camera\": {\"eye\": {\"x\": -1.5934105565974208, \"y\": 1.7388337465450507, \"z\": 0.5}}}}}, {\"layout\": {\"scene\": {\"camera\": {\"eye\": {\"x\": -1.4118564269140148, \"y\": 1.8892224405245646, \"z\": 0.5}}}}}]);\n",
       "                        }).then(function(){\n",
       "                            \n",
       "var gd = document.getElementById('e690a5c5-06c0-45c9-8fac-fa978661950f');\n",
       "var x = new MutationObserver(function (mutations, observer) {{\n",
       "        var display = window.getComputedStyle(gd).display;\n",
       "        if (!display || display === 'none') {{\n",
       "            console.log([gd, 'removed!']);\n",
       "            Plotly.purge(gd);\n",
       "            observer.disconnect();\n",
       "        }}\n",
       "}});\n",
       "\n",
       "// Listen for the removal of the full notebook cells\n",
       "var notebookContainer = gd.closest('#notebook-container');\n",
       "if (notebookContainer) {{\n",
       "    x.observe(notebookContainer, {childList: true});\n",
       "}}\n",
       "\n",
       "// Listen for the clearing of the current output cell\n",
       "var outputEl = gd.closest('.output');\n",
       "if (outputEl) {{\n",
       "    x.observe(outputEl, {childList: true});\n",
       "}}\n",
       "\n",
       "                        })                };                });            </script>        </div>"
      ]
     },
     "metadata": {},
     "output_type": "display_data"
    }
   ],
   "source": [
    "# Use for animation rotation\n",
    "fig.update_layout(scene_camera_eye=dict(x=x_eye, y=y_eye, z=z_eye),\n",
    "                  updatemenus=[dict(type='buttons',\n",
    "                                    showactive=False,\n",
    "                                    y=1,\n",
    "                                    x=0.8,\n",
    "                                    xanchor='left',\n",
    "                                    yanchor='bottom',\n",
    "                                    pad=dict(t=45, r=10),\n",
    "                                    buttons=[dict(label='Play',\n",
    "                                                  method='animate',\n",
    "                                                  args=[None, dict(frame=dict(duration=250, redraw=True),\n",
    "                                                                   transition=dict(duration=0),\n",
    "                                                                   fromcurrent=True,\n",
    "                                                                   mode='immediate'\n",
    "                                                                   )]\n",
    "                                                  )\n",
    "                                             ]\n",
    "                                    )\n",
    "                               ]\n",
    "                  )\n",
    "\n",
    "def rotate_z(x, y, z, theta):\n",
    "    w = x + 1j * y\n",
    "    return np.real(np.exp(1j * theta) * w), np.imag(np.exp(1j * theta) * w), z\n",
    "\n",
    "frames = []\n",
    "\n",
    "for t in np.arange(0, 6.26, 0.1):\n",
    "    xe, ye, ze = rotate_z(x_eye, y_eye, z_eye, -t)\n",
    "    frames.append(go.Frame(layout=dict(scene_camera_eye=dict(x=xe, y=ye, z=ze))))\n",
    "fig.frames = frames\n",
    "\n",
    "\n",
    "fig.write_html(\"./results/My3dPlot.html\")\n",
    "pio.show(fig)\n"
   ]
  },
  {
   "cell_type": "code",
   "execution_count": null,
   "metadata": {},
   "outputs": [],
   "source": []
  },
  {
   "cell_type": "markdown",
   "metadata": {},
   "source": [
    "# Graph Object 방식"
   ]
  },
  {
   "cell_type": "code",
   "execution_count": 102,
   "metadata": {},
   "outputs": [],
   "source": [
    "# trace1 = go.Scatter3d(\n",
    "#     x=dff3['부서'],\n",
    "#     y=dff3['대구분'],\n",
    "#     z=dff3['WORK_ACT'],\n",
    "#     mode='markers+text',\n",
    "#     text=dff2['WORK_ACT'],\n",
    "#     marker = dict(\n",
    "    \n",
    "#     size=dff2['WORK_ACT'], \n",
    "#     color=dff2[\"WORK_ACT\"],\n",
    "#     colorscale='Viridis',\n",
    "#     opacity=0.5,\n",
    "#     showscale=True))\n",
    "\n",
    "# data = [trace1]\n",
    "\n",
    "# layout = go.Layout(\n",
    "#     margin = dict(l=0, r=0, b=0, t=0),\n",
    "#     )"
   ]
  },
  {
   "cell_type": "code",
   "execution_count": 104,
   "metadata": {},
   "outputs": [],
   "source": [
    "# fig = go.Figure(data=data, layout=layout)\n",
    "# fig.show()\n",
    "# fig.write_html(\"./results/test9_3d.html\")"
   ]
  },
  {
   "cell_type": "code",
   "execution_count": null,
   "metadata": {},
   "outputs": [],
   "source": []
  }
 ],
 "metadata": {
  "kernelspec": {
   "display_name": "Python 3",
   "language": "python",
   "name": "python3"
  },
  "language_info": {
   "codemirror_mode": {
    "name": "ipython",
    "version": 3
   },
   "file_extension": ".py",
   "mimetype": "text/x-python",
   "name": "python",
   "nbconvert_exporter": "python",
   "pygments_lexer": "ipython3",
   "version": "3.7.7"
  }
 },
 "nbformat": 4,
 "nbformat_minor": 4
}
