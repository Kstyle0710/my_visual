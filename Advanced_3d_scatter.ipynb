{
 "cells": [
  {
   "cell_type": "code",
   "execution_count": 1,
   "metadata": {},
   "outputs": [],
   "source": [
    "import pandas as pd\n",
    "import plotly.express as px\n",
    "import plotly.io as pio\n",
    "import numpy as np\n",
    "import plotly.graph_objects as go"
   ]
  },
  {
   "cell_type": "code",
   "execution_count": 2,
   "metadata": {},
   "outputs": [],
   "source": [
    "# Use for animation rotation at the end\n",
    "x_eye = -1.25\n",
    "y_eye = 2\n",
    "z_eye = 0.5"
   ]
  },
  {
   "cell_type": "code",
   "execution_count": 9,
   "metadata": {},
   "outputs": [
    {
     "data": {
      "text/html": [
       "<div>\n",
       "<style scoped>\n",
       "    .dataframe tbody tr th:only-of-type {\n",
       "        vertical-align: middle;\n",
       "    }\n",
       "\n",
       "    .dataframe tbody tr th {\n",
       "        vertical-align: top;\n",
       "    }\n",
       "\n",
       "    .dataframe thead th {\n",
       "        text-align: right;\n",
       "    }\n",
       "</style>\n",
       "<table border=\"1\" class=\"dataframe\">\n",
       "  <thead>\n",
       "    <tr style=\"text-align: right;\">\n",
       "      <th></th>\n",
       "      <th>대구분</th>\n",
       "      <th>부서</th>\n",
       "      <th>작업표준</th>\n",
       "      <th>작업행동</th>\n",
       "      <th>위험벡터</th>\n",
       "    </tr>\n",
       "  </thead>\n",
       "  <tbody>\n",
       "    <tr>\n",
       "      <th>0</th>\n",
       "      <td>가공</td>\n",
       "      <td>가공소조립부</td>\n",
       "      <td>가공1표준</td>\n",
       "      <td>가공행동1</td>\n",
       "      <td>1</td>\n",
       "    </tr>\n",
       "    <tr>\n",
       "      <th>1</th>\n",
       "      <td>가공</td>\n",
       "      <td>가공소조립부</td>\n",
       "      <td>가공1표준</td>\n",
       "      <td>가공행동2</td>\n",
       "      <td>2</td>\n",
       "    </tr>\n",
       "    <tr>\n",
       "      <th>2</th>\n",
       "      <td>가공</td>\n",
       "      <td>가공소조립부</td>\n",
       "      <td>전처리1</td>\n",
       "      <td>전처리행동1</td>\n",
       "      <td>1</td>\n",
       "    </tr>\n",
       "    <tr>\n",
       "      <th>3</th>\n",
       "      <td>가공</td>\n",
       "      <td>가공소조립부</td>\n",
       "      <td>전처리1</td>\n",
       "      <td>전처리행동2</td>\n",
       "      <td>3</td>\n",
       "    </tr>\n",
       "    <tr>\n",
       "      <th>4</th>\n",
       "      <td>선행의장</td>\n",
       "      <td>가공소조립부</td>\n",
       "      <td>선의1표준</td>\n",
       "      <td>선의행동1</td>\n",
       "      <td>1</td>\n",
       "    </tr>\n",
       "    <tr>\n",
       "      <th>5</th>\n",
       "      <td>선행의장</td>\n",
       "      <td>가공소조립부</td>\n",
       "      <td>선의1표준</td>\n",
       "      <td>선의행동2</td>\n",
       "      <td>3</td>\n",
       "    </tr>\n",
       "    <tr>\n",
       "      <th>6</th>\n",
       "      <td>선행의장</td>\n",
       "      <td>가공소조립부</td>\n",
       "      <td>선의1표준</td>\n",
       "      <td>선의행동3</td>\n",
       "      <td>0</td>\n",
       "    </tr>\n",
       "    <tr>\n",
       "      <th>7</th>\n",
       "      <td>판넬</td>\n",
       "      <td>판넬조립부</td>\n",
       "      <td>판계1표준</td>\n",
       "      <td>판계행동1</td>\n",
       "      <td>2</td>\n",
       "    </tr>\n",
       "    <tr>\n",
       "      <th>8</th>\n",
       "      <td>판넬</td>\n",
       "      <td>판넬조립부</td>\n",
       "      <td>판계1표준</td>\n",
       "      <td>판계행동2</td>\n",
       "      <td>1</td>\n",
       "    </tr>\n",
       "    <tr>\n",
       "      <th>9</th>\n",
       "      <td>판넬</td>\n",
       "      <td>판넬조립부</td>\n",
       "      <td>판계1표준</td>\n",
       "      <td>판계행동3</td>\n",
       "      <td>0</td>\n",
       "    </tr>\n",
       "    <tr>\n",
       "      <th>10</th>\n",
       "      <td>판넬</td>\n",
       "      <td>판넬조립부</td>\n",
       "      <td>판계1표준</td>\n",
       "      <td>판계행동4</td>\n",
       "      <td>3</td>\n",
       "    </tr>\n",
       "    <tr>\n",
       "      <th>11</th>\n",
       "      <td>판넬</td>\n",
       "      <td>판넬조립부</td>\n",
       "      <td>판계1표준</td>\n",
       "      <td>판계행동5</td>\n",
       "      <td>1</td>\n",
       "    </tr>\n",
       "    <tr>\n",
       "      <th>12</th>\n",
       "      <td>판넬</td>\n",
       "      <td>판넬조립부</td>\n",
       "      <td>평조1표준</td>\n",
       "      <td>평조행동1</td>\n",
       "      <td>1</td>\n",
       "    </tr>\n",
       "    <tr>\n",
       "      <th>13</th>\n",
       "      <td>판넬</td>\n",
       "      <td>판넬조립부</td>\n",
       "      <td>평조1표준</td>\n",
       "      <td>평조행동2</td>\n",
       "      <td>0</td>\n",
       "    </tr>\n",
       "    <tr>\n",
       "      <th>14</th>\n",
       "      <td>판넬</td>\n",
       "      <td>판넬조립부</td>\n",
       "      <td>평조1표준</td>\n",
       "      <td>평조행동3</td>\n",
       "      <td>0</td>\n",
       "    </tr>\n",
       "    <tr>\n",
       "      <th>15</th>\n",
       "      <td>판넬</td>\n",
       "      <td>판넬조립부</td>\n",
       "      <td>평조1표준</td>\n",
       "      <td>평조행동4</td>\n",
       "      <td>2</td>\n",
       "    </tr>\n",
       "    <tr>\n",
       "      <th>16</th>\n",
       "      <td>판넬</td>\n",
       "      <td>판넬조립부</td>\n",
       "      <td>평조1표준</td>\n",
       "      <td>평조행동5</td>\n",
       "      <td>4</td>\n",
       "    </tr>\n",
       "    <tr>\n",
       "      <th>17</th>\n",
       "      <td>선행의장</td>\n",
       "      <td>판넬조립부</td>\n",
       "      <td>선의1표준</td>\n",
       "      <td>선의행동1</td>\n",
       "      <td>1</td>\n",
       "    </tr>\n",
       "    <tr>\n",
       "      <th>18</th>\n",
       "      <td>선행의장</td>\n",
       "      <td>판넬조립부</td>\n",
       "      <td>선의1표준</td>\n",
       "      <td>선의행동2</td>\n",
       "      <td>1</td>\n",
       "    </tr>\n",
       "    <tr>\n",
       "      <th>19</th>\n",
       "      <td>선행의장</td>\n",
       "      <td>판넬조립부</td>\n",
       "      <td>선의1표준</td>\n",
       "      <td>선의행동3</td>\n",
       "      <td>0</td>\n",
       "    </tr>\n",
       "    <tr>\n",
       "      <th>20</th>\n",
       "      <td>선행의장</td>\n",
       "      <td>판넬조립부</td>\n",
       "      <td>선의1표준</td>\n",
       "      <td>선의행동4</td>\n",
       "      <td>0</td>\n",
       "    </tr>\n",
       "    <tr>\n",
       "      <th>21</th>\n",
       "      <td>선행의장</td>\n",
       "      <td>판넬조립부</td>\n",
       "      <td>선의1표준</td>\n",
       "      <td>선의행동5</td>\n",
       "      <td>2</td>\n",
       "    </tr>\n",
       "    <tr>\n",
       "      <th>22</th>\n",
       "      <td>선행의장</td>\n",
       "      <td>판넬조립부</td>\n",
       "      <td>선의1표준</td>\n",
       "      <td>선의행동6</td>\n",
       "      <td>0</td>\n",
       "    </tr>\n",
       "  </tbody>\n",
       "</table>\n",
       "</div>"
      ],
      "text/plain": [
       "     대구분      부서   작업표준    작업행동  위험벡터\n",
       "0     가공  가공소조립부  가공1표준   가공행동1     1\n",
       "1     가공  가공소조립부  가공1표준   가공행동2     2\n",
       "2     가공  가공소조립부   전처리1  전처리행동1     1\n",
       "3     가공  가공소조립부   전처리1  전처리행동2     3\n",
       "4   선행의장  가공소조립부  선의1표준   선의행동1     1\n",
       "5   선행의장  가공소조립부  선의1표준   선의행동2     3\n",
       "6   선행의장  가공소조립부  선의1표준   선의행동3     0\n",
       "7     판넬   판넬조립부  판계1표준   판계행동1     2\n",
       "8     판넬   판넬조립부  판계1표준   판계행동2     1\n",
       "9     판넬   판넬조립부  판계1표준   판계행동3     0\n",
       "10    판넬   판넬조립부  판계1표준   판계행동4     3\n",
       "11    판넬   판넬조립부  판계1표준   판계행동5     1\n",
       "12    판넬   판넬조립부  평조1표준   평조행동1     1\n",
       "13    판넬   판넬조립부  평조1표준   평조행동2     0\n",
       "14    판넬   판넬조립부  평조1표준   평조행동3     0\n",
       "15    판넬   판넬조립부  평조1표준   평조행동4     2\n",
       "16    판넬   판넬조립부  평조1표준   평조행동5     4\n",
       "17  선행의장   판넬조립부  선의1표준   선의행동1     1\n",
       "18  선행의장   판넬조립부  선의1표준   선의행동2     1\n",
       "19  선행의장   판넬조립부  선의1표준   선의행동3     0\n",
       "20  선행의장   판넬조립부  선의1표준   선의행동4     0\n",
       "21  선행의장   판넬조립부  선의1표준   선의행동5     2\n",
       "22  선행의장   판넬조립부  선의1표준   선의행동6     0"
      ]
     },
     "execution_count": 9,
     "metadata": {},
     "output_type": "execute_result"
    }
   ],
   "source": [
    "df = pd.read_excel('./source/ws_sample.xlsx')\n",
    "df\n",
    "\n",
    "# df = df[df['Year'].isin(['2010'])]\n",
    "# df = df[df['Continent'].isin(['Africa', 'Europe'])]\n",
    "# # df = df[df['Year'].isin(['1990','1995','2000','2005','2010'])]\n",
    "# df['resized_pop'] = df['population'] / 100000000  # use for size parameter"
   ]
  },
  {
   "cell_type": "code",
   "execution_count": 16,
   "metadata": {},
   "outputs": [
    {
     "data": {
      "text/html": [
       "<div>\n",
       "<style scoped>\n",
       "    .dataframe tbody tr th:only-of-type {\n",
       "        vertical-align: middle;\n",
       "    }\n",
       "\n",
       "    .dataframe tbody tr th {\n",
       "        vertical-align: top;\n",
       "    }\n",
       "\n",
       "    .dataframe thead th {\n",
       "        text-align: right;\n",
       "    }\n",
       "</style>\n",
       "<table border=\"1\" class=\"dataframe\">\n",
       "  <thead>\n",
       "    <tr style=\"text-align: right;\">\n",
       "      <th></th>\n",
       "      <th>대구분</th>\n",
       "      <th>부서</th>\n",
       "      <th>작업행동</th>\n",
       "    </tr>\n",
       "  </thead>\n",
       "  <tbody>\n",
       "    <tr>\n",
       "      <th>0</th>\n",
       "      <td>가공</td>\n",
       "      <td>가공소조립부</td>\n",
       "      <td>4</td>\n",
       "    </tr>\n",
       "    <tr>\n",
       "      <th>1</th>\n",
       "      <td>선행의장</td>\n",
       "      <td>가공소조립부</td>\n",
       "      <td>3</td>\n",
       "    </tr>\n",
       "    <tr>\n",
       "      <th>2</th>\n",
       "      <td>선행의장</td>\n",
       "      <td>판넬조립부</td>\n",
       "      <td>6</td>\n",
       "    </tr>\n",
       "    <tr>\n",
       "      <th>3</th>\n",
       "      <td>판넬</td>\n",
       "      <td>판넬조립부</td>\n",
       "      <td>10</td>\n",
       "    </tr>\n",
       "  </tbody>\n",
       "</table>\n",
       "</div>"
      ],
      "text/plain": [
       "    대구분      부서  작업행동\n",
       "0    가공  가공소조립부     4\n",
       "1  선행의장  가공소조립부     3\n",
       "2  선행의장   판넬조립부     6\n",
       "3    판넬   판넬조립부    10"
      ]
     },
     "execution_count": 16,
     "metadata": {},
     "output_type": "execute_result"
    }
   ],
   "source": [
    "dff = df.groupby(['대구분', '부서'], as_index=False)['작업행동'].count()\n",
    "dff"
   ]
  },
  {
   "cell_type": "code",
   "execution_count": 43,
   "metadata": {},
   "outputs": [
    {
     "data": {
      "application/vnd.plotly.v1+json": {
       "config": {
        "plotlyServerURL": "https://plotly.com"
       },
       "data": [
        {
         "customdata": [
          [
           "가공"
          ]
         ],
         "hovertemplate": "<b>%{hovertext}</b><br><br>부서=%{x}<br>작업행동1=%{marker.size}<extra></extra>",
         "hovertext": [
          "가공"
         ],
         "legendgroup": "가공소조립부, 가공",
         "marker": {
          "color": "magenta",
          "size": [
           4
          ],
          "sizemode": "area",
          "sizeref": 0.025,
          "symbol": "circle"
         },
         "mode": "markers",
         "name": "가공소조립부, 가공",
         "scene": "scene",
         "showlegend": true,
         "type": "scatter3d",
         "x": [
          "가공소조립부"
         ],
         "y": [
          "가공"
         ],
         "z": [
          4
         ]
        },
        {
         "customdata": [
          [
           "선행의장"
          ]
         ],
         "hovertemplate": "<b>%{hovertext}</b><br><br>부서=%{x}<br>작업행동1=%{marker.size}<extra></extra>",
         "hovertext": [
          "선행의장"
         ],
         "legendgroup": "가공소조립부, 선행의장",
         "marker": {
          "color": "magenta",
          "size": [
           3
          ],
          "sizemode": "area",
          "sizeref": 0.025,
          "symbol": "diamond"
         },
         "mode": "markers",
         "name": "가공소조립부, 선행의장",
         "scene": "scene",
         "showlegend": true,
         "type": "scatter3d",
         "x": [
          "가공소조립부"
         ],
         "y": [
          "선행의장"
         ],
         "z": [
          3
         ]
        },
        {
         "customdata": [
          [
           "선행의장"
          ]
         ],
         "hovertemplate": "<b>%{hovertext}</b><br><br>부서=%{x}<br>작업행동1=%{marker.size}<extra></extra>",
         "hovertext": [
          "선행의장"
         ],
         "legendgroup": "판넬조립부, 선행의장",
         "marker": {
          "color": "green",
          "size": [
           6
          ],
          "sizemode": "area",
          "sizeref": 0.025,
          "symbol": "diamond"
         },
         "mode": "markers",
         "name": "판넬조립부, 선행의장",
         "scene": "scene",
         "showlegend": true,
         "type": "scatter3d",
         "x": [
          "판넬조립부"
         ],
         "y": [
          "선행의장"
         ],
         "z": [
          6
         ]
        },
        {
         "customdata": [
          [
           "판넬"
          ]
         ],
         "hovertemplate": "<b>%{hovertext}</b><br><br>부서=%{x}<br>작업행동1=%{marker.size}<extra></extra>",
         "hovertext": [
          "판넬"
         ],
         "legendgroup": "판넬조립부, 판넬",
         "marker": {
          "color": "green",
          "size": [
           10
          ],
          "sizemode": "area",
          "sizeref": 0.025,
          "symbol": "square"
         },
         "mode": "markers",
         "name": "판넬조립부, 판넬",
         "scene": "scene",
         "showlegend": true,
         "type": "scatter3d",
         "x": [
          "판넬조립부"
         ],
         "y": [
          "판넬"
         ],
         "z": [
          10
         ]
        }
       ],
       "layout": {
        "height": 700,
        "legend": {
         "itemsizing": "constant",
         "title": {
          "text": "부서, 대구분"
         },
         "tracegroupgap": 0
        },
        "scene": {
         "domain": {
          "x": [
           0,
           1
          ],
          "y": [
           0,
           1
          ]
         },
         "xaxis": {
          "categoryarray": [
           "가공소조립부",
           "판넬조립부"
          ],
          "categoryorder": "array",
          "title": {
           "text": "부서"
          }
         },
         "yaxis": {
          "categoryarray": [
           "가공",
           "선행의장",
           "판넬"
          ],
          "categoryorder": "array",
          "title": {
           "text": "대구분"
          }
         },
         "zaxis": {
          "title": {
           "text": "작업행동1"
          }
         }
        },
        "template": {
         "data": {
          "bar": [
           {
            "error_x": {
             "color": "#f2f5fa"
            },
            "error_y": {
             "color": "#f2f5fa"
            },
            "marker": {
             "line": {
              "color": "rgb(17,17,17)",
              "width": 0.5
             }
            },
            "type": "bar"
           }
          ],
          "barpolar": [
           {
            "marker": {
             "line": {
              "color": "rgb(17,17,17)",
              "width": 0.5
             }
            },
            "type": "barpolar"
           }
          ],
          "carpet": [
           {
            "aaxis": {
             "endlinecolor": "#A2B1C6",
             "gridcolor": "#506784",
             "linecolor": "#506784",
             "minorgridcolor": "#506784",
             "startlinecolor": "#A2B1C6"
            },
            "baxis": {
             "endlinecolor": "#A2B1C6",
             "gridcolor": "#506784",
             "linecolor": "#506784",
             "minorgridcolor": "#506784",
             "startlinecolor": "#A2B1C6"
            },
            "type": "carpet"
           }
          ],
          "choropleth": [
           {
            "colorbar": {
             "outlinewidth": 0,
             "ticks": ""
            },
            "type": "choropleth"
           }
          ],
          "contour": [
           {
            "colorbar": {
             "outlinewidth": 0,
             "ticks": ""
            },
            "colorscale": [
             [
              0,
              "#0d0887"
             ],
             [
              0.1111111111111111,
              "#46039f"
             ],
             [
              0.2222222222222222,
              "#7201a8"
             ],
             [
              0.3333333333333333,
              "#9c179e"
             ],
             [
              0.4444444444444444,
              "#bd3786"
             ],
             [
              0.5555555555555556,
              "#d8576b"
             ],
             [
              0.6666666666666666,
              "#ed7953"
             ],
             [
              0.7777777777777778,
              "#fb9f3a"
             ],
             [
              0.8888888888888888,
              "#fdca26"
             ],
             [
              1,
              "#f0f921"
             ]
            ],
            "type": "contour"
           }
          ],
          "contourcarpet": [
           {
            "colorbar": {
             "outlinewidth": 0,
             "ticks": ""
            },
            "type": "contourcarpet"
           }
          ],
          "heatmap": [
           {
            "colorbar": {
             "outlinewidth": 0,
             "ticks": ""
            },
            "colorscale": [
             [
              0,
              "#0d0887"
             ],
             [
              0.1111111111111111,
              "#46039f"
             ],
             [
              0.2222222222222222,
              "#7201a8"
             ],
             [
              0.3333333333333333,
              "#9c179e"
             ],
             [
              0.4444444444444444,
              "#bd3786"
             ],
             [
              0.5555555555555556,
              "#d8576b"
             ],
             [
              0.6666666666666666,
              "#ed7953"
             ],
             [
              0.7777777777777778,
              "#fb9f3a"
             ],
             [
              0.8888888888888888,
              "#fdca26"
             ],
             [
              1,
              "#f0f921"
             ]
            ],
            "type": "heatmap"
           }
          ],
          "heatmapgl": [
           {
            "colorbar": {
             "outlinewidth": 0,
             "ticks": ""
            },
            "colorscale": [
             [
              0,
              "#0d0887"
             ],
             [
              0.1111111111111111,
              "#46039f"
             ],
             [
              0.2222222222222222,
              "#7201a8"
             ],
             [
              0.3333333333333333,
              "#9c179e"
             ],
             [
              0.4444444444444444,
              "#bd3786"
             ],
             [
              0.5555555555555556,
              "#d8576b"
             ],
             [
              0.6666666666666666,
              "#ed7953"
             ],
             [
              0.7777777777777778,
              "#fb9f3a"
             ],
             [
              0.8888888888888888,
              "#fdca26"
             ],
             [
              1,
              "#f0f921"
             ]
            ],
            "type": "heatmapgl"
           }
          ],
          "histogram": [
           {
            "marker": {
             "colorbar": {
              "outlinewidth": 0,
              "ticks": ""
             }
            },
            "type": "histogram"
           }
          ],
          "histogram2d": [
           {
            "colorbar": {
             "outlinewidth": 0,
             "ticks": ""
            },
            "colorscale": [
             [
              0,
              "#0d0887"
             ],
             [
              0.1111111111111111,
              "#46039f"
             ],
             [
              0.2222222222222222,
              "#7201a8"
             ],
             [
              0.3333333333333333,
              "#9c179e"
             ],
             [
              0.4444444444444444,
              "#bd3786"
             ],
             [
              0.5555555555555556,
              "#d8576b"
             ],
             [
              0.6666666666666666,
              "#ed7953"
             ],
             [
              0.7777777777777778,
              "#fb9f3a"
             ],
             [
              0.8888888888888888,
              "#fdca26"
             ],
             [
              1,
              "#f0f921"
             ]
            ],
            "type": "histogram2d"
           }
          ],
          "histogram2dcontour": [
           {
            "colorbar": {
             "outlinewidth": 0,
             "ticks": ""
            },
            "colorscale": [
             [
              0,
              "#0d0887"
             ],
             [
              0.1111111111111111,
              "#46039f"
             ],
             [
              0.2222222222222222,
              "#7201a8"
             ],
             [
              0.3333333333333333,
              "#9c179e"
             ],
             [
              0.4444444444444444,
              "#bd3786"
             ],
             [
              0.5555555555555556,
              "#d8576b"
             ],
             [
              0.6666666666666666,
              "#ed7953"
             ],
             [
              0.7777777777777778,
              "#fb9f3a"
             ],
             [
              0.8888888888888888,
              "#fdca26"
             ],
             [
              1,
              "#f0f921"
             ]
            ],
            "type": "histogram2dcontour"
           }
          ],
          "mesh3d": [
           {
            "colorbar": {
             "outlinewidth": 0,
             "ticks": ""
            },
            "type": "mesh3d"
           }
          ],
          "parcoords": [
           {
            "line": {
             "colorbar": {
              "outlinewidth": 0,
              "ticks": ""
             }
            },
            "type": "parcoords"
           }
          ],
          "pie": [
           {
            "automargin": true,
            "type": "pie"
           }
          ],
          "scatter": [
           {
            "marker": {
             "line": {
              "color": "#283442"
             }
            },
            "type": "scatter"
           }
          ],
          "scatter3d": [
           {
            "line": {
             "colorbar": {
              "outlinewidth": 0,
              "ticks": ""
             }
            },
            "marker": {
             "colorbar": {
              "outlinewidth": 0,
              "ticks": ""
             }
            },
            "type": "scatter3d"
           }
          ],
          "scattercarpet": [
           {
            "marker": {
             "colorbar": {
              "outlinewidth": 0,
              "ticks": ""
             }
            },
            "type": "scattercarpet"
           }
          ],
          "scattergeo": [
           {
            "marker": {
             "colorbar": {
              "outlinewidth": 0,
              "ticks": ""
             }
            },
            "type": "scattergeo"
           }
          ],
          "scattergl": [
           {
            "marker": {
             "line": {
              "color": "#283442"
             }
            },
            "type": "scattergl"
           }
          ],
          "scattermapbox": [
           {
            "marker": {
             "colorbar": {
              "outlinewidth": 0,
              "ticks": ""
             }
            },
            "type": "scattermapbox"
           }
          ],
          "scatterpolar": [
           {
            "marker": {
             "colorbar": {
              "outlinewidth": 0,
              "ticks": ""
             }
            },
            "type": "scatterpolar"
           }
          ],
          "scatterpolargl": [
           {
            "marker": {
             "colorbar": {
              "outlinewidth": 0,
              "ticks": ""
             }
            },
            "type": "scatterpolargl"
           }
          ],
          "scatterternary": [
           {
            "marker": {
             "colorbar": {
              "outlinewidth": 0,
              "ticks": ""
             }
            },
            "type": "scatterternary"
           }
          ],
          "surface": [
           {
            "colorbar": {
             "outlinewidth": 0,
             "ticks": ""
            },
            "colorscale": [
             [
              0,
              "#0d0887"
             ],
             [
              0.1111111111111111,
              "#46039f"
             ],
             [
              0.2222222222222222,
              "#7201a8"
             ],
             [
              0.3333333333333333,
              "#9c179e"
             ],
             [
              0.4444444444444444,
              "#bd3786"
             ],
             [
              0.5555555555555556,
              "#d8576b"
             ],
             [
              0.6666666666666666,
              "#ed7953"
             ],
             [
              0.7777777777777778,
              "#fb9f3a"
             ],
             [
              0.8888888888888888,
              "#fdca26"
             ],
             [
              1,
              "#f0f921"
             ]
            ],
            "type": "surface"
           }
          ],
          "table": [
           {
            "cells": {
             "fill": {
              "color": "#506784"
             },
             "line": {
              "color": "rgb(17,17,17)"
             }
            },
            "header": {
             "fill": {
              "color": "#2a3f5f"
             },
             "line": {
              "color": "rgb(17,17,17)"
             }
            },
            "type": "table"
           }
          ]
         },
         "layout": {
          "annotationdefaults": {
           "arrowcolor": "#f2f5fa",
           "arrowhead": 0,
           "arrowwidth": 1
          },
          "autotypenumbers": "strict",
          "coloraxis": {
           "colorbar": {
            "outlinewidth": 0,
            "ticks": ""
           }
          },
          "colorscale": {
           "diverging": [
            [
             0,
             "#8e0152"
            ],
            [
             0.1,
             "#c51b7d"
            ],
            [
             0.2,
             "#de77ae"
            ],
            [
             0.3,
             "#f1b6da"
            ],
            [
             0.4,
             "#fde0ef"
            ],
            [
             0.5,
             "#f7f7f7"
            ],
            [
             0.6,
             "#e6f5d0"
            ],
            [
             0.7,
             "#b8e186"
            ],
            [
             0.8,
             "#7fbc41"
            ],
            [
             0.9,
             "#4d9221"
            ],
            [
             1,
             "#276419"
            ]
           ],
           "sequential": [
            [
             0,
             "#0d0887"
            ],
            [
             0.1111111111111111,
             "#46039f"
            ],
            [
             0.2222222222222222,
             "#7201a8"
            ],
            [
             0.3333333333333333,
             "#9c179e"
            ],
            [
             0.4444444444444444,
             "#bd3786"
            ],
            [
             0.5555555555555556,
             "#d8576b"
            ],
            [
             0.6666666666666666,
             "#ed7953"
            ],
            [
             0.7777777777777778,
             "#fb9f3a"
            ],
            [
             0.8888888888888888,
             "#fdca26"
            ],
            [
             1,
             "#f0f921"
            ]
           ],
           "sequentialminus": [
            [
             0,
             "#0d0887"
            ],
            [
             0.1111111111111111,
             "#46039f"
            ],
            [
             0.2222222222222222,
             "#7201a8"
            ],
            [
             0.3333333333333333,
             "#9c179e"
            ],
            [
             0.4444444444444444,
             "#bd3786"
            ],
            [
             0.5555555555555556,
             "#d8576b"
            ],
            [
             0.6666666666666666,
             "#ed7953"
            ],
            [
             0.7777777777777778,
             "#fb9f3a"
            ],
            [
             0.8888888888888888,
             "#fdca26"
            ],
            [
             1,
             "#f0f921"
            ]
           ]
          },
          "colorway": [
           "#636efa",
           "#EF553B",
           "#00cc96",
           "#ab63fa",
           "#FFA15A",
           "#19d3f3",
           "#FF6692",
           "#B6E880",
           "#FF97FF",
           "#FECB52"
          ],
          "font": {
           "color": "#f2f5fa"
          },
          "geo": {
           "bgcolor": "rgb(17,17,17)",
           "lakecolor": "rgb(17,17,17)",
           "landcolor": "rgb(17,17,17)",
           "showlakes": true,
           "showland": true,
           "subunitcolor": "#506784"
          },
          "hoverlabel": {
           "align": "left"
          },
          "hovermode": "closest",
          "mapbox": {
           "style": "dark"
          },
          "paper_bgcolor": "rgb(17,17,17)",
          "plot_bgcolor": "rgb(17,17,17)",
          "polar": {
           "angularaxis": {
            "gridcolor": "#506784",
            "linecolor": "#506784",
            "ticks": ""
           },
           "bgcolor": "rgb(17,17,17)",
           "radialaxis": {
            "gridcolor": "#506784",
            "linecolor": "#506784",
            "ticks": ""
           }
          },
          "scene": {
           "xaxis": {
            "backgroundcolor": "rgb(17,17,17)",
            "gridcolor": "#506784",
            "gridwidth": 2,
            "linecolor": "#506784",
            "showbackground": true,
            "ticks": "",
            "zerolinecolor": "#C8D4E3"
           },
           "yaxis": {
            "backgroundcolor": "rgb(17,17,17)",
            "gridcolor": "#506784",
            "gridwidth": 2,
            "linecolor": "#506784",
            "showbackground": true,
            "ticks": "",
            "zerolinecolor": "#C8D4E3"
           },
           "zaxis": {
            "backgroundcolor": "rgb(17,17,17)",
            "gridcolor": "#506784",
            "gridwidth": 2,
            "linecolor": "#506784",
            "showbackground": true,
            "ticks": "",
            "zerolinecolor": "#C8D4E3"
           }
          },
          "shapedefaults": {
           "line": {
            "color": "#f2f5fa"
           }
          },
          "sliderdefaults": {
           "bgcolor": "#C8D4E3",
           "bordercolor": "rgb(17,17,17)",
           "borderwidth": 1,
           "tickwidth": 0
          },
          "ternary": {
           "aaxis": {
            "gridcolor": "#506784",
            "linecolor": "#506784",
            "ticks": ""
           },
           "baxis": {
            "gridcolor": "#506784",
            "linecolor": "#506784",
            "ticks": ""
           },
           "bgcolor": "rgb(17,17,17)",
           "caxis": {
            "gridcolor": "#506784",
            "linecolor": "#506784",
            "ticks": ""
           }
          },
          "title": {
           "x": 0.05
          },
          "updatemenudefaults": {
           "bgcolor": "#506784",
           "borderwidth": 0
          },
          "xaxis": {
           "automargin": true,
           "gridcolor": "#283442",
           "linecolor": "#506784",
           "ticks": "",
           "title": {
            "standoff": 15
           },
           "zerolinecolor": "#283442",
           "zerolinewidth": 2
          },
          "yaxis": {
           "automargin": true,
           "gridcolor": "#283442",
           "linecolor": "#506784",
           "ticks": "",
           "title": {
            "standoff": 15
           },
           "zerolinecolor": "#283442",
           "zerolinewidth": 2
          }
         }
        },
        "title": {
         "text": "test1"
        }
       }
      },
      "text/html": [
       "<div>                            <div id=\"3307ba6d-4199-44ef-9ed3-f998432575de\" class=\"plotly-graph-div\" style=\"height:700px; width:100%;\"></div>            <script type=\"text/javascript\">                require([\"plotly\"], function(Plotly) {                    window.PLOTLYENV=window.PLOTLYENV || {};                                    if (document.getElementById(\"3307ba6d-4199-44ef-9ed3-f998432575de\")) {                    Plotly.newPlot(                        \"3307ba6d-4199-44ef-9ed3-f998432575de\",                        [{\"customdata\": [[\"\\uac00\\uacf5\"]], \"hovertemplate\": \"<b>%{hovertext}</b><br><br>\\ubd80\\uc11c=%{x}<br>\\uc791\\uc5c5\\ud589\\ub3d91=%{marker.size}<extra></extra>\", \"hovertext\": [\"\\uac00\\uacf5\"], \"legendgroup\": \"\\uac00\\uacf5\\uc18c\\uc870\\ub9bd\\ubd80, \\uac00\\uacf5\", \"marker\": {\"color\": \"magenta\", \"size\": [4], \"sizemode\": \"area\", \"sizeref\": 0.025, \"symbol\": \"circle\"}, \"mode\": \"markers\", \"name\": \"\\uac00\\uacf5\\uc18c\\uc870\\ub9bd\\ubd80, \\uac00\\uacf5\", \"scene\": \"scene\", \"showlegend\": true, \"type\": \"scatter3d\", \"x\": [\"\\uac00\\uacf5\\uc18c\\uc870\\ub9bd\\ubd80\"], \"y\": [\"\\uac00\\uacf5\"], \"z\": [4]}, {\"customdata\": [[\"\\uc120\\ud589\\uc758\\uc7a5\"]], \"hovertemplate\": \"<b>%{hovertext}</b><br><br>\\ubd80\\uc11c=%{x}<br>\\uc791\\uc5c5\\ud589\\ub3d91=%{marker.size}<extra></extra>\", \"hovertext\": [\"\\uc120\\ud589\\uc758\\uc7a5\"], \"legendgroup\": \"\\uac00\\uacf5\\uc18c\\uc870\\ub9bd\\ubd80, \\uc120\\ud589\\uc758\\uc7a5\", \"marker\": {\"color\": \"magenta\", \"size\": [3], \"sizemode\": \"area\", \"sizeref\": 0.025, \"symbol\": \"diamond\"}, \"mode\": \"markers\", \"name\": \"\\uac00\\uacf5\\uc18c\\uc870\\ub9bd\\ubd80, \\uc120\\ud589\\uc758\\uc7a5\", \"scene\": \"scene\", \"showlegend\": true, \"type\": \"scatter3d\", \"x\": [\"\\uac00\\uacf5\\uc18c\\uc870\\ub9bd\\ubd80\"], \"y\": [\"\\uc120\\ud589\\uc758\\uc7a5\"], \"z\": [3]}, {\"customdata\": [[\"\\uc120\\ud589\\uc758\\uc7a5\"]], \"hovertemplate\": \"<b>%{hovertext}</b><br><br>\\ubd80\\uc11c=%{x}<br>\\uc791\\uc5c5\\ud589\\ub3d91=%{marker.size}<extra></extra>\", \"hovertext\": [\"\\uc120\\ud589\\uc758\\uc7a5\"], \"legendgroup\": \"\\ud310\\ub12c\\uc870\\ub9bd\\ubd80, \\uc120\\ud589\\uc758\\uc7a5\", \"marker\": {\"color\": \"green\", \"size\": [6], \"sizemode\": \"area\", \"sizeref\": 0.025, \"symbol\": \"diamond\"}, \"mode\": \"markers\", \"name\": \"\\ud310\\ub12c\\uc870\\ub9bd\\ubd80, \\uc120\\ud589\\uc758\\uc7a5\", \"scene\": \"scene\", \"showlegend\": true, \"type\": \"scatter3d\", \"x\": [\"\\ud310\\ub12c\\uc870\\ub9bd\\ubd80\"], \"y\": [\"\\uc120\\ud589\\uc758\\uc7a5\"], \"z\": [6]}, {\"customdata\": [[\"\\ud310\\ub12c\"]], \"hovertemplate\": \"<b>%{hovertext}</b><br><br>\\ubd80\\uc11c=%{x}<br>\\uc791\\uc5c5\\ud589\\ub3d91=%{marker.size}<extra></extra>\", \"hovertext\": [\"\\ud310\\ub12c\"], \"legendgroup\": \"\\ud310\\ub12c\\uc870\\ub9bd\\ubd80, \\ud310\\ub12c\", \"marker\": {\"color\": \"green\", \"size\": [10], \"sizemode\": \"area\", \"sizeref\": 0.025, \"symbol\": \"square\"}, \"mode\": \"markers\", \"name\": \"\\ud310\\ub12c\\uc870\\ub9bd\\ubd80, \\ud310\\ub12c\", \"scene\": \"scene\", \"showlegend\": true, \"type\": \"scatter3d\", \"x\": [\"\\ud310\\ub12c\\uc870\\ub9bd\\ubd80\"], \"y\": [\"\\ud310\\ub12c\"], \"z\": [10]}],                        {\"height\": 700, \"legend\": {\"itemsizing\": \"constant\", \"title\": {\"text\": \"\\ubd80\\uc11c, \\ub300\\uad6c\\ubd84\"}, \"tracegroupgap\": 0}, \"scene\": {\"domain\": {\"x\": [0.0, 1.0], \"y\": [0.0, 1.0]}, \"xaxis\": {\"categoryarray\": [\"\\uac00\\uacf5\\uc18c\\uc870\\ub9bd\\ubd80\", \"\\ud310\\ub12c\\uc870\\ub9bd\\ubd80\"], \"categoryorder\": \"array\", \"title\": {\"text\": \"\\ubd80\\uc11c\"}}, \"yaxis\": {\"categoryarray\": [\"\\uac00\\uacf5\", \"\\uc120\\ud589\\uc758\\uc7a5\", \"\\ud310\\ub12c\"], \"categoryorder\": \"array\", \"title\": {\"text\": \"\\ub300\\uad6c\\ubd84\"}}, \"zaxis\": {\"title\": {\"text\": \"\\uc791\\uc5c5\\ud589\\ub3d91\"}}}, \"template\": {\"data\": {\"bar\": [{\"error_x\": {\"color\": \"#f2f5fa\"}, \"error_y\": {\"color\": \"#f2f5fa\"}, \"marker\": {\"line\": {\"color\": \"rgb(17,17,17)\", \"width\": 0.5}}, \"type\": \"bar\"}], \"barpolar\": [{\"marker\": {\"line\": {\"color\": \"rgb(17,17,17)\", \"width\": 0.5}}, \"type\": \"barpolar\"}], \"carpet\": [{\"aaxis\": {\"endlinecolor\": \"#A2B1C6\", \"gridcolor\": \"#506784\", \"linecolor\": \"#506784\", \"minorgridcolor\": \"#506784\", \"startlinecolor\": \"#A2B1C6\"}, \"baxis\": {\"endlinecolor\": \"#A2B1C6\", \"gridcolor\": \"#506784\", \"linecolor\": \"#506784\", \"minorgridcolor\": \"#506784\", \"startlinecolor\": \"#A2B1C6\"}, \"type\": \"carpet\"}], \"choropleth\": [{\"colorbar\": {\"outlinewidth\": 0, \"ticks\": \"\"}, \"type\": \"choropleth\"}], \"contour\": [{\"colorbar\": {\"outlinewidth\": 0, \"ticks\": \"\"}, \"colorscale\": [[0.0, \"#0d0887\"], [0.1111111111111111, \"#46039f\"], [0.2222222222222222, \"#7201a8\"], [0.3333333333333333, \"#9c179e\"], [0.4444444444444444, \"#bd3786\"], [0.5555555555555556, \"#d8576b\"], [0.6666666666666666, \"#ed7953\"], [0.7777777777777778, \"#fb9f3a\"], [0.8888888888888888, \"#fdca26\"], [1.0, \"#f0f921\"]], \"type\": \"contour\"}], \"contourcarpet\": [{\"colorbar\": {\"outlinewidth\": 0, \"ticks\": \"\"}, \"type\": \"contourcarpet\"}], \"heatmap\": [{\"colorbar\": {\"outlinewidth\": 0, \"ticks\": \"\"}, \"colorscale\": [[0.0, \"#0d0887\"], [0.1111111111111111, \"#46039f\"], [0.2222222222222222, \"#7201a8\"], [0.3333333333333333, \"#9c179e\"], [0.4444444444444444, \"#bd3786\"], [0.5555555555555556, \"#d8576b\"], [0.6666666666666666, \"#ed7953\"], [0.7777777777777778, \"#fb9f3a\"], [0.8888888888888888, \"#fdca26\"], [1.0, \"#f0f921\"]], \"type\": \"heatmap\"}], \"heatmapgl\": [{\"colorbar\": {\"outlinewidth\": 0, \"ticks\": \"\"}, \"colorscale\": [[0.0, \"#0d0887\"], [0.1111111111111111, \"#46039f\"], [0.2222222222222222, \"#7201a8\"], [0.3333333333333333, \"#9c179e\"], [0.4444444444444444, \"#bd3786\"], [0.5555555555555556, \"#d8576b\"], [0.6666666666666666, \"#ed7953\"], [0.7777777777777778, \"#fb9f3a\"], [0.8888888888888888, \"#fdca26\"], [1.0, \"#f0f921\"]], \"type\": \"heatmapgl\"}], \"histogram\": [{\"marker\": {\"colorbar\": {\"outlinewidth\": 0, \"ticks\": \"\"}}, \"type\": \"histogram\"}], \"histogram2d\": [{\"colorbar\": {\"outlinewidth\": 0, \"ticks\": \"\"}, \"colorscale\": [[0.0, \"#0d0887\"], [0.1111111111111111, \"#46039f\"], [0.2222222222222222, \"#7201a8\"], [0.3333333333333333, \"#9c179e\"], [0.4444444444444444, \"#bd3786\"], [0.5555555555555556, \"#d8576b\"], [0.6666666666666666, \"#ed7953\"], [0.7777777777777778, \"#fb9f3a\"], [0.8888888888888888, \"#fdca26\"], [1.0, \"#f0f921\"]], \"type\": \"histogram2d\"}], \"histogram2dcontour\": [{\"colorbar\": {\"outlinewidth\": 0, \"ticks\": \"\"}, \"colorscale\": [[0.0, \"#0d0887\"], [0.1111111111111111, \"#46039f\"], [0.2222222222222222, \"#7201a8\"], [0.3333333333333333, \"#9c179e\"], [0.4444444444444444, \"#bd3786\"], [0.5555555555555556, \"#d8576b\"], [0.6666666666666666, \"#ed7953\"], [0.7777777777777778, \"#fb9f3a\"], [0.8888888888888888, \"#fdca26\"], [1.0, \"#f0f921\"]], \"type\": \"histogram2dcontour\"}], \"mesh3d\": [{\"colorbar\": {\"outlinewidth\": 0, \"ticks\": \"\"}, \"type\": \"mesh3d\"}], \"parcoords\": [{\"line\": {\"colorbar\": {\"outlinewidth\": 0, \"ticks\": \"\"}}, \"type\": \"parcoords\"}], \"pie\": [{\"automargin\": true, \"type\": \"pie\"}], \"scatter\": [{\"marker\": {\"line\": {\"color\": \"#283442\"}}, \"type\": \"scatter\"}], \"scatter3d\": [{\"line\": {\"colorbar\": {\"outlinewidth\": 0, \"ticks\": \"\"}}, \"marker\": {\"colorbar\": {\"outlinewidth\": 0, \"ticks\": \"\"}}, \"type\": \"scatter3d\"}], \"scattercarpet\": [{\"marker\": {\"colorbar\": {\"outlinewidth\": 0, \"ticks\": \"\"}}, \"type\": \"scattercarpet\"}], \"scattergeo\": [{\"marker\": {\"colorbar\": {\"outlinewidth\": 0, \"ticks\": \"\"}}, \"type\": \"scattergeo\"}], \"scattergl\": [{\"marker\": {\"line\": {\"color\": \"#283442\"}}, \"type\": \"scattergl\"}], \"scattermapbox\": [{\"marker\": {\"colorbar\": {\"outlinewidth\": 0, \"ticks\": \"\"}}, \"type\": \"scattermapbox\"}], \"scatterpolar\": [{\"marker\": {\"colorbar\": {\"outlinewidth\": 0, \"ticks\": \"\"}}, \"type\": \"scatterpolar\"}], \"scatterpolargl\": [{\"marker\": {\"colorbar\": {\"outlinewidth\": 0, \"ticks\": \"\"}}, \"type\": \"scatterpolargl\"}], \"scatterternary\": [{\"marker\": {\"colorbar\": {\"outlinewidth\": 0, \"ticks\": \"\"}}, \"type\": \"scatterternary\"}], \"surface\": [{\"colorbar\": {\"outlinewidth\": 0, \"ticks\": \"\"}, \"colorscale\": [[0.0, \"#0d0887\"], [0.1111111111111111, \"#46039f\"], [0.2222222222222222, \"#7201a8\"], [0.3333333333333333, \"#9c179e\"], [0.4444444444444444, \"#bd3786\"], [0.5555555555555556, \"#d8576b\"], [0.6666666666666666, \"#ed7953\"], [0.7777777777777778, \"#fb9f3a\"], [0.8888888888888888, \"#fdca26\"], [1.0, \"#f0f921\"]], \"type\": \"surface\"}], \"table\": [{\"cells\": {\"fill\": {\"color\": \"#506784\"}, \"line\": {\"color\": \"rgb(17,17,17)\"}}, \"header\": {\"fill\": {\"color\": \"#2a3f5f\"}, \"line\": {\"color\": \"rgb(17,17,17)\"}}, \"type\": \"table\"}]}, \"layout\": {\"annotationdefaults\": {\"arrowcolor\": \"#f2f5fa\", \"arrowhead\": 0, \"arrowwidth\": 1}, \"autotypenumbers\": \"strict\", \"coloraxis\": {\"colorbar\": {\"outlinewidth\": 0, \"ticks\": \"\"}}, \"colorscale\": {\"diverging\": [[0, \"#8e0152\"], [0.1, \"#c51b7d\"], [0.2, \"#de77ae\"], [0.3, \"#f1b6da\"], [0.4, \"#fde0ef\"], [0.5, \"#f7f7f7\"], [0.6, \"#e6f5d0\"], [0.7, \"#b8e186\"], [0.8, \"#7fbc41\"], [0.9, \"#4d9221\"], [1, \"#276419\"]], \"sequential\": [[0.0, \"#0d0887\"], [0.1111111111111111, \"#46039f\"], [0.2222222222222222, \"#7201a8\"], [0.3333333333333333, \"#9c179e\"], [0.4444444444444444, \"#bd3786\"], [0.5555555555555556, \"#d8576b\"], [0.6666666666666666, \"#ed7953\"], [0.7777777777777778, \"#fb9f3a\"], [0.8888888888888888, \"#fdca26\"], [1.0, \"#f0f921\"]], \"sequentialminus\": [[0.0, \"#0d0887\"], [0.1111111111111111, \"#46039f\"], [0.2222222222222222, \"#7201a8\"], [0.3333333333333333, \"#9c179e\"], [0.4444444444444444, \"#bd3786\"], [0.5555555555555556, \"#d8576b\"], [0.6666666666666666, \"#ed7953\"], [0.7777777777777778, \"#fb9f3a\"], [0.8888888888888888, \"#fdca26\"], [1.0, \"#f0f921\"]]}, \"colorway\": [\"#636efa\", \"#EF553B\", \"#00cc96\", \"#ab63fa\", \"#FFA15A\", \"#19d3f3\", \"#FF6692\", \"#B6E880\", \"#FF97FF\", \"#FECB52\"], \"font\": {\"color\": \"#f2f5fa\"}, \"geo\": {\"bgcolor\": \"rgb(17,17,17)\", \"lakecolor\": \"rgb(17,17,17)\", \"landcolor\": \"rgb(17,17,17)\", \"showlakes\": true, \"showland\": true, \"subunitcolor\": \"#506784\"}, \"hoverlabel\": {\"align\": \"left\"}, \"hovermode\": \"closest\", \"mapbox\": {\"style\": \"dark\"}, \"paper_bgcolor\": \"rgb(17,17,17)\", \"plot_bgcolor\": \"rgb(17,17,17)\", \"polar\": {\"angularaxis\": {\"gridcolor\": \"#506784\", \"linecolor\": \"#506784\", \"ticks\": \"\"}, \"bgcolor\": \"rgb(17,17,17)\", \"radialaxis\": {\"gridcolor\": \"#506784\", \"linecolor\": \"#506784\", \"ticks\": \"\"}}, \"scene\": {\"xaxis\": {\"backgroundcolor\": \"rgb(17,17,17)\", \"gridcolor\": \"#506784\", \"gridwidth\": 2, \"linecolor\": \"#506784\", \"showbackground\": true, \"ticks\": \"\", \"zerolinecolor\": \"#C8D4E3\"}, \"yaxis\": {\"backgroundcolor\": \"rgb(17,17,17)\", \"gridcolor\": \"#506784\", \"gridwidth\": 2, \"linecolor\": \"#506784\", \"showbackground\": true, \"ticks\": \"\", \"zerolinecolor\": \"#C8D4E3\"}, \"zaxis\": {\"backgroundcolor\": \"rgb(17,17,17)\", \"gridcolor\": \"#506784\", \"gridwidth\": 2, \"linecolor\": \"#506784\", \"showbackground\": true, \"ticks\": \"\", \"zerolinecolor\": \"#C8D4E3\"}}, \"shapedefaults\": {\"line\": {\"color\": \"#f2f5fa\"}}, \"sliderdefaults\": {\"bgcolor\": \"#C8D4E3\", \"bordercolor\": \"rgb(17,17,17)\", \"borderwidth\": 1, \"tickwidth\": 0}, \"ternary\": {\"aaxis\": {\"gridcolor\": \"#506784\", \"linecolor\": \"#506784\", \"ticks\": \"\"}, \"baxis\": {\"gridcolor\": \"#506784\", \"linecolor\": \"#506784\", \"ticks\": \"\"}, \"bgcolor\": \"rgb(17,17,17)\", \"caxis\": {\"gridcolor\": \"#506784\", \"linecolor\": \"#506784\", \"ticks\": \"\"}}, \"title\": {\"x\": 0.05}, \"updatemenudefaults\": {\"bgcolor\": \"#506784\", \"borderwidth\": 0}, \"xaxis\": {\"automargin\": true, \"gridcolor\": \"#283442\", \"linecolor\": \"#506784\", \"ticks\": \"\", \"title\": {\"standoff\": 15}, \"zerolinecolor\": \"#283442\", \"zerolinewidth\": 2}, \"yaxis\": {\"automargin\": true, \"gridcolor\": \"#283442\", \"linecolor\": \"#506784\", \"ticks\": \"\", \"title\": {\"standoff\": 15}, \"zerolinecolor\": \"#283442\", \"zerolinewidth\": 2}}}, \"title\": {\"text\": \"test1\"}},                        {\"responsive\": true}                    ).then(function(){\n",
       "                            \n",
       "var gd = document.getElementById('3307ba6d-4199-44ef-9ed3-f998432575de');\n",
       "var x = new MutationObserver(function (mutations, observer) {{\n",
       "        var display = window.getComputedStyle(gd).display;\n",
       "        if (!display || display === 'none') {{\n",
       "            console.log([gd, 'removed!']);\n",
       "            Plotly.purge(gd);\n",
       "            observer.disconnect();\n",
       "        }}\n",
       "}});\n",
       "\n",
       "// Listen for the removal of the full notebook cells\n",
       "var notebookContainer = gd.closest('#notebook-container');\n",
       "if (notebookContainer) {{\n",
       "    x.observe(notebookContainer, {childList: true});\n",
       "}}\n",
       "\n",
       "// Listen for the clearing of the current output cell\n",
       "var outputEl = gd.closest('.output');\n",
       "if (outputEl) {{\n",
       "    x.observe(outputEl, {childList: true});\n",
       "}}\n",
       "\n",
       "                        })                };                });            </script>        </div>"
      ]
     },
     "metadata": {},
     "output_type": "display_data"
    }
   ],
   "source": [
    "fig = px.scatter_3d(\n",
    "    data_frame=dff,\n",
    "    x='부서',\n",
    "    y='대구분',\n",
    "    z='작업행동',\n",
    "    color=\"부서\",\n",
    "    color_discrete_sequence=['magenta', 'green'],\n",
    "    # color_discrete_map={'Europe': 'black', 'Africa': 'yellow'},\n",
    "    # opacity=0.3,              # opacity values range from 0 to 1\n",
    "    symbol='대구분',            # symbol used for bubble\n",
    "    # symbol_map={\"2005\": \"square-open\", \"2010\": 3},\n",
    "    size='작업행동',       # size of bubble\n",
    "    # size_max=50,              # set the maximum mark size when using size\n",
    "    #log_x=True,  # you can also set log_y and log_z as a log scale\n",
    "    # range_z=[9,13],           # you can also set range of range_y and range_x\n",
    "    template='plotly_dark',         # 'ggplot2', 'seaborn', 'simple_white', 'plotly',\n",
    "                                # 'plotly_white', 'plotly_dark', 'presentation',\n",
    "                                # 'xgridoff', 'ygridoff', 'gridon', 'none'\n",
    "    title='test1',\n",
    "    labels={'작업행동': '작업행동1'},\n",
    "    hover_data={'대구분': False},\n",
    "    # hover_data={'Continent': False, 'GDP per capita': ':.1f'},\n",
    "    hover_name='대구분',        # values appear in bold in the hover tooltip\n",
    "    height=700,                 # height of graph in pixels\n",
    "\n",
    "    # animation_frame='Year',   # assign marks to animation frames\n",
    "    # range_x=[500,100000],\n",
    "    # range_z=[0,14],\n",
    "    # range_y=[5,100]\n",
    "\n",
    ")\n",
    "pio.show(fig)"
   ]
  },
  {
   "cell_type": "code",
   "execution_count": 50,
   "metadata": {},
   "outputs": [],
   "source": [
    "# fig.layout.updatemenus[0].buttons[0].args[1]['frame']['duration'] = 1000\n",
    "# fig.layout.updatemenus[0].buttons[0].args[1]['transition']['duration'] = 500"
   ]
  },
  {
   "cell_type": "code",
   "execution_count": 47,
   "metadata": {},
   "outputs": [],
   "source": [
    "# Use for animation rotation\n",
    "# fig.update_layout(scene_camera_eye=dict(x=x_eye, y=y_eye, z=z_eye),\n",
    "#                   updatemenus=[dict(type='buttons',\n",
    "#                                     showactive=False,\n",
    "#                                     y=1,\n",
    "#                                     x=0.8,\n",
    "#                                     xanchor='left',\n",
    "#                                     yanchor='bottom',\n",
    "#                                     pad=dict(t=45, r=10),\n",
    "#                                     buttons=[dict(label='Play',\n",
    "#                                                   method='animate',\n",
    "#                                                   args=[None, dict(frame=dict(duration=250, redraw=True),\n",
    "#                                                                    transition=dict(duration=0),\n",
    "#                                                                    fromcurrent=True,\n",
    "#                                                                    mode='immediate'\n",
    "#                                                                    )]\n",
    "#                                                   )\n",
    "#                                              ]\n",
    "#                                     )\n",
    "#                                ]\n",
    "#                   )\n",
    "#\n",
    "#\n"
   ]
  },
  {
   "cell_type": "code",
   "execution_count": 49,
   "metadata": {},
   "outputs": [],
   "source": [
    "# def rotate_z(x, y, z, theta):\n",
    "#     w = x + 1j * y\n",
    "#     return np.real(np.exp(1j * theta) * w), np.imag(np.exp(1j * theta) * w), z\n",
    "\n",
    "# frames = []\n",
    "\n",
    "# for t in np.arange(0, 6.26, 0.1):\n",
    "#     xe, ye, ze = rotate_z(x_eye, y_eye, z_eye, -t)\n",
    "#     frames.append(go.Frame(layout=dict(scene_camera_eye=dict(x=xe, y=ye, z=ze))))\n",
    "# fig.frames = frames\n",
    "\n",
    "\n",
    "# # fig.write_html(\"My3dPlot.html\")\n",
    "# pio.show(fig)"
   ]
  },
  {
   "cell_type": "markdown",
   "metadata": {},
   "source": [
    "# Graph Object 방식"
   ]
  },
  {
   "cell_type": "code",
   "execution_count": 35,
   "metadata": {},
   "outputs": [],
   "source": [
    "# trace1 = go.Scatter3d(\n",
    "#     x=dff['부서'],\n",
    "#     y=dff['대구분'],\n",
    "#     z=dff['작업행동'],\n",
    "#     mode='markers',\n",
    "#     marker = dict(\n",
    "#     size=dff['작업행동'], \n",
    "#     color=dff[\"작업행동\"],\n",
    "#     colorscale='Viridis',\n",
    "#     opacity=0.8,\n",
    "#     showscale=True))\n",
    "\n",
    "# data = [trace1]\n",
    "\n",
    "# layout = go.Layout(\n",
    "#     margin = dict(l=0, r=0, b=0, t=0),\n",
    "#     )"
   ]
  },
  {
   "cell_type": "code",
   "execution_count": 34,
   "metadata": {},
   "outputs": [],
   "source": [
    "# fig = go.Figure(data=data, layout=layout)\n",
    "# fig.show()\n",
    "# fig.write_html(\"./results/test9_3d.html\")"
   ]
  },
  {
   "cell_type": "code",
   "execution_count": null,
   "metadata": {},
   "outputs": [],
   "source": []
  }
 ],
 "metadata": {
  "kernelspec": {
   "display_name": "Python 3",
   "language": "python",
   "name": "python3"
  },
  "language_info": {
   "codemirror_mode": {
    "name": "ipython",
    "version": 3
   },
   "file_extension": ".py",
   "mimetype": "text/x-python",
   "name": "python",
   "nbconvert_exporter": "python",
   "pygments_lexer": "ipython3",
   "version": "3.7.7"
  }
 },
 "nbformat": 4,
 "nbformat_minor": 4
}
