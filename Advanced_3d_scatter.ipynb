{
 "cells": [
  {
   "cell_type": "code",
   "execution_count": 1,
   "metadata": {},
   "outputs": [],
   "source": [
    "import pandas as pd\n",
    "import plotly.express as px\n",
    "import plotly.io as pio\n",
    "import numpy as np\n",
    "import plotly.graph_objects as go"
   ]
  },
  {
   "cell_type": "code",
   "execution_count": 2,
   "metadata": {},
   "outputs": [],
   "source": [
    "# Use for animation rotation at the end\n",
    "x_eye = -1.25\n",
    "y_eye = 2\n",
    "z_eye = 0.5"
   ]
  },
  {
   "cell_type": "code",
   "execution_count": 3,
   "metadata": {},
   "outputs": [
    {
     "data": {
      "text/html": [
       "<div>\n",
       "<style scoped>\n",
       "    .dataframe tbody tr th:only-of-type {\n",
       "        vertical-align: middle;\n",
       "    }\n",
       "\n",
       "    .dataframe tbody tr th {\n",
       "        vertical-align: top;\n",
       "    }\n",
       "\n",
       "    .dataframe thead th {\n",
       "        text-align: right;\n",
       "    }\n",
       "</style>\n",
       "<table border=\"1\" class=\"dataframe\">\n",
       "  <thead>\n",
       "    <tr style=\"text-align: right;\">\n",
       "      <th></th>\n",
       "      <th>WORK_STAND_NM</th>\n",
       "      <th>WORK_UNIT</th>\n",
       "      <th>WORK_ACT</th>\n",
       "      <th>CHK_INFO</th>\n",
       "      <th>부서</th>\n",
       "      <th>대구분</th>\n",
       "      <th>중구분</th>\n",
       "      <th>소구분</th>\n",
       "    </tr>\n",
       "  </thead>\n",
       "  <tbody>\n",
       "    <tr>\n",
       "      <th>0</th>\n",
       "      <td>선각 철의장풍/치공구류 제작</td>\n",
       "      <td>작업 준비</td>\n",
       "      <td>당일 제작 수량 확인</td>\n",
       "      <td>관련 도면준비</td>\n",
       "      <td>가공소조립부</td>\n",
       "      <td>가공</td>\n",
       "      <td>가공/제작</td>\n",
       "      <td>기계가공</td>\n",
       "    </tr>\n",
       "    <tr>\n",
       "      <th>1</th>\n",
       "      <td>선각 철의장풍/치공구류 제작</td>\n",
       "      <td>작업 준비</td>\n",
       "      <td>필요 자재(잔재, 원자재) 파악</td>\n",
       "      <td>자재 부족시 관련 부서 협조 요청</td>\n",
       "      <td>가공소조립부</td>\n",
       "      <td>가공</td>\n",
       "      <td>가공/제작</td>\n",
       "      <td>기계가공</td>\n",
       "    </tr>\n",
       "    <tr>\n",
       "      <th>2</th>\n",
       "      <td>선각 철의장풍/치공구류 제작</td>\n",
       "      <td>작업 준비</td>\n",
       "      <td>장비별 작업자 배원</td>\n",
       "      <td>NaN</td>\n",
       "      <td>가공소조립부</td>\n",
       "      <td>가공</td>\n",
       "      <td>가공/제작</td>\n",
       "      <td>기계가공</td>\n",
       "    </tr>\n",
       "    <tr>\n",
       "      <th>3</th>\n",
       "      <td>선각 철의장풍/치공구류 제작</td>\n",
       "      <td>물량 배정</td>\n",
       "      <td>수동 마킹(NC 마킹의 반대 개념)</td>\n",
       "      <td>NaN</td>\n",
       "      <td>가공소조립부</td>\n",
       "      <td>가공</td>\n",
       "      <td>가공/제작</td>\n",
       "      <td>기계가공</td>\n",
       "    </tr>\n",
       "    <tr>\n",
       "      <th>4</th>\n",
       "      <td>선각 철의장풍/치공구류 제작</td>\n",
       "      <td>물량 배정</td>\n",
       "      <td>수동 절단(기계 절단의 반대 개념)</td>\n",
       "      <td>NaN</td>\n",
       "      <td>가공소조립부</td>\n",
       "      <td>가공</td>\n",
       "      <td>가공/제작</td>\n",
       "      <td>기계가공</td>\n",
       "    </tr>\n",
       "    <tr>\n",
       "      <th>...</th>\n",
       "      <td>...</td>\n",
       "      <td>...</td>\n",
       "      <td>...</td>\n",
       "      <td>...</td>\n",
       "      <td>...</td>\n",
       "      <td>...</td>\n",
       "      <td>...</td>\n",
       "      <td>...</td>\n",
       "    </tr>\n",
       "    <tr>\n",
       "      <th>23528</th>\n",
       "      <td>사내/생산현장 이동</td>\n",
       "      <td>자전거 운전</td>\n",
       "      <td>블록하부 통행 및 크레인 주행구간 등 작업반경 내 주행 금지</td>\n",
       "      <td>NaN</td>\n",
       "      <td>조선해양품질경영2부</td>\n",
       "      <td>기능</td>\n",
       "      <td>공통</td>\n",
       "      <td>이동</td>\n",
       "    </tr>\n",
       "    <tr>\n",
       "      <th>23529</th>\n",
       "      <td>사내/생산현장 이동</td>\n",
       "      <td>자전거 운전</td>\n",
       "      <td>우천시 우의 착용 후 운행</td>\n",
       "      <td>우산사용 금지</td>\n",
       "      <td>조선해양품질경영2부</td>\n",
       "      <td>기능</td>\n",
       "      <td>공통</td>\n",
       "      <td>이동</td>\n",
       "    </tr>\n",
       "    <tr>\n",
       "      <th>23530</th>\n",
       "      <td>사내/생산현장 이동</td>\n",
       "      <td>자전거 운전</td>\n",
       "      <td>크레인 레일 위 이동시에는 레일 방향의 직각으로 이동</td>\n",
       "      <td>레일 사이에 바퀴가 빠져 넘어질 수 있음</td>\n",
       "      <td>조선해양품질경영2부</td>\n",
       "      <td>기능</td>\n",
       "      <td>공통</td>\n",
       "      <td>이동</td>\n",
       "    </tr>\n",
       "    <tr>\n",
       "      <th>23531</th>\n",
       "      <td>사내/생산현장 이동</td>\n",
       "      <td>자전거 운전</td>\n",
       "      <td>목적지 도착 후 지정된 주차장소에 주차</td>\n",
       "      <td>NaN</td>\n",
       "      <td>조선해양품질경영2부</td>\n",
       "      <td>기능</td>\n",
       "      <td>공통</td>\n",
       "      <td>이동</td>\n",
       "    </tr>\n",
       "    <tr>\n",
       "      <th>23532</th>\n",
       "      <td>사내/생산현장 이동</td>\n",
       "      <td>복귀</td>\n",
       "      <td>출발시와 동일한 방법으로 안전하게 복귀</td>\n",
       "      <td>NaN</td>\n",
       "      <td>조선해양품질경영2부</td>\n",
       "      <td>기능</td>\n",
       "      <td>공통</td>\n",
       "      <td>이동</td>\n",
       "    </tr>\n",
       "  </tbody>\n",
       "</table>\n",
       "<p>23533 rows × 8 columns</p>\n",
       "</div>"
      ],
      "text/plain": [
       "         WORK_STAND_NM WORK_UNIT                           WORK_ACT  \\\n",
       "0      선각 철의장풍/치공구류 제작     작업 준비                        당일 제작 수량 확인   \n",
       "1      선각 철의장풍/치공구류 제작     작업 준비                  필요 자재(잔재, 원자재) 파악   \n",
       "2      선각 철의장풍/치공구류 제작     작업 준비                         장비별 작업자 배원   \n",
       "3      선각 철의장풍/치공구류 제작     물량 배정                수동 마킹(NC 마킹의 반대 개념)   \n",
       "4      선각 철의장풍/치공구류 제작     물량 배정                수동 절단(기계 절단의 반대 개념)   \n",
       "...                ...       ...                                ...   \n",
       "23528       사내/생산현장 이동    자전거 운전  블록하부 통행 및 크레인 주행구간 등 작업반경 내 주행 금지   \n",
       "23529       사내/생산현장 이동    자전거 운전                     우천시 우의 착용 후 운행   \n",
       "23530       사내/생산현장 이동    자전거 운전      크레인 레일 위 이동시에는 레일 방향의 직각으로 이동   \n",
       "23531       사내/생산현장 이동    자전거 운전              목적지 도착 후 지정된 주차장소에 주차   \n",
       "23532       사내/생산현장 이동        복귀              출발시와 동일한 방법으로 안전하게 복귀   \n",
       "\n",
       "                     CHK_INFO          부서 대구분    중구분   소구분  \n",
       "0                     관련 도면준비      가공소조립부  가공  가공/제작  기계가공  \n",
       "1          자재 부족시 관련 부서 협조 요청      가공소조립부  가공  가공/제작  기계가공  \n",
       "2                         NaN      가공소조립부  가공  가공/제작  기계가공  \n",
       "3                         NaN      가공소조립부  가공  가공/제작  기계가공  \n",
       "4                         NaN      가공소조립부  가공  가공/제작  기계가공  \n",
       "...                       ...         ...  ..    ...   ...  \n",
       "23528                     NaN  조선해양품질경영2부  기능     공통    이동  \n",
       "23529                 우산사용 금지  조선해양품질경영2부  기능     공통    이동  \n",
       "23530  레일 사이에 바퀴가 빠져 넘어질 수 있음  조선해양품질경영2부  기능     공통    이동  \n",
       "23531                     NaN  조선해양품질경영2부  기능     공통    이동  \n",
       "23532                     NaN  조선해양품질경영2부  기능     공통    이동  \n",
       "\n",
       "[23533 rows x 8 columns]"
      ]
     },
     "execution_count": 3,
     "metadata": {},
     "output_type": "execute_result"
    }
   ],
   "source": [
    "df = pd.read_excel('./source/ws_mother_file.xlsx')\n",
    "df\n",
    "\n",
    "# df = df[df['Year'].isin(['2010'])]\n",
    "# df = df[df['Continent'].isin(['Africa', 'Europe'])]\n",
    "# # df = df[df['Year'].isin(['1990','1995','2000','2005','2010'])]\n",
    "# df['resized_pop'] = df['population'] / 100000000  # use for size parameter"
   ]
  },
  {
   "cell_type": "code",
   "execution_count": 4,
   "metadata": {},
   "outputs": [],
   "source": [
    "# dept = [\"가공소조립부\", \"판넬조립부\", \"대조립1부\", \"대조립2부\", \"의장생산부\", \"선행의장부\", \"선행도장부\",\n",
    "#        \"선실생산부\", \"건조1부\", \"건조2부\", \"건조3부\", \"의장1부\", \"의장2부\", \"의장3부\", \"CHS공사부\", \"도장1부\", \"도장2부\",\n",
    "#        \"LNG공사부\", \"시운전부\", \"운항관제과\", \"외업공사지원부\", \"발판지원부\", \"자재운영부\", \"조선해양품질경영1부\", \"조선해양품질경영2부\"]\n",
    "# key =[n for n in range(len(dept))]\n",
    "# value = [v for v in dept]"
   ]
  },
  {
   "cell_type": "code",
   "execution_count": 5,
   "metadata": {},
   "outputs": [],
   "source": [
    "# order = pd.DataFrame(dept, columns=[\"부서\"])\n",
    "# order"
   ]
  },
  {
   "cell_type": "code",
   "execution_count": 6,
   "metadata": {},
   "outputs": [
    {
     "data": {
      "text/html": [
       "<div>\n",
       "<style scoped>\n",
       "    .dataframe tbody tr th:only-of-type {\n",
       "        vertical-align: middle;\n",
       "    }\n",
       "\n",
       "    .dataframe tbody tr th {\n",
       "        vertical-align: top;\n",
       "    }\n",
       "\n",
       "    .dataframe thead th {\n",
       "        text-align: right;\n",
       "    }\n",
       "</style>\n",
       "<table border=\"1\" class=\"dataframe\">\n",
       "  <thead>\n",
       "    <tr style=\"text-align: right;\">\n",
       "      <th></th>\n",
       "      <th>대구분</th>\n",
       "      <th>부서</th>\n",
       "      <th>WORK_STAND_NM</th>\n",
       "      <th>WORK_ACT</th>\n",
       "    </tr>\n",
       "  </thead>\n",
       "  <tbody>\n",
       "    <tr>\n",
       "      <th>0</th>\n",
       "      <td>LNG공사</td>\n",
       "      <td>LNG공사부</td>\n",
       "      <td>CARGO TANK MEMB. MARKING</td>\n",
       "      <td>14</td>\n",
       "    </tr>\n",
       "    <tr>\n",
       "      <th>1</th>\n",
       "      <td>LNG공사</td>\n",
       "      <td>LNG공사부</td>\n",
       "      <td>CARGO TANK MEMB. PANEL보온 I/P 설치</td>\n",
       "      <td>14</td>\n",
       "    </tr>\n",
       "    <tr>\n",
       "      <th>2</th>\n",
       "      <td>LNG공사</td>\n",
       "      <td>LNG공사부</td>\n",
       "      <td>CARGO TANK MEMB. PANEL보온 TPX/TBP 설치</td>\n",
       "      <td>27</td>\n",
       "    </tr>\n",
       "    <tr>\n",
       "      <th>3</th>\n",
       "      <td>LNG공사</td>\n",
       "      <td>LNG공사부</td>\n",
       "      <td>CARGO TANK MEMB. S/OPENING 보온</td>\n",
       "      <td>9</td>\n",
       "    </tr>\n",
       "    <tr>\n",
       "      <th>4</th>\n",
       "      <td>LNG공사</td>\n",
       "      <td>LNG공사부</td>\n",
       "      <td>CARGO TANK MEMB. 설치 MEMB. FIT-UP</td>\n",
       "      <td>6</td>\n",
       "    </tr>\n",
       "    <tr>\n",
       "      <th>...</th>\n",
       "      <td>...</td>\n",
       "      <td>...</td>\n",
       "      <td>...</td>\n",
       "      <td>...</td>\n",
       "    </tr>\n",
       "    <tr>\n",
       "      <th>1399</th>\n",
       "      <td>후행의장</td>\n",
       "      <td>의장3부</td>\n",
       "      <td>철의장 검사_FAN &amp; DAMPER OPERATION/VOLUME TEST</td>\n",
       "      <td>16</td>\n",
       "    </tr>\n",
       "    <tr>\n",
       "      <th>1400</th>\n",
       "      <td>후행의장</td>\n",
       "      <td>의장3부</td>\n",
       "      <td>철의장 검사_LIFE &amp; RESCUE BOAT/DAVIT TEST</td>\n",
       "      <td>24</td>\n",
       "    </tr>\n",
       "    <tr>\n",
       "      <th>1401</th>\n",
       "      <td>후행의장</td>\n",
       "      <td>의장3부</td>\n",
       "      <td>함석시공</td>\n",
       "      <td>20</td>\n",
       "    </tr>\n",
       "    <tr>\n",
       "      <th>1402</th>\n",
       "      <td>후행의장</td>\n",
       "      <td>의장3부</td>\n",
       "      <td>후PE 전장 설치</td>\n",
       "      <td>44</td>\n",
       "    </tr>\n",
       "    <tr>\n",
       "      <th>1403</th>\n",
       "      <td>후행의장</td>\n",
       "      <td>의장생산부</td>\n",
       "      <td>조정관 설치</td>\n",
       "      <td>38</td>\n",
       "    </tr>\n",
       "  </tbody>\n",
       "</table>\n",
       "<p>1404 rows × 4 columns</p>\n",
       "</div>"
      ],
      "text/plain": [
       "        대구분      부서                              WORK_STAND_NM  WORK_ACT\n",
       "0     LNG공사  LNG공사부                   CARGO TANK MEMB. MARKING        14\n",
       "1     LNG공사  LNG공사부            CARGO TANK MEMB. PANEL보온 I/P 설치        14\n",
       "2     LNG공사  LNG공사부        CARGO TANK MEMB. PANEL보온 TPX/TBP 설치        27\n",
       "3     LNG공사  LNG공사부              CARGO TANK MEMB. S/OPENING 보온         9\n",
       "4     LNG공사  LNG공사부           CARGO TANK MEMB. 설치 MEMB. FIT-UP         6\n",
       "...     ...     ...                                        ...       ...\n",
       "1399   후행의장    의장3부  철의장 검사_FAN & DAMPER OPERATION/VOLUME TEST        16\n",
       "1400   후행의장    의장3부       철의장 검사_LIFE & RESCUE BOAT/DAVIT TEST        24\n",
       "1401   후행의장    의장3부                                       함석시공        20\n",
       "1402   후행의장    의장3부                                  후PE 전장 설치        44\n",
       "1403   후행의장   의장생산부                                     조정관 설치        38\n",
       "\n",
       "[1404 rows x 4 columns]"
      ]
     },
     "execution_count": 6,
     "metadata": {},
     "output_type": "execute_result"
    }
   ],
   "source": [
    "dff = df.groupby(['대구분', '부서', 'WORK_STAND_NM'], as_index=False)['WORK_ACT'].count()\n",
    "dff"
   ]
  },
  {
   "cell_type": "code",
   "execution_count": 7,
   "metadata": {},
   "outputs": [
    {
     "data": {
      "text/html": [
       "<div>\n",
       "<style scoped>\n",
       "    .dataframe tbody tr th:only-of-type {\n",
       "        vertical-align: middle;\n",
       "    }\n",
       "\n",
       "    .dataframe tbody tr th {\n",
       "        vertical-align: top;\n",
       "    }\n",
       "\n",
       "    .dataframe thead th {\n",
       "        text-align: right;\n",
       "    }\n",
       "</style>\n",
       "<table border=\"1\" class=\"dataframe\">\n",
       "  <thead>\n",
       "    <tr style=\"text-align: right;\">\n",
       "      <th></th>\n",
       "      <th>대구분</th>\n",
       "      <th>부서</th>\n",
       "      <th>WORK_STAND_NM</th>\n",
       "    </tr>\n",
       "  </thead>\n",
       "  <tbody>\n",
       "    <tr>\n",
       "      <th>0</th>\n",
       "      <td>LNG공사</td>\n",
       "      <td>LNG공사부</td>\n",
       "      <td>17</td>\n",
       "    </tr>\n",
       "    <tr>\n",
       "      <th>1</th>\n",
       "      <td>QM</td>\n",
       "      <td>조선해양품질경영1부</td>\n",
       "      <td>16</td>\n",
       "    </tr>\n",
       "    <tr>\n",
       "      <th>2</th>\n",
       "      <td>QM</td>\n",
       "      <td>조선해양품질경영2부</td>\n",
       "      <td>14</td>\n",
       "    </tr>\n",
       "    <tr>\n",
       "      <th>3</th>\n",
       "      <td>가공</td>\n",
       "      <td>가공소조립부</td>\n",
       "      <td>7</td>\n",
       "    </tr>\n",
       "    <tr>\n",
       "      <th>4</th>\n",
       "      <td>건조</td>\n",
       "      <td>건조1부</td>\n",
       "      <td>12</td>\n",
       "    </tr>\n",
       "    <tr>\n",
       "      <th>...</th>\n",
       "      <td>...</td>\n",
       "      <td>...</td>\n",
       "      <td>...</td>\n",
       "    </tr>\n",
       "    <tr>\n",
       "      <th>86</th>\n",
       "      <td>후행의장</td>\n",
       "      <td>선실생산부</td>\n",
       "      <td>1</td>\n",
       "    </tr>\n",
       "    <tr>\n",
       "      <th>87</th>\n",
       "      <td>후행의장</td>\n",
       "      <td>의장1부</td>\n",
       "      <td>50</td>\n",
       "    </tr>\n",
       "    <tr>\n",
       "      <th>88</th>\n",
       "      <td>후행의장</td>\n",
       "      <td>의장2부</td>\n",
       "      <td>50</td>\n",
       "    </tr>\n",
       "    <tr>\n",
       "      <th>89</th>\n",
       "      <td>후행의장</td>\n",
       "      <td>의장3부</td>\n",
       "      <td>50</td>\n",
       "    </tr>\n",
       "    <tr>\n",
       "      <th>90</th>\n",
       "      <td>후행의장</td>\n",
       "      <td>의장생산부</td>\n",
       "      <td>1</td>\n",
       "    </tr>\n",
       "  </tbody>\n",
       "</table>\n",
       "<p>91 rows × 3 columns</p>\n",
       "</div>"
      ],
      "text/plain": [
       "      대구분          부서  WORK_STAND_NM\n",
       "0   LNG공사      LNG공사부             17\n",
       "1      QM  조선해양품질경영1부             16\n",
       "2      QM  조선해양품질경영2부             14\n",
       "3      가공      가공소조립부              7\n",
       "4      건조        건조1부             12\n",
       "..    ...         ...            ...\n",
       "86   후행의장       선실생산부              1\n",
       "87   후행의장        의장1부             50\n",
       "88   후행의장        의장2부             50\n",
       "89   후행의장        의장3부             50\n",
       "90   후행의장       의장생산부              1\n",
       "\n",
       "[91 rows x 3 columns]"
      ]
     },
     "execution_count": 7,
     "metadata": {},
     "output_type": "execute_result"
    }
   ],
   "source": [
    "dff2 = dff.groupby(['대구분', '부서'], as_index=False)['WORK_STAND_NM'].count()\n",
    "dff2"
   ]
  },
  {
   "cell_type": "code",
   "execution_count": 8,
   "metadata": {},
   "outputs": [],
   "source": [
    "# dff2.to_excel('./source/groupby_data2.xlsx')"
   ]
  },
  {
   "cell_type": "code",
   "execution_count": 9,
   "metadata": {},
   "outputs": [
    {
     "data": {
      "text/html": [
       "<div>\n",
       "<style scoped>\n",
       "    .dataframe tbody tr th:only-of-type {\n",
       "        vertical-align: middle;\n",
       "    }\n",
       "\n",
       "    .dataframe tbody tr th {\n",
       "        vertical-align: top;\n",
       "    }\n",
       "\n",
       "    .dataframe thead th {\n",
       "        text-align: right;\n",
       "    }\n",
       "</style>\n",
       "<table border=\"1\" class=\"dataframe\">\n",
       "  <thead>\n",
       "    <tr style=\"text-align: right;\">\n",
       "      <th></th>\n",
       "      <th>Unnamed: 0</th>\n",
       "      <th>대구분</th>\n",
       "      <th>부서</th>\n",
       "      <th>WORK_STAND_NM</th>\n",
       "      <th>size</th>\n",
       "    </tr>\n",
       "  </thead>\n",
       "  <tbody>\n",
       "    <tr>\n",
       "      <th>0</th>\n",
       "      <td>3</td>\n",
       "      <td>가공</td>\n",
       "      <td>가공소조립부</td>\n",
       "      <td>7</td>\n",
       "      <td>7</td>\n",
       "    </tr>\n",
       "    <tr>\n",
       "      <th>1</th>\n",
       "      <td>75</td>\n",
       "      <td>소조립</td>\n",
       "      <td>가공소조립부</td>\n",
       "      <td>12</td>\n",
       "      <td>12</td>\n",
       "    </tr>\n",
       "    <tr>\n",
       "      <th>2</th>\n",
       "      <td>66</td>\n",
       "      <td>선행의장</td>\n",
       "      <td>가공소조립부</td>\n",
       "      <td>4</td>\n",
       "      <td>4</td>\n",
       "    </tr>\n",
       "    <tr>\n",
       "      <th>3</th>\n",
       "      <td>48</td>\n",
       "      <td>선실선행의장</td>\n",
       "      <td>가공소조립부</td>\n",
       "      <td>1</td>\n",
       "      <td>1</td>\n",
       "    </tr>\n",
       "    <tr>\n",
       "      <th>4</th>\n",
       "      <td>13</td>\n",
       "      <td>기능</td>\n",
       "      <td>가공소조립부</td>\n",
       "      <td>20</td>\n",
       "      <td>20</td>\n",
       "    </tr>\n",
       "    <tr>\n",
       "      <th>...</th>\n",
       "      <td>...</td>\n",
       "      <td>...</td>\n",
       "      <td>...</td>\n",
       "      <td>...</td>\n",
       "      <td>...</td>\n",
       "    </tr>\n",
       "    <tr>\n",
       "      <th>86</th>\n",
       "      <td>33</td>\n",
       "      <td>기능</td>\n",
       "      <td>자재운영부</td>\n",
       "      <td>8</td>\n",
       "      <td>8</td>\n",
       "    </tr>\n",
       "    <tr>\n",
       "      <th>87</th>\n",
       "      <td>1</td>\n",
       "      <td>QM</td>\n",
       "      <td>조선해양품질경영1부</td>\n",
       "      <td>16</td>\n",
       "      <td>16</td>\n",
       "    </tr>\n",
       "    <tr>\n",
       "      <th>88</th>\n",
       "      <td>34</td>\n",
       "      <td>기능</td>\n",
       "      <td>조선해양품질경영1부</td>\n",
       "      <td>3</td>\n",
       "      <td>3</td>\n",
       "    </tr>\n",
       "    <tr>\n",
       "      <th>89</th>\n",
       "      <td>2</td>\n",
       "      <td>QM</td>\n",
       "      <td>조선해양품질경영2부</td>\n",
       "      <td>14</td>\n",
       "      <td>14</td>\n",
       "    </tr>\n",
       "    <tr>\n",
       "      <th>90</th>\n",
       "      <td>35</td>\n",
       "      <td>기능</td>\n",
       "      <td>조선해양품질경영2부</td>\n",
       "      <td>3</td>\n",
       "      <td>3</td>\n",
       "    </tr>\n",
       "  </tbody>\n",
       "</table>\n",
       "<p>91 rows × 5 columns</p>\n",
       "</div>"
      ],
      "text/plain": [
       "    Unnamed: 0     대구분          부서  WORK_STAND_NM  size\n",
       "0            3      가공      가공소조립부              7     7\n",
       "1           75     소조립      가공소조립부             12    12\n",
       "2           66    선행의장      가공소조립부              4     4\n",
       "3           48  선실선행의장      가공소조립부              1     1\n",
       "4           13      기능      가공소조립부             20    20\n",
       "..         ...     ...         ...            ...   ...\n",
       "86          33      기능       자재운영부              8     8\n",
       "87           1      QM  조선해양품질경영1부             16    16\n",
       "88          34      기능  조선해양품질경영1부              3     3\n",
       "89           2      QM  조선해양품질경영2부             14    14\n",
       "90          35      기능  조선해양품질경영2부              3     3\n",
       "\n",
       "[91 rows x 5 columns]"
      ]
     },
     "execution_count": 9,
     "metadata": {},
     "output_type": "execute_result"
    }
   ],
   "source": [
    "dff2 = pd.read_excel('./source/groupby_data2.xlsx')\n",
    "dff2[\"size\"] = dff2['WORK_STAND_NM']*1\n",
    "dff2\n",
    "# dff2 = dff2[dff2[\"대구분\"] != \"기능\"]"
   ]
  },
  {
   "cell_type": "code",
   "execution_count": 49,
   "metadata": {},
   "outputs": [
    {
     "data": {
      "application/vnd.plotly.v1+json": {
       "config": {
        "plotlyServerURL": "https://plotly.com"
       },
       "data": [
        {
         "customdata": [
          [
           "가공소조립부"
          ],
          [
           "가공소조립부"
          ],
          [
           "가공소조립부"
          ],
          [
           "가공소조립부"
          ],
          [
           "가공소조립부"
          ]
         ],
         "hovertemplate": "<b>%{hovertext}</b><br><br>대구분=%{y}<br>작업표준 개수(로그)=%{z}<br>size=%{marker.size}<extra></extra>",
         "hovertext": [
          "가공소조립부",
          "가공소조립부",
          "가공소조립부",
          "가공소조립부",
          "가공소조립부"
         ],
         "legendgroup": "가공소조립부",
         "marker": {
          "color": "#636efa",
          "opacity": 0.5,
          "size": [
           7,
           12,
           4,
           1,
           20
          ],
          "sizemode": "area",
          "sizeref": 0.0868,
          "symbol": "circle"
         },
         "mode": "markers",
         "name": "가공소조립부",
         "scene": "scene",
         "showlegend": true,
         "type": "scatter3d",
         "x": [
          "가공소조립부",
          "가공소조립부",
          "가공소조립부",
          "가공소조립부",
          "가공소조립부"
         ],
         "y": [
          "가공",
          "소조립",
          "선행의장",
          "선실선행의장",
          "기능"
         ],
         "z": [
          7,
          12,
          4,
          1,
          20
         ]
        },
        {
         "customdata": [
          [
           "판넬조립부"
          ],
          [
           "판넬조립부"
          ],
          [
           "판넬조립부"
          ],
          [
           "판넬조립부"
          ],
          [
           "판넬조립부"
          ],
          [
           "판넬조립부"
          ]
         ],
         "hovertemplate": "<b>%{hovertext}</b><br><br>대구분=%{y}<br>작업표준 개수(로그)=%{z}<br>size=%{marker.size}<extra></extra>",
         "hovertext": [
          "판넬조립부",
          "판넬조립부",
          "판넬조립부",
          "판넬조립부",
          "판넬조립부",
          "판넬조립부"
         ],
         "legendgroup": "판넬조립부",
         "marker": {
          "color": "#EF553B",
          "opacity": 0.5,
          "size": [
           13,
           1,
           12,
           8,
           2,
           20
          ],
          "sizemode": "area",
          "sizeref": 0.0868,
          "symbol": "circle"
         },
         "mode": "markers",
         "name": "판넬조립부",
         "scene": "scene",
         "showlegend": true,
         "type": "scatter3d",
         "x": [
          "판넬조립부",
          "판넬조립부",
          "판넬조립부",
          "판넬조립부",
          "판넬조립부",
          "판넬조립부"
         ],
         "y": [
          "판넬",
          "대조립",
          "선행의장",
          "선실선행의장",
          "선실생산",
          "기능"
         ],
         "z": [
          13,
          1,
          12,
          8,
          2,
          20
         ]
        },
        {
         "customdata": [
          [
           "대조립1부"
          ],
          [
           "대조립1부"
          ],
          [
           "대조립1부"
          ],
          [
           "대조립1부"
          ],
          [
           "대조립1부"
          ]
         ],
         "hovertemplate": "<b>%{hovertext}</b><br><br>대구분=%{y}<br>작업표준 개수(로그)=%{z}<br>size=%{marker.size}<extra></extra>",
         "hovertext": [
          "대조립1부",
          "대조립1부",
          "대조립1부",
          "대조립1부",
          "대조립1부"
         ],
         "legendgroup": "대조립1부",
         "marker": {
          "color": "#00cc96",
          "opacity": 0.5,
          "size": [
           10,
           12,
           6,
           1,
           24
          ],
          "sizemode": "area",
          "sizeref": 0.0868,
          "symbol": "circle"
         },
         "mode": "markers",
         "name": "대조립1부",
         "scene": "scene",
         "showlegend": true,
         "type": "scatter3d",
         "x": [
          "대조립1부",
          "대조립1부",
          "대조립1부",
          "대조립1부",
          "대조립1부"
         ],
         "y": [
          "대조립",
          "선행의장",
          "선실선행의장",
          "선실생산",
          "기능"
         ],
         "z": [
          10,
          12,
          6,
          1,
          24
         ]
        },
        {
         "customdata": [
          [
           "대조립2부"
          ],
          [
           "대조립2부"
          ],
          [
           "대조립2부"
          ],
          [
           "대조립2부"
          ],
          [
           "대조립2부"
          ]
         ],
         "hovertemplate": "<b>%{hovertext}</b><br><br>대구분=%{y}<br>작업표준 개수(로그)=%{z}<br>size=%{marker.size}<extra></extra>",
         "hovertext": [
          "대조립2부",
          "대조립2부",
          "대조립2부",
          "대조립2부",
          "대조립2부"
         ],
         "legendgroup": "대조립2부",
         "marker": {
          "color": "#ab63fa",
          "opacity": 0.5,
          "size": [
           13,
           12,
           8,
           2,
           24
          ],
          "sizemode": "area",
          "sizeref": 0.0868,
          "symbol": "circle"
         },
         "mode": "markers",
         "name": "대조립2부",
         "scene": "scene",
         "showlegend": true,
         "type": "scatter3d",
         "x": [
          "대조립2부",
          "대조립2부",
          "대조립2부",
          "대조립2부",
          "대조립2부"
         ],
         "y": [
          "대조립",
          "선행의장",
          "선실선행의장",
          "선실생산",
          "기능"
         ],
         "z": [
          13,
          12,
          8,
          2,
          24
         ]
        },
        {
         "customdata": [
          [
           "의장생산부"
          ],
          [
           "의장생산부"
          ],
          [
           "의장생산부"
          ],
          [
           "의장생산부"
          ]
         ],
         "hovertemplate": "<b>%{hovertext}</b><br><br>대구분=%{y}<br>작업표준 개수(로그)=%{z}<br>size=%{marker.size}<extra></extra>",
         "hovertext": [
          "의장생산부",
          "의장생산부",
          "의장생산부",
          "의장생산부"
         ],
         "legendgroup": "의장생산부",
         "marker": {
          "color": "#FFA15A",
          "opacity": 0.5,
          "size": [
           30,
           1,
           1,
           12
          ],
          "sizemode": "area",
          "sizeref": 0.0868,
          "symbol": "circle"
         },
         "mode": "markers",
         "name": "의장생산부",
         "scene": "scene",
         "showlegend": true,
         "type": "scatter3d",
         "x": [
          "의장생산부",
          "의장생산부",
          "의장생산부",
          "의장생산부"
         ],
         "y": [
          "의장생산",
          "선행도장",
          "후행의장",
          "기능"
         ],
         "z": [
          30,
          1,
          1,
          12
         ]
        },
        {
         "customdata": [
          [
           "선행의장부"
          ],
          [
           "선행의장부"
          ],
          [
           "선행의장부"
          ],
          [
           "선행의장부"
          ],
          [
           "선행의장부"
          ]
         ],
         "hovertemplate": "<b>%{hovertext}</b><br><br>대구분=%{y}<br>작업표준 개수(로그)=%{z}<br>size=%{marker.size}<extra></extra>",
         "hovertext": [
          "선행의장부",
          "선행의장부",
          "선행의장부",
          "선행의장부",
          "선행의장부"
         ],
         "legendgroup": "선행의장부",
         "marker": {
          "color": "#19d3f3",
          "opacity": 0.5,
          "size": [
           34,
           29,
           2,
           1,
           22
          ],
          "sizemode": "area",
          "sizeref": 0.0868,
          "symbol": "circle"
         },
         "mode": "markers",
         "name": "선행의장부",
         "scene": "scene",
         "showlegend": true,
         "type": "scatter3d",
         "x": [
          "선행의장부",
          "선행의장부",
          "선행의장부",
          "선행의장부",
          "선행의장부"
         ],
         "y": [
          "선행의장",
          "선실선행의장",
          "선실생산",
          "기계의장",
          "기능"
         ],
         "z": [
          34,
          29,
          2,
          1,
          22
         ]
        },
        {
         "customdata": [
          [
           "선행도장부"
          ],
          [
           "선행도장부"
          ]
         ],
         "hovertemplate": "<b>%{hovertext}</b><br><br>대구분=%{y}<br>작업표준 개수(로그)=%{z}<br>size=%{marker.size}<extra></extra>",
         "hovertext": [
          "선행도장부",
          "선행도장부"
         ],
         "legendgroup": "선행도장부",
         "marker": {
          "color": "#FF6692",
          "opacity": 0.5,
          "size": [
           5,
           14
          ],
          "sizemode": "area",
          "sizeref": 0.0868,
          "symbol": "circle"
         },
         "mode": "markers",
         "name": "선행도장부",
         "scene": "scene",
         "showlegend": true,
         "type": "scatter3d",
         "x": [
          "선행도장부",
          "선행도장부"
         ],
         "y": [
          "선행도장",
          "기능"
         ],
         "z": [
          5,
          14
         ]
        },
        {
         "customdata": [
          [
           "선실생산부"
          ],
          [
           "선실생산부"
          ],
          [
           "선실생산부"
          ],
          [
           "선실생산부"
          ],
          [
           "선실생산부"
          ]
         ],
         "hovertemplate": "<b>%{hovertext}</b><br><br>대구분=%{y}<br>작업표준 개수(로그)=%{z}<br>size=%{marker.size}<extra></extra>",
         "hovertext": [
          "선실생산부",
          "선실생산부",
          "선실생산부",
          "선실생산부",
          "선실생산부"
         ],
         "legendgroup": "선실생산부",
         "marker": {
          "color": "#B6E880",
          "opacity": 0.5,
          "size": [
           2,
           2,
           83,
           1,
           11
          ],
          "sizemode": "area",
          "sizeref": 0.0868,
          "symbol": "circle"
         },
         "mode": "markers",
         "name": "선실생산부",
         "scene": "scene",
         "showlegend": true,
         "type": "scatter3d",
         "x": [
          "선실생산부",
          "선실생산부",
          "선실생산부",
          "선실생산부",
          "선실생산부"
         ],
         "y": [
          "선행의장",
          "선실선행의장",
          "선실생산",
          "후행의장",
          "기능"
         ],
         "z": [
          2,
          2,
          83,
          1,
          11
         ]
        },
        {
         "customdata": [
          [
           "건조1부"
          ],
          [
           "건조1부"
          ]
         ],
         "hovertemplate": "<b>%{hovertext}</b><br><br>대구분=%{y}<br>작업표준 개수(로그)=%{z}<br>size=%{marker.size}<extra></extra>",
         "hovertext": [
          "건조1부",
          "건조1부"
         ],
         "legendgroup": "건조1부",
         "marker": {
          "color": "#FF97FF",
          "opacity": 0.5,
          "size": [
           12,
           15
          ],
          "sizemode": "area",
          "sizeref": 0.0868,
          "symbol": "circle"
         },
         "mode": "markers",
         "name": "건조1부",
         "scene": "scene",
         "showlegend": true,
         "type": "scatter3d",
         "x": [
          "건조1부",
          "건조1부"
         ],
         "y": [
          "건조",
          "기능"
         ],
         "z": [
          12,
          15
         ]
        },
        {
         "customdata": [
          [
           "건조2부"
          ],
          [
           "건조2부"
          ]
         ],
         "hovertemplate": "<b>%{hovertext}</b><br><br>대구분=%{y}<br>작업표준 개수(로그)=%{z}<br>size=%{marker.size}<extra></extra>",
         "hovertext": [
          "건조2부",
          "건조2부"
         ],
         "legendgroup": "건조2부",
         "marker": {
          "color": "#FECB52",
          "opacity": 0.5,
          "size": [
           12,
           15
          ],
          "sizemode": "area",
          "sizeref": 0.0868,
          "symbol": "circle"
         },
         "mode": "markers",
         "name": "건조2부",
         "scene": "scene",
         "showlegend": true,
         "type": "scatter3d",
         "x": [
          "건조2부",
          "건조2부"
         ],
         "y": [
          "건조",
          "기능"
         ],
         "z": [
          12,
          15
         ]
        },
        {
         "customdata": [
          [
           "건조3부"
          ],
          [
           "건조3부"
          ]
         ],
         "hovertemplate": "<b>%{hovertext}</b><br><br>대구분=%{y}<br>작업표준 개수(로그)=%{z}<br>size=%{marker.size}<extra></extra>",
         "hovertext": [
          "건조3부",
          "건조3부"
         ],
         "legendgroup": "건조3부",
         "marker": {
          "color": "#636efa",
          "opacity": 0.5,
          "size": [
           12,
           15
          ],
          "sizemode": "area",
          "sizeref": 0.0868,
          "symbol": "circle"
         },
         "mode": "markers",
         "name": "건조3부",
         "scene": "scene",
         "showlegend": true,
         "type": "scatter3d",
         "x": [
          "건조3부",
          "건조3부"
         ],
         "y": [
          "건조",
          "기능"
         ],
         "z": [
          12,
          15
         ]
        },
        {
         "customdata": [
          [
           "의장1부"
          ],
          [
           "의장1부"
          ],
          [
           "의장1부"
          ],
          [
           "의장1부"
          ],
          [
           "의장1부"
          ],
          [
           "의장1부"
          ],
          [
           "의장1부"
          ]
         ],
         "hovertemplate": "<b>%{hovertext}</b><br><br>대구분=%{y}<br>작업표준 개수(로그)=%{z}<br>size=%{marker.size}<extra></extra>",
         "hovertext": [
          "의장1부",
          "의장1부",
          "의장1부",
          "의장1부",
          "의장1부",
          "의장1부",
          "의장1부"
         ],
         "legendgroup": "의장1부",
         "marker": {
          "color": "#EF553B",
          "opacity": 0.5,
          "size": [
           3,
           3,
           1,
           3,
           50,
           23,
           3
          ],
          "sizemode": "area",
          "sizeref": 0.0868,
          "symbol": "circle"
         },
         "mode": "markers",
         "name": "의장1부",
         "scene": "scene",
         "showlegend": true,
         "type": "scatter3d",
         "x": [
          "의장1부",
          "의장1부",
          "의장1부",
          "의장1부",
          "의장1부",
          "의장1부",
          "의장1부"
         ],
         "y": [
          "선행의장",
          "선실선행의장",
          "선행도장",
          "선실생산",
          "후행의장",
          "기능",
          "후행도장"
         ],
         "z": [
          3,
          3,
          1,
          3,
          50,
          23,
          3
         ]
        },
        {
         "customdata": [
          [
           "의장2부"
          ],
          [
           "의장2부"
          ],
          [
           "의장2부"
          ],
          [
           "의장2부"
          ],
          [
           "의장2부"
          ],
          [
           "의장2부"
          ],
          [
           "의장2부"
          ]
         ],
         "hovertemplate": "<b>%{hovertext}</b><br><br>대구분=%{y}<br>작업표준 개수(로그)=%{z}<br>size=%{marker.size}<extra></extra>",
         "hovertext": [
          "의장2부",
          "의장2부",
          "의장2부",
          "의장2부",
          "의장2부",
          "의장2부",
          "의장2부"
         ],
         "legendgroup": "의장2부",
         "marker": {
          "color": "#00cc96",
          "opacity": 0.5,
          "size": [
           3,
           3,
           1,
           3,
           50,
           23,
           3
          ],
          "sizemode": "area",
          "sizeref": 0.0868,
          "symbol": "circle"
         },
         "mode": "markers",
         "name": "의장2부",
         "scene": "scene",
         "showlegend": true,
         "type": "scatter3d",
         "x": [
          "의장2부",
          "의장2부",
          "의장2부",
          "의장2부",
          "의장2부",
          "의장2부",
          "의장2부"
         ],
         "y": [
          "선행의장",
          "선실선행의장",
          "선행도장",
          "선실생산",
          "후행의장",
          "기능",
          "후행도장"
         ],
         "z": [
          3,
          3,
          1,
          3,
          50,
          23,
          3
         ]
        },
        {
         "customdata": [
          [
           "의장3부"
          ],
          [
           "의장3부"
          ],
          [
           "의장3부"
          ],
          [
           "의장3부"
          ],
          [
           "의장3부"
          ],
          [
           "의장3부"
          ],
          [
           "의장3부"
          ]
         ],
         "hovertemplate": "<b>%{hovertext}</b><br><br>대구분=%{y}<br>작업표준 개수(로그)=%{z}<br>size=%{marker.size}<extra></extra>",
         "hovertext": [
          "의장3부",
          "의장3부",
          "의장3부",
          "의장3부",
          "의장3부",
          "의장3부",
          "의장3부"
         ],
         "legendgroup": "의장3부",
         "marker": {
          "color": "#ab63fa",
          "opacity": 0.5,
          "size": [
           3,
           3,
           1,
           3,
           50,
           23,
           3
          ],
          "sizemode": "area",
          "sizeref": 0.0868,
          "symbol": "circle"
         },
         "mode": "markers",
         "name": "의장3부",
         "scene": "scene",
         "showlegend": true,
         "type": "scatter3d",
         "x": [
          "의장3부",
          "의장3부",
          "의장3부",
          "의장3부",
          "의장3부",
          "의장3부",
          "의장3부"
         ],
         "y": [
          "선행의장",
          "선실선행의장",
          "선행도장",
          "선실생산",
          "후행의장",
          "기능",
          "후행도장"
         ],
         "z": [
          3,
          3,
          1,
          3,
          50,
          23,
          3
         ]
        },
        {
         "customdata": [
          [
           "CHS공사부"
          ],
          [
           "CHS공사부"
          ],
          [
           "CHS공사부"
          ]
         ],
         "hovertemplate": "<b>%{hovertext}</b><br><br>대구분=%{y}<br>작업표준 개수(로그)=%{z}<br>size=%{marker.size}<extra></extra>",
         "hovertext": [
          "CHS공사부",
          "CHS공사부",
          "CHS공사부"
         ],
         "legendgroup": "CHS공사부",
         "marker": {
          "color": "#FFA15A",
          "opacity": 0.5,
          "size": [
           1,
           50,
           15
          ],
          "sizemode": "area",
          "sizeref": 0.0868,
          "symbol": "circle"
         },
         "mode": "markers",
         "name": "CHS공사부",
         "scene": "scene",
         "showlegend": true,
         "type": "scatter3d",
         "x": [
          "CHS공사부",
          "CHS공사부",
          "CHS공사부"
         ],
         "y": [
          "선행의장",
          "후행의장",
          "기능"
         ],
         "z": [
          1,
          50,
          15
         ]
        },
        {
         "customdata": [
          [
           "기계의장부"
          ],
          [
           "기계의장부"
          ]
         ],
         "hovertemplate": "<b>%{hovertext}</b><br><br>대구분=%{y}<br>작업표준 개수(로그)=%{z}<br>size=%{marker.size}<extra></extra>",
         "hovertext": [
          "기계의장부",
          "기계의장부"
         ],
         "legendgroup": "기계의장부",
         "marker": {
          "color": "#19d3f3",
          "opacity": 0.5,
          "size": [
           82,
           9
          ],
          "sizemode": "area",
          "sizeref": 0.0868,
          "symbol": "circle"
         },
         "mode": "markers",
         "name": "기계의장부",
         "scene": "scene",
         "showlegend": true,
         "type": "scatter3d",
         "x": [
          "기계의장부",
          "기계의장부"
         ],
         "y": [
          "기계의장",
          "기능"
         ],
         "z": [
          82,
          9
         ]
        },
        {
         "customdata": [
          [
           "도장1부"
          ],
          [
           "도장1부"
          ],
          [
           "도장1부"
          ]
         ],
         "hovertemplate": "<b>%{hovertext}</b><br><br>대구분=%{y}<br>작업표준 개수(로그)=%{z}<br>size=%{marker.size}<extra></extra>",
         "hovertext": [
          "도장1부",
          "도장1부",
          "도장1부"
         ],
         "legendgroup": "도장1부",
         "marker": {
          "color": "#FF6692",
          "opacity": 0.5,
          "size": [
           1,
           14,
           4
          ],
          "sizemode": "area",
          "sizeref": 0.0868,
          "symbol": "circle"
         },
         "mode": "markers",
         "name": "도장1부",
         "scene": "scene",
         "showlegend": true,
         "type": "scatter3d",
         "x": [
          "도장1부",
          "도장1부",
          "도장1부"
         ],
         "y": [
          "선행도장",
          "기능",
          "후행도장"
         ],
         "z": [
          1,
          14,
          4
         ]
        },
        {
         "customdata": [
          [
           "도장2부"
          ],
          [
           "도장2부"
          ],
          [
           "도장2부"
          ]
         ],
         "hovertemplate": "<b>%{hovertext}</b><br><br>대구분=%{y}<br>작업표준 개수(로그)=%{z}<br>size=%{marker.size}<extra></extra>",
         "hovertext": [
          "도장2부",
          "도장2부",
          "도장2부"
         ],
         "legendgroup": "도장2부",
         "marker": {
          "color": "#B6E880",
          "opacity": 0.5,
          "size": [
           1,
           14,
           4
          ],
          "sizemode": "area",
          "sizeref": 0.0868,
          "symbol": "circle"
         },
         "mode": "markers",
         "name": "도장2부",
         "scene": "scene",
         "showlegend": true,
         "type": "scatter3d",
         "x": [
          "도장2부",
          "도장2부",
          "도장2부"
         ],
         "y": [
          "선행도장",
          "기능",
          "후행도장"
         ],
         "z": [
          1,
          14,
          4
         ]
        },
        {
         "customdata": [
          [
           "LNG공사부"
          ],
          [
           "LNG공사부"
          ]
         ],
         "hovertemplate": "<b>%{hovertext}</b><br><br>대구분=%{y}<br>작업표준 개수(로그)=%{z}<br>size=%{marker.size}<extra></extra>",
         "hovertext": [
          "LNG공사부",
          "LNG공사부"
         ],
         "legendgroup": "LNG공사부",
         "marker": {
          "color": "#FF97FF",
          "opacity": 0.5,
          "size": [
           17,
           11
          ],
          "sizemode": "area",
          "sizeref": 0.0868,
          "symbol": "circle"
         },
         "mode": "markers",
         "name": "LNG공사부",
         "scene": "scene",
         "showlegend": true,
         "type": "scatter3d",
         "x": [
          "LNG공사부",
          "LNG공사부"
         ],
         "y": [
          "LNG공사",
          "기능"
         ],
         "z": [
          17,
          11
         ]
        },
        {
         "customdata": [
          [
           "시운전부"
          ],
          [
           "시운전부"
          ],
          [
           "시운전부"
          ]
         ],
         "hovertemplate": "<b>%{hovertext}</b><br><br>대구분=%{y}<br>작업표준 개수(로그)=%{z}<br>size=%{marker.size}<extra></extra>",
         "hovertext": [
          "시운전부",
          "시운전부",
          "시운전부"
         ],
         "legendgroup": "시운전부",
         "marker": {
          "color": "#FECB52",
          "opacity": 0.5,
          "size": [
           1,
           217,
           6
          ],
          "sizemode": "area",
          "sizeref": 0.0868,
          "symbol": "circle"
         },
         "mode": "markers",
         "name": "시운전부",
         "scene": "scene",
         "showlegend": true,
         "type": "scatter3d",
         "x": [
          "시운전부",
          "시운전부",
          "시운전부"
         ],
         "y": [
          "선실선행의장",
          "시운전",
          "기능"
         ],
         "z": [
          1,
          217,
          6
         ]
        },
        {
         "customdata": [
          [
           "운항관제과"
          ],
          [
           "운항관제과"
          ]
         ],
         "hovertemplate": "<b>%{hovertext}</b><br><br>대구분=%{y}<br>작업표준 개수(로그)=%{z}<br>size=%{marker.size}<extra></extra>",
         "hovertext": [
          "운항관제과",
          "운항관제과"
         ],
         "legendgroup": "운항관제과",
         "marker": {
          "color": "#636efa",
          "opacity": 0.5,
          "size": [
           48,
           6
          ],
          "sizemode": "area",
          "sizeref": 0.0868,
          "symbol": "circle"
         },
         "mode": "markers",
         "name": "운항관제과",
         "scene": "scene",
         "showlegend": true,
         "type": "scatter3d",
         "x": [
          "운항관제과",
          "운항관제과"
         ],
         "y": [
          "운항관제",
          "기능"
         ],
         "z": [
          48,
          6
         ]
        },
        {
         "customdata": [
          [
           "외업공사지원부"
          ],
          [
           "외업공사지원부"
          ]
         ],
         "hovertemplate": "<b>%{hovertext}</b><br><br>대구분=%{y}<br>작업표준 개수(로그)=%{z}<br>size=%{marker.size}<extra></extra>",
         "hovertext": [
          "외업공사지원부",
          "외업공사지원부"
         ],
         "legendgroup": "외업공사지원부",
         "marker": {
          "color": "#EF553B",
          "opacity": 0.5,
          "size": [
           31,
           8
          ],
          "sizemode": "area",
          "sizeref": 0.0868,
          "symbol": "circle"
         },
         "mode": "markers",
         "name": "외업공사지원부",
         "scene": "scene",
         "showlegend": true,
         "type": "scatter3d",
         "x": [
          "외업공사지원부",
          "외업공사지원부"
         ],
         "y": [
          "공사지원",
          "기능"
         ],
         "z": [
          31,
          8
         ]
        },
        {
         "customdata": [
          [
           "발판지원부"
          ],
          [
           "발판지원부"
          ]
         ],
         "hovertemplate": "<b>%{hovertext}</b><br><br>대구분=%{y}<br>작업표준 개수(로그)=%{z}<br>size=%{marker.size}<extra></extra>",
         "hovertext": [
          "발판지원부",
          "발판지원부"
         ],
         "legendgroup": "발판지원부",
         "marker": {
          "color": "#00cc96",
          "opacity": 0.5,
          "size": [
           4,
           15
          ],
          "sizemode": "area",
          "sizeref": 0.0868,
          "symbol": "circle"
         },
         "mode": "markers",
         "name": "발판지원부",
         "scene": "scene",
         "showlegend": true,
         "type": "scatter3d",
         "x": [
          "발판지원부",
          "발판지원부"
         ],
         "y": [
          "공사지원",
          "기능"
         ],
         "z": [
          4,
          15
         ]
        },
        {
         "customdata": [
          [
           "자재운영부"
          ]
         ],
         "hovertemplate": "<b>%{hovertext}</b><br><br>대구분=%{y}<br>작업표준 개수(로그)=%{z}<br>size=%{marker.size}<extra></extra>",
         "hovertext": [
          "자재운영부"
         ],
         "legendgroup": "자재운영부",
         "marker": {
          "color": "#ab63fa",
          "opacity": 0.5,
          "size": [
           8
          ],
          "sizemode": "area",
          "sizeref": 0.0868,
          "symbol": "circle"
         },
         "mode": "markers",
         "name": "자재운영부",
         "scene": "scene",
         "showlegend": true,
         "type": "scatter3d",
         "x": [
          "자재운영부"
         ],
         "y": [
          "기능"
         ],
         "z": [
          8
         ]
        },
        {
         "customdata": [
          [
           "조선해양품질경영1부"
          ],
          [
           "조선해양품질경영1부"
          ]
         ],
         "hovertemplate": "<b>%{hovertext}</b><br><br>대구분=%{y}<br>작업표준 개수(로그)=%{z}<br>size=%{marker.size}<extra></extra>",
         "hovertext": [
          "조선해양품질경영1부",
          "조선해양품질경영1부"
         ],
         "legendgroup": "조선해양품질경영1부",
         "marker": {
          "color": "#FFA15A",
          "opacity": 0.5,
          "size": [
           16,
           3
          ],
          "sizemode": "area",
          "sizeref": 0.0868,
          "symbol": "circle"
         },
         "mode": "markers",
         "name": "조선해양품질경영1부",
         "scene": "scene",
         "showlegend": true,
         "type": "scatter3d",
         "x": [
          "조선해양품질경영1부",
          "조선해양품질경영1부"
         ],
         "y": [
          "QM",
          "기능"
         ],
         "z": [
          16,
          3
         ]
        },
        {
         "customdata": [
          [
           "조선해양품질경영2부"
          ],
          [
           "조선해양품질경영2부"
          ]
         ],
         "hovertemplate": "<b>%{hovertext}</b><br><br>대구분=%{y}<br>작업표준 개수(로그)=%{z}<br>size=%{marker.size}<extra></extra>",
         "hovertext": [
          "조선해양품질경영2부",
          "조선해양품질경영2부"
         ],
         "legendgroup": "조선해양품질경영2부",
         "marker": {
          "color": "#19d3f3",
          "opacity": 0.5,
          "size": [
           14,
           3
          ],
          "sizemode": "area",
          "sizeref": 0.0868,
          "symbol": "circle"
         },
         "mode": "markers",
         "name": "조선해양품질경영2부",
         "scene": "scene",
         "showlegend": true,
         "type": "scatter3d",
         "x": [
          "조선해양품질경영2부",
          "조선해양품질경영2부"
         ],
         "y": [
          "QM",
          "기능"
         ],
         "z": [
          14,
          3
         ]
        }
       ],
       "layout": {
        "height": 900,
        "legend": {
         "itemsizing": "constant",
         "title": {
          "text": "부서"
         },
         "tracegroupgap": 0
        },
        "scene": {
         "domain": {
          "x": [
           0,
           1
          ],
          "y": [
           0,
           1
          ]
         },
         "xaxis": {
          "categoryarray": [
           "가공소조립부",
           "판넬조립부",
           "대조립1부",
           "대조립2부",
           "의장생산부",
           "선행의장부",
           "선행도장부",
           "선실생산부",
           "건조1부",
           "건조2부",
           "건조3부",
           "의장1부",
           "의장2부",
           "의장3부",
           "CHS공사부",
           "기계의장부",
           "도장1부",
           "도장2부",
           "LNG공사부",
           "시운전부",
           "운항관제과",
           "외업공사지원부",
           "발판지원부",
           "자재운영부",
           "조선해양품질경영1부",
           "조선해양품질경영2부"
          ],
          "categoryorder": "array",
          "title": {
           "text": "부서"
          }
         },
         "yaxis": {
          "title": {
           "text": "대구분"
          }
         },
         "zaxis": {
          "title": {
           "text": "작업표준 개수(로그)"
          },
          "type": "log"
         }
        },
        "template": {
         "data": {
          "bar": [
           {
            "error_x": {
             "color": "#f2f5fa"
            },
            "error_y": {
             "color": "#f2f5fa"
            },
            "marker": {
             "line": {
              "color": "rgb(17,17,17)",
              "width": 0.5
             }
            },
            "type": "bar"
           }
          ],
          "barpolar": [
           {
            "marker": {
             "line": {
              "color": "rgb(17,17,17)",
              "width": 0.5
             }
            },
            "type": "barpolar"
           }
          ],
          "carpet": [
           {
            "aaxis": {
             "endlinecolor": "#A2B1C6",
             "gridcolor": "#506784",
             "linecolor": "#506784",
             "minorgridcolor": "#506784",
             "startlinecolor": "#A2B1C6"
            },
            "baxis": {
             "endlinecolor": "#A2B1C6",
             "gridcolor": "#506784",
             "linecolor": "#506784",
             "minorgridcolor": "#506784",
             "startlinecolor": "#A2B1C6"
            },
            "type": "carpet"
           }
          ],
          "choropleth": [
           {
            "colorbar": {
             "outlinewidth": 0,
             "ticks": ""
            },
            "type": "choropleth"
           }
          ],
          "contour": [
           {
            "colorbar": {
             "outlinewidth": 0,
             "ticks": ""
            },
            "colorscale": [
             [
              0,
              "#0d0887"
             ],
             [
              0.1111111111111111,
              "#46039f"
             ],
             [
              0.2222222222222222,
              "#7201a8"
             ],
             [
              0.3333333333333333,
              "#9c179e"
             ],
             [
              0.4444444444444444,
              "#bd3786"
             ],
             [
              0.5555555555555556,
              "#d8576b"
             ],
             [
              0.6666666666666666,
              "#ed7953"
             ],
             [
              0.7777777777777778,
              "#fb9f3a"
             ],
             [
              0.8888888888888888,
              "#fdca26"
             ],
             [
              1,
              "#f0f921"
             ]
            ],
            "type": "contour"
           }
          ],
          "contourcarpet": [
           {
            "colorbar": {
             "outlinewidth": 0,
             "ticks": ""
            },
            "type": "contourcarpet"
           }
          ],
          "heatmap": [
           {
            "colorbar": {
             "outlinewidth": 0,
             "ticks": ""
            },
            "colorscale": [
             [
              0,
              "#0d0887"
             ],
             [
              0.1111111111111111,
              "#46039f"
             ],
             [
              0.2222222222222222,
              "#7201a8"
             ],
             [
              0.3333333333333333,
              "#9c179e"
             ],
             [
              0.4444444444444444,
              "#bd3786"
             ],
             [
              0.5555555555555556,
              "#d8576b"
             ],
             [
              0.6666666666666666,
              "#ed7953"
             ],
             [
              0.7777777777777778,
              "#fb9f3a"
             ],
             [
              0.8888888888888888,
              "#fdca26"
             ],
             [
              1,
              "#f0f921"
             ]
            ],
            "type": "heatmap"
           }
          ],
          "heatmapgl": [
           {
            "colorbar": {
             "outlinewidth": 0,
             "ticks": ""
            },
            "colorscale": [
             [
              0,
              "#0d0887"
             ],
             [
              0.1111111111111111,
              "#46039f"
             ],
             [
              0.2222222222222222,
              "#7201a8"
             ],
             [
              0.3333333333333333,
              "#9c179e"
             ],
             [
              0.4444444444444444,
              "#bd3786"
             ],
             [
              0.5555555555555556,
              "#d8576b"
             ],
             [
              0.6666666666666666,
              "#ed7953"
             ],
             [
              0.7777777777777778,
              "#fb9f3a"
             ],
             [
              0.8888888888888888,
              "#fdca26"
             ],
             [
              1,
              "#f0f921"
             ]
            ],
            "type": "heatmapgl"
           }
          ],
          "histogram": [
           {
            "marker": {
             "colorbar": {
              "outlinewidth": 0,
              "ticks": ""
             }
            },
            "type": "histogram"
           }
          ],
          "histogram2d": [
           {
            "colorbar": {
             "outlinewidth": 0,
             "ticks": ""
            },
            "colorscale": [
             [
              0,
              "#0d0887"
             ],
             [
              0.1111111111111111,
              "#46039f"
             ],
             [
              0.2222222222222222,
              "#7201a8"
             ],
             [
              0.3333333333333333,
              "#9c179e"
             ],
             [
              0.4444444444444444,
              "#bd3786"
             ],
             [
              0.5555555555555556,
              "#d8576b"
             ],
             [
              0.6666666666666666,
              "#ed7953"
             ],
             [
              0.7777777777777778,
              "#fb9f3a"
             ],
             [
              0.8888888888888888,
              "#fdca26"
             ],
             [
              1,
              "#f0f921"
             ]
            ],
            "type": "histogram2d"
           }
          ],
          "histogram2dcontour": [
           {
            "colorbar": {
             "outlinewidth": 0,
             "ticks": ""
            },
            "colorscale": [
             [
              0,
              "#0d0887"
             ],
             [
              0.1111111111111111,
              "#46039f"
             ],
             [
              0.2222222222222222,
              "#7201a8"
             ],
             [
              0.3333333333333333,
              "#9c179e"
             ],
             [
              0.4444444444444444,
              "#bd3786"
             ],
             [
              0.5555555555555556,
              "#d8576b"
             ],
             [
              0.6666666666666666,
              "#ed7953"
             ],
             [
              0.7777777777777778,
              "#fb9f3a"
             ],
             [
              0.8888888888888888,
              "#fdca26"
             ],
             [
              1,
              "#f0f921"
             ]
            ],
            "type": "histogram2dcontour"
           }
          ],
          "mesh3d": [
           {
            "colorbar": {
             "outlinewidth": 0,
             "ticks": ""
            },
            "type": "mesh3d"
           }
          ],
          "parcoords": [
           {
            "line": {
             "colorbar": {
              "outlinewidth": 0,
              "ticks": ""
             }
            },
            "type": "parcoords"
           }
          ],
          "pie": [
           {
            "automargin": true,
            "type": "pie"
           }
          ],
          "scatter": [
           {
            "marker": {
             "line": {
              "color": "#283442"
             }
            },
            "type": "scatter"
           }
          ],
          "scatter3d": [
           {
            "line": {
             "colorbar": {
              "outlinewidth": 0,
              "ticks": ""
             }
            },
            "marker": {
             "colorbar": {
              "outlinewidth": 0,
              "ticks": ""
             }
            },
            "type": "scatter3d"
           }
          ],
          "scattercarpet": [
           {
            "marker": {
             "colorbar": {
              "outlinewidth": 0,
              "ticks": ""
             }
            },
            "type": "scattercarpet"
           }
          ],
          "scattergeo": [
           {
            "marker": {
             "colorbar": {
              "outlinewidth": 0,
              "ticks": ""
             }
            },
            "type": "scattergeo"
           }
          ],
          "scattergl": [
           {
            "marker": {
             "line": {
              "color": "#283442"
             }
            },
            "type": "scattergl"
           }
          ],
          "scattermapbox": [
           {
            "marker": {
             "colorbar": {
              "outlinewidth": 0,
              "ticks": ""
             }
            },
            "type": "scattermapbox"
           }
          ],
          "scatterpolar": [
           {
            "marker": {
             "colorbar": {
              "outlinewidth": 0,
              "ticks": ""
             }
            },
            "type": "scatterpolar"
           }
          ],
          "scatterpolargl": [
           {
            "marker": {
             "colorbar": {
              "outlinewidth": 0,
              "ticks": ""
             }
            },
            "type": "scatterpolargl"
           }
          ],
          "scatterternary": [
           {
            "marker": {
             "colorbar": {
              "outlinewidth": 0,
              "ticks": ""
             }
            },
            "type": "scatterternary"
           }
          ],
          "surface": [
           {
            "colorbar": {
             "outlinewidth": 0,
             "ticks": ""
            },
            "colorscale": [
             [
              0,
              "#0d0887"
             ],
             [
              0.1111111111111111,
              "#46039f"
             ],
             [
              0.2222222222222222,
              "#7201a8"
             ],
             [
              0.3333333333333333,
              "#9c179e"
             ],
             [
              0.4444444444444444,
              "#bd3786"
             ],
             [
              0.5555555555555556,
              "#d8576b"
             ],
             [
              0.6666666666666666,
              "#ed7953"
             ],
             [
              0.7777777777777778,
              "#fb9f3a"
             ],
             [
              0.8888888888888888,
              "#fdca26"
             ],
             [
              1,
              "#f0f921"
             ]
            ],
            "type": "surface"
           }
          ],
          "table": [
           {
            "cells": {
             "fill": {
              "color": "#506784"
             },
             "line": {
              "color": "rgb(17,17,17)"
             }
            },
            "header": {
             "fill": {
              "color": "#2a3f5f"
             },
             "line": {
              "color": "rgb(17,17,17)"
             }
            },
            "type": "table"
           }
          ]
         },
         "layout": {
          "annotationdefaults": {
           "arrowcolor": "#f2f5fa",
           "arrowhead": 0,
           "arrowwidth": 1
          },
          "autotypenumbers": "strict",
          "coloraxis": {
           "colorbar": {
            "outlinewidth": 0,
            "ticks": ""
           }
          },
          "colorscale": {
           "diverging": [
            [
             0,
             "#8e0152"
            ],
            [
             0.1,
             "#c51b7d"
            ],
            [
             0.2,
             "#de77ae"
            ],
            [
             0.3,
             "#f1b6da"
            ],
            [
             0.4,
             "#fde0ef"
            ],
            [
             0.5,
             "#f7f7f7"
            ],
            [
             0.6,
             "#e6f5d0"
            ],
            [
             0.7,
             "#b8e186"
            ],
            [
             0.8,
             "#7fbc41"
            ],
            [
             0.9,
             "#4d9221"
            ],
            [
             1,
             "#276419"
            ]
           ],
           "sequential": [
            [
             0,
             "#0d0887"
            ],
            [
             0.1111111111111111,
             "#46039f"
            ],
            [
             0.2222222222222222,
             "#7201a8"
            ],
            [
             0.3333333333333333,
             "#9c179e"
            ],
            [
             0.4444444444444444,
             "#bd3786"
            ],
            [
             0.5555555555555556,
             "#d8576b"
            ],
            [
             0.6666666666666666,
             "#ed7953"
            ],
            [
             0.7777777777777778,
             "#fb9f3a"
            ],
            [
             0.8888888888888888,
             "#fdca26"
            ],
            [
             1,
             "#f0f921"
            ]
           ],
           "sequentialminus": [
            [
             0,
             "#0d0887"
            ],
            [
             0.1111111111111111,
             "#46039f"
            ],
            [
             0.2222222222222222,
             "#7201a8"
            ],
            [
             0.3333333333333333,
             "#9c179e"
            ],
            [
             0.4444444444444444,
             "#bd3786"
            ],
            [
             0.5555555555555556,
             "#d8576b"
            ],
            [
             0.6666666666666666,
             "#ed7953"
            ],
            [
             0.7777777777777778,
             "#fb9f3a"
            ],
            [
             0.8888888888888888,
             "#fdca26"
            ],
            [
             1,
             "#f0f921"
            ]
           ]
          },
          "colorway": [
           "#636efa",
           "#EF553B",
           "#00cc96",
           "#ab63fa",
           "#FFA15A",
           "#19d3f3",
           "#FF6692",
           "#B6E880",
           "#FF97FF",
           "#FECB52"
          ],
          "font": {
           "color": "#f2f5fa"
          },
          "geo": {
           "bgcolor": "rgb(17,17,17)",
           "lakecolor": "rgb(17,17,17)",
           "landcolor": "rgb(17,17,17)",
           "showlakes": true,
           "showland": true,
           "subunitcolor": "#506784"
          },
          "hoverlabel": {
           "align": "left"
          },
          "hovermode": "closest",
          "mapbox": {
           "style": "dark"
          },
          "paper_bgcolor": "rgb(17,17,17)",
          "plot_bgcolor": "rgb(17,17,17)",
          "polar": {
           "angularaxis": {
            "gridcolor": "#506784",
            "linecolor": "#506784",
            "ticks": ""
           },
           "bgcolor": "rgb(17,17,17)",
           "radialaxis": {
            "gridcolor": "#506784",
            "linecolor": "#506784",
            "ticks": ""
           }
          },
          "scene": {
           "xaxis": {
            "backgroundcolor": "rgb(17,17,17)",
            "gridcolor": "#506784",
            "gridwidth": 2,
            "linecolor": "#506784",
            "showbackground": true,
            "ticks": "",
            "zerolinecolor": "#C8D4E3"
           },
           "yaxis": {
            "backgroundcolor": "rgb(17,17,17)",
            "gridcolor": "#506784",
            "gridwidth": 2,
            "linecolor": "#506784",
            "showbackground": true,
            "ticks": "",
            "zerolinecolor": "#C8D4E3"
           },
           "zaxis": {
            "backgroundcolor": "rgb(17,17,17)",
            "gridcolor": "#506784",
            "gridwidth": 2,
            "linecolor": "#506784",
            "showbackground": true,
            "ticks": "",
            "zerolinecolor": "#C8D4E3"
           }
          },
          "shapedefaults": {
           "line": {
            "color": "#f2f5fa"
           }
          },
          "sliderdefaults": {
           "bgcolor": "#C8D4E3",
           "bordercolor": "rgb(17,17,17)",
           "borderwidth": 1,
           "tickwidth": 0
          },
          "ternary": {
           "aaxis": {
            "gridcolor": "#506784",
            "linecolor": "#506784",
            "ticks": ""
           },
           "baxis": {
            "gridcolor": "#506784",
            "linecolor": "#506784",
            "ticks": ""
           },
           "bgcolor": "rgb(17,17,17)",
           "caxis": {
            "gridcolor": "#506784",
            "linecolor": "#506784",
            "ticks": ""
           }
          },
          "title": {
           "x": 0.05
          },
          "updatemenudefaults": {
           "bgcolor": "#506784",
           "borderwidth": 0
          },
          "xaxis": {
           "automargin": true,
           "gridcolor": "#283442",
           "linecolor": "#506784",
           "ticks": "",
           "title": {
            "standoff": 15
           },
           "zerolinecolor": "#283442",
           "zerolinewidth": 2
          },
          "yaxis": {
           "automargin": true,
           "gridcolor": "#283442",
           "linecolor": "#506784",
           "ticks": "",
           "title": {
            "standoff": 15
           },
           "zerolinecolor": "#283442",
           "zerolinewidth": 2
          }
         }
        },
        "title": {
         "text": "부서/공정별 작업표준 분포(로그 스케일)"
        }
       }
      },
      "text/html": [
       "<div>                            <div id=\"4295998a-a622-403f-941d-3598730f77c9\" class=\"plotly-graph-div\" style=\"height:900px; width:100%;\"></div>            <script type=\"text/javascript\">                require([\"plotly\"], function(Plotly) {                    window.PLOTLYENV=window.PLOTLYENV || {};                                    if (document.getElementById(\"4295998a-a622-403f-941d-3598730f77c9\")) {                    Plotly.newPlot(                        \"4295998a-a622-403f-941d-3598730f77c9\",                        [{\"customdata\": [[\"\\uac00\\uacf5\\uc18c\\uc870\\ub9bd\\ubd80\"], [\"\\uac00\\uacf5\\uc18c\\uc870\\ub9bd\\ubd80\"], [\"\\uac00\\uacf5\\uc18c\\uc870\\ub9bd\\ubd80\"], [\"\\uac00\\uacf5\\uc18c\\uc870\\ub9bd\\ubd80\"], [\"\\uac00\\uacf5\\uc18c\\uc870\\ub9bd\\ubd80\"]], \"hovertemplate\": \"<b>%{hovertext}</b><br><br>\\ub300\\uad6c\\ubd84=%{y}<br>\\uc791\\uc5c5\\ud45c\\uc900 \\uac1c\\uc218(\\ub85c\\uadf8)=%{z}<br>size=%{marker.size}<extra></extra>\", \"hovertext\": [\"\\uac00\\uacf5\\uc18c\\uc870\\ub9bd\\ubd80\", \"\\uac00\\uacf5\\uc18c\\uc870\\ub9bd\\ubd80\", \"\\uac00\\uacf5\\uc18c\\uc870\\ub9bd\\ubd80\", \"\\uac00\\uacf5\\uc18c\\uc870\\ub9bd\\ubd80\", \"\\uac00\\uacf5\\uc18c\\uc870\\ub9bd\\ubd80\"], \"legendgroup\": \"\\uac00\\uacf5\\uc18c\\uc870\\ub9bd\\ubd80\", \"marker\": {\"color\": \"#636efa\", \"opacity\": 0.5, \"size\": [7, 12, 4, 1, 20], \"sizemode\": \"area\", \"sizeref\": 0.0868, \"symbol\": \"circle\"}, \"mode\": \"markers\", \"name\": \"\\uac00\\uacf5\\uc18c\\uc870\\ub9bd\\ubd80\", \"scene\": \"scene\", \"showlegend\": true, \"type\": \"scatter3d\", \"x\": [\"\\uac00\\uacf5\\uc18c\\uc870\\ub9bd\\ubd80\", \"\\uac00\\uacf5\\uc18c\\uc870\\ub9bd\\ubd80\", \"\\uac00\\uacf5\\uc18c\\uc870\\ub9bd\\ubd80\", \"\\uac00\\uacf5\\uc18c\\uc870\\ub9bd\\ubd80\", \"\\uac00\\uacf5\\uc18c\\uc870\\ub9bd\\ubd80\"], \"y\": [\"\\uac00\\uacf5\", \"\\uc18c\\uc870\\ub9bd\", \"\\uc120\\ud589\\uc758\\uc7a5\", \"\\uc120\\uc2e4\\uc120\\ud589\\uc758\\uc7a5\", \"\\uae30\\ub2a5\"], \"z\": [7, 12, 4, 1, 20]}, {\"customdata\": [[\"\\ud310\\ub12c\\uc870\\ub9bd\\ubd80\"], [\"\\ud310\\ub12c\\uc870\\ub9bd\\ubd80\"], [\"\\ud310\\ub12c\\uc870\\ub9bd\\ubd80\"], [\"\\ud310\\ub12c\\uc870\\ub9bd\\ubd80\"], [\"\\ud310\\ub12c\\uc870\\ub9bd\\ubd80\"], [\"\\ud310\\ub12c\\uc870\\ub9bd\\ubd80\"]], \"hovertemplate\": \"<b>%{hovertext}</b><br><br>\\ub300\\uad6c\\ubd84=%{y}<br>\\uc791\\uc5c5\\ud45c\\uc900 \\uac1c\\uc218(\\ub85c\\uadf8)=%{z}<br>size=%{marker.size}<extra></extra>\", \"hovertext\": [\"\\ud310\\ub12c\\uc870\\ub9bd\\ubd80\", \"\\ud310\\ub12c\\uc870\\ub9bd\\ubd80\", \"\\ud310\\ub12c\\uc870\\ub9bd\\ubd80\", \"\\ud310\\ub12c\\uc870\\ub9bd\\ubd80\", \"\\ud310\\ub12c\\uc870\\ub9bd\\ubd80\", \"\\ud310\\ub12c\\uc870\\ub9bd\\ubd80\"], \"legendgroup\": \"\\ud310\\ub12c\\uc870\\ub9bd\\ubd80\", \"marker\": {\"color\": \"#EF553B\", \"opacity\": 0.5, \"size\": [13, 1, 12, 8, 2, 20], \"sizemode\": \"area\", \"sizeref\": 0.0868, \"symbol\": \"circle\"}, \"mode\": \"markers\", \"name\": \"\\ud310\\ub12c\\uc870\\ub9bd\\ubd80\", \"scene\": \"scene\", \"showlegend\": true, \"type\": \"scatter3d\", \"x\": [\"\\ud310\\ub12c\\uc870\\ub9bd\\ubd80\", \"\\ud310\\ub12c\\uc870\\ub9bd\\ubd80\", \"\\ud310\\ub12c\\uc870\\ub9bd\\ubd80\", \"\\ud310\\ub12c\\uc870\\ub9bd\\ubd80\", \"\\ud310\\ub12c\\uc870\\ub9bd\\ubd80\", \"\\ud310\\ub12c\\uc870\\ub9bd\\ubd80\"], \"y\": [\"\\ud310\\ub12c\", \"\\ub300\\uc870\\ub9bd\", \"\\uc120\\ud589\\uc758\\uc7a5\", \"\\uc120\\uc2e4\\uc120\\ud589\\uc758\\uc7a5\", \"\\uc120\\uc2e4\\uc0dd\\uc0b0\", \"\\uae30\\ub2a5\"], \"z\": [13, 1, 12, 8, 2, 20]}, {\"customdata\": [[\"\\ub300\\uc870\\ub9bd1\\ubd80\"], [\"\\ub300\\uc870\\ub9bd1\\ubd80\"], [\"\\ub300\\uc870\\ub9bd1\\ubd80\"], [\"\\ub300\\uc870\\ub9bd1\\ubd80\"], [\"\\ub300\\uc870\\ub9bd1\\ubd80\"]], \"hovertemplate\": \"<b>%{hovertext}</b><br><br>\\ub300\\uad6c\\ubd84=%{y}<br>\\uc791\\uc5c5\\ud45c\\uc900 \\uac1c\\uc218(\\ub85c\\uadf8)=%{z}<br>size=%{marker.size}<extra></extra>\", \"hovertext\": [\"\\ub300\\uc870\\ub9bd1\\ubd80\", \"\\ub300\\uc870\\ub9bd1\\ubd80\", \"\\ub300\\uc870\\ub9bd1\\ubd80\", \"\\ub300\\uc870\\ub9bd1\\ubd80\", \"\\ub300\\uc870\\ub9bd1\\ubd80\"], \"legendgroup\": \"\\ub300\\uc870\\ub9bd1\\ubd80\", \"marker\": {\"color\": \"#00cc96\", \"opacity\": 0.5, \"size\": [10, 12, 6, 1, 24], \"sizemode\": \"area\", \"sizeref\": 0.0868, \"symbol\": \"circle\"}, \"mode\": \"markers\", \"name\": \"\\ub300\\uc870\\ub9bd1\\ubd80\", \"scene\": \"scene\", \"showlegend\": true, \"type\": \"scatter3d\", \"x\": [\"\\ub300\\uc870\\ub9bd1\\ubd80\", \"\\ub300\\uc870\\ub9bd1\\ubd80\", \"\\ub300\\uc870\\ub9bd1\\ubd80\", \"\\ub300\\uc870\\ub9bd1\\ubd80\", \"\\ub300\\uc870\\ub9bd1\\ubd80\"], \"y\": [\"\\ub300\\uc870\\ub9bd\", \"\\uc120\\ud589\\uc758\\uc7a5\", \"\\uc120\\uc2e4\\uc120\\ud589\\uc758\\uc7a5\", \"\\uc120\\uc2e4\\uc0dd\\uc0b0\", \"\\uae30\\ub2a5\"], \"z\": [10, 12, 6, 1, 24]}, {\"customdata\": [[\"\\ub300\\uc870\\ub9bd2\\ubd80\"], [\"\\ub300\\uc870\\ub9bd2\\ubd80\"], [\"\\ub300\\uc870\\ub9bd2\\ubd80\"], [\"\\ub300\\uc870\\ub9bd2\\ubd80\"], [\"\\ub300\\uc870\\ub9bd2\\ubd80\"]], \"hovertemplate\": \"<b>%{hovertext}</b><br><br>\\ub300\\uad6c\\ubd84=%{y}<br>\\uc791\\uc5c5\\ud45c\\uc900 \\uac1c\\uc218(\\ub85c\\uadf8)=%{z}<br>size=%{marker.size}<extra></extra>\", \"hovertext\": [\"\\ub300\\uc870\\ub9bd2\\ubd80\", \"\\ub300\\uc870\\ub9bd2\\ubd80\", \"\\ub300\\uc870\\ub9bd2\\ubd80\", \"\\ub300\\uc870\\ub9bd2\\ubd80\", \"\\ub300\\uc870\\ub9bd2\\ubd80\"], \"legendgroup\": \"\\ub300\\uc870\\ub9bd2\\ubd80\", \"marker\": {\"color\": \"#ab63fa\", \"opacity\": 0.5, \"size\": [13, 12, 8, 2, 24], \"sizemode\": \"area\", \"sizeref\": 0.0868, \"symbol\": \"circle\"}, \"mode\": \"markers\", \"name\": \"\\ub300\\uc870\\ub9bd2\\ubd80\", \"scene\": \"scene\", \"showlegend\": true, \"type\": \"scatter3d\", \"x\": [\"\\ub300\\uc870\\ub9bd2\\ubd80\", \"\\ub300\\uc870\\ub9bd2\\ubd80\", \"\\ub300\\uc870\\ub9bd2\\ubd80\", \"\\ub300\\uc870\\ub9bd2\\ubd80\", \"\\ub300\\uc870\\ub9bd2\\ubd80\"], \"y\": [\"\\ub300\\uc870\\ub9bd\", \"\\uc120\\ud589\\uc758\\uc7a5\", \"\\uc120\\uc2e4\\uc120\\ud589\\uc758\\uc7a5\", \"\\uc120\\uc2e4\\uc0dd\\uc0b0\", \"\\uae30\\ub2a5\"], \"z\": [13, 12, 8, 2, 24]}, {\"customdata\": [[\"\\uc758\\uc7a5\\uc0dd\\uc0b0\\ubd80\"], [\"\\uc758\\uc7a5\\uc0dd\\uc0b0\\ubd80\"], [\"\\uc758\\uc7a5\\uc0dd\\uc0b0\\ubd80\"], [\"\\uc758\\uc7a5\\uc0dd\\uc0b0\\ubd80\"]], \"hovertemplate\": \"<b>%{hovertext}</b><br><br>\\ub300\\uad6c\\ubd84=%{y}<br>\\uc791\\uc5c5\\ud45c\\uc900 \\uac1c\\uc218(\\ub85c\\uadf8)=%{z}<br>size=%{marker.size}<extra></extra>\", \"hovertext\": [\"\\uc758\\uc7a5\\uc0dd\\uc0b0\\ubd80\", \"\\uc758\\uc7a5\\uc0dd\\uc0b0\\ubd80\", \"\\uc758\\uc7a5\\uc0dd\\uc0b0\\ubd80\", \"\\uc758\\uc7a5\\uc0dd\\uc0b0\\ubd80\"], \"legendgroup\": \"\\uc758\\uc7a5\\uc0dd\\uc0b0\\ubd80\", \"marker\": {\"color\": \"#FFA15A\", \"opacity\": 0.5, \"size\": [30, 1, 1, 12], \"sizemode\": \"area\", \"sizeref\": 0.0868, \"symbol\": \"circle\"}, \"mode\": \"markers\", \"name\": \"\\uc758\\uc7a5\\uc0dd\\uc0b0\\ubd80\", \"scene\": \"scene\", \"showlegend\": true, \"type\": \"scatter3d\", \"x\": [\"\\uc758\\uc7a5\\uc0dd\\uc0b0\\ubd80\", \"\\uc758\\uc7a5\\uc0dd\\uc0b0\\ubd80\", \"\\uc758\\uc7a5\\uc0dd\\uc0b0\\ubd80\", \"\\uc758\\uc7a5\\uc0dd\\uc0b0\\ubd80\"], \"y\": [\"\\uc758\\uc7a5\\uc0dd\\uc0b0\", \"\\uc120\\ud589\\ub3c4\\uc7a5\", \"\\ud6c4\\ud589\\uc758\\uc7a5\", \"\\uae30\\ub2a5\"], \"z\": [30, 1, 1, 12]}, {\"customdata\": [[\"\\uc120\\ud589\\uc758\\uc7a5\\ubd80\"], [\"\\uc120\\ud589\\uc758\\uc7a5\\ubd80\"], [\"\\uc120\\ud589\\uc758\\uc7a5\\ubd80\"], [\"\\uc120\\ud589\\uc758\\uc7a5\\ubd80\"], [\"\\uc120\\ud589\\uc758\\uc7a5\\ubd80\"]], \"hovertemplate\": \"<b>%{hovertext}</b><br><br>\\ub300\\uad6c\\ubd84=%{y}<br>\\uc791\\uc5c5\\ud45c\\uc900 \\uac1c\\uc218(\\ub85c\\uadf8)=%{z}<br>size=%{marker.size}<extra></extra>\", \"hovertext\": [\"\\uc120\\ud589\\uc758\\uc7a5\\ubd80\", \"\\uc120\\ud589\\uc758\\uc7a5\\ubd80\", \"\\uc120\\ud589\\uc758\\uc7a5\\ubd80\", \"\\uc120\\ud589\\uc758\\uc7a5\\ubd80\", \"\\uc120\\ud589\\uc758\\uc7a5\\ubd80\"], \"legendgroup\": \"\\uc120\\ud589\\uc758\\uc7a5\\ubd80\", \"marker\": {\"color\": \"#19d3f3\", \"opacity\": 0.5, \"size\": [34, 29, 2, 1, 22], \"sizemode\": \"area\", \"sizeref\": 0.0868, \"symbol\": \"circle\"}, \"mode\": \"markers\", \"name\": \"\\uc120\\ud589\\uc758\\uc7a5\\ubd80\", \"scene\": \"scene\", \"showlegend\": true, \"type\": \"scatter3d\", \"x\": [\"\\uc120\\ud589\\uc758\\uc7a5\\ubd80\", \"\\uc120\\ud589\\uc758\\uc7a5\\ubd80\", \"\\uc120\\ud589\\uc758\\uc7a5\\ubd80\", \"\\uc120\\ud589\\uc758\\uc7a5\\ubd80\", \"\\uc120\\ud589\\uc758\\uc7a5\\ubd80\"], \"y\": [\"\\uc120\\ud589\\uc758\\uc7a5\", \"\\uc120\\uc2e4\\uc120\\ud589\\uc758\\uc7a5\", \"\\uc120\\uc2e4\\uc0dd\\uc0b0\", \"\\uae30\\uacc4\\uc758\\uc7a5\", \"\\uae30\\ub2a5\"], \"z\": [34, 29, 2, 1, 22]}, {\"customdata\": [[\"\\uc120\\ud589\\ub3c4\\uc7a5\\ubd80\"], [\"\\uc120\\ud589\\ub3c4\\uc7a5\\ubd80\"]], \"hovertemplate\": \"<b>%{hovertext}</b><br><br>\\ub300\\uad6c\\ubd84=%{y}<br>\\uc791\\uc5c5\\ud45c\\uc900 \\uac1c\\uc218(\\ub85c\\uadf8)=%{z}<br>size=%{marker.size}<extra></extra>\", \"hovertext\": [\"\\uc120\\ud589\\ub3c4\\uc7a5\\ubd80\", \"\\uc120\\ud589\\ub3c4\\uc7a5\\ubd80\"], \"legendgroup\": \"\\uc120\\ud589\\ub3c4\\uc7a5\\ubd80\", \"marker\": {\"color\": \"#FF6692\", \"opacity\": 0.5, \"size\": [5, 14], \"sizemode\": \"area\", \"sizeref\": 0.0868, \"symbol\": \"circle\"}, \"mode\": \"markers\", \"name\": \"\\uc120\\ud589\\ub3c4\\uc7a5\\ubd80\", \"scene\": \"scene\", \"showlegend\": true, \"type\": \"scatter3d\", \"x\": [\"\\uc120\\ud589\\ub3c4\\uc7a5\\ubd80\", \"\\uc120\\ud589\\ub3c4\\uc7a5\\ubd80\"], \"y\": [\"\\uc120\\ud589\\ub3c4\\uc7a5\", \"\\uae30\\ub2a5\"], \"z\": [5, 14]}, {\"customdata\": [[\"\\uc120\\uc2e4\\uc0dd\\uc0b0\\ubd80\"], [\"\\uc120\\uc2e4\\uc0dd\\uc0b0\\ubd80\"], [\"\\uc120\\uc2e4\\uc0dd\\uc0b0\\ubd80\"], [\"\\uc120\\uc2e4\\uc0dd\\uc0b0\\ubd80\"], [\"\\uc120\\uc2e4\\uc0dd\\uc0b0\\ubd80\"]], \"hovertemplate\": \"<b>%{hovertext}</b><br><br>\\ub300\\uad6c\\ubd84=%{y}<br>\\uc791\\uc5c5\\ud45c\\uc900 \\uac1c\\uc218(\\ub85c\\uadf8)=%{z}<br>size=%{marker.size}<extra></extra>\", \"hovertext\": [\"\\uc120\\uc2e4\\uc0dd\\uc0b0\\ubd80\", \"\\uc120\\uc2e4\\uc0dd\\uc0b0\\ubd80\", \"\\uc120\\uc2e4\\uc0dd\\uc0b0\\ubd80\", \"\\uc120\\uc2e4\\uc0dd\\uc0b0\\ubd80\", \"\\uc120\\uc2e4\\uc0dd\\uc0b0\\ubd80\"], \"legendgroup\": \"\\uc120\\uc2e4\\uc0dd\\uc0b0\\ubd80\", \"marker\": {\"color\": \"#B6E880\", \"opacity\": 0.5, \"size\": [2, 2, 83, 1, 11], \"sizemode\": \"area\", \"sizeref\": 0.0868, \"symbol\": \"circle\"}, \"mode\": \"markers\", \"name\": \"\\uc120\\uc2e4\\uc0dd\\uc0b0\\ubd80\", \"scene\": \"scene\", \"showlegend\": true, \"type\": \"scatter3d\", \"x\": [\"\\uc120\\uc2e4\\uc0dd\\uc0b0\\ubd80\", \"\\uc120\\uc2e4\\uc0dd\\uc0b0\\ubd80\", \"\\uc120\\uc2e4\\uc0dd\\uc0b0\\ubd80\", \"\\uc120\\uc2e4\\uc0dd\\uc0b0\\ubd80\", \"\\uc120\\uc2e4\\uc0dd\\uc0b0\\ubd80\"], \"y\": [\"\\uc120\\ud589\\uc758\\uc7a5\", \"\\uc120\\uc2e4\\uc120\\ud589\\uc758\\uc7a5\", \"\\uc120\\uc2e4\\uc0dd\\uc0b0\", \"\\ud6c4\\ud589\\uc758\\uc7a5\", \"\\uae30\\ub2a5\"], \"z\": [2, 2, 83, 1, 11]}, {\"customdata\": [[\"\\uac74\\uc8701\\ubd80\"], [\"\\uac74\\uc8701\\ubd80\"]], \"hovertemplate\": \"<b>%{hovertext}</b><br><br>\\ub300\\uad6c\\ubd84=%{y}<br>\\uc791\\uc5c5\\ud45c\\uc900 \\uac1c\\uc218(\\ub85c\\uadf8)=%{z}<br>size=%{marker.size}<extra></extra>\", \"hovertext\": [\"\\uac74\\uc8701\\ubd80\", \"\\uac74\\uc8701\\ubd80\"], \"legendgroup\": \"\\uac74\\uc8701\\ubd80\", \"marker\": {\"color\": \"#FF97FF\", \"opacity\": 0.5, \"size\": [12, 15], \"sizemode\": \"area\", \"sizeref\": 0.0868, \"symbol\": \"circle\"}, \"mode\": \"markers\", \"name\": \"\\uac74\\uc8701\\ubd80\", \"scene\": \"scene\", \"showlegend\": true, \"type\": \"scatter3d\", \"x\": [\"\\uac74\\uc8701\\ubd80\", \"\\uac74\\uc8701\\ubd80\"], \"y\": [\"\\uac74\\uc870\", \"\\uae30\\ub2a5\"], \"z\": [12, 15]}, {\"customdata\": [[\"\\uac74\\uc8702\\ubd80\"], [\"\\uac74\\uc8702\\ubd80\"]], \"hovertemplate\": \"<b>%{hovertext}</b><br><br>\\ub300\\uad6c\\ubd84=%{y}<br>\\uc791\\uc5c5\\ud45c\\uc900 \\uac1c\\uc218(\\ub85c\\uadf8)=%{z}<br>size=%{marker.size}<extra></extra>\", \"hovertext\": [\"\\uac74\\uc8702\\ubd80\", \"\\uac74\\uc8702\\ubd80\"], \"legendgroup\": \"\\uac74\\uc8702\\ubd80\", \"marker\": {\"color\": \"#FECB52\", \"opacity\": 0.5, \"size\": [12, 15], \"sizemode\": \"area\", \"sizeref\": 0.0868, \"symbol\": \"circle\"}, \"mode\": \"markers\", \"name\": \"\\uac74\\uc8702\\ubd80\", \"scene\": \"scene\", \"showlegend\": true, \"type\": \"scatter3d\", \"x\": [\"\\uac74\\uc8702\\ubd80\", \"\\uac74\\uc8702\\ubd80\"], \"y\": [\"\\uac74\\uc870\", \"\\uae30\\ub2a5\"], \"z\": [12, 15]}, {\"customdata\": [[\"\\uac74\\uc8703\\ubd80\"], [\"\\uac74\\uc8703\\ubd80\"]], \"hovertemplate\": \"<b>%{hovertext}</b><br><br>\\ub300\\uad6c\\ubd84=%{y}<br>\\uc791\\uc5c5\\ud45c\\uc900 \\uac1c\\uc218(\\ub85c\\uadf8)=%{z}<br>size=%{marker.size}<extra></extra>\", \"hovertext\": [\"\\uac74\\uc8703\\ubd80\", \"\\uac74\\uc8703\\ubd80\"], \"legendgroup\": \"\\uac74\\uc8703\\ubd80\", \"marker\": {\"color\": \"#636efa\", \"opacity\": 0.5, \"size\": [12, 15], \"sizemode\": \"area\", \"sizeref\": 0.0868, \"symbol\": \"circle\"}, \"mode\": \"markers\", \"name\": \"\\uac74\\uc8703\\ubd80\", \"scene\": \"scene\", \"showlegend\": true, \"type\": \"scatter3d\", \"x\": [\"\\uac74\\uc8703\\ubd80\", \"\\uac74\\uc8703\\ubd80\"], \"y\": [\"\\uac74\\uc870\", \"\\uae30\\ub2a5\"], \"z\": [12, 15]}, {\"customdata\": [[\"\\uc758\\uc7a51\\ubd80\"], [\"\\uc758\\uc7a51\\ubd80\"], [\"\\uc758\\uc7a51\\ubd80\"], [\"\\uc758\\uc7a51\\ubd80\"], [\"\\uc758\\uc7a51\\ubd80\"], [\"\\uc758\\uc7a51\\ubd80\"], [\"\\uc758\\uc7a51\\ubd80\"]], \"hovertemplate\": \"<b>%{hovertext}</b><br><br>\\ub300\\uad6c\\ubd84=%{y}<br>\\uc791\\uc5c5\\ud45c\\uc900 \\uac1c\\uc218(\\ub85c\\uadf8)=%{z}<br>size=%{marker.size}<extra></extra>\", \"hovertext\": [\"\\uc758\\uc7a51\\ubd80\", \"\\uc758\\uc7a51\\ubd80\", \"\\uc758\\uc7a51\\ubd80\", \"\\uc758\\uc7a51\\ubd80\", \"\\uc758\\uc7a51\\ubd80\", \"\\uc758\\uc7a51\\ubd80\", \"\\uc758\\uc7a51\\ubd80\"], \"legendgroup\": \"\\uc758\\uc7a51\\ubd80\", \"marker\": {\"color\": \"#EF553B\", \"opacity\": 0.5, \"size\": [3, 3, 1, 3, 50, 23, 3], \"sizemode\": \"area\", \"sizeref\": 0.0868, \"symbol\": \"circle\"}, \"mode\": \"markers\", \"name\": \"\\uc758\\uc7a51\\ubd80\", \"scene\": \"scene\", \"showlegend\": true, \"type\": \"scatter3d\", \"x\": [\"\\uc758\\uc7a51\\ubd80\", \"\\uc758\\uc7a51\\ubd80\", \"\\uc758\\uc7a51\\ubd80\", \"\\uc758\\uc7a51\\ubd80\", \"\\uc758\\uc7a51\\ubd80\", \"\\uc758\\uc7a51\\ubd80\", \"\\uc758\\uc7a51\\ubd80\"], \"y\": [\"\\uc120\\ud589\\uc758\\uc7a5\", \"\\uc120\\uc2e4\\uc120\\ud589\\uc758\\uc7a5\", \"\\uc120\\ud589\\ub3c4\\uc7a5\", \"\\uc120\\uc2e4\\uc0dd\\uc0b0\", \"\\ud6c4\\ud589\\uc758\\uc7a5\", \"\\uae30\\ub2a5\", \"\\ud6c4\\ud589\\ub3c4\\uc7a5\"], \"z\": [3, 3, 1, 3, 50, 23, 3]}, {\"customdata\": [[\"\\uc758\\uc7a52\\ubd80\"], [\"\\uc758\\uc7a52\\ubd80\"], [\"\\uc758\\uc7a52\\ubd80\"], [\"\\uc758\\uc7a52\\ubd80\"], [\"\\uc758\\uc7a52\\ubd80\"], [\"\\uc758\\uc7a52\\ubd80\"], [\"\\uc758\\uc7a52\\ubd80\"]], \"hovertemplate\": \"<b>%{hovertext}</b><br><br>\\ub300\\uad6c\\ubd84=%{y}<br>\\uc791\\uc5c5\\ud45c\\uc900 \\uac1c\\uc218(\\ub85c\\uadf8)=%{z}<br>size=%{marker.size}<extra></extra>\", \"hovertext\": [\"\\uc758\\uc7a52\\ubd80\", \"\\uc758\\uc7a52\\ubd80\", \"\\uc758\\uc7a52\\ubd80\", \"\\uc758\\uc7a52\\ubd80\", \"\\uc758\\uc7a52\\ubd80\", \"\\uc758\\uc7a52\\ubd80\", \"\\uc758\\uc7a52\\ubd80\"], \"legendgroup\": \"\\uc758\\uc7a52\\ubd80\", \"marker\": {\"color\": \"#00cc96\", \"opacity\": 0.5, \"size\": [3, 3, 1, 3, 50, 23, 3], \"sizemode\": \"area\", \"sizeref\": 0.0868, \"symbol\": \"circle\"}, \"mode\": \"markers\", \"name\": \"\\uc758\\uc7a52\\ubd80\", \"scene\": \"scene\", \"showlegend\": true, \"type\": \"scatter3d\", \"x\": [\"\\uc758\\uc7a52\\ubd80\", \"\\uc758\\uc7a52\\ubd80\", \"\\uc758\\uc7a52\\ubd80\", \"\\uc758\\uc7a52\\ubd80\", \"\\uc758\\uc7a52\\ubd80\", \"\\uc758\\uc7a52\\ubd80\", \"\\uc758\\uc7a52\\ubd80\"], \"y\": [\"\\uc120\\ud589\\uc758\\uc7a5\", \"\\uc120\\uc2e4\\uc120\\ud589\\uc758\\uc7a5\", \"\\uc120\\ud589\\ub3c4\\uc7a5\", \"\\uc120\\uc2e4\\uc0dd\\uc0b0\", \"\\ud6c4\\ud589\\uc758\\uc7a5\", \"\\uae30\\ub2a5\", \"\\ud6c4\\ud589\\ub3c4\\uc7a5\"], \"z\": [3, 3, 1, 3, 50, 23, 3]}, {\"customdata\": [[\"\\uc758\\uc7a53\\ubd80\"], [\"\\uc758\\uc7a53\\ubd80\"], [\"\\uc758\\uc7a53\\ubd80\"], [\"\\uc758\\uc7a53\\ubd80\"], [\"\\uc758\\uc7a53\\ubd80\"], [\"\\uc758\\uc7a53\\ubd80\"], [\"\\uc758\\uc7a53\\ubd80\"]], \"hovertemplate\": \"<b>%{hovertext}</b><br><br>\\ub300\\uad6c\\ubd84=%{y}<br>\\uc791\\uc5c5\\ud45c\\uc900 \\uac1c\\uc218(\\ub85c\\uadf8)=%{z}<br>size=%{marker.size}<extra></extra>\", \"hovertext\": [\"\\uc758\\uc7a53\\ubd80\", \"\\uc758\\uc7a53\\ubd80\", \"\\uc758\\uc7a53\\ubd80\", \"\\uc758\\uc7a53\\ubd80\", \"\\uc758\\uc7a53\\ubd80\", \"\\uc758\\uc7a53\\ubd80\", \"\\uc758\\uc7a53\\ubd80\"], \"legendgroup\": \"\\uc758\\uc7a53\\ubd80\", \"marker\": {\"color\": \"#ab63fa\", \"opacity\": 0.5, \"size\": [3, 3, 1, 3, 50, 23, 3], \"sizemode\": \"area\", \"sizeref\": 0.0868, \"symbol\": \"circle\"}, \"mode\": \"markers\", \"name\": \"\\uc758\\uc7a53\\ubd80\", \"scene\": \"scene\", \"showlegend\": true, \"type\": \"scatter3d\", \"x\": [\"\\uc758\\uc7a53\\ubd80\", \"\\uc758\\uc7a53\\ubd80\", \"\\uc758\\uc7a53\\ubd80\", \"\\uc758\\uc7a53\\ubd80\", \"\\uc758\\uc7a53\\ubd80\", \"\\uc758\\uc7a53\\ubd80\", \"\\uc758\\uc7a53\\ubd80\"], \"y\": [\"\\uc120\\ud589\\uc758\\uc7a5\", \"\\uc120\\uc2e4\\uc120\\ud589\\uc758\\uc7a5\", \"\\uc120\\ud589\\ub3c4\\uc7a5\", \"\\uc120\\uc2e4\\uc0dd\\uc0b0\", \"\\ud6c4\\ud589\\uc758\\uc7a5\", \"\\uae30\\ub2a5\", \"\\ud6c4\\ud589\\ub3c4\\uc7a5\"], \"z\": [3, 3, 1, 3, 50, 23, 3]}, {\"customdata\": [[\"CHS\\uacf5\\uc0ac\\ubd80\"], [\"CHS\\uacf5\\uc0ac\\ubd80\"], [\"CHS\\uacf5\\uc0ac\\ubd80\"]], \"hovertemplate\": \"<b>%{hovertext}</b><br><br>\\ub300\\uad6c\\ubd84=%{y}<br>\\uc791\\uc5c5\\ud45c\\uc900 \\uac1c\\uc218(\\ub85c\\uadf8)=%{z}<br>size=%{marker.size}<extra></extra>\", \"hovertext\": [\"CHS\\uacf5\\uc0ac\\ubd80\", \"CHS\\uacf5\\uc0ac\\ubd80\", \"CHS\\uacf5\\uc0ac\\ubd80\"], \"legendgroup\": \"CHS\\uacf5\\uc0ac\\ubd80\", \"marker\": {\"color\": \"#FFA15A\", \"opacity\": 0.5, \"size\": [1, 50, 15], \"sizemode\": \"area\", \"sizeref\": 0.0868, \"symbol\": \"circle\"}, \"mode\": \"markers\", \"name\": \"CHS\\uacf5\\uc0ac\\ubd80\", \"scene\": \"scene\", \"showlegend\": true, \"type\": \"scatter3d\", \"x\": [\"CHS\\uacf5\\uc0ac\\ubd80\", \"CHS\\uacf5\\uc0ac\\ubd80\", \"CHS\\uacf5\\uc0ac\\ubd80\"], \"y\": [\"\\uc120\\ud589\\uc758\\uc7a5\", \"\\ud6c4\\ud589\\uc758\\uc7a5\", \"\\uae30\\ub2a5\"], \"z\": [1, 50, 15]}, {\"customdata\": [[\"\\uae30\\uacc4\\uc758\\uc7a5\\ubd80\"], [\"\\uae30\\uacc4\\uc758\\uc7a5\\ubd80\"]], \"hovertemplate\": \"<b>%{hovertext}</b><br><br>\\ub300\\uad6c\\ubd84=%{y}<br>\\uc791\\uc5c5\\ud45c\\uc900 \\uac1c\\uc218(\\ub85c\\uadf8)=%{z}<br>size=%{marker.size}<extra></extra>\", \"hovertext\": [\"\\uae30\\uacc4\\uc758\\uc7a5\\ubd80\", \"\\uae30\\uacc4\\uc758\\uc7a5\\ubd80\"], \"legendgroup\": \"\\uae30\\uacc4\\uc758\\uc7a5\\ubd80\", \"marker\": {\"color\": \"#19d3f3\", \"opacity\": 0.5, \"size\": [82, 9], \"sizemode\": \"area\", \"sizeref\": 0.0868, \"symbol\": \"circle\"}, \"mode\": \"markers\", \"name\": \"\\uae30\\uacc4\\uc758\\uc7a5\\ubd80\", \"scene\": \"scene\", \"showlegend\": true, \"type\": \"scatter3d\", \"x\": [\"\\uae30\\uacc4\\uc758\\uc7a5\\ubd80\", \"\\uae30\\uacc4\\uc758\\uc7a5\\ubd80\"], \"y\": [\"\\uae30\\uacc4\\uc758\\uc7a5\", \"\\uae30\\ub2a5\"], \"z\": [82, 9]}, {\"customdata\": [[\"\\ub3c4\\uc7a51\\ubd80\"], [\"\\ub3c4\\uc7a51\\ubd80\"], [\"\\ub3c4\\uc7a51\\ubd80\"]], \"hovertemplate\": \"<b>%{hovertext}</b><br><br>\\ub300\\uad6c\\ubd84=%{y}<br>\\uc791\\uc5c5\\ud45c\\uc900 \\uac1c\\uc218(\\ub85c\\uadf8)=%{z}<br>size=%{marker.size}<extra></extra>\", \"hovertext\": [\"\\ub3c4\\uc7a51\\ubd80\", \"\\ub3c4\\uc7a51\\ubd80\", \"\\ub3c4\\uc7a51\\ubd80\"], \"legendgroup\": \"\\ub3c4\\uc7a51\\ubd80\", \"marker\": {\"color\": \"#FF6692\", \"opacity\": 0.5, \"size\": [1, 14, 4], \"sizemode\": \"area\", \"sizeref\": 0.0868, \"symbol\": \"circle\"}, \"mode\": \"markers\", \"name\": \"\\ub3c4\\uc7a51\\ubd80\", \"scene\": \"scene\", \"showlegend\": true, \"type\": \"scatter3d\", \"x\": [\"\\ub3c4\\uc7a51\\ubd80\", \"\\ub3c4\\uc7a51\\ubd80\", \"\\ub3c4\\uc7a51\\ubd80\"], \"y\": [\"\\uc120\\ud589\\ub3c4\\uc7a5\", \"\\uae30\\ub2a5\", \"\\ud6c4\\ud589\\ub3c4\\uc7a5\"], \"z\": [1, 14, 4]}, {\"customdata\": [[\"\\ub3c4\\uc7a52\\ubd80\"], [\"\\ub3c4\\uc7a52\\ubd80\"], [\"\\ub3c4\\uc7a52\\ubd80\"]], \"hovertemplate\": \"<b>%{hovertext}</b><br><br>\\ub300\\uad6c\\ubd84=%{y}<br>\\uc791\\uc5c5\\ud45c\\uc900 \\uac1c\\uc218(\\ub85c\\uadf8)=%{z}<br>size=%{marker.size}<extra></extra>\", \"hovertext\": [\"\\ub3c4\\uc7a52\\ubd80\", \"\\ub3c4\\uc7a52\\ubd80\", \"\\ub3c4\\uc7a52\\ubd80\"], \"legendgroup\": \"\\ub3c4\\uc7a52\\ubd80\", \"marker\": {\"color\": \"#B6E880\", \"opacity\": 0.5, \"size\": [1, 14, 4], \"sizemode\": \"area\", \"sizeref\": 0.0868, \"symbol\": \"circle\"}, \"mode\": \"markers\", \"name\": \"\\ub3c4\\uc7a52\\ubd80\", \"scene\": \"scene\", \"showlegend\": true, \"type\": \"scatter3d\", \"x\": [\"\\ub3c4\\uc7a52\\ubd80\", \"\\ub3c4\\uc7a52\\ubd80\", \"\\ub3c4\\uc7a52\\ubd80\"], \"y\": [\"\\uc120\\ud589\\ub3c4\\uc7a5\", \"\\uae30\\ub2a5\", \"\\ud6c4\\ud589\\ub3c4\\uc7a5\"], \"z\": [1, 14, 4]}, {\"customdata\": [[\"LNG\\uacf5\\uc0ac\\ubd80\"], [\"LNG\\uacf5\\uc0ac\\ubd80\"]], \"hovertemplate\": \"<b>%{hovertext}</b><br><br>\\ub300\\uad6c\\ubd84=%{y}<br>\\uc791\\uc5c5\\ud45c\\uc900 \\uac1c\\uc218(\\ub85c\\uadf8)=%{z}<br>size=%{marker.size}<extra></extra>\", \"hovertext\": [\"LNG\\uacf5\\uc0ac\\ubd80\", \"LNG\\uacf5\\uc0ac\\ubd80\"], \"legendgroup\": \"LNG\\uacf5\\uc0ac\\ubd80\", \"marker\": {\"color\": \"#FF97FF\", \"opacity\": 0.5, \"size\": [17, 11], \"sizemode\": \"area\", \"sizeref\": 0.0868, \"symbol\": \"circle\"}, \"mode\": \"markers\", \"name\": \"LNG\\uacf5\\uc0ac\\ubd80\", \"scene\": \"scene\", \"showlegend\": true, \"type\": \"scatter3d\", \"x\": [\"LNG\\uacf5\\uc0ac\\ubd80\", \"LNG\\uacf5\\uc0ac\\ubd80\"], \"y\": [\"LNG\\uacf5\\uc0ac\", \"\\uae30\\ub2a5\"], \"z\": [17, 11]}, {\"customdata\": [[\"\\uc2dc\\uc6b4\\uc804\\ubd80\"], [\"\\uc2dc\\uc6b4\\uc804\\ubd80\"], [\"\\uc2dc\\uc6b4\\uc804\\ubd80\"]], \"hovertemplate\": \"<b>%{hovertext}</b><br><br>\\ub300\\uad6c\\ubd84=%{y}<br>\\uc791\\uc5c5\\ud45c\\uc900 \\uac1c\\uc218(\\ub85c\\uadf8)=%{z}<br>size=%{marker.size}<extra></extra>\", \"hovertext\": [\"\\uc2dc\\uc6b4\\uc804\\ubd80\", \"\\uc2dc\\uc6b4\\uc804\\ubd80\", \"\\uc2dc\\uc6b4\\uc804\\ubd80\"], \"legendgroup\": \"\\uc2dc\\uc6b4\\uc804\\ubd80\", \"marker\": {\"color\": \"#FECB52\", \"opacity\": 0.5, \"size\": [1, 217, 6], \"sizemode\": \"area\", \"sizeref\": 0.0868, \"symbol\": \"circle\"}, \"mode\": \"markers\", \"name\": \"\\uc2dc\\uc6b4\\uc804\\ubd80\", \"scene\": \"scene\", \"showlegend\": true, \"type\": \"scatter3d\", \"x\": [\"\\uc2dc\\uc6b4\\uc804\\ubd80\", \"\\uc2dc\\uc6b4\\uc804\\ubd80\", \"\\uc2dc\\uc6b4\\uc804\\ubd80\"], \"y\": [\"\\uc120\\uc2e4\\uc120\\ud589\\uc758\\uc7a5\", \"\\uc2dc\\uc6b4\\uc804\", \"\\uae30\\ub2a5\"], \"z\": [1, 217, 6]}, {\"customdata\": [[\"\\uc6b4\\ud56d\\uad00\\uc81c\\uacfc\"], [\"\\uc6b4\\ud56d\\uad00\\uc81c\\uacfc\"]], \"hovertemplate\": \"<b>%{hovertext}</b><br><br>\\ub300\\uad6c\\ubd84=%{y}<br>\\uc791\\uc5c5\\ud45c\\uc900 \\uac1c\\uc218(\\ub85c\\uadf8)=%{z}<br>size=%{marker.size}<extra></extra>\", \"hovertext\": [\"\\uc6b4\\ud56d\\uad00\\uc81c\\uacfc\", \"\\uc6b4\\ud56d\\uad00\\uc81c\\uacfc\"], \"legendgroup\": \"\\uc6b4\\ud56d\\uad00\\uc81c\\uacfc\", \"marker\": {\"color\": \"#636efa\", \"opacity\": 0.5, \"size\": [48, 6], \"sizemode\": \"area\", \"sizeref\": 0.0868, \"symbol\": \"circle\"}, \"mode\": \"markers\", \"name\": \"\\uc6b4\\ud56d\\uad00\\uc81c\\uacfc\", \"scene\": \"scene\", \"showlegend\": true, \"type\": \"scatter3d\", \"x\": [\"\\uc6b4\\ud56d\\uad00\\uc81c\\uacfc\", \"\\uc6b4\\ud56d\\uad00\\uc81c\\uacfc\"], \"y\": [\"\\uc6b4\\ud56d\\uad00\\uc81c\", \"\\uae30\\ub2a5\"], \"z\": [48, 6]}, {\"customdata\": [[\"\\uc678\\uc5c5\\uacf5\\uc0ac\\uc9c0\\uc6d0\\ubd80\"], [\"\\uc678\\uc5c5\\uacf5\\uc0ac\\uc9c0\\uc6d0\\ubd80\"]], \"hovertemplate\": \"<b>%{hovertext}</b><br><br>\\ub300\\uad6c\\ubd84=%{y}<br>\\uc791\\uc5c5\\ud45c\\uc900 \\uac1c\\uc218(\\ub85c\\uadf8)=%{z}<br>size=%{marker.size}<extra></extra>\", \"hovertext\": [\"\\uc678\\uc5c5\\uacf5\\uc0ac\\uc9c0\\uc6d0\\ubd80\", \"\\uc678\\uc5c5\\uacf5\\uc0ac\\uc9c0\\uc6d0\\ubd80\"], \"legendgroup\": \"\\uc678\\uc5c5\\uacf5\\uc0ac\\uc9c0\\uc6d0\\ubd80\", \"marker\": {\"color\": \"#EF553B\", \"opacity\": 0.5, \"size\": [31, 8], \"sizemode\": \"area\", \"sizeref\": 0.0868, \"symbol\": \"circle\"}, \"mode\": \"markers\", \"name\": \"\\uc678\\uc5c5\\uacf5\\uc0ac\\uc9c0\\uc6d0\\ubd80\", \"scene\": \"scene\", \"showlegend\": true, \"type\": \"scatter3d\", \"x\": [\"\\uc678\\uc5c5\\uacf5\\uc0ac\\uc9c0\\uc6d0\\ubd80\", \"\\uc678\\uc5c5\\uacf5\\uc0ac\\uc9c0\\uc6d0\\ubd80\"], \"y\": [\"\\uacf5\\uc0ac\\uc9c0\\uc6d0\", \"\\uae30\\ub2a5\"], \"z\": [31, 8]}, {\"customdata\": [[\"\\ubc1c\\ud310\\uc9c0\\uc6d0\\ubd80\"], [\"\\ubc1c\\ud310\\uc9c0\\uc6d0\\ubd80\"]], \"hovertemplate\": \"<b>%{hovertext}</b><br><br>\\ub300\\uad6c\\ubd84=%{y}<br>\\uc791\\uc5c5\\ud45c\\uc900 \\uac1c\\uc218(\\ub85c\\uadf8)=%{z}<br>size=%{marker.size}<extra></extra>\", \"hovertext\": [\"\\ubc1c\\ud310\\uc9c0\\uc6d0\\ubd80\", \"\\ubc1c\\ud310\\uc9c0\\uc6d0\\ubd80\"], \"legendgroup\": \"\\ubc1c\\ud310\\uc9c0\\uc6d0\\ubd80\", \"marker\": {\"color\": \"#00cc96\", \"opacity\": 0.5, \"size\": [4, 15], \"sizemode\": \"area\", \"sizeref\": 0.0868, \"symbol\": \"circle\"}, \"mode\": \"markers\", \"name\": \"\\ubc1c\\ud310\\uc9c0\\uc6d0\\ubd80\", \"scene\": \"scene\", \"showlegend\": true, \"type\": \"scatter3d\", \"x\": [\"\\ubc1c\\ud310\\uc9c0\\uc6d0\\ubd80\", \"\\ubc1c\\ud310\\uc9c0\\uc6d0\\ubd80\"], \"y\": [\"\\uacf5\\uc0ac\\uc9c0\\uc6d0\", \"\\uae30\\ub2a5\"], \"z\": [4, 15]}, {\"customdata\": [[\"\\uc790\\uc7ac\\uc6b4\\uc601\\ubd80\"]], \"hovertemplate\": \"<b>%{hovertext}</b><br><br>\\ub300\\uad6c\\ubd84=%{y}<br>\\uc791\\uc5c5\\ud45c\\uc900 \\uac1c\\uc218(\\ub85c\\uadf8)=%{z}<br>size=%{marker.size}<extra></extra>\", \"hovertext\": [\"\\uc790\\uc7ac\\uc6b4\\uc601\\ubd80\"], \"legendgroup\": \"\\uc790\\uc7ac\\uc6b4\\uc601\\ubd80\", \"marker\": {\"color\": \"#ab63fa\", \"opacity\": 0.5, \"size\": [8], \"sizemode\": \"area\", \"sizeref\": 0.0868, \"symbol\": \"circle\"}, \"mode\": \"markers\", \"name\": \"\\uc790\\uc7ac\\uc6b4\\uc601\\ubd80\", \"scene\": \"scene\", \"showlegend\": true, \"type\": \"scatter3d\", \"x\": [\"\\uc790\\uc7ac\\uc6b4\\uc601\\ubd80\"], \"y\": [\"\\uae30\\ub2a5\"], \"z\": [8]}, {\"customdata\": [[\"\\uc870\\uc120\\ud574\\uc591\\ud488\\uc9c8\\uacbd\\uc6011\\ubd80\"], [\"\\uc870\\uc120\\ud574\\uc591\\ud488\\uc9c8\\uacbd\\uc6011\\ubd80\"]], \"hovertemplate\": \"<b>%{hovertext}</b><br><br>\\ub300\\uad6c\\ubd84=%{y}<br>\\uc791\\uc5c5\\ud45c\\uc900 \\uac1c\\uc218(\\ub85c\\uadf8)=%{z}<br>size=%{marker.size}<extra></extra>\", \"hovertext\": [\"\\uc870\\uc120\\ud574\\uc591\\ud488\\uc9c8\\uacbd\\uc6011\\ubd80\", \"\\uc870\\uc120\\ud574\\uc591\\ud488\\uc9c8\\uacbd\\uc6011\\ubd80\"], \"legendgroup\": \"\\uc870\\uc120\\ud574\\uc591\\ud488\\uc9c8\\uacbd\\uc6011\\ubd80\", \"marker\": {\"color\": \"#FFA15A\", \"opacity\": 0.5, \"size\": [16, 3], \"sizemode\": \"area\", \"sizeref\": 0.0868, \"symbol\": \"circle\"}, \"mode\": \"markers\", \"name\": \"\\uc870\\uc120\\ud574\\uc591\\ud488\\uc9c8\\uacbd\\uc6011\\ubd80\", \"scene\": \"scene\", \"showlegend\": true, \"type\": \"scatter3d\", \"x\": [\"\\uc870\\uc120\\ud574\\uc591\\ud488\\uc9c8\\uacbd\\uc6011\\ubd80\", \"\\uc870\\uc120\\ud574\\uc591\\ud488\\uc9c8\\uacbd\\uc6011\\ubd80\"], \"y\": [\"QM\", \"\\uae30\\ub2a5\"], \"z\": [16, 3]}, {\"customdata\": [[\"\\uc870\\uc120\\ud574\\uc591\\ud488\\uc9c8\\uacbd\\uc6012\\ubd80\"], [\"\\uc870\\uc120\\ud574\\uc591\\ud488\\uc9c8\\uacbd\\uc6012\\ubd80\"]], \"hovertemplate\": \"<b>%{hovertext}</b><br><br>\\ub300\\uad6c\\ubd84=%{y}<br>\\uc791\\uc5c5\\ud45c\\uc900 \\uac1c\\uc218(\\ub85c\\uadf8)=%{z}<br>size=%{marker.size}<extra></extra>\", \"hovertext\": [\"\\uc870\\uc120\\ud574\\uc591\\ud488\\uc9c8\\uacbd\\uc6012\\ubd80\", \"\\uc870\\uc120\\ud574\\uc591\\ud488\\uc9c8\\uacbd\\uc6012\\ubd80\"], \"legendgroup\": \"\\uc870\\uc120\\ud574\\uc591\\ud488\\uc9c8\\uacbd\\uc6012\\ubd80\", \"marker\": {\"color\": \"#19d3f3\", \"opacity\": 0.5, \"size\": [14, 3], \"sizemode\": \"area\", \"sizeref\": 0.0868, \"symbol\": \"circle\"}, \"mode\": \"markers\", \"name\": \"\\uc870\\uc120\\ud574\\uc591\\ud488\\uc9c8\\uacbd\\uc6012\\ubd80\", \"scene\": \"scene\", \"showlegend\": true, \"type\": \"scatter3d\", \"x\": [\"\\uc870\\uc120\\ud574\\uc591\\ud488\\uc9c8\\uacbd\\uc6012\\ubd80\", \"\\uc870\\uc120\\ud574\\uc591\\ud488\\uc9c8\\uacbd\\uc6012\\ubd80\"], \"y\": [\"QM\", \"\\uae30\\ub2a5\"], \"z\": [14, 3]}],                        {\"height\": 900, \"legend\": {\"itemsizing\": \"constant\", \"title\": {\"text\": \"\\ubd80\\uc11c\"}, \"tracegroupgap\": 0}, \"scene\": {\"domain\": {\"x\": [0.0, 1.0], \"y\": [0.0, 1.0]}, \"xaxis\": {\"categoryarray\": [\"\\uac00\\uacf5\\uc18c\\uc870\\ub9bd\\ubd80\", \"\\ud310\\ub12c\\uc870\\ub9bd\\ubd80\", \"\\ub300\\uc870\\ub9bd1\\ubd80\", \"\\ub300\\uc870\\ub9bd2\\ubd80\", \"\\uc758\\uc7a5\\uc0dd\\uc0b0\\ubd80\", \"\\uc120\\ud589\\uc758\\uc7a5\\ubd80\", \"\\uc120\\ud589\\ub3c4\\uc7a5\\ubd80\", \"\\uc120\\uc2e4\\uc0dd\\uc0b0\\ubd80\", \"\\uac74\\uc8701\\ubd80\", \"\\uac74\\uc8702\\ubd80\", \"\\uac74\\uc8703\\ubd80\", \"\\uc758\\uc7a51\\ubd80\", \"\\uc758\\uc7a52\\ubd80\", \"\\uc758\\uc7a53\\ubd80\", \"CHS\\uacf5\\uc0ac\\ubd80\", \"\\uae30\\uacc4\\uc758\\uc7a5\\ubd80\", \"\\ub3c4\\uc7a51\\ubd80\", \"\\ub3c4\\uc7a52\\ubd80\", \"LNG\\uacf5\\uc0ac\\ubd80\", \"\\uc2dc\\uc6b4\\uc804\\ubd80\", \"\\uc6b4\\ud56d\\uad00\\uc81c\\uacfc\", \"\\uc678\\uc5c5\\uacf5\\uc0ac\\uc9c0\\uc6d0\\ubd80\", \"\\ubc1c\\ud310\\uc9c0\\uc6d0\\ubd80\", \"\\uc790\\uc7ac\\uc6b4\\uc601\\ubd80\", \"\\uc870\\uc120\\ud574\\uc591\\ud488\\uc9c8\\uacbd\\uc6011\\ubd80\", \"\\uc870\\uc120\\ud574\\uc591\\ud488\\uc9c8\\uacbd\\uc6012\\ubd80\"], \"categoryorder\": \"array\", \"title\": {\"text\": \"\\ubd80\\uc11c\"}}, \"yaxis\": {\"title\": {\"text\": \"\\ub300\\uad6c\\ubd84\"}}, \"zaxis\": {\"title\": {\"text\": \"\\uc791\\uc5c5\\ud45c\\uc900 \\uac1c\\uc218(\\ub85c\\uadf8)\"}, \"type\": \"log\"}}, \"template\": {\"data\": {\"bar\": [{\"error_x\": {\"color\": \"#f2f5fa\"}, \"error_y\": {\"color\": \"#f2f5fa\"}, \"marker\": {\"line\": {\"color\": \"rgb(17,17,17)\", \"width\": 0.5}}, \"type\": \"bar\"}], \"barpolar\": [{\"marker\": {\"line\": {\"color\": \"rgb(17,17,17)\", \"width\": 0.5}}, \"type\": \"barpolar\"}], \"carpet\": [{\"aaxis\": {\"endlinecolor\": \"#A2B1C6\", \"gridcolor\": \"#506784\", \"linecolor\": \"#506784\", \"minorgridcolor\": \"#506784\", \"startlinecolor\": \"#A2B1C6\"}, \"baxis\": {\"endlinecolor\": \"#A2B1C6\", \"gridcolor\": \"#506784\", \"linecolor\": \"#506784\", \"minorgridcolor\": \"#506784\", \"startlinecolor\": \"#A2B1C6\"}, \"type\": \"carpet\"}], \"choropleth\": [{\"colorbar\": {\"outlinewidth\": 0, \"ticks\": \"\"}, \"type\": \"choropleth\"}], \"contour\": [{\"colorbar\": {\"outlinewidth\": 0, \"ticks\": \"\"}, \"colorscale\": [[0.0, \"#0d0887\"], [0.1111111111111111, \"#46039f\"], [0.2222222222222222, \"#7201a8\"], [0.3333333333333333, \"#9c179e\"], [0.4444444444444444, \"#bd3786\"], [0.5555555555555556, \"#d8576b\"], [0.6666666666666666, \"#ed7953\"], [0.7777777777777778, \"#fb9f3a\"], [0.8888888888888888, \"#fdca26\"], [1.0, \"#f0f921\"]], \"type\": \"contour\"}], \"contourcarpet\": [{\"colorbar\": {\"outlinewidth\": 0, \"ticks\": \"\"}, \"type\": \"contourcarpet\"}], \"heatmap\": [{\"colorbar\": {\"outlinewidth\": 0, \"ticks\": \"\"}, \"colorscale\": [[0.0, \"#0d0887\"], [0.1111111111111111, \"#46039f\"], [0.2222222222222222, \"#7201a8\"], [0.3333333333333333, \"#9c179e\"], [0.4444444444444444, \"#bd3786\"], [0.5555555555555556, \"#d8576b\"], [0.6666666666666666, \"#ed7953\"], [0.7777777777777778, \"#fb9f3a\"], [0.8888888888888888, \"#fdca26\"], [1.0, \"#f0f921\"]], \"type\": \"heatmap\"}], \"heatmapgl\": [{\"colorbar\": {\"outlinewidth\": 0, \"ticks\": \"\"}, \"colorscale\": [[0.0, \"#0d0887\"], [0.1111111111111111, \"#46039f\"], [0.2222222222222222, \"#7201a8\"], [0.3333333333333333, \"#9c179e\"], [0.4444444444444444, \"#bd3786\"], [0.5555555555555556, \"#d8576b\"], [0.6666666666666666, \"#ed7953\"], [0.7777777777777778, \"#fb9f3a\"], [0.8888888888888888, \"#fdca26\"], [1.0, \"#f0f921\"]], \"type\": \"heatmapgl\"}], \"histogram\": [{\"marker\": {\"colorbar\": {\"outlinewidth\": 0, \"ticks\": \"\"}}, \"type\": \"histogram\"}], \"histogram2d\": [{\"colorbar\": {\"outlinewidth\": 0, \"ticks\": \"\"}, \"colorscale\": [[0.0, \"#0d0887\"], [0.1111111111111111, \"#46039f\"], [0.2222222222222222, \"#7201a8\"], [0.3333333333333333, \"#9c179e\"], [0.4444444444444444, \"#bd3786\"], [0.5555555555555556, \"#d8576b\"], [0.6666666666666666, \"#ed7953\"], [0.7777777777777778, \"#fb9f3a\"], [0.8888888888888888, \"#fdca26\"], [1.0, \"#f0f921\"]], \"type\": \"histogram2d\"}], \"histogram2dcontour\": [{\"colorbar\": {\"outlinewidth\": 0, \"ticks\": \"\"}, \"colorscale\": [[0.0, \"#0d0887\"], [0.1111111111111111, \"#46039f\"], [0.2222222222222222, \"#7201a8\"], [0.3333333333333333, \"#9c179e\"], [0.4444444444444444, \"#bd3786\"], [0.5555555555555556, \"#d8576b\"], [0.6666666666666666, \"#ed7953\"], [0.7777777777777778, \"#fb9f3a\"], [0.8888888888888888, \"#fdca26\"], [1.0, \"#f0f921\"]], \"type\": \"histogram2dcontour\"}], \"mesh3d\": [{\"colorbar\": {\"outlinewidth\": 0, \"ticks\": \"\"}, \"type\": \"mesh3d\"}], \"parcoords\": [{\"line\": {\"colorbar\": {\"outlinewidth\": 0, \"ticks\": \"\"}}, \"type\": \"parcoords\"}], \"pie\": [{\"automargin\": true, \"type\": \"pie\"}], \"scatter\": [{\"marker\": {\"line\": {\"color\": \"#283442\"}}, \"type\": \"scatter\"}], \"scatter3d\": [{\"line\": {\"colorbar\": {\"outlinewidth\": 0, \"ticks\": \"\"}}, \"marker\": {\"colorbar\": {\"outlinewidth\": 0, \"ticks\": \"\"}}, \"type\": \"scatter3d\"}], \"scattercarpet\": [{\"marker\": {\"colorbar\": {\"outlinewidth\": 0, \"ticks\": \"\"}}, \"type\": \"scattercarpet\"}], \"scattergeo\": [{\"marker\": {\"colorbar\": {\"outlinewidth\": 0, \"ticks\": \"\"}}, \"type\": \"scattergeo\"}], \"scattergl\": [{\"marker\": {\"line\": {\"color\": \"#283442\"}}, \"type\": \"scattergl\"}], \"scattermapbox\": [{\"marker\": {\"colorbar\": {\"outlinewidth\": 0, \"ticks\": \"\"}}, \"type\": \"scattermapbox\"}], \"scatterpolar\": [{\"marker\": {\"colorbar\": {\"outlinewidth\": 0, \"ticks\": \"\"}}, \"type\": \"scatterpolar\"}], \"scatterpolargl\": [{\"marker\": {\"colorbar\": {\"outlinewidth\": 0, \"ticks\": \"\"}}, \"type\": \"scatterpolargl\"}], \"scatterternary\": [{\"marker\": {\"colorbar\": {\"outlinewidth\": 0, \"ticks\": \"\"}}, \"type\": \"scatterternary\"}], \"surface\": [{\"colorbar\": {\"outlinewidth\": 0, \"ticks\": \"\"}, \"colorscale\": [[0.0, \"#0d0887\"], [0.1111111111111111, \"#46039f\"], [0.2222222222222222, \"#7201a8\"], [0.3333333333333333, \"#9c179e\"], [0.4444444444444444, \"#bd3786\"], [0.5555555555555556, \"#d8576b\"], [0.6666666666666666, \"#ed7953\"], [0.7777777777777778, \"#fb9f3a\"], [0.8888888888888888, \"#fdca26\"], [1.0, \"#f0f921\"]], \"type\": \"surface\"}], \"table\": [{\"cells\": {\"fill\": {\"color\": \"#506784\"}, \"line\": {\"color\": \"rgb(17,17,17)\"}}, \"header\": {\"fill\": {\"color\": \"#2a3f5f\"}, \"line\": {\"color\": \"rgb(17,17,17)\"}}, \"type\": \"table\"}]}, \"layout\": {\"annotationdefaults\": {\"arrowcolor\": \"#f2f5fa\", \"arrowhead\": 0, \"arrowwidth\": 1}, \"autotypenumbers\": \"strict\", \"coloraxis\": {\"colorbar\": {\"outlinewidth\": 0, \"ticks\": \"\"}}, \"colorscale\": {\"diverging\": [[0, \"#8e0152\"], [0.1, \"#c51b7d\"], [0.2, \"#de77ae\"], [0.3, \"#f1b6da\"], [0.4, \"#fde0ef\"], [0.5, \"#f7f7f7\"], [0.6, \"#e6f5d0\"], [0.7, \"#b8e186\"], [0.8, \"#7fbc41\"], [0.9, \"#4d9221\"], [1, \"#276419\"]], \"sequential\": [[0.0, \"#0d0887\"], [0.1111111111111111, \"#46039f\"], [0.2222222222222222, \"#7201a8\"], [0.3333333333333333, \"#9c179e\"], [0.4444444444444444, \"#bd3786\"], [0.5555555555555556, \"#d8576b\"], [0.6666666666666666, \"#ed7953\"], [0.7777777777777778, \"#fb9f3a\"], [0.8888888888888888, \"#fdca26\"], [1.0, \"#f0f921\"]], \"sequentialminus\": [[0.0, \"#0d0887\"], [0.1111111111111111, \"#46039f\"], [0.2222222222222222, \"#7201a8\"], [0.3333333333333333, \"#9c179e\"], [0.4444444444444444, \"#bd3786\"], [0.5555555555555556, \"#d8576b\"], [0.6666666666666666, \"#ed7953\"], [0.7777777777777778, \"#fb9f3a\"], [0.8888888888888888, \"#fdca26\"], [1.0, \"#f0f921\"]]}, \"colorway\": [\"#636efa\", \"#EF553B\", \"#00cc96\", \"#ab63fa\", \"#FFA15A\", \"#19d3f3\", \"#FF6692\", \"#B6E880\", \"#FF97FF\", \"#FECB52\"], \"font\": {\"color\": \"#f2f5fa\"}, \"geo\": {\"bgcolor\": \"rgb(17,17,17)\", \"lakecolor\": \"rgb(17,17,17)\", \"landcolor\": \"rgb(17,17,17)\", \"showlakes\": true, \"showland\": true, \"subunitcolor\": \"#506784\"}, \"hoverlabel\": {\"align\": \"left\"}, \"hovermode\": \"closest\", \"mapbox\": {\"style\": \"dark\"}, \"paper_bgcolor\": \"rgb(17,17,17)\", \"plot_bgcolor\": \"rgb(17,17,17)\", \"polar\": {\"angularaxis\": {\"gridcolor\": \"#506784\", \"linecolor\": \"#506784\", \"ticks\": \"\"}, \"bgcolor\": \"rgb(17,17,17)\", \"radialaxis\": {\"gridcolor\": \"#506784\", \"linecolor\": \"#506784\", \"ticks\": \"\"}}, \"scene\": {\"xaxis\": {\"backgroundcolor\": \"rgb(17,17,17)\", \"gridcolor\": \"#506784\", \"gridwidth\": 2, \"linecolor\": \"#506784\", \"showbackground\": true, \"ticks\": \"\", \"zerolinecolor\": \"#C8D4E3\"}, \"yaxis\": {\"backgroundcolor\": \"rgb(17,17,17)\", \"gridcolor\": \"#506784\", \"gridwidth\": 2, \"linecolor\": \"#506784\", \"showbackground\": true, \"ticks\": \"\", \"zerolinecolor\": \"#C8D4E3\"}, \"zaxis\": {\"backgroundcolor\": \"rgb(17,17,17)\", \"gridcolor\": \"#506784\", \"gridwidth\": 2, \"linecolor\": \"#506784\", \"showbackground\": true, \"ticks\": \"\", \"zerolinecolor\": \"#C8D4E3\"}}, \"shapedefaults\": {\"line\": {\"color\": \"#f2f5fa\"}}, \"sliderdefaults\": {\"bgcolor\": \"#C8D4E3\", \"bordercolor\": \"rgb(17,17,17)\", \"borderwidth\": 1, \"tickwidth\": 0}, \"ternary\": {\"aaxis\": {\"gridcolor\": \"#506784\", \"linecolor\": \"#506784\", \"ticks\": \"\"}, \"baxis\": {\"gridcolor\": \"#506784\", \"linecolor\": \"#506784\", \"ticks\": \"\"}, \"bgcolor\": \"rgb(17,17,17)\", \"caxis\": {\"gridcolor\": \"#506784\", \"linecolor\": \"#506784\", \"ticks\": \"\"}}, \"title\": {\"x\": 0.05}, \"updatemenudefaults\": {\"bgcolor\": \"#506784\", \"borderwidth\": 0}, \"xaxis\": {\"automargin\": true, \"gridcolor\": \"#283442\", \"linecolor\": \"#506784\", \"ticks\": \"\", \"title\": {\"standoff\": 15}, \"zerolinecolor\": \"#283442\", \"zerolinewidth\": 2}, \"yaxis\": {\"automargin\": true, \"gridcolor\": \"#283442\", \"linecolor\": \"#506784\", \"ticks\": \"\", \"title\": {\"standoff\": 15}, \"zerolinecolor\": \"#283442\", \"zerolinewidth\": 2}}}, \"title\": {\"text\": \"\\ubd80\\uc11c/\\uacf5\\uc815\\ubcc4 \\uc791\\uc5c5\\ud45c\\uc900 \\ubd84\\ud3ec(\\ub85c\\uadf8 \\uc2a4\\ucf00\\uc77c)\"}},                        {\"responsive\": true}                    ).then(function(){\n",
       "                            \n",
       "var gd = document.getElementById('4295998a-a622-403f-941d-3598730f77c9');\n",
       "var x = new MutationObserver(function (mutations, observer) {{\n",
       "        var display = window.getComputedStyle(gd).display;\n",
       "        if (!display || display === 'none') {{\n",
       "            console.log([gd, 'removed!']);\n",
       "            Plotly.purge(gd);\n",
       "            observer.disconnect();\n",
       "        }}\n",
       "}});\n",
       "\n",
       "// Listen for the removal of the full notebook cells\n",
       "var notebookContainer = gd.closest('#notebook-container');\n",
       "if (notebookContainer) {{\n",
       "    x.observe(notebookContainer, {childList: true});\n",
       "}}\n",
       "\n",
       "// Listen for the clearing of the current output cell\n",
       "var outputEl = gd.closest('.output');\n",
       "if (outputEl) {{\n",
       "    x.observe(outputEl, {childList: true});\n",
       "}}\n",
       "\n",
       "                        })                };                });            </script>        </div>"
      ]
     },
     "metadata": {},
     "output_type": "display_data"
    }
   ],
   "source": [
    "fig = px.scatter_3d(\n",
    "    data_frame=dff2,\n",
    "    x='부서',\n",
    "    y='대구분',\n",
    "    z='WORK_STAND_NM',\n",
    "    color=\"부서\",\n",
    "#     color_discrete_sequence=['magenta', 'green'],\n",
    "    # color_discrete_map={'Europe': 'black', 'Africa': 'yellow'},\n",
    "    opacity=0.5,              # opacity values range from 0 to 1\n",
    "#     symbol='대구분',            # symbol used for bubble\n",
    "    # symbol_map={\"2005\": \"square-open\", \"2010\": 3},\n",
    "    size='size',       # size of bubble\n",
    "    size_max=50,              # set the maximum mark size when using size\n",
    "    log_z=True,  # you can also set log_y and log_z as a log scale\n",
    "#     range_z=[9,13],           # you can also set range of range_y and range_x\n",
    "    template='plotly_dark',         # 'ggplot2', 'seaborn', 'simple_white', 'plotly',\n",
    "                                # 'plotly_white', 'plotly_dark', 'presentation',\n",
    "                                # 'xgridoff', 'ygridoff', 'gridon', 'none'\n",
    "    title='부서/공정별 작업표준 분포(로그 스케일)',\n",
    "    labels={'WORK_STAND_NM': '작업표준 개수(로그)'},\n",
    "    hover_data={'부서': False},\n",
    "    # hover_data={'Continent': False, 'GDP per capita': ':.1f'},\n",
    "    hover_name='부서',        # values appear in bold in the hover tooltip\n",
    "    height=900,                 # height of graph in pixels\n",
    "#     width=100,\n",
    "    # animation_frame='Year',   # assign marks to animation frames\n",
    "#     range_x=[-5,30],\n",
    "#     range_z=[0,250],\n",
    "#     range_y=[0,30]\n",
    "\n",
    ")\n",
    "\n",
    "# fig.update_traces(showlegend=False, selector=dict(type='scatter3d'))\n",
    "# fig.update_traces(legendgroup=\"\", selector=dict(type='scatter3d'))\n",
    "fig.update_traces(marker_symbol=\"circle\", selector=dict(type='scatter3d'))\n",
    "##( \"circle\" | \"circle-open\" | \"square\" | \"square-open\" | \"diamond\" | \"diamond-open\" | \"cross\" | \"x\" )\n",
    "\n",
    "pio.show(fig)\n",
    "title=\"부서_공정별 작업표준 분포(로그 스케일)\"\n",
    "fig.write_html(\"./results/{}.html\".format(title))\n"
   ]
  },
  {
   "cell_type": "code",
   "execution_count": 11,
   "metadata": {},
   "outputs": [],
   "source": [
    "# fig.layout.updatemenus[0].buttons[0].args[1]['frame']['duration'] = 1000\n",
    "# fig.layout.updatemenus[0].buttons[0].args[1]['transition']['duration'] = 500"
   ]
  },
  {
   "cell_type": "code",
   "execution_count": 12,
   "metadata": {},
   "outputs": [],
   "source": [
    "# Use for animation rotation\n",
    "# fig.update_layout(scene_camera_eye=dict(x=x_eye, y=y_eye, z=z_eye),\n",
    "#                   updatemenus=[dict(type='buttons',\n",
    "#                                     showactive=False,\n",
    "#                                     y=1,\n",
    "#                                     x=0.8,\n",
    "#                                     xanchor='left',\n",
    "#                                     yanchor='bottom',\n",
    "#                                     pad=dict(t=45, r=10),\n",
    "#                                     buttons=[dict(label='Play',\n",
    "#                                                   method='animate',\n",
    "#                                                   args=[None, dict(frame=dict(duration=250, redraw=True),\n",
    "#                                                                    transition=dict(duration=0),\n",
    "#                                                                    fromcurrent=True,\n",
    "#                                                                    mode='immediate'\n",
    "#                                                                    )]\n",
    "#                                                   )\n",
    "#                                              ]\n",
    "#                                     )\n",
    "#                                ]\n",
    "#                   )\n",
    "#\n",
    "#\n"
   ]
  },
  {
   "cell_type": "code",
   "execution_count": 13,
   "metadata": {},
   "outputs": [],
   "source": [
    "# def rotate_z(x, y, z, theta):\n",
    "#     w = x + 1j * y\n",
    "#     return np.real(np.exp(1j * theta) * w), np.imag(np.exp(1j * theta) * w), z\n",
    "\n",
    "# frames = []\n",
    "\n",
    "# for t in np.arange(0, 6.26, 0.1):\n",
    "#     xe, ye, ze = rotate_z(x_eye, y_eye, z_eye, -t)\n",
    "#     frames.append(go.Frame(layout=dict(scene_camera_eye=dict(x=xe, y=ye, z=ze))))\n",
    "# fig.frames = frames\n",
    "\n",
    "\n",
    "# # fig.write_html(\"My3dPlot.html\")\n",
    "# pio.show(fig)"
   ]
  },
  {
   "cell_type": "markdown",
   "metadata": {},
   "source": [
    "# Graph Object 방식"
   ]
  },
  {
   "cell_type": "code",
   "execution_count": 14,
   "metadata": {},
   "outputs": [],
   "source": [
    "trace1 = go.Scatter3d(\n",
    "    x=dff2['부서'],\n",
    "    y=dff2['대구분'],\n",
    "    z=dff2['WORK_STAND_NM'],\n",
    "    mode='markers+text',\n",
    "    text=dff2['WORK_STAND_NM'],\n",
    "    marker = dict(\n",
    "    \n",
    "    size=dff2['WORK_STAND_NM'], \n",
    "    color=dff2[\"WORK_STAND_NM\"],\n",
    "    colorscale='Viridis',\n",
    "    opacity=0.5,\n",
    "    showscale=True))\n",
    "\n",
    "data = [trace1]\n",
    "\n",
    "layout = go.Layout(\n",
    "    margin = dict(l=0, r=0, b=0, t=0),\n",
    "    )"
   ]
  },
  {
   "cell_type": "code",
   "execution_count": 15,
   "metadata": {},
   "outputs": [
    {
     "data": {
      "application/vnd.plotly.v1+json": {
       "config": {
        "plotlyServerURL": "https://plotly.com"
       },
       "data": [
        {
         "marker": {
          "color": [
           7,
           12,
           4,
           1,
           20,
           13,
           1,
           12,
           8,
           2,
           20,
           10,
           12,
           6,
           1,
           24,
           13,
           12,
           8,
           2,
           24,
           30,
           1,
           1,
           12,
           34,
           29,
           2,
           1,
           22,
           5,
           14,
           2,
           2,
           83,
           1,
           11,
           12,
           15,
           12,
           15,
           12,
           15,
           3,
           3,
           1,
           3,
           50,
           23,
           3,
           3,
           3,
           1,
           3,
           50,
           23,
           3,
           3,
           3,
           1,
           3,
           50,
           23,
           3,
           1,
           50,
           15,
           82,
           9,
           1,
           14,
           4,
           1,
           14,
           4,
           17,
           11,
           1,
           217,
           6,
           48,
           6,
           31,
           8,
           4,
           15,
           8,
           16,
           3,
           14,
           3
          ],
          "colorscale": [
           [
            0,
            "#440154"
           ],
           [
            0.1111111111111111,
            "#482878"
           ],
           [
            0.2222222222222222,
            "#3e4989"
           ],
           [
            0.3333333333333333,
            "#31688e"
           ],
           [
            0.4444444444444444,
            "#26828e"
           ],
           [
            0.5555555555555556,
            "#1f9e89"
           ],
           [
            0.6666666666666666,
            "#35b779"
           ],
           [
            0.7777777777777778,
            "#6ece58"
           ],
           [
            0.8888888888888888,
            "#b5de2b"
           ],
           [
            1,
            "#fde725"
           ]
          ],
          "opacity": 0.5,
          "showscale": true,
          "size": [
           7,
           12,
           4,
           1,
           20,
           13,
           1,
           12,
           8,
           2,
           20,
           10,
           12,
           6,
           1,
           24,
           13,
           12,
           8,
           2,
           24,
           30,
           1,
           1,
           12,
           34,
           29,
           2,
           1,
           22,
           5,
           14,
           2,
           2,
           83,
           1,
           11,
           12,
           15,
           12,
           15,
           12,
           15,
           3,
           3,
           1,
           3,
           50,
           23,
           3,
           3,
           3,
           1,
           3,
           50,
           23,
           3,
           3,
           3,
           1,
           3,
           50,
           23,
           3,
           1,
           50,
           15,
           82,
           9,
           1,
           14,
           4,
           1,
           14,
           4,
           17,
           11,
           1,
           217,
           6,
           48,
           6,
           31,
           8,
           4,
           15,
           8,
           16,
           3,
           14,
           3
          ]
         },
         "mode": "markers+text",
         "text": [
          7,
          12,
          4,
          1,
          20,
          13,
          1,
          12,
          8,
          2,
          20,
          10,
          12,
          6,
          1,
          24,
          13,
          12,
          8,
          2,
          24,
          30,
          1,
          1,
          12,
          34,
          29,
          2,
          1,
          22,
          5,
          14,
          2,
          2,
          83,
          1,
          11,
          12,
          15,
          12,
          15,
          12,
          15,
          3,
          3,
          1,
          3,
          50,
          23,
          3,
          3,
          3,
          1,
          3,
          50,
          23,
          3,
          3,
          3,
          1,
          3,
          50,
          23,
          3,
          1,
          50,
          15,
          82,
          9,
          1,
          14,
          4,
          1,
          14,
          4,
          17,
          11,
          1,
          217,
          6,
          48,
          6,
          31,
          8,
          4,
          15,
          8,
          16,
          3,
          14,
          3
         ],
         "type": "scatter3d",
         "x": [
          "가공소조립부",
          "가공소조립부",
          "가공소조립부",
          "가공소조립부",
          "가공소조립부",
          "판넬조립부",
          "판넬조립부",
          "판넬조립부",
          "판넬조립부",
          "판넬조립부",
          "판넬조립부",
          "대조립1부",
          "대조립1부",
          "대조립1부",
          "대조립1부",
          "대조립1부",
          "대조립2부",
          "대조립2부",
          "대조립2부",
          "대조립2부",
          "대조립2부",
          "의장생산부",
          "의장생산부",
          "의장생산부",
          "의장생산부",
          "선행의장부",
          "선행의장부",
          "선행의장부",
          "선행의장부",
          "선행의장부",
          "선행도장부",
          "선행도장부",
          "선실생산부",
          "선실생산부",
          "선실생산부",
          "선실생산부",
          "선실생산부",
          "건조1부",
          "건조1부",
          "건조2부",
          "건조2부",
          "건조3부",
          "건조3부",
          "의장1부",
          "의장1부",
          "의장1부",
          "의장1부",
          "의장1부",
          "의장1부",
          "의장1부",
          "의장2부",
          "의장2부",
          "의장2부",
          "의장2부",
          "의장2부",
          "의장2부",
          "의장2부",
          "의장3부",
          "의장3부",
          "의장3부",
          "의장3부",
          "의장3부",
          "의장3부",
          "의장3부",
          "CHS공사부",
          "CHS공사부",
          "CHS공사부",
          "기계의장부",
          "기계의장부",
          "도장1부",
          "도장1부",
          "도장1부",
          "도장2부",
          "도장2부",
          "도장2부",
          "LNG공사부",
          "LNG공사부",
          "시운전부",
          "시운전부",
          "시운전부",
          "운항관제과",
          "운항관제과",
          "외업공사지원부",
          "외업공사지원부",
          "발판지원부",
          "발판지원부",
          "자재운영부",
          "조선해양품질경영1부",
          "조선해양품질경영1부",
          "조선해양품질경영2부",
          "조선해양품질경영2부"
         ],
         "y": [
          "가공",
          "소조립",
          "선행의장",
          "선실선행의장",
          "기능",
          "판넬",
          "대조립",
          "선행의장",
          "선실선행의장",
          "선실생산",
          "기능",
          "대조립",
          "선행의장",
          "선실선행의장",
          "선실생산",
          "기능",
          "대조립",
          "선행의장",
          "선실선행의장",
          "선실생산",
          "기능",
          "의장생산",
          "선행도장",
          "후행의장",
          "기능",
          "선행의장",
          "선실선행의장",
          "선실생산",
          "기계의장",
          "기능",
          "선행도장",
          "기능",
          "선행의장",
          "선실선행의장",
          "선실생산",
          "후행의장",
          "기능",
          "건조",
          "기능",
          "건조",
          "기능",
          "건조",
          "기능",
          "선행의장",
          "선실선행의장",
          "선행도장",
          "선실생산",
          "후행의장",
          "기능",
          "후행도장",
          "선행의장",
          "선실선행의장",
          "선행도장",
          "선실생산",
          "후행의장",
          "기능",
          "후행도장",
          "선행의장",
          "선실선행의장",
          "선행도장",
          "선실생산",
          "후행의장",
          "기능",
          "후행도장",
          "선행의장",
          "후행의장",
          "기능",
          "기계의장",
          "기능",
          "선행도장",
          "기능",
          "후행도장",
          "선행도장",
          "기능",
          "후행도장",
          "LNG공사",
          "기능",
          "선실선행의장",
          "시운전",
          "기능",
          "운항관제",
          "기능",
          "공사지원",
          "기능",
          "공사지원",
          "기능",
          "기능",
          "QM",
          "기능",
          "QM",
          "기능"
         ],
         "z": [
          7,
          12,
          4,
          1,
          20,
          13,
          1,
          12,
          8,
          2,
          20,
          10,
          12,
          6,
          1,
          24,
          13,
          12,
          8,
          2,
          24,
          30,
          1,
          1,
          12,
          34,
          29,
          2,
          1,
          22,
          5,
          14,
          2,
          2,
          83,
          1,
          11,
          12,
          15,
          12,
          15,
          12,
          15,
          3,
          3,
          1,
          3,
          50,
          23,
          3,
          3,
          3,
          1,
          3,
          50,
          23,
          3,
          3,
          3,
          1,
          3,
          50,
          23,
          3,
          1,
          50,
          15,
          82,
          9,
          1,
          14,
          4,
          1,
          14,
          4,
          17,
          11,
          1,
          217,
          6,
          48,
          6,
          31,
          8,
          4,
          15,
          8,
          16,
          3,
          14,
          3
         ]
        }
       ],
       "layout": {
        "margin": {
         "b": 0,
         "l": 0,
         "r": 0,
         "t": 0
        },
        "template": {
         "data": {
          "bar": [
           {
            "error_x": {
             "color": "#2a3f5f"
            },
            "error_y": {
             "color": "#2a3f5f"
            },
            "marker": {
             "line": {
              "color": "#E5ECF6",
              "width": 0.5
             }
            },
            "type": "bar"
           }
          ],
          "barpolar": [
           {
            "marker": {
             "line": {
              "color": "#E5ECF6",
              "width": 0.5
             }
            },
            "type": "barpolar"
           }
          ],
          "carpet": [
           {
            "aaxis": {
             "endlinecolor": "#2a3f5f",
             "gridcolor": "white",
             "linecolor": "white",
             "minorgridcolor": "white",
             "startlinecolor": "#2a3f5f"
            },
            "baxis": {
             "endlinecolor": "#2a3f5f",
             "gridcolor": "white",
             "linecolor": "white",
             "minorgridcolor": "white",
             "startlinecolor": "#2a3f5f"
            },
            "type": "carpet"
           }
          ],
          "choropleth": [
           {
            "colorbar": {
             "outlinewidth": 0,
             "ticks": ""
            },
            "type": "choropleth"
           }
          ],
          "contour": [
           {
            "colorbar": {
             "outlinewidth": 0,
             "ticks": ""
            },
            "colorscale": [
             [
              0,
              "#0d0887"
             ],
             [
              0.1111111111111111,
              "#46039f"
             ],
             [
              0.2222222222222222,
              "#7201a8"
             ],
             [
              0.3333333333333333,
              "#9c179e"
             ],
             [
              0.4444444444444444,
              "#bd3786"
             ],
             [
              0.5555555555555556,
              "#d8576b"
             ],
             [
              0.6666666666666666,
              "#ed7953"
             ],
             [
              0.7777777777777778,
              "#fb9f3a"
             ],
             [
              0.8888888888888888,
              "#fdca26"
             ],
             [
              1,
              "#f0f921"
             ]
            ],
            "type": "contour"
           }
          ],
          "contourcarpet": [
           {
            "colorbar": {
             "outlinewidth": 0,
             "ticks": ""
            },
            "type": "contourcarpet"
           }
          ],
          "heatmap": [
           {
            "colorbar": {
             "outlinewidth": 0,
             "ticks": ""
            },
            "colorscale": [
             [
              0,
              "#0d0887"
             ],
             [
              0.1111111111111111,
              "#46039f"
             ],
             [
              0.2222222222222222,
              "#7201a8"
             ],
             [
              0.3333333333333333,
              "#9c179e"
             ],
             [
              0.4444444444444444,
              "#bd3786"
             ],
             [
              0.5555555555555556,
              "#d8576b"
             ],
             [
              0.6666666666666666,
              "#ed7953"
             ],
             [
              0.7777777777777778,
              "#fb9f3a"
             ],
             [
              0.8888888888888888,
              "#fdca26"
             ],
             [
              1,
              "#f0f921"
             ]
            ],
            "type": "heatmap"
           }
          ],
          "heatmapgl": [
           {
            "colorbar": {
             "outlinewidth": 0,
             "ticks": ""
            },
            "colorscale": [
             [
              0,
              "#0d0887"
             ],
             [
              0.1111111111111111,
              "#46039f"
             ],
             [
              0.2222222222222222,
              "#7201a8"
             ],
             [
              0.3333333333333333,
              "#9c179e"
             ],
             [
              0.4444444444444444,
              "#bd3786"
             ],
             [
              0.5555555555555556,
              "#d8576b"
             ],
             [
              0.6666666666666666,
              "#ed7953"
             ],
             [
              0.7777777777777778,
              "#fb9f3a"
             ],
             [
              0.8888888888888888,
              "#fdca26"
             ],
             [
              1,
              "#f0f921"
             ]
            ],
            "type": "heatmapgl"
           }
          ],
          "histogram": [
           {
            "marker": {
             "colorbar": {
              "outlinewidth": 0,
              "ticks": ""
             }
            },
            "type": "histogram"
           }
          ],
          "histogram2d": [
           {
            "colorbar": {
             "outlinewidth": 0,
             "ticks": ""
            },
            "colorscale": [
             [
              0,
              "#0d0887"
             ],
             [
              0.1111111111111111,
              "#46039f"
             ],
             [
              0.2222222222222222,
              "#7201a8"
             ],
             [
              0.3333333333333333,
              "#9c179e"
             ],
             [
              0.4444444444444444,
              "#bd3786"
             ],
             [
              0.5555555555555556,
              "#d8576b"
             ],
             [
              0.6666666666666666,
              "#ed7953"
             ],
             [
              0.7777777777777778,
              "#fb9f3a"
             ],
             [
              0.8888888888888888,
              "#fdca26"
             ],
             [
              1,
              "#f0f921"
             ]
            ],
            "type": "histogram2d"
           }
          ],
          "histogram2dcontour": [
           {
            "colorbar": {
             "outlinewidth": 0,
             "ticks": ""
            },
            "colorscale": [
             [
              0,
              "#0d0887"
             ],
             [
              0.1111111111111111,
              "#46039f"
             ],
             [
              0.2222222222222222,
              "#7201a8"
             ],
             [
              0.3333333333333333,
              "#9c179e"
             ],
             [
              0.4444444444444444,
              "#bd3786"
             ],
             [
              0.5555555555555556,
              "#d8576b"
             ],
             [
              0.6666666666666666,
              "#ed7953"
             ],
             [
              0.7777777777777778,
              "#fb9f3a"
             ],
             [
              0.8888888888888888,
              "#fdca26"
             ],
             [
              1,
              "#f0f921"
             ]
            ],
            "type": "histogram2dcontour"
           }
          ],
          "mesh3d": [
           {
            "colorbar": {
             "outlinewidth": 0,
             "ticks": ""
            },
            "type": "mesh3d"
           }
          ],
          "parcoords": [
           {
            "line": {
             "colorbar": {
              "outlinewidth": 0,
              "ticks": ""
             }
            },
            "type": "parcoords"
           }
          ],
          "pie": [
           {
            "automargin": true,
            "type": "pie"
           }
          ],
          "scatter": [
           {
            "marker": {
             "colorbar": {
              "outlinewidth": 0,
              "ticks": ""
             }
            },
            "type": "scatter"
           }
          ],
          "scatter3d": [
           {
            "line": {
             "colorbar": {
              "outlinewidth": 0,
              "ticks": ""
             }
            },
            "marker": {
             "colorbar": {
              "outlinewidth": 0,
              "ticks": ""
             }
            },
            "type": "scatter3d"
           }
          ],
          "scattercarpet": [
           {
            "marker": {
             "colorbar": {
              "outlinewidth": 0,
              "ticks": ""
             }
            },
            "type": "scattercarpet"
           }
          ],
          "scattergeo": [
           {
            "marker": {
             "colorbar": {
              "outlinewidth": 0,
              "ticks": ""
             }
            },
            "type": "scattergeo"
           }
          ],
          "scattergl": [
           {
            "marker": {
             "colorbar": {
              "outlinewidth": 0,
              "ticks": ""
             }
            },
            "type": "scattergl"
           }
          ],
          "scattermapbox": [
           {
            "marker": {
             "colorbar": {
              "outlinewidth": 0,
              "ticks": ""
             }
            },
            "type": "scattermapbox"
           }
          ],
          "scatterpolar": [
           {
            "marker": {
             "colorbar": {
              "outlinewidth": 0,
              "ticks": ""
             }
            },
            "type": "scatterpolar"
           }
          ],
          "scatterpolargl": [
           {
            "marker": {
             "colorbar": {
              "outlinewidth": 0,
              "ticks": ""
             }
            },
            "type": "scatterpolargl"
           }
          ],
          "scatterternary": [
           {
            "marker": {
             "colorbar": {
              "outlinewidth": 0,
              "ticks": ""
             }
            },
            "type": "scatterternary"
           }
          ],
          "surface": [
           {
            "colorbar": {
             "outlinewidth": 0,
             "ticks": ""
            },
            "colorscale": [
             [
              0,
              "#0d0887"
             ],
             [
              0.1111111111111111,
              "#46039f"
             ],
             [
              0.2222222222222222,
              "#7201a8"
             ],
             [
              0.3333333333333333,
              "#9c179e"
             ],
             [
              0.4444444444444444,
              "#bd3786"
             ],
             [
              0.5555555555555556,
              "#d8576b"
             ],
             [
              0.6666666666666666,
              "#ed7953"
             ],
             [
              0.7777777777777778,
              "#fb9f3a"
             ],
             [
              0.8888888888888888,
              "#fdca26"
             ],
             [
              1,
              "#f0f921"
             ]
            ],
            "type": "surface"
           }
          ],
          "table": [
           {
            "cells": {
             "fill": {
              "color": "#EBF0F8"
             },
             "line": {
              "color": "white"
             }
            },
            "header": {
             "fill": {
              "color": "#C8D4E3"
             },
             "line": {
              "color": "white"
             }
            },
            "type": "table"
           }
          ]
         },
         "layout": {
          "annotationdefaults": {
           "arrowcolor": "#2a3f5f",
           "arrowhead": 0,
           "arrowwidth": 1
          },
          "autotypenumbers": "strict",
          "coloraxis": {
           "colorbar": {
            "outlinewidth": 0,
            "ticks": ""
           }
          },
          "colorscale": {
           "diverging": [
            [
             0,
             "#8e0152"
            ],
            [
             0.1,
             "#c51b7d"
            ],
            [
             0.2,
             "#de77ae"
            ],
            [
             0.3,
             "#f1b6da"
            ],
            [
             0.4,
             "#fde0ef"
            ],
            [
             0.5,
             "#f7f7f7"
            ],
            [
             0.6,
             "#e6f5d0"
            ],
            [
             0.7,
             "#b8e186"
            ],
            [
             0.8,
             "#7fbc41"
            ],
            [
             0.9,
             "#4d9221"
            ],
            [
             1,
             "#276419"
            ]
           ],
           "sequential": [
            [
             0,
             "#0d0887"
            ],
            [
             0.1111111111111111,
             "#46039f"
            ],
            [
             0.2222222222222222,
             "#7201a8"
            ],
            [
             0.3333333333333333,
             "#9c179e"
            ],
            [
             0.4444444444444444,
             "#bd3786"
            ],
            [
             0.5555555555555556,
             "#d8576b"
            ],
            [
             0.6666666666666666,
             "#ed7953"
            ],
            [
             0.7777777777777778,
             "#fb9f3a"
            ],
            [
             0.8888888888888888,
             "#fdca26"
            ],
            [
             1,
             "#f0f921"
            ]
           ],
           "sequentialminus": [
            [
             0,
             "#0d0887"
            ],
            [
             0.1111111111111111,
             "#46039f"
            ],
            [
             0.2222222222222222,
             "#7201a8"
            ],
            [
             0.3333333333333333,
             "#9c179e"
            ],
            [
             0.4444444444444444,
             "#bd3786"
            ],
            [
             0.5555555555555556,
             "#d8576b"
            ],
            [
             0.6666666666666666,
             "#ed7953"
            ],
            [
             0.7777777777777778,
             "#fb9f3a"
            ],
            [
             0.8888888888888888,
             "#fdca26"
            ],
            [
             1,
             "#f0f921"
            ]
           ]
          },
          "colorway": [
           "#636efa",
           "#EF553B",
           "#00cc96",
           "#ab63fa",
           "#FFA15A",
           "#19d3f3",
           "#FF6692",
           "#B6E880",
           "#FF97FF",
           "#FECB52"
          ],
          "font": {
           "color": "#2a3f5f"
          },
          "geo": {
           "bgcolor": "white",
           "lakecolor": "white",
           "landcolor": "#E5ECF6",
           "showlakes": true,
           "showland": true,
           "subunitcolor": "white"
          },
          "hoverlabel": {
           "align": "left"
          },
          "hovermode": "closest",
          "mapbox": {
           "style": "light"
          },
          "paper_bgcolor": "white",
          "plot_bgcolor": "#E5ECF6",
          "polar": {
           "angularaxis": {
            "gridcolor": "white",
            "linecolor": "white",
            "ticks": ""
           },
           "bgcolor": "#E5ECF6",
           "radialaxis": {
            "gridcolor": "white",
            "linecolor": "white",
            "ticks": ""
           }
          },
          "scene": {
           "xaxis": {
            "backgroundcolor": "#E5ECF6",
            "gridcolor": "white",
            "gridwidth": 2,
            "linecolor": "white",
            "showbackground": true,
            "ticks": "",
            "zerolinecolor": "white"
           },
           "yaxis": {
            "backgroundcolor": "#E5ECF6",
            "gridcolor": "white",
            "gridwidth": 2,
            "linecolor": "white",
            "showbackground": true,
            "ticks": "",
            "zerolinecolor": "white"
           },
           "zaxis": {
            "backgroundcolor": "#E5ECF6",
            "gridcolor": "white",
            "gridwidth": 2,
            "linecolor": "white",
            "showbackground": true,
            "ticks": "",
            "zerolinecolor": "white"
           }
          },
          "shapedefaults": {
           "line": {
            "color": "#2a3f5f"
           }
          },
          "ternary": {
           "aaxis": {
            "gridcolor": "white",
            "linecolor": "white",
            "ticks": ""
           },
           "baxis": {
            "gridcolor": "white",
            "linecolor": "white",
            "ticks": ""
           },
           "bgcolor": "#E5ECF6",
           "caxis": {
            "gridcolor": "white",
            "linecolor": "white",
            "ticks": ""
           }
          },
          "title": {
           "x": 0.05
          },
          "xaxis": {
           "automargin": true,
           "gridcolor": "white",
           "linecolor": "white",
           "ticks": "",
           "title": {
            "standoff": 15
           },
           "zerolinecolor": "white",
           "zerolinewidth": 2
          },
          "yaxis": {
           "automargin": true,
           "gridcolor": "white",
           "linecolor": "white",
           "ticks": "",
           "title": {
            "standoff": 15
           },
           "zerolinecolor": "white",
           "zerolinewidth": 2
          }
         }
        }
       }
      },
      "text/html": [
       "<div>                            <div id=\"23890a68-0bce-411c-8f46-3f92bd49f0df\" class=\"plotly-graph-div\" style=\"height:525px; width:100%;\"></div>            <script type=\"text/javascript\">                require([\"plotly\"], function(Plotly) {                    window.PLOTLYENV=window.PLOTLYENV || {};                                    if (document.getElementById(\"23890a68-0bce-411c-8f46-3f92bd49f0df\")) {                    Plotly.newPlot(                        \"23890a68-0bce-411c-8f46-3f92bd49f0df\",                        [{\"marker\": {\"color\": [7, 12, 4, 1, 20, 13, 1, 12, 8, 2, 20, 10, 12, 6, 1, 24, 13, 12, 8, 2, 24, 30, 1, 1, 12, 34, 29, 2, 1, 22, 5, 14, 2, 2, 83, 1, 11, 12, 15, 12, 15, 12, 15, 3, 3, 1, 3, 50, 23, 3, 3, 3, 1, 3, 50, 23, 3, 3, 3, 1, 3, 50, 23, 3, 1, 50, 15, 82, 9, 1, 14, 4, 1, 14, 4, 17, 11, 1, 217, 6, 48, 6, 31, 8, 4, 15, 8, 16, 3, 14, 3], \"colorscale\": [[0.0, \"#440154\"], [0.1111111111111111, \"#482878\"], [0.2222222222222222, \"#3e4989\"], [0.3333333333333333, \"#31688e\"], [0.4444444444444444, \"#26828e\"], [0.5555555555555556, \"#1f9e89\"], [0.6666666666666666, \"#35b779\"], [0.7777777777777778, \"#6ece58\"], [0.8888888888888888, \"#b5de2b\"], [1.0, \"#fde725\"]], \"opacity\": 0.5, \"showscale\": true, \"size\": [7, 12, 4, 1, 20, 13, 1, 12, 8, 2, 20, 10, 12, 6, 1, 24, 13, 12, 8, 2, 24, 30, 1, 1, 12, 34, 29, 2, 1, 22, 5, 14, 2, 2, 83, 1, 11, 12, 15, 12, 15, 12, 15, 3, 3, 1, 3, 50, 23, 3, 3, 3, 1, 3, 50, 23, 3, 3, 3, 1, 3, 50, 23, 3, 1, 50, 15, 82, 9, 1, 14, 4, 1, 14, 4, 17, 11, 1, 217, 6, 48, 6, 31, 8, 4, 15, 8, 16, 3, 14, 3]}, \"mode\": \"markers+text\", \"text\": [7.0, 12.0, 4.0, 1.0, 20.0, 13.0, 1.0, 12.0, 8.0, 2.0, 20.0, 10.0, 12.0, 6.0, 1.0, 24.0, 13.0, 12.0, 8.0, 2.0, 24.0, 30.0, 1.0, 1.0, 12.0, 34.0, 29.0, 2.0, 1.0, 22.0, 5.0, 14.0, 2.0, 2.0, 83.0, 1.0, 11.0, 12.0, 15.0, 12.0, 15.0, 12.0, 15.0, 3.0, 3.0, 1.0, 3.0, 50.0, 23.0, 3.0, 3.0, 3.0, 1.0, 3.0, 50.0, 23.0, 3.0, 3.0, 3.0, 1.0, 3.0, 50.0, 23.0, 3.0, 1.0, 50.0, 15.0, 82.0, 9.0, 1.0, 14.0, 4.0, 1.0, 14.0, 4.0, 17.0, 11.0, 1.0, 217.0, 6.0, 48.0, 6.0, 31.0, 8.0, 4.0, 15.0, 8.0, 16.0, 3.0, 14.0, 3.0], \"type\": \"scatter3d\", \"x\": [\"\\uac00\\uacf5\\uc18c\\uc870\\ub9bd\\ubd80\", \"\\uac00\\uacf5\\uc18c\\uc870\\ub9bd\\ubd80\", \"\\uac00\\uacf5\\uc18c\\uc870\\ub9bd\\ubd80\", \"\\uac00\\uacf5\\uc18c\\uc870\\ub9bd\\ubd80\", \"\\uac00\\uacf5\\uc18c\\uc870\\ub9bd\\ubd80\", \"\\ud310\\ub12c\\uc870\\ub9bd\\ubd80\", \"\\ud310\\ub12c\\uc870\\ub9bd\\ubd80\", \"\\ud310\\ub12c\\uc870\\ub9bd\\ubd80\", \"\\ud310\\ub12c\\uc870\\ub9bd\\ubd80\", \"\\ud310\\ub12c\\uc870\\ub9bd\\ubd80\", \"\\ud310\\ub12c\\uc870\\ub9bd\\ubd80\", \"\\ub300\\uc870\\ub9bd1\\ubd80\", \"\\ub300\\uc870\\ub9bd1\\ubd80\", \"\\ub300\\uc870\\ub9bd1\\ubd80\", \"\\ub300\\uc870\\ub9bd1\\ubd80\", \"\\ub300\\uc870\\ub9bd1\\ubd80\", \"\\ub300\\uc870\\ub9bd2\\ubd80\", \"\\ub300\\uc870\\ub9bd2\\ubd80\", \"\\ub300\\uc870\\ub9bd2\\ubd80\", \"\\ub300\\uc870\\ub9bd2\\ubd80\", \"\\ub300\\uc870\\ub9bd2\\ubd80\", \"\\uc758\\uc7a5\\uc0dd\\uc0b0\\ubd80\", \"\\uc758\\uc7a5\\uc0dd\\uc0b0\\ubd80\", \"\\uc758\\uc7a5\\uc0dd\\uc0b0\\ubd80\", \"\\uc758\\uc7a5\\uc0dd\\uc0b0\\ubd80\", \"\\uc120\\ud589\\uc758\\uc7a5\\ubd80\", \"\\uc120\\ud589\\uc758\\uc7a5\\ubd80\", \"\\uc120\\ud589\\uc758\\uc7a5\\ubd80\", \"\\uc120\\ud589\\uc758\\uc7a5\\ubd80\", \"\\uc120\\ud589\\uc758\\uc7a5\\ubd80\", \"\\uc120\\ud589\\ub3c4\\uc7a5\\ubd80\", \"\\uc120\\ud589\\ub3c4\\uc7a5\\ubd80\", \"\\uc120\\uc2e4\\uc0dd\\uc0b0\\ubd80\", \"\\uc120\\uc2e4\\uc0dd\\uc0b0\\ubd80\", \"\\uc120\\uc2e4\\uc0dd\\uc0b0\\ubd80\", \"\\uc120\\uc2e4\\uc0dd\\uc0b0\\ubd80\", \"\\uc120\\uc2e4\\uc0dd\\uc0b0\\ubd80\", \"\\uac74\\uc8701\\ubd80\", \"\\uac74\\uc8701\\ubd80\", \"\\uac74\\uc8702\\ubd80\", \"\\uac74\\uc8702\\ubd80\", \"\\uac74\\uc8703\\ubd80\", \"\\uac74\\uc8703\\ubd80\", \"\\uc758\\uc7a51\\ubd80\", \"\\uc758\\uc7a51\\ubd80\", \"\\uc758\\uc7a51\\ubd80\", \"\\uc758\\uc7a51\\ubd80\", \"\\uc758\\uc7a51\\ubd80\", \"\\uc758\\uc7a51\\ubd80\", \"\\uc758\\uc7a51\\ubd80\", \"\\uc758\\uc7a52\\ubd80\", \"\\uc758\\uc7a52\\ubd80\", \"\\uc758\\uc7a52\\ubd80\", \"\\uc758\\uc7a52\\ubd80\", \"\\uc758\\uc7a52\\ubd80\", \"\\uc758\\uc7a52\\ubd80\", \"\\uc758\\uc7a52\\ubd80\", \"\\uc758\\uc7a53\\ubd80\", \"\\uc758\\uc7a53\\ubd80\", \"\\uc758\\uc7a53\\ubd80\", \"\\uc758\\uc7a53\\ubd80\", \"\\uc758\\uc7a53\\ubd80\", \"\\uc758\\uc7a53\\ubd80\", \"\\uc758\\uc7a53\\ubd80\", \"CHS\\uacf5\\uc0ac\\ubd80\", \"CHS\\uacf5\\uc0ac\\ubd80\", \"CHS\\uacf5\\uc0ac\\ubd80\", \"\\uae30\\uacc4\\uc758\\uc7a5\\ubd80\", \"\\uae30\\uacc4\\uc758\\uc7a5\\ubd80\", \"\\ub3c4\\uc7a51\\ubd80\", \"\\ub3c4\\uc7a51\\ubd80\", \"\\ub3c4\\uc7a51\\ubd80\", \"\\ub3c4\\uc7a52\\ubd80\", \"\\ub3c4\\uc7a52\\ubd80\", \"\\ub3c4\\uc7a52\\ubd80\", \"LNG\\uacf5\\uc0ac\\ubd80\", \"LNG\\uacf5\\uc0ac\\ubd80\", \"\\uc2dc\\uc6b4\\uc804\\ubd80\", \"\\uc2dc\\uc6b4\\uc804\\ubd80\", \"\\uc2dc\\uc6b4\\uc804\\ubd80\", \"\\uc6b4\\ud56d\\uad00\\uc81c\\uacfc\", \"\\uc6b4\\ud56d\\uad00\\uc81c\\uacfc\", \"\\uc678\\uc5c5\\uacf5\\uc0ac\\uc9c0\\uc6d0\\ubd80\", \"\\uc678\\uc5c5\\uacf5\\uc0ac\\uc9c0\\uc6d0\\ubd80\", \"\\ubc1c\\ud310\\uc9c0\\uc6d0\\ubd80\", \"\\ubc1c\\ud310\\uc9c0\\uc6d0\\ubd80\", \"\\uc790\\uc7ac\\uc6b4\\uc601\\ubd80\", \"\\uc870\\uc120\\ud574\\uc591\\ud488\\uc9c8\\uacbd\\uc6011\\ubd80\", \"\\uc870\\uc120\\ud574\\uc591\\ud488\\uc9c8\\uacbd\\uc6011\\ubd80\", \"\\uc870\\uc120\\ud574\\uc591\\ud488\\uc9c8\\uacbd\\uc6012\\ubd80\", \"\\uc870\\uc120\\ud574\\uc591\\ud488\\uc9c8\\uacbd\\uc6012\\ubd80\"], \"y\": [\"\\uac00\\uacf5\", \"\\uc18c\\uc870\\ub9bd\", \"\\uc120\\ud589\\uc758\\uc7a5\", \"\\uc120\\uc2e4\\uc120\\ud589\\uc758\\uc7a5\", \"\\uae30\\ub2a5\", \"\\ud310\\ub12c\", \"\\ub300\\uc870\\ub9bd\", \"\\uc120\\ud589\\uc758\\uc7a5\", \"\\uc120\\uc2e4\\uc120\\ud589\\uc758\\uc7a5\", \"\\uc120\\uc2e4\\uc0dd\\uc0b0\", \"\\uae30\\ub2a5\", \"\\ub300\\uc870\\ub9bd\", \"\\uc120\\ud589\\uc758\\uc7a5\", \"\\uc120\\uc2e4\\uc120\\ud589\\uc758\\uc7a5\", \"\\uc120\\uc2e4\\uc0dd\\uc0b0\", \"\\uae30\\ub2a5\", \"\\ub300\\uc870\\ub9bd\", \"\\uc120\\ud589\\uc758\\uc7a5\", \"\\uc120\\uc2e4\\uc120\\ud589\\uc758\\uc7a5\", \"\\uc120\\uc2e4\\uc0dd\\uc0b0\", \"\\uae30\\ub2a5\", \"\\uc758\\uc7a5\\uc0dd\\uc0b0\", \"\\uc120\\ud589\\ub3c4\\uc7a5\", \"\\ud6c4\\ud589\\uc758\\uc7a5\", \"\\uae30\\ub2a5\", \"\\uc120\\ud589\\uc758\\uc7a5\", \"\\uc120\\uc2e4\\uc120\\ud589\\uc758\\uc7a5\", \"\\uc120\\uc2e4\\uc0dd\\uc0b0\", \"\\uae30\\uacc4\\uc758\\uc7a5\", \"\\uae30\\ub2a5\", \"\\uc120\\ud589\\ub3c4\\uc7a5\", \"\\uae30\\ub2a5\", \"\\uc120\\ud589\\uc758\\uc7a5\", \"\\uc120\\uc2e4\\uc120\\ud589\\uc758\\uc7a5\", \"\\uc120\\uc2e4\\uc0dd\\uc0b0\", \"\\ud6c4\\ud589\\uc758\\uc7a5\", \"\\uae30\\ub2a5\", \"\\uac74\\uc870\", \"\\uae30\\ub2a5\", \"\\uac74\\uc870\", \"\\uae30\\ub2a5\", \"\\uac74\\uc870\", \"\\uae30\\ub2a5\", \"\\uc120\\ud589\\uc758\\uc7a5\", \"\\uc120\\uc2e4\\uc120\\ud589\\uc758\\uc7a5\", \"\\uc120\\ud589\\ub3c4\\uc7a5\", \"\\uc120\\uc2e4\\uc0dd\\uc0b0\", \"\\ud6c4\\ud589\\uc758\\uc7a5\", \"\\uae30\\ub2a5\", \"\\ud6c4\\ud589\\ub3c4\\uc7a5\", \"\\uc120\\ud589\\uc758\\uc7a5\", \"\\uc120\\uc2e4\\uc120\\ud589\\uc758\\uc7a5\", \"\\uc120\\ud589\\ub3c4\\uc7a5\", \"\\uc120\\uc2e4\\uc0dd\\uc0b0\", \"\\ud6c4\\ud589\\uc758\\uc7a5\", \"\\uae30\\ub2a5\", \"\\ud6c4\\ud589\\ub3c4\\uc7a5\", \"\\uc120\\ud589\\uc758\\uc7a5\", \"\\uc120\\uc2e4\\uc120\\ud589\\uc758\\uc7a5\", \"\\uc120\\ud589\\ub3c4\\uc7a5\", \"\\uc120\\uc2e4\\uc0dd\\uc0b0\", \"\\ud6c4\\ud589\\uc758\\uc7a5\", \"\\uae30\\ub2a5\", \"\\ud6c4\\ud589\\ub3c4\\uc7a5\", \"\\uc120\\ud589\\uc758\\uc7a5\", \"\\ud6c4\\ud589\\uc758\\uc7a5\", \"\\uae30\\ub2a5\", \"\\uae30\\uacc4\\uc758\\uc7a5\", \"\\uae30\\ub2a5\", \"\\uc120\\ud589\\ub3c4\\uc7a5\", \"\\uae30\\ub2a5\", \"\\ud6c4\\ud589\\ub3c4\\uc7a5\", \"\\uc120\\ud589\\ub3c4\\uc7a5\", \"\\uae30\\ub2a5\", \"\\ud6c4\\ud589\\ub3c4\\uc7a5\", \"LNG\\uacf5\\uc0ac\", \"\\uae30\\ub2a5\", \"\\uc120\\uc2e4\\uc120\\ud589\\uc758\\uc7a5\", \"\\uc2dc\\uc6b4\\uc804\", \"\\uae30\\ub2a5\", \"\\uc6b4\\ud56d\\uad00\\uc81c\", \"\\uae30\\ub2a5\", \"\\uacf5\\uc0ac\\uc9c0\\uc6d0\", \"\\uae30\\ub2a5\", \"\\uacf5\\uc0ac\\uc9c0\\uc6d0\", \"\\uae30\\ub2a5\", \"\\uae30\\ub2a5\", \"QM\", \"\\uae30\\ub2a5\", \"QM\", \"\\uae30\\ub2a5\"], \"z\": [7, 12, 4, 1, 20, 13, 1, 12, 8, 2, 20, 10, 12, 6, 1, 24, 13, 12, 8, 2, 24, 30, 1, 1, 12, 34, 29, 2, 1, 22, 5, 14, 2, 2, 83, 1, 11, 12, 15, 12, 15, 12, 15, 3, 3, 1, 3, 50, 23, 3, 3, 3, 1, 3, 50, 23, 3, 3, 3, 1, 3, 50, 23, 3, 1, 50, 15, 82, 9, 1, 14, 4, 1, 14, 4, 17, 11, 1, 217, 6, 48, 6, 31, 8, 4, 15, 8, 16, 3, 14, 3]}],                        {\"margin\": {\"b\": 0, \"l\": 0, \"r\": 0, \"t\": 0}, \"template\": {\"data\": {\"bar\": [{\"error_x\": {\"color\": \"#2a3f5f\"}, \"error_y\": {\"color\": \"#2a3f5f\"}, \"marker\": {\"line\": {\"color\": \"#E5ECF6\", \"width\": 0.5}}, \"type\": \"bar\"}], \"barpolar\": [{\"marker\": {\"line\": {\"color\": \"#E5ECF6\", \"width\": 0.5}}, \"type\": \"barpolar\"}], \"carpet\": [{\"aaxis\": {\"endlinecolor\": \"#2a3f5f\", \"gridcolor\": \"white\", \"linecolor\": \"white\", \"minorgridcolor\": \"white\", \"startlinecolor\": \"#2a3f5f\"}, \"baxis\": {\"endlinecolor\": \"#2a3f5f\", \"gridcolor\": \"white\", \"linecolor\": \"white\", \"minorgridcolor\": \"white\", \"startlinecolor\": \"#2a3f5f\"}, \"type\": \"carpet\"}], \"choropleth\": [{\"colorbar\": {\"outlinewidth\": 0, \"ticks\": \"\"}, \"type\": \"choropleth\"}], \"contour\": [{\"colorbar\": {\"outlinewidth\": 0, \"ticks\": \"\"}, \"colorscale\": [[0.0, \"#0d0887\"], [0.1111111111111111, \"#46039f\"], [0.2222222222222222, \"#7201a8\"], [0.3333333333333333, \"#9c179e\"], [0.4444444444444444, \"#bd3786\"], [0.5555555555555556, \"#d8576b\"], [0.6666666666666666, \"#ed7953\"], [0.7777777777777778, \"#fb9f3a\"], [0.8888888888888888, \"#fdca26\"], [1.0, \"#f0f921\"]], \"type\": \"contour\"}], \"contourcarpet\": [{\"colorbar\": {\"outlinewidth\": 0, \"ticks\": \"\"}, \"type\": \"contourcarpet\"}], \"heatmap\": [{\"colorbar\": {\"outlinewidth\": 0, \"ticks\": \"\"}, \"colorscale\": [[0.0, \"#0d0887\"], [0.1111111111111111, \"#46039f\"], [0.2222222222222222, \"#7201a8\"], [0.3333333333333333, \"#9c179e\"], [0.4444444444444444, \"#bd3786\"], [0.5555555555555556, \"#d8576b\"], [0.6666666666666666, \"#ed7953\"], [0.7777777777777778, \"#fb9f3a\"], [0.8888888888888888, \"#fdca26\"], [1.0, \"#f0f921\"]], \"type\": \"heatmap\"}], \"heatmapgl\": [{\"colorbar\": {\"outlinewidth\": 0, \"ticks\": \"\"}, \"colorscale\": [[0.0, \"#0d0887\"], [0.1111111111111111, \"#46039f\"], [0.2222222222222222, \"#7201a8\"], [0.3333333333333333, \"#9c179e\"], [0.4444444444444444, \"#bd3786\"], [0.5555555555555556, \"#d8576b\"], [0.6666666666666666, \"#ed7953\"], [0.7777777777777778, \"#fb9f3a\"], [0.8888888888888888, \"#fdca26\"], [1.0, \"#f0f921\"]], \"type\": \"heatmapgl\"}], \"histogram\": [{\"marker\": {\"colorbar\": {\"outlinewidth\": 0, \"ticks\": \"\"}}, \"type\": \"histogram\"}], \"histogram2d\": [{\"colorbar\": {\"outlinewidth\": 0, \"ticks\": \"\"}, \"colorscale\": [[0.0, \"#0d0887\"], [0.1111111111111111, \"#46039f\"], [0.2222222222222222, \"#7201a8\"], [0.3333333333333333, \"#9c179e\"], [0.4444444444444444, \"#bd3786\"], [0.5555555555555556, \"#d8576b\"], [0.6666666666666666, \"#ed7953\"], [0.7777777777777778, \"#fb9f3a\"], [0.8888888888888888, \"#fdca26\"], [1.0, \"#f0f921\"]], \"type\": \"histogram2d\"}], \"histogram2dcontour\": [{\"colorbar\": {\"outlinewidth\": 0, \"ticks\": \"\"}, \"colorscale\": [[0.0, \"#0d0887\"], [0.1111111111111111, \"#46039f\"], [0.2222222222222222, \"#7201a8\"], [0.3333333333333333, \"#9c179e\"], [0.4444444444444444, \"#bd3786\"], [0.5555555555555556, \"#d8576b\"], [0.6666666666666666, \"#ed7953\"], [0.7777777777777778, \"#fb9f3a\"], [0.8888888888888888, \"#fdca26\"], [1.0, \"#f0f921\"]], \"type\": \"histogram2dcontour\"}], \"mesh3d\": [{\"colorbar\": {\"outlinewidth\": 0, \"ticks\": \"\"}, \"type\": \"mesh3d\"}], \"parcoords\": [{\"line\": {\"colorbar\": {\"outlinewidth\": 0, \"ticks\": \"\"}}, \"type\": \"parcoords\"}], \"pie\": [{\"automargin\": true, \"type\": \"pie\"}], \"scatter\": [{\"marker\": {\"colorbar\": {\"outlinewidth\": 0, \"ticks\": \"\"}}, \"type\": \"scatter\"}], \"scatter3d\": [{\"line\": {\"colorbar\": {\"outlinewidth\": 0, \"ticks\": \"\"}}, \"marker\": {\"colorbar\": {\"outlinewidth\": 0, \"ticks\": \"\"}}, \"type\": \"scatter3d\"}], \"scattercarpet\": [{\"marker\": {\"colorbar\": {\"outlinewidth\": 0, \"ticks\": \"\"}}, \"type\": \"scattercarpet\"}], \"scattergeo\": [{\"marker\": {\"colorbar\": {\"outlinewidth\": 0, \"ticks\": \"\"}}, \"type\": \"scattergeo\"}], \"scattergl\": [{\"marker\": {\"colorbar\": {\"outlinewidth\": 0, \"ticks\": \"\"}}, \"type\": \"scattergl\"}], \"scattermapbox\": [{\"marker\": {\"colorbar\": {\"outlinewidth\": 0, \"ticks\": \"\"}}, \"type\": \"scattermapbox\"}], \"scatterpolar\": [{\"marker\": {\"colorbar\": {\"outlinewidth\": 0, \"ticks\": \"\"}}, \"type\": \"scatterpolar\"}], \"scatterpolargl\": [{\"marker\": {\"colorbar\": {\"outlinewidth\": 0, \"ticks\": \"\"}}, \"type\": \"scatterpolargl\"}], \"scatterternary\": [{\"marker\": {\"colorbar\": {\"outlinewidth\": 0, \"ticks\": \"\"}}, \"type\": \"scatterternary\"}], \"surface\": [{\"colorbar\": {\"outlinewidth\": 0, \"ticks\": \"\"}, \"colorscale\": [[0.0, \"#0d0887\"], [0.1111111111111111, \"#46039f\"], [0.2222222222222222, \"#7201a8\"], [0.3333333333333333, \"#9c179e\"], [0.4444444444444444, \"#bd3786\"], [0.5555555555555556, \"#d8576b\"], [0.6666666666666666, \"#ed7953\"], [0.7777777777777778, \"#fb9f3a\"], [0.8888888888888888, \"#fdca26\"], [1.0, \"#f0f921\"]], \"type\": \"surface\"}], \"table\": [{\"cells\": {\"fill\": {\"color\": \"#EBF0F8\"}, \"line\": {\"color\": \"white\"}}, \"header\": {\"fill\": {\"color\": \"#C8D4E3\"}, \"line\": {\"color\": \"white\"}}, \"type\": \"table\"}]}, \"layout\": {\"annotationdefaults\": {\"arrowcolor\": \"#2a3f5f\", \"arrowhead\": 0, \"arrowwidth\": 1}, \"autotypenumbers\": \"strict\", \"coloraxis\": {\"colorbar\": {\"outlinewidth\": 0, \"ticks\": \"\"}}, \"colorscale\": {\"diverging\": [[0, \"#8e0152\"], [0.1, \"#c51b7d\"], [0.2, \"#de77ae\"], [0.3, \"#f1b6da\"], [0.4, \"#fde0ef\"], [0.5, \"#f7f7f7\"], [0.6, \"#e6f5d0\"], [0.7, \"#b8e186\"], [0.8, \"#7fbc41\"], [0.9, \"#4d9221\"], [1, \"#276419\"]], \"sequential\": [[0.0, \"#0d0887\"], [0.1111111111111111, \"#46039f\"], [0.2222222222222222, \"#7201a8\"], [0.3333333333333333, \"#9c179e\"], [0.4444444444444444, \"#bd3786\"], [0.5555555555555556, \"#d8576b\"], [0.6666666666666666, \"#ed7953\"], [0.7777777777777778, \"#fb9f3a\"], [0.8888888888888888, \"#fdca26\"], [1.0, \"#f0f921\"]], \"sequentialminus\": [[0.0, \"#0d0887\"], [0.1111111111111111, \"#46039f\"], [0.2222222222222222, \"#7201a8\"], [0.3333333333333333, \"#9c179e\"], [0.4444444444444444, \"#bd3786\"], [0.5555555555555556, \"#d8576b\"], [0.6666666666666666, \"#ed7953\"], [0.7777777777777778, \"#fb9f3a\"], [0.8888888888888888, \"#fdca26\"], [1.0, \"#f0f921\"]]}, \"colorway\": [\"#636efa\", \"#EF553B\", \"#00cc96\", \"#ab63fa\", \"#FFA15A\", \"#19d3f3\", \"#FF6692\", \"#B6E880\", \"#FF97FF\", \"#FECB52\"], \"font\": {\"color\": \"#2a3f5f\"}, \"geo\": {\"bgcolor\": \"white\", \"lakecolor\": \"white\", \"landcolor\": \"#E5ECF6\", \"showlakes\": true, \"showland\": true, \"subunitcolor\": \"white\"}, \"hoverlabel\": {\"align\": \"left\"}, \"hovermode\": \"closest\", \"mapbox\": {\"style\": \"light\"}, \"paper_bgcolor\": \"white\", \"plot_bgcolor\": \"#E5ECF6\", \"polar\": {\"angularaxis\": {\"gridcolor\": \"white\", \"linecolor\": \"white\", \"ticks\": \"\"}, \"bgcolor\": \"#E5ECF6\", \"radialaxis\": {\"gridcolor\": \"white\", \"linecolor\": \"white\", \"ticks\": \"\"}}, \"scene\": {\"xaxis\": {\"backgroundcolor\": \"#E5ECF6\", \"gridcolor\": \"white\", \"gridwidth\": 2, \"linecolor\": \"white\", \"showbackground\": true, \"ticks\": \"\", \"zerolinecolor\": \"white\"}, \"yaxis\": {\"backgroundcolor\": \"#E5ECF6\", \"gridcolor\": \"white\", \"gridwidth\": 2, \"linecolor\": \"white\", \"showbackground\": true, \"ticks\": \"\", \"zerolinecolor\": \"white\"}, \"zaxis\": {\"backgroundcolor\": \"#E5ECF6\", \"gridcolor\": \"white\", \"gridwidth\": 2, \"linecolor\": \"white\", \"showbackground\": true, \"ticks\": \"\", \"zerolinecolor\": \"white\"}}, \"shapedefaults\": {\"line\": {\"color\": \"#2a3f5f\"}}, \"ternary\": {\"aaxis\": {\"gridcolor\": \"white\", \"linecolor\": \"white\", \"ticks\": \"\"}, \"baxis\": {\"gridcolor\": \"white\", \"linecolor\": \"white\", \"ticks\": \"\"}, \"bgcolor\": \"#E5ECF6\", \"caxis\": {\"gridcolor\": \"white\", \"linecolor\": \"white\", \"ticks\": \"\"}}, \"title\": {\"x\": 0.05}, \"xaxis\": {\"automargin\": true, \"gridcolor\": \"white\", \"linecolor\": \"white\", \"ticks\": \"\", \"title\": {\"standoff\": 15}, \"zerolinecolor\": \"white\", \"zerolinewidth\": 2}, \"yaxis\": {\"automargin\": true, \"gridcolor\": \"white\", \"linecolor\": \"white\", \"ticks\": \"\", \"title\": {\"standoff\": 15}, \"zerolinecolor\": \"white\", \"zerolinewidth\": 2}}}},                        {\"responsive\": true}                    ).then(function(){\n",
       "                            \n",
       "var gd = document.getElementById('23890a68-0bce-411c-8f46-3f92bd49f0df');\n",
       "var x = new MutationObserver(function (mutations, observer) {{\n",
       "        var display = window.getComputedStyle(gd).display;\n",
       "        if (!display || display === 'none') {{\n",
       "            console.log([gd, 'removed!']);\n",
       "            Plotly.purge(gd);\n",
       "            observer.disconnect();\n",
       "        }}\n",
       "}});\n",
       "\n",
       "// Listen for the removal of the full notebook cells\n",
       "var notebookContainer = gd.closest('#notebook-container');\n",
       "if (notebookContainer) {{\n",
       "    x.observe(notebookContainer, {childList: true});\n",
       "}}\n",
       "\n",
       "// Listen for the clearing of the current output cell\n",
       "var outputEl = gd.closest('.output');\n",
       "if (outputEl) {{\n",
       "    x.observe(outputEl, {childList: true});\n",
       "}}\n",
       "\n",
       "                        })                };                });            </script>        </div>"
      ]
     },
     "metadata": {},
     "output_type": "display_data"
    }
   ],
   "source": [
    "fig = go.Figure(data=data, layout=layout)\n",
    "fig.show()\n",
    "fig.write_html(\"./results/test9_3d.html\")"
   ]
  },
  {
   "cell_type": "code",
   "execution_count": null,
   "metadata": {},
   "outputs": [],
   "source": []
  }
 ],
 "metadata": {
  "kernelspec": {
   "display_name": "Python 3",
   "language": "python",
   "name": "python3"
  },
  "language_info": {
   "codemirror_mode": {
    "name": "ipython",
    "version": 3
   },
   "file_extension": ".py",
   "mimetype": "text/x-python",
   "name": "python",
   "nbconvert_exporter": "python",
   "pygments_lexer": "ipython3",
   "version": "3.7.7"
  }
 },
 "nbformat": 4,
 "nbformat_minor": 4
}
