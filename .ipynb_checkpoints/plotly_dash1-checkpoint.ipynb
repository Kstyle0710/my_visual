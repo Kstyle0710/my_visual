{
 "cells": [
  {
   "cell_type": "code",
   "execution_count": 1,
   "metadata": {},
   "outputs": [],
   "source": [
    "# ! pip install dash\n",
    "# ! pip install dash-renderer\n",
    "# ! pip install dash_html_components\n",
    "# ! pip install dash_core_components"
   ]
  },
  {
   "cell_type": "code",
   "execution_count": 2,
   "metadata": {},
   "outputs": [],
   "source": [
    "import dash\n",
    "import dash_html_components as html\n",
    "import dash_core_components as dcc"
   ]
  },
  {
   "cell_type": "code",
   "execution_count": 3,
   "metadata": {},
   "outputs": [],
   "source": [
    "app = dash.Dash()"
   ]
  },
  {
   "cell_type": "code",
   "execution_count": 4,
   "metadata": {},
   "outputs": [],
   "source": [
    "app.layout = html.Div([\n",
    "    html.H1('Hello Dash!'),\n",
    "    html.Div(\"Dash - A Data product development framework from plotly\")\n",
    "])"
   ]
  },
  {
   "cell_type": "code",
   "execution_count": null,
   "metadata": {},
   "outputs": [
    {
     "name": "stdout",
     "output_type": "stream",
     "text": [
      "Dash is running on http://127.0.0.1:4020/\n",
      "\n",
      " * Serving Flask app \"__main__\" (lazy loading)\n",
      " * Environment: production\n",
      "   WARNING: This is a development server. Do not use it in a production deployment.\n",
      "   Use a production WSGI server instead.\n",
      " * Debug mode: off\n"
     ]
    },
    {
     "name": "stderr",
     "output_type": "stream",
     "text": [
      " * Running on http://127.0.0.1:4020/ (Press CTRL+C to quit)\n",
      "127.0.0.1 - - [19/Dec/2020 23:14:09] \"\u001b[37mGET / HTTP/1.1\u001b[0m\" 200 -\n",
      "127.0.0.1 - - [19/Dec/2020 23:14:09] \"\u001b[37mGET /_dash-component-suites/dash_renderer/polyfill@7.v1_8_3m1608386625.8.7.min.js HTTP/1.1\u001b[0m\" 200 -\n",
      "127.0.0.1 - - [19/Dec/2020 23:14:09] \"\u001b[37mGET /_dash-component-suites/dash_renderer/prop-types@15.v1_8_3m1608386625.7.2.min.js HTTP/1.1\u001b[0m\" 200 -\n",
      "127.0.0.1 - - [19/Dec/2020 23:14:09] \"\u001b[37mGET /_dash-component-suites/dash_renderer/react@16.v1_8_3m1608386625.14.0.min.js HTTP/1.1\u001b[0m\" 200 -\n",
      "127.0.0.1 - - [19/Dec/2020 23:14:09] \"\u001b[37mGET /_dash-component-suites/dash_renderer/react-dom@16.v1_8_3m1608386625.14.0.min.js HTTP/1.1\u001b[0m\" 200 -\n",
      "127.0.0.1 - - [19/Dec/2020 23:14:09] \"\u001b[37mGET /_dash-component-suites/dash_core_components/dash_core_components-shared.v1_14_1m1608386625.js HTTP/1.1\u001b[0m\" 200 -\n",
      "127.0.0.1 - - [19/Dec/2020 23:14:09] \"\u001b[37mGET /_dash-component-suites/dash_html_components/dash_html_components.v1_1_1m1608386625.min.js HTTP/1.1\u001b[0m\" 200 -\n",
      "127.0.0.1 - - [19/Dec/2020 23:14:09] \"\u001b[37mGET /_dash-component-suites/dash_renderer/dash_renderer.v1_8_3m1608386625.min.js HTTP/1.1\u001b[0m\" 200 -\n",
      "127.0.0.1 - - [19/Dec/2020 23:14:09] \"\u001b[37mGET /_dash-component-suites/dash_core_components/dash_core_components.v1_14_1m1608386625.min.js HTTP/1.1\u001b[0m\" 200 -\n",
      "127.0.0.1 - - [19/Dec/2020 23:14:09] \"\u001b[37mGET /_dash-layout HTTP/1.1\u001b[0m\" 200 -\n",
      "127.0.0.1 - - [19/Dec/2020 23:14:09] \"\u001b[37mGET /_dash-dependencies HTTP/1.1\u001b[0m\" 200 -\n",
      "127.0.0.1 - - [19/Dec/2020 23:14:09] \"\u001b[37mGET /_favicon.ico?v=1.18.1 HTTP/1.1\u001b[0m\" 200 -\n"
     ]
    }
   ],
   "source": [
    "if __name__ == '__main__':\n",
    "    app.run_server(port = 4020)"
   ]
  },
  {
   "cell_type": "code",
   "execution_count": null,
   "metadata": {},
   "outputs": [],
   "source": []
  }
 ],
 "metadata": {
  "kernelspec": {
   "display_name": "Python 3",
   "language": "python",
   "name": "python3"
  },
  "language_info": {
   "codemirror_mode": {
    "name": "ipython",
    "version": 3
   },
   "file_extension": ".py",
   "mimetype": "text/x-python",
   "name": "python",
   "nbconvert_exporter": "python",
   "pygments_lexer": "ipython3",
   "version": "3.7.7"
  }
 },
 "nbformat": 4,
 "nbformat_minor": 4
}
