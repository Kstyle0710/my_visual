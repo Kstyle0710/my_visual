{
 "cells": [
  {
   "cell_type": "code",
   "execution_count": 54,
   "metadata": {},
   "outputs": [],
   "source": [
    "import dash\n",
    "import dash_html_components as html\n",
    "import dash_core_components as dcc\n",
    "import plotly.graph_objs as go\n",
    "import numpy as np\n",
    "import pandas as pd\n",
    "from urllib.request import urlopen"
   ]
  },
  {
   "cell_type": "code",
   "execution_count": 53,
   "metadata": {},
   "outputs": [],
   "source": [
    "## Samsung Electronics\n",
    "url = 'https://query1.finance.yahoo.com/v7/finance/download/005930.KS?period1=1576559279&period2=1608181679&interval=1d&events=history&includeAdjustedClose=true'"
   ]
  },
  {
   "cell_type": "code",
   "execution_count": 55,
   "metadata": {},
   "outputs": [
    {
     "data": {
      "text/plain": [
       "[b'2020-12-11,73500.000000,73800.000000,73100.000000,73400.000000,73400.000000,18486672\\n',\n",
       " b'2020-12-14,73600.000000,74500.000000,73200.000000,73800.000000,73800.000000,21510415\\n',\n",
       " b'2020-12-15,73800.000000,74100.000000,73300.000000,73800.000000,73800.000000,20863671\\n',\n",
       " b'2020-12-16,74100.000000,74500.000000,73400.000000,73800.000000,73800.000000,17512081\\n',\n",
       " b'2020-12-17,73400.000000,73700.000000,72600.000000,73300.000000,73300.000000,24293214']"
      ]
     },
     "execution_count": 55,
     "metadata": {},
     "output_type": "execute_result"
    }
   ],
   "source": [
    "sources = urlopen(url).readlines()\n",
    "sources[-5:]"
   ]
  },
  {
   "cell_type": "code",
   "execution_count": 62,
   "metadata": {},
   "outputs": [
    {
     "data": {
      "text/plain": [
       "[['Date', 'Open', 'High', 'Low', 'Close', 'Adj Close', 'Volume']]"
      ]
     },
     "execution_count": 62,
     "metadata": {},
     "output_type": "execute_result"
    }
   ],
   "source": [
    "columns = [x.decode('utf-8').rstrip('\\n').split(',') for x in sources[:1]]\n",
    "columns"
   ]
  },
  {
   "cell_type": "code",
   "execution_count": 63,
   "metadata": {},
   "outputs": [
    {
     "data": {
      "text/plain": [
       "['Date', 'Open', 'High', 'Low', 'Close', 'Adj Close', 'Volume']"
      ]
     },
     "execution_count": 63,
     "metadata": {},
     "output_type": "execute_result"
    }
   ],
   "source": [
    "columns = columns[0]\n",
    "columns"
   ]
  },
  {
   "cell_type": "code",
   "execution_count": 64,
   "metadata": {},
   "outputs": [
    {
     "data": {
      "text/plain": [
       "[['2019-12-17',\n",
       "  '55800.000000',\n",
       "  '56700.000000',\n",
       "  '55400.000000',\n",
       "  '56700.000000',\n",
       "  '56700.000000',\n",
       "  '19358433'],\n",
       " ['2019-12-18',\n",
       "  '56700.000000',\n",
       "  '57200.000000',\n",
       "  '56000.000000',\n",
       "  '56300.000000',\n",
       "  '56300.000000',\n",
       "  '15558208'],\n",
       " ['2019-12-19',\n",
       "  '57000.000000',\n",
       "  '57300.000000',\n",
       "  '55500.000000',\n",
       "  '56000.000000',\n",
       "  '56000.000000',\n",
       "  '14180520'],\n",
       " ['2019-12-20',\n",
       "  '56100.000000',\n",
       "  '56500.000000',\n",
       "  '55600.000000',\n",
       "  '56000.000000',\n",
       "  '56000.000000',\n",
       "  '12095519'],\n",
       " ['2019-12-23',\n",
       "  '56100.000000',\n",
       "  '56400.000000',\n",
       "  '55100.000000',\n",
       "  '55500.000000',\n",
       "  '55500.000000',\n",
       "  '9839252']]"
      ]
     },
     "execution_count": 64,
     "metadata": {},
     "output_type": "execute_result"
    }
   ],
   "source": [
    "deco_source = [x.decode('utf-8').rstrip('\\n').split(',') for x in sources[1:]]\n",
    "deco_source[:5]"
   ]
  },
  {
   "cell_type": "code",
   "execution_count": 65,
   "metadata": {},
   "outputs": [
    {
     "data": {
      "text/html": [
       "<div>\n",
       "<style scoped>\n",
       "    .dataframe tbody tr th:only-of-type {\n",
       "        vertical-align: middle;\n",
       "    }\n",
       "\n",
       "    .dataframe tbody tr th {\n",
       "        vertical-align: top;\n",
       "    }\n",
       "\n",
       "    .dataframe thead th {\n",
       "        text-align: right;\n",
       "    }\n",
       "</style>\n",
       "<table border=\"1\" class=\"dataframe\">\n",
       "  <thead>\n",
       "    <tr style=\"text-align: right;\">\n",
       "      <th></th>\n",
       "      <th>Date</th>\n",
       "      <th>Open</th>\n",
       "      <th>High</th>\n",
       "      <th>Low</th>\n",
       "      <th>Close</th>\n",
       "      <th>Adj Close</th>\n",
       "      <th>Volume</th>\n",
       "    </tr>\n",
       "  </thead>\n",
       "  <tbody>\n",
       "    <tr>\n",
       "      <th>0</th>\n",
       "      <td>2019-12-17</td>\n",
       "      <td>55800.000000</td>\n",
       "      <td>56700.000000</td>\n",
       "      <td>55400.000000</td>\n",
       "      <td>56700.000000</td>\n",
       "      <td>56700.000000</td>\n",
       "      <td>19358433</td>\n",
       "    </tr>\n",
       "    <tr>\n",
       "      <th>1</th>\n",
       "      <td>2019-12-18</td>\n",
       "      <td>56700.000000</td>\n",
       "      <td>57200.000000</td>\n",
       "      <td>56000.000000</td>\n",
       "      <td>56300.000000</td>\n",
       "      <td>56300.000000</td>\n",
       "      <td>15558208</td>\n",
       "    </tr>\n",
       "    <tr>\n",
       "      <th>2</th>\n",
       "      <td>2019-12-19</td>\n",
       "      <td>57000.000000</td>\n",
       "      <td>57300.000000</td>\n",
       "      <td>55500.000000</td>\n",
       "      <td>56000.000000</td>\n",
       "      <td>56000.000000</td>\n",
       "      <td>14180520</td>\n",
       "    </tr>\n",
       "    <tr>\n",
       "      <th>3</th>\n",
       "      <td>2019-12-20</td>\n",
       "      <td>56100.000000</td>\n",
       "      <td>56500.000000</td>\n",
       "      <td>55600.000000</td>\n",
       "      <td>56000.000000</td>\n",
       "      <td>56000.000000</td>\n",
       "      <td>12095519</td>\n",
       "    </tr>\n",
       "    <tr>\n",
       "      <th>4</th>\n",
       "      <td>2019-12-23</td>\n",
       "      <td>56100.000000</td>\n",
       "      <td>56400.000000</td>\n",
       "      <td>55100.000000</td>\n",
       "      <td>55500.000000</td>\n",
       "      <td>55500.000000</td>\n",
       "      <td>9839252</td>\n",
       "    </tr>\n",
       "  </tbody>\n",
       "</table>\n",
       "</div>"
      ],
      "text/plain": [
       "         Date          Open          High           Low         Close  \\\n",
       "0  2019-12-17  55800.000000  56700.000000  55400.000000  56700.000000   \n",
       "1  2019-12-18  56700.000000  57200.000000  56000.000000  56300.000000   \n",
       "2  2019-12-19  57000.000000  57300.000000  55500.000000  56000.000000   \n",
       "3  2019-12-20  56100.000000  56500.000000  55600.000000  56000.000000   \n",
       "4  2019-12-23  56100.000000  56400.000000  55100.000000  55500.000000   \n",
       "\n",
       "      Adj Close    Volume  \n",
       "0  56700.000000  19358433  \n",
       "1  56300.000000  15558208  \n",
       "2  56000.000000  14180520  \n",
       "3  56000.000000  12095519  \n",
       "4  55500.000000   9839252  "
      ]
     },
     "execution_count": 65,
     "metadata": {},
     "output_type": "execute_result"
    }
   ],
   "source": [
    "df = pd.DataFrame(deco_source, columns = columns)\n",
    "df.head()"
   ]
  },
  {
   "cell_type": "code",
   "execution_count": 66,
   "metadata": {},
   "outputs": [],
   "source": [
    "trace_close = go.Scatter(x=df.Date, y=df.Close,\n",
    "                        name=\"Close\",\n",
    "                        line=dict(color=\"#FF0000\"))"
   ]
  },
  {
   "cell_type": "code",
   "execution_count": 67,
   "metadata": {},
   "outputs": [],
   "source": [
    "data = [trace_close]"
   ]
  },
  {
   "cell_type": "code",
   "execution_count": 68,
   "metadata": {},
   "outputs": [],
   "source": [
    "layout = dict(title=\"Stock Chart\",\n",
    "             showlegend=False)"
   ]
  },
  {
   "cell_type": "code",
   "execution_count": 69,
   "metadata": {},
   "outputs": [],
   "source": [
    "fig = dict(data=data, layout=layout)"
   ]
  },
  {
   "cell_type": "code",
   "execution_count": 71,
   "metadata": {},
   "outputs": [],
   "source": [
    "app = dash.Dash()"
   ]
  },
  {
   "cell_type": "code",
   "execution_count": 72,
   "metadata": {},
   "outputs": [],
   "source": [
    "app.layout = html.Div([\n",
    "    html.Div(html.H1(children=\"Hello\")),\n",
    "    html.Label(\"Dash Graph\"),\n",
    "    \n",
    "    html.Div(\n",
    "        dcc.Input(\n",
    "            id=\"stock-input\",\n",
    "            placeholder=\"Enter a stock to be charted\",\n",
    "            type=\"text\",\n",
    "            value=\"\"\n",
    "        ),            \n",
    "    ),\n",
    "        \n",
    "    \n",
    "    html.Div(\n",
    "        dcc.Graph(id=\"stock-chart\",\n",
    "                 figure=fig)\n",
    "    )\n",
    "])"
   ]
  },
  {
   "cell_type": "code",
   "execution_count": 73,
   "metadata": {},
   "outputs": [
    {
     "name": "stdout",
     "output_type": "stream",
     "text": [
      "Dash is running on http://127.0.0.1:4024/\n",
      "\n",
      "Dash is running on http://127.0.0.1:4024/\n",
      "\n",
      " * Serving Flask app \"__main__\" (lazy loading)\n",
      " * Environment: production\n",
      "   WARNING: This is a development server. Do not use it in a production deployment.\n",
      "   Use a production WSGI server instead.\n",
      " * Debug mode: off\n"
     ]
    },
    {
     "name": "stderr",
     "output_type": "stream",
     "text": [
      " * Running on http://127.0.0.1:4024/ (Press CTRL+C to quit)\n",
      "127.0.0.1 - - [20/Dec/2020 16:37:31] \"\u001b[37mGET / HTTP/1.1\u001b[0m\" 200 -\n",
      "127.0.0.1 - - [20/Dec/2020 16:37:31] \"\u001b[37mGET /_dash-component-suites/dash_renderer/polyfill@7.v1_8_3m1608386625.8.7.min.js HTTP/1.1\u001b[0m\" 200 -\n",
      "127.0.0.1 - - [20/Dec/2020 16:37:31] \"\u001b[37mGET /_dash-component-suites/dash_renderer/prop-types@15.v1_8_3m1608386625.7.2.min.js HTTP/1.1\u001b[0m\" 200 -\n",
      "127.0.0.1 - - [20/Dec/2020 16:37:31] \"\u001b[37mGET /_dash-component-suites/dash_renderer/react@16.v1_8_3m1608386625.14.0.min.js HTTP/1.1\u001b[0m\" 200 -\n",
      "127.0.0.1 - - [20/Dec/2020 16:37:31] \"\u001b[37mGET /_dash-component-suites/dash_renderer/react-dom@16.v1_8_3m1608386625.14.0.min.js HTTP/1.1\u001b[0m\" 200 -\n",
      "127.0.0.1 - - [20/Dec/2020 16:37:31] \"\u001b[37mGET /_dash-component-suites/dash_core_components/dash_core_components.v1_14_1m1608386625.min.js HTTP/1.1\u001b[0m\" 200 -\n",
      "127.0.0.1 - - [20/Dec/2020 16:37:31] \"\u001b[37mGET /_dash-component-suites/dash_core_components/dash_core_components-shared.v1_14_1m1608386625.js HTTP/1.1\u001b[0m\" 200 -\n",
      "127.0.0.1 - - [20/Dec/2020 16:37:31] \"\u001b[37mGET /_dash-component-suites/dash_html_components/dash_html_components.v1_1_1m1608386625.min.js HTTP/1.1\u001b[0m\" 200 -\n",
      "127.0.0.1 - - [20/Dec/2020 16:37:31] \"\u001b[37mGET /_dash-component-suites/dash_renderer/dash_renderer.v1_8_3m1608386625.min.js HTTP/1.1\u001b[0m\" 200 -\n",
      "127.0.0.1 - - [20/Dec/2020 16:37:31] \"\u001b[37mGET /_dash-dependencies HTTP/1.1\u001b[0m\" 200 -\n",
      "127.0.0.1 - - [20/Dec/2020 16:37:31] \"\u001b[37mGET /_dash-layout HTTP/1.1\u001b[0m\" 200 -\n",
      "127.0.0.1 - - [20/Dec/2020 16:37:31] \"\u001b[37mGET /_favicon.ico?v=1.18.1 HTTP/1.1\u001b[0m\" 200 -\n",
      "127.0.0.1 - - [20/Dec/2020 16:37:31] \"\u001b[37mGET /_dash-component-suites/dash_core_components/async-graph.v1_14_1m1607534654.js HTTP/1.1\u001b[0m\" 200 -\n",
      "127.0.0.1 - - [20/Dec/2020 16:37:32] \"\u001b[37mGET /_dash-component-suites/dash_core_components/async-plotlyjs.v1_14_1m1607534654.js HTTP/1.1\u001b[0m\" 200 -\n"
     ]
    }
   ],
   "source": [
    "if __name__ == '__main__':\n",
    "    app.run_server(port = 4024)"
   ]
  },
  {
   "cell_type": "code",
   "execution_count": null,
   "metadata": {},
   "outputs": [],
   "source": []
  }
 ],
 "metadata": {
  "kernelspec": {
   "display_name": "Python 3",
   "language": "python",
   "name": "python3"
  },
  "language_info": {
   "codemirror_mode": {
    "name": "ipython",
    "version": 3
   },
   "file_extension": ".py",
   "mimetype": "text/x-python",
   "name": "python",
   "nbconvert_exporter": "python",
   "pygments_lexer": "ipython3",
   "version": "3.7.7"
  }
 },
 "nbformat": 4,
 "nbformat_minor": 4
}
